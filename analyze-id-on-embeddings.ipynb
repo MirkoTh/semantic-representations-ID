{
 "cells": [
  {
   "cell_type": "code",
   "execution_count": 19,
   "id": "11bea35b-2776-42b7-980e-e1f17b674ac1",
   "metadata": {},
   "outputs": [],
   "source": [
    "import pickle\n",
    "import os\n",
    "import re\n",
    "import json\n",
    "from functools import reduce\n",
    "\n",
    "import numpy as np\n",
    "import pandas as pd\n",
    "import matplotlib.pyplot as plt\n",
    "import seaborn as sns\n",
    "import torch\n",
    "\n",
    "from tqdm.notebook import tqdm\n",
    "\n",
    "from functools import reduce\n",
    "import utils as ut"
   ]
  },
  {
   "cell_type": "code",
   "execution_count": 20,
   "id": "04290fa5-5150-4d2f-af70-82766048cc93",
   "metadata": {},
   "outputs": [
    {
     "name": "stdout",
     "output_type": "stream",
     "text": [
      "The autoreload extension is already loaded. To reload it, use:\n",
      "  %reload_ext autoreload\n"
     ]
    }
   ],
   "source": [
    "# Enable automatic reloading of modules before executing code\n",
    "%load_ext autoreload\n",
    "%autoreload 2\n",
    "\n",
    "\n",
    "import plotting as pl\n",
    "from models import model as md\n",
    "import utils as ut"
   ]
  },
  {
   "cell_type": "code",
   "execution_count": 21,
   "id": "3cbcf868-3fc4-45b9-8916-f94ea831cff4",
   "metadata": {},
   "outputs": [],
   "source": [
    "def extract_results_id_embeddings(lmbda, learning_rate, rnd_seed, modelversion, modelname):\n",
    "    all_dirs = []\n",
    "    l_all_results = []\n",
    "    l_all_models = []\n",
    "    \n",
    "    for la in lmbda:\n",
    "        for lr in learning_rate:\n",
    "            results_dir_ID = os.path.join(\n",
    "                \"./results\", modelversion, modelname,\n",
    "                f\"lambda{str(la)}\", f\"lr{str(lr)}\", f'seed{rnd_seed}'\n",
    "                )\n",
    "            all_dirs.append(results_dir_ID)\n",
    "    for i, d in enumerate(all_dirs):\n",
    "        file_path = os.path.join(d, 'results.json')\n",
    "        if os.path.isfile(file_path):\n",
    "            with open(file_path, \"r\") as f:\n",
    "                l_results = json.load(f)\n",
    "                l_all_results.append(l_results)\n",
    "        else:\n",
    "            print(file_path + \": not found\")\n",
    "        p = os.path.join(d, \"model\", \"model_epoch0250.tar\")\n",
    "        if os.path.isfile(p):\n",
    "            m = torch.load(p, weights_only=False, map_location=torch.device(\"cpu\"))\n",
    "            l_all_models.append(m)\n",
    "    return l_all_models"
   ]
  },
  {
   "cell_type": "code",
   "execution_count": 9,
   "id": "6a935e2d-c43c-4737-b90b-1b51064f7b64",
   "metadata": {},
   "outputs": [],
   "source": [
    "def extract_results_id_embeddings(lmbda, learning_rate, rnd_seed, modelversion, modelname, subjects_varied):\n",
    "    all_dirs = []\n",
    "    l_all_results = []\n",
    "    l_all_models = []\n",
    "    \n",
    "    for la in lmbda:\n",
    "        for lr in learning_rate:\n",
    "            results_dir_ID = os.path.join(\n",
    "                \"./results\", modelversion, modelname,\n",
    "                f\"lambda{str(la)}\", f\"lr{str(lr)}\", f\"subjects_{subjects_varied}\", f'seed{rnd_seed}'\n",
    "                )\n",
    "            all_dirs.append(results_dir_ID)\n",
    "    for i, d in enumerate(all_dirs):\n",
    "        file_path = os.path.join(d, 'results.json')\n",
    "        if os.path.isfile(file_path):\n",
    "            with open(file_path, \"r\") as f:\n",
    "                l_results = json.load(f)\n",
    "                l_all_results.append(l_results)\n",
    "        else:\n",
    "            print(file_path + \": not found\")\n",
    "        p = os.path.join(d, \"model\", \"model_epoch0025.tar\")\n",
    "        if os.path.isfile(p):\n",
    "            m = torch.load(p, weights_only=False, map_location=torch.device(\"cpu\"))\n",
    "            l_all_models.append(m)\n",
    "    return l_all_models"
   ]
  },
  {
   "cell_type": "code",
   "execution_count": 10,
   "id": "8b6cc4da-f0da-4a2a-bb89-2e4f11774f25",
   "metadata": {},
   "outputs": [
    {
     "name": "stdout",
     "output_type": "stream",
     "text": [
      "./results\\ID-on-embeddings\\clip-vit-base-p32\\lambda0.001\\lr0.0005\\subjects_actual\\seed852\\results.json: not found\n",
      "./results\\ID-on-embeddings\\clip-vit-base-p32\\lambda0.0005\\lr0.0005\\subjects_actual\\seed852\\results.json: not found\n"
     ]
    }
   ],
   "source": [
    "# id model\n",
    "lmbda = [0.001, 0.0005]#[0.0, 0.000025]#\n",
    "learning_rate = [0.0005]#[0.1, 0.05]#\n",
    "rnd_seed = '852'\n",
    "modelversion = \"ID-on-embeddings\"\n",
    "modelname = \"clip-vit-base-p32\"\n",
    "subjects_varied = \"actual\"#[\"actual\", \"shuffled\"]\n",
    "# modelname = os.path.join(\"answerdotai\", \"ModernBERT-based\")\n",
    "l_all_models_id = extract_results_id_embeddings(lmbda, learning_rate, rnd_seed, modelversion, modelname, subjects_varied)"
   ]
  },
  {
   "cell_type": "code",
   "execution_count": 11,
   "id": "7033a1f3-fe27-4c62-a77a-7fb8a5bfad53",
   "metadata": {},
   "outputs": [
    {
     "data": {
      "text/plain": [
       "{'epoch': 25,\n",
       " 'model_state_dict': OrderedDict([('individual_slopes.weight',\n",
       "               tensor([[ 3.3064e-05,  1.2120e-04,  5.7963e-05,  ..., -2.4771e-05,\n",
       "                         1.3295e-05, -1.4681e-05],\n",
       "                       [ 1.1244e-05,  4.6327e-05, -2.9152e-05,  ..., -4.3338e-05,\n",
       "                        -5.8915e-05,  6.5854e-06],\n",
       "                       [-1.3337e-04, -4.4575e-05, -7.5106e-05,  ..., -2.5160e-05,\n",
       "                        -1.0623e-04,  9.0708e-05],\n",
       "                       ...,\n",
       "                       [ 1.4382e-04, -6.4984e-05,  4.9083e-05,  ..., -9.9880e-06,\n",
       "                        -2.5001e-05, -6.4096e-05],\n",
       "                       [ 1.0688e-04,  4.0819e-05,  7.7736e-05,  ..., -2.3716e-05,\n",
       "                         3.1780e-06,  7.5903e-05],\n",
       "                       [-7.2686e-06, -3.0698e-05, -4.1718e-05,  ..., -6.0757e-05,\n",
       "                        -1.0127e-04,  5.3698e-06]]))]),\n",
       " 'optim_state_dict': {'state': {0: {'step': tensor(340475.),\n",
       "    'exp_avg': tensor([[-3.8852e-08, -8.8759e-08, -1.7640e-07,  ..., -1.7578e-07,\n",
       "             -5.7702e-08,  1.2726e-08],\n",
       "            [-1.9839e-07, -2.0120e-07, -2.4254e-07,  ...,  2.6657e-07,\n",
       "              1.5441e-07,  5.6730e-08],\n",
       "            [-2.2530e-08,  1.2770e-08,  2.0507e-07,  ...,  1.3475e-07,\n",
       "              2.9111e-07, -5.2714e-08],\n",
       "            ...,\n",
       "            [-1.3429e-07,  2.2243e-07, -1.4049e-07,  ..., -9.1068e-08,\n",
       "             -1.7875e-07,  6.6221e-08],\n",
       "            [-1.2333e-07, -1.0986e-08, -7.1137e-08,  ..., -1.8217e-07,\n",
       "             -1.8326e-08,  1.5261e-07],\n",
       "            [ 2.5504e-08,  6.9804e-09, -6.8458e-08,  ...,  2.2201e-08,\n",
       "              6.2809e-08,  5.6613e-08]]),\n",
       "    'exp_avg_sq': tensor([[1.6478e-12, 1.6478e-12, 1.6478e-12,  ..., 1.6478e-12, 1.6478e-12,\n",
       "             1.6479e-12],\n",
       "            [1.6478e-12, 1.6480e-12, 1.6478e-12,  ..., 1.6480e-12, 1.6478e-12,\n",
       "             1.6478e-12],\n",
       "            [1.6478e-12, 1.6478e-12, 1.6479e-12,  ..., 1.6480e-12, 1.6478e-12,\n",
       "             1.6478e-12],\n",
       "            ...,\n",
       "            [1.6479e-12, 1.6478e-12, 1.6478e-12,  ..., 1.6478e-12, 1.6478e-12,\n",
       "             1.6480e-12],\n",
       "            [1.6478e-12, 1.6478e-12, 1.6479e-12,  ..., 1.6479e-12, 1.6478e-12,\n",
       "             1.6480e-12],\n",
       "            [1.6478e-12, 1.6477e-12, 1.6478e-12,  ..., 1.6479e-12, 1.6478e-12,\n",
       "             1.6479e-12]])}},\n",
       "  'param_groups': [{'lr': 0.0005,\n",
       "    'betas': (0.9, 0.999),\n",
       "    'eps': 1e-08,\n",
       "    'weight_decay': 0,\n",
       "    'amsgrad': False,\n",
       "    'maximize': False,\n",
       "    'foreach': None,\n",
       "    'capturable': False,\n",
       "    'differentiable': False,\n",
       "    'fused': None,\n",
       "    'params': [0]}]},\n",
       " 'ID_slopes': Embedding(779, 512),\n",
       " 'n_embed': 512,\n",
       " 'lambda': 0.001,\n",
       " 'lr': 0.0005,\n",
       " 'subject_type': 'actual',\n",
       " 'loss': tensor(1.0986, requires_grad=True),\n",
       " 'train_losses': [1.1086397171020508,\n",
       "  1.098638653755188,\n",
       "  1.0986312627792358,\n",
       "  1.0986316204071045,\n",
       "  1.0986331701278687,\n",
       "  1.0986334085464478,\n",
       "  1.0986334085464478,\n",
       "  1.0986301898956299,\n",
       "  1.0986359119415283,\n",
       "  1.098628282546997,\n",
       "  1.0986335277557373,\n",
       "  1.0986320972442627,\n",
       "  1.0986242294311523,\n",
       "  1.0986313819885254,\n",
       "  1.0986322164535522,\n",
       "  1.0986297130584717,\n",
       "  1.0986286401748657,\n",
       "  1.0986360311508179,\n",
       "  1.0986289978027344,\n",
       "  1.0986343622207642,\n",
       "  1.098625898361206,\n",
       "  1.098633885383606,\n",
       "  1.0986266136169434,\n",
       "  1.0986286401748657,\n",
       "  1.0986353158950806],\n",
       " 'train_accs': [0.12153682112693787,\n",
       "  0.07253175228834152,\n",
       "  0.09107350558042526,\n",
       "  0.07680592685937881,\n",
       "  0.08320434391498566,\n",
       "  0.08167560398578644,\n",
       "  0.05308392643928528,\n",
       "  0.07855349779129028,\n",
       "  0.07248329371213913,\n",
       "  0.07063587754964828,\n",
       "  0.08446802198886871,\n",
       "  0.0807548314332962,\n",
       "  0.0833086222410202,\n",
       "  0.08270063996315002,\n",
       "  0.0909031480550766,\n",
       "  0.07529702037572861,\n",
       "  0.08429399877786636,\n",
       "  0.07548204809427261,\n",
       "  0.07636022567749023,\n",
       "  0.0763690397143364,\n",
       "  0.07739921659231186,\n",
       "  0.08353110402822495,\n",
       "  0.07577722519636154,\n",
       "  0.07894264161586761,\n",
       "  0.07095014303922653],\n",
       " 'val_losses': [1.0985709428787231,\n",
       "  1.0985976457595825,\n",
       "  1.0985838174819946,\n",
       "  1.098584771156311,\n",
       "  1.0985877513885498,\n",
       "  1.0985915660858154,\n",
       "  1.0985925197601318,\n",
       "  1.0985850095748901,\n",
       "  1.0985980033874512,\n",
       "  1.098582148551941,\n",
       "  1.098592758178711,\n",
       "  1.0985947847366333,\n",
       "  1.0985736846923828,\n",
       "  1.09859037399292,\n",
       "  1.098591685295105,\n",
       "  1.0985829830169678,\n",
       "  1.0985758304595947,\n",
       "  1.0985995531082153,\n",
       "  1.0985805988311768,\n",
       "  1.0985972881317139,\n",
       "  1.0985779762268066,\n",
       "  1.0985950231552124,\n",
       "  1.0985736846923828,\n",
       "  1.0985831022262573,\n",
       "  1.0985994338989258],\n",
       " 'val_accs': [0.06881609559059143,\n",
       "  0.061780255287885666,\n",
       "  0.06227966770529747,\n",
       "  0.052693888545036316,\n",
       "  0.06092538312077522,\n",
       "  0.06384547799825668,\n",
       "  0.05021445453166962,\n",
       "  0.05644535645842552,\n",
       "  0.06024676933884621,\n",
       "  0.0576556958258152,\n",
       "  0.06636016070842743,\n",
       "  0.06145124137401581,\n",
       "  0.04933607578277588,\n",
       "  0.06542303413152695,\n",
       "  0.07036428153514862,\n",
       "  0.055152762681245804,\n",
       "  0.06812279671430588,\n",
       "  0.06712397187948227,\n",
       "  0.05172150954604149,\n",
       "  0.053742654621601105,\n",
       "  0.0658196285367012,\n",
       "  0.06658931076526642,\n",
       "  0.07174206525087357,\n",
       "  0.055302586406469345,\n",
       "  0.04488836228847504],\n",
       " 'nneg_d_over_time': [],\n",
       " 'loglikelihoods': [1.1086397171020508,\n",
       "  1.098638653755188,\n",
       "  1.0986312627792358,\n",
       "  1.0986316204071045,\n",
       "  1.0986331701278687,\n",
       "  1.0986334085464478,\n",
       "  1.0986334085464478,\n",
       "  1.0986301898956299,\n",
       "  1.0986359119415283,\n",
       "  1.098628282546997,\n",
       "  1.0986335277557373,\n",
       "  1.0986320972442627,\n",
       "  1.0986242294311523,\n",
       "  1.0986313819885254,\n",
       "  1.0986322164535522,\n",
       "  1.0986297130584717,\n",
       "  1.0986286401748657,\n",
       "  1.0986360311508179,\n",
       "  1.0986289978027344,\n",
       "  1.0986343622207642,\n",
       "  1.098625898361206,\n",
       "  1.098633885383606,\n",
       "  1.0986266136169434,\n",
       "  1.0986286401748657,\n",
       "  1.0986353158950806],\n",
       " 'complexity_costs_ID': [],\n",
       " 'complexity_costs_avg': []}"
      ]
     },
     "execution_count": 11,
     "metadata": {},
     "output_type": "execute_result"
    }
   ],
   "source": [
    "l_all_models_id[0]"
   ]
  },
  {
   "cell_type": "code",
   "execution_count": 12,
   "id": "99c318b9-e052-4de8-b984-8720f91810e1",
   "metadata": {},
   "outputs": [],
   "source": [
    "l_df_train_eval_id = [\n",
    "    pd.DataFrame({\n",
    "        \"lambda\": l[\"lambda\"],\n",
    "        \"lr\": l[\"lr\"],\n",
    "        \"train_acc\": l[\"train_accs\"],\n",
    "        \"val_acc\": l[\"val_accs\"],\n",
    "    })\n",
    "    for l in l_all_models_id\n",
    "]"
   ]
  },
  {
   "cell_type": "code",
   "execution_count": 13,
   "id": "29302fb5-379a-45cd-a0cb-dcb925f24b4a",
   "metadata": {},
   "outputs": [],
   "source": [
    "df_train_eval_id = reduce(lambda x, y: pd.concat([x, y], axis=0, ignore_index=True), l_df_train_eval_id)"
   ]
  },
  {
   "cell_type": "code",
   "execution_count": 14,
   "id": "5ddbe4bd-bb53-4664-9bac-657d33e80c36",
   "metadata": {},
   "outputs": [],
   "source": [
    "df_train_eval_id[\"epoch\"] = df_train_eval_id.groupby([\"lambda\", \"lr\"]).cumcount()"
   ]
  },
  {
   "cell_type": "code",
   "execution_count": 15,
   "id": "73a40d79-8054-42ac-befc-a33b5687261e",
   "metadata": {},
   "outputs": [],
   "source": [
    "df_train_eval_long_id = pd.melt(\n",
    "    df_train_eval_id, \n",
    "    id_vars=[\"lambda\", \"lr\", \"epoch\"], \n",
    "    value_vars = [\"train_acc\", \"val_acc\"], \n",
    "    var_name = \"Variable\",\n",
    "    value_name = \"Accuracy\"\n",
    ")"
   ]
  },
  {
   "cell_type": "code",
   "execution_count": 18,
   "id": "8c902bfa-15e1-4ff5-bbd2-4a627253e5a9",
   "metadata": {},
   "outputs": [
    {
     "data": {
      "image/png": "[encoded data removed]",
      "text/plain": [
       "<Figure size 1800x1050 with 2 Axes>"
      ]
     },
     "metadata": {},
     "output_type": "display_data"
    }
   ],
   "source": [
    "# Create the FacetGrid without specifying an external axis\n",
    "g = sns.relplot(\n",
    "    data=df_train_eval_long_id, x='epoch', y='Accuracy', \n",
    "    col='lambda', row=\"lr\", height=4, hue=\"Variable\",\n",
    "    marker=\"o\", aspect=1, kind=\"line\")\n",
    "# Add gridlines to each facet \n",
    "for i, ax in enumerate(g.axes.flat): \n",
    "    ax.grid(True)\n",
    "    ax.axhline(y=.33333, color='red', linestyle='--', linewidth=2, label='Chance Level')\n",
    "    \n",
    "    #ax.set_xlim(0, 400)\n",
    "    ax.set_ylim(0, 1)\n",
    "    if i == 0:\n",
    "        ax.legend()\n",
    "\n",
    "# Adjust the plot size\n",
    "g.fig.set_size_inches(12, 7)\n",
    "g.fig.set_dpi(150)\n",
    "\n",
    "plt.show()"
   ]
  },
  {
   "cell_type": "code",
   "execution_count": 17,
   "id": "2c1513f7-a290-419c-a7ff-97341c6eded4",
   "metadata": {},
   "outputs": [
    {
     "data": {
      "text/html": [
       "<div>\n",
       "<style scoped>\n",
       "    .dataframe tbody tr th:only-of-type {\n",
       "        vertical-align: middle;\n",
       "    }\n",
       "\n",
       "    .dataframe tbody tr th {\n",
       "        vertical-align: top;\n",
       "    }\n",
       "\n",
       "    .dataframe thead th {\n",
       "        text-align: right;\n",
       "    }\n",
       "</style>\n",
       "<table border=\"1\" class=\"dataframe\">\n",
       "  <thead>\n",
       "    <tr style=\"text-align: right;\">\n",
       "      <th></th>\n",
       "      <th>lambda</th>\n",
       "      <th>lr</th>\n",
       "      <th>epoch</th>\n",
       "      <th>Variable</th>\n",
       "      <th>Accuracy</th>\n",
       "    </tr>\n",
       "  </thead>\n",
       "  <tbody>\n",
       "    <tr>\n",
       "      <th>96</th>\n",
       "      <td>0.0005</td>\n",
       "      <td>0.0005</td>\n",
       "      <td>21</td>\n",
       "      <td>val_acc</td>\n",
       "      <td>0.115353</td>\n",
       "    </tr>\n",
       "    <tr>\n",
       "      <th>92</th>\n",
       "      <td>0.0005</td>\n",
       "      <td>0.0005</td>\n",
       "      <td>17</td>\n",
       "      <td>val_acc</td>\n",
       "      <td>0.112147</td>\n",
       "    </tr>\n",
       "    <tr>\n",
       "      <th>79</th>\n",
       "      <td>0.0005</td>\n",
       "      <td>0.0005</td>\n",
       "      <td>4</td>\n",
       "      <td>val_acc</td>\n",
       "      <td>0.109894</td>\n",
       "    </tr>\n",
       "    <tr>\n",
       "      <th>75</th>\n",
       "      <td>0.0005</td>\n",
       "      <td>0.0005</td>\n",
       "      <td>0</td>\n",
       "      <td>val_acc</td>\n",
       "      <td>0.109794</td>\n",
       "    </tr>\n",
       "    <tr>\n",
       "      <th>97</th>\n",
       "      <td>0.0005</td>\n",
       "      <td>0.0005</td>\n",
       "      <td>22</td>\n",
       "      <td>val_acc</td>\n",
       "      <td>0.109700</td>\n",
       "    </tr>\n",
       "  </tbody>\n",
       "</table>\n",
       "</div>"
      ],
      "text/plain": [
       "    lambda      lr  epoch Variable  Accuracy\n",
       "96  0.0005  0.0005     21  val_acc  0.115353\n",
       "92  0.0005  0.0005     17  val_acc  0.112147\n",
       "79  0.0005  0.0005      4  val_acc  0.109894\n",
       "75  0.0005  0.0005      0  val_acc  0.109794\n",
       "97  0.0005  0.0005     22  val_acc  0.109700"
      ]
     },
     "execution_count": 17,
     "metadata": {},
     "output_type": "execute_result"
    }
   ],
   "source": [
    "df_train_eval_long_id.query('Variable == \"val_acc\"').sort_values(\"Accuracy\", ascending = False).head()"
   ]
  },
  {
   "cell_type": "code",
   "execution_count": 12,
   "id": "5a8d5890-7bda-456c-97df-4af4b1885f55",
   "metadata": {},
   "outputs": [
    {
     "data": {
      "text/html": [
       "<div>\n",
       "<style scoped>\n",
       "    .dataframe tbody tr th:only-of-type {\n",
       "        vertical-align: middle;\n",
       "    }\n",
       "\n",
       "    .dataframe tbody tr th {\n",
       "        vertical-align: top;\n",
       "    }\n",
       "\n",
       "    .dataframe thead th {\n",
       "        text-align: right;\n",
       "    }\n",
       "</style>\n",
       "<table border=\"1\" class=\"dataframe\">\n",
       "  <thead>\n",
       "    <tr style=\"text-align: right;\">\n",
       "      <th></th>\n",
       "      <th>lambda</th>\n",
       "      <th>lr</th>\n",
       "      <th>epoch</th>\n",
       "      <th>Variable</th>\n",
       "      <th>Accuracy</th>\n",
       "    </tr>\n",
       "  </thead>\n",
       "  <tbody>\n",
       "    <tr>\n",
       "      <th>1749</th>\n",
       "      <td>0.00005</td>\n",
       "      <td>0.0100</td>\n",
       "      <td>249</td>\n",
       "      <td>val_acc</td>\n",
       "      <td>0.481053</td>\n",
       "    </tr>\n",
       "    <tr>\n",
       "      <th>2249</th>\n",
       "      <td>0.00050</td>\n",
       "      <td>0.0100</td>\n",
       "      <td>249</td>\n",
       "      <td>val_acc</td>\n",
       "      <td>0.460699</td>\n",
       "    </tr>\n",
       "    <tr>\n",
       "      <th>1999</th>\n",
       "      <td>0.00005</td>\n",
       "      <td>0.0005</td>\n",
       "      <td>249</td>\n",
       "      <td>val_acc</td>\n",
       "      <td>0.430589</td>\n",
       "    </tr>\n",
       "    <tr>\n",
       "      <th>2749</th>\n",
       "      <td>0.01000</td>\n",
       "      <td>0.0100</td>\n",
       "      <td>249</td>\n",
       "      <td>val_acc</td>\n",
       "      <td>0.421634</td>\n",
       "    </tr>\n",
       "    <tr>\n",
       "      <th>2499</th>\n",
       "      <td>0.00050</td>\n",
       "      <td>0.0005</td>\n",
       "      <td>249</td>\n",
       "      <td>val_acc</td>\n",
       "      <td>0.149277</td>\n",
       "    </tr>\n",
       "  </tbody>\n",
       "</table>\n",
       "</div>"
      ],
      "text/plain": [
       "       lambda      lr  epoch Variable  Accuracy\n",
       "1749  0.00005  0.0100    249  val_acc  0.481053\n",
       "2249  0.00050  0.0100    249  val_acc  0.460699\n",
       "1999  0.00005  0.0005    249  val_acc  0.430589\n",
       "2749  0.01000  0.0100    249  val_acc  0.421634\n",
       "2499  0.00050  0.0005    249  val_acc  0.149277"
      ]
     },
     "execution_count": 12,
     "metadata": {},
     "output_type": "execute_result"
    }
   ],
   "source": [
    "df_train_eval_long_id.query('epoch == 249 & Variable == \"val_acc\"').sort_values(\"Accuracy\", ascending = False).head()"
   ]
  },
  {
   "cell_type": "markdown",
   "id": "1ed0434e-6a90-4bfa-b425-b1a9b7238b7e",
   "metadata": {},
   "source": [
    "# Compare to average embedding performance"
   ]
  },
  {
   "cell_type": "code",
   "execution_count": 13,
   "id": "3cf12c86-2de5-46e1-abe9-cc43dba7e25d",
   "metadata": {},
   "outputs": [
    {
     "name": "stdout",
     "output_type": "stream",
     "text": [
      "\n",
      "...Could not find any .npy files for current modality.\n",
      "...Now searching for .txt files.\n",
      "\n"
     ]
    }
   ],
   "source": [
    "model_id = \"Word2Vec\"\n",
    "triplets_dir = './data/'\n",
    "device = \"cpu\"\n",
    "l_embeddings = ut.load_avg_embeddings(model_id=model_id, device=device)\n",
    "# load triplets into memory\n",
    "train_triplets, test_triplets = ut.load_data_ID(\n",
    "    device=device, triplets_dir=triplets_dir, testcase=False)"
   ]
  },
  {
   "cell_type": "code",
   "execution_count": 15,
   "id": "c382911d-f0e3-4bad-a6b6-2b351d4da9a5",
   "metadata": {},
   "outputs": [],
   "source": [
    "anchors = torch.Tensor(np.array([l_embeddings[i] for i in list(test_triplets[:, 0])]))\n",
    "positives = torch.Tensor(np.array([l_embeddings[i] for i in list(test_triplets[:, 1])]))\n",
    "negatives = torch.Tensor(np.array([l_embeddings[i] for i in list(test_triplets[:, 2])]))"
   ]
  },
  {
   "cell_type": "code",
   "execution_count": 35,
   "id": "8ff7c332-aa51-4a30-b5f8-4897955d4d74",
   "metadata": {},
   "outputs": [],
   "source": [
    "sims = ut.compute_similarities(anchors, positives, negatives, method=\"odd_one_out\")"
   ]
  },
  {
   "cell_type": "code",
   "execution_count": 40,
   "id": "a8e70ef4-9478-431c-a251-2301db1bfe42",
   "metadata": {},
   "outputs": [],
   "source": [
    "acc_avg = np.sum((sims[0] > sims[1]).numpy() & (sims[0] > sims[2]).numpy()) / test_triplets.shape[0]"
   ]
  },
  {
   "cell_type": "markdown",
   "id": "580ce4a8-c93e-4cd6-b032-945461097bd2",
   "metadata": {},
   "source": [
    "plot the average accuracy together with the by-participant weighted accuracy"
   ]
  },
  {
   "cell_type": "code",
   "execution_count": 16,
   "id": "d51b1677-596f-4c93-a754-e88127b1ed4a",
   "metadata": {},
   "outputs": [],
   "source": [
    "array_weights_id = l_all_models_id[0][\"model_state_dict\"][\"individual_slopes.weight\"]"
   ]
  },
  {
   "cell_type": "code",
   "execution_count": 17,
   "id": "570e879f-dff2-4e18-a9fd-e2a256eec238",
   "metadata": {},
   "outputs": [],
   "source": [
    "ids = test_triplets[:, 3].numpy()"
   ]
  },
  {
   "cell_type": "code",
   "execution_count": 18,
   "id": "d1067396-f8a9-4c0c-8b99-c04a19fd72aa",
   "metadata": {},
   "outputs": [],
   "source": [
    "anchors_weighted = [a*array_weights_id.numpy()[ids[id], :] for id, a in enumerate(anchors)]\n",
    "positives_weighted = [a*array_weights_id.numpy()[ids[id], :] for id, a in enumerate(positives)]\n",
    "negatives_weighted = [a*array_weights_id.numpy()[ids[id], :] for id, a in enumerate(negatives)]"
   ]
  },
  {
   "cell_type": "code",
   "execution_count": 19,
   "id": "8b8a9eda-14ce-4384-8bd6-97385724a12a",
   "metadata": {},
   "outputs": [],
   "source": [
    "from functools import partial"
   ]
  },
  {
   "cell_type": "code",
   "execution_count": 20,
   "id": "22d94186-fcce-4926-b5bb-072a740b0816",
   "metadata": {},
   "outputs": [],
   "source": [
    "f_partial = partial(ut.delta_avg_id, anchors, positives, negatives, anchors_weighted, positives_weighted, negatives_weighted, ids)"
   ]
  },
  {
   "cell_type": "code",
   "execution_count": 21,
   "id": "c85fd790-e80a-43d9-82b9-03b764b69823",
   "metadata": {},
   "outputs": [],
   "source": [
    "ids_unique_sorted = np.sort(np.unique(ids))"
   ]
  },
  {
   "cell_type": "code",
   "execution_count": 32,
   "id": "ca9bd0d2-cb8d-46ee-8a16-ece13a74a03e",
   "metadata": {},
   "outputs": [
    {
     "data": {
      "application/vnd.jupyter.widget-view+json": {
       "model_id": "d5a002a8c4d44de4bd78a126442ed9e9",
       "version_major": 2,
       "version_minor": 0
      },
      "text/plain": [
       "Processing:   0%|          | 0/264 [00:00<?, ?it/s]"
      ]
     },
     "metadata": {},
     "output_type": "display_data"
    }
   ],
   "source": [
    "l_deltas = list(tqdm(map(f_partial, ids_unique_sorted), total=len(ids_unique_sorted), desc=\"Processing\"))"
   ]
  },
  {
   "cell_type": "code",
   "execution_count": 23,
   "id": "88dfd77d-ac65-4087-9d54-bc2cb65d7464",
   "metadata": {},
   "outputs": [],
   "source": [
    "df_ns = pd.DataFrame(ids, columns=['id'])\n",
    "df_ns = df_ns.groupby(\"id\")[\"id\"].count() * 4\n",
    "df_ns = df_ns.reset_index(name = \"n_train\")\n",
    "df_ns[\"delta\"] = l_deltas"
   ]
  },
  {
   "cell_type": "code",
   "execution_count": 24,
   "id": "ad7dd0d4-685a-458e-bd3d-76609d79699d",
   "metadata": {},
   "outputs": [
    {
     "data": {
      "text/html": [
       "<div>\n",
       "<style scoped>\n",
       "    .dataframe tbody tr th:only-of-type {\n",
       "        vertical-align: middle;\n",
       "    }\n",
       "\n",
       "    .dataframe tbody tr th {\n",
       "        vertical-align: top;\n",
       "    }\n",
       "\n",
       "    .dataframe thead th {\n",
       "        text-align: right;\n",
       "    }\n",
       "</style>\n",
       "<table border=\"1\" class=\"dataframe\">\n",
       "  <thead>\n",
       "    <tr style=\"text-align: right;\">\n",
       "      <th></th>\n",
       "      <th>id</th>\n",
       "      <th>n_train</th>\n",
       "      <th>delta</th>\n",
       "    </tr>\n",
       "  </thead>\n",
       "  <tbody>\n",
       "    <tr>\n",
       "      <th>0</th>\n",
       "      <td>0</td>\n",
       "      <td>2320</td>\n",
       "      <td>0.025862</td>\n",
       "    </tr>\n",
       "    <tr>\n",
       "      <th>1</th>\n",
       "      <td>1</td>\n",
       "      <td>432</td>\n",
       "      <td>-0.006897</td>\n",
       "    </tr>\n",
       "    <tr>\n",
       "      <th>2</th>\n",
       "      <td>2</td>\n",
       "      <td>1008</td>\n",
       "      <td>-0.029310</td>\n",
       "    </tr>\n",
       "    <tr>\n",
       "      <th>3</th>\n",
       "      <td>3</td>\n",
       "      <td>2192</td>\n",
       "      <td>0.029310</td>\n",
       "    </tr>\n",
       "    <tr>\n",
       "      <th>4</th>\n",
       "      <td>4</td>\n",
       "      <td>3424</td>\n",
       "      <td>0.018966</td>\n",
       "    </tr>\n",
       "  </tbody>\n",
       "</table>\n",
       "</div>"
      ],
      "text/plain": [
       "   id  n_train     delta\n",
       "0   0     2320  0.025862\n",
       "1   1      432 -0.006897\n",
       "2   2     1008 -0.029310\n",
       "3   3     2192  0.029310\n",
       "4   4     3424  0.018966"
      ]
     },
     "execution_count": 24,
     "metadata": {},
     "output_type": "execute_result"
    }
   ],
   "source": [
    "df_ns.head()"
   ]
  },
  {
   "cell_type": "code",
   "execution_count": 25,
   "id": "7230cd5a-64ba-4361-b337-82272a3fff14",
   "metadata": {},
   "outputs": [],
   "source": [
    "df_ns.to_csv(\"data/deltas-word2vec-weighted.csv\")"
   ]
  },
  {
   "cell_type": "code",
   "execution_count": 44,
   "id": "c8a5aefe-3401-4f9c-aedc-923701956b13",
   "metadata": {},
   "outputs": [
    {
     "data": {
      "text/html": [
       "<div>\n",
       "<style scoped>\n",
       "    .dataframe tbody tr th:only-of-type {\n",
       "        vertical-align: middle;\n",
       "    }\n",
       "\n",
       "    .dataframe tbody tr th {\n",
       "        vertical-align: top;\n",
       "    }\n",
       "\n",
       "    .dataframe thead th {\n",
       "        text-align: right;\n",
       "    }\n",
       "</style>\n",
       "<table border=\"1\" class=\"dataframe\">\n",
       "  <thead>\n",
       "    <tr style=\"text-align: right;\">\n",
       "      <th></th>\n",
       "      <th>lambda</th>\n",
       "      <th>lr</th>\n",
       "      <th>epoch</th>\n",
       "      <th>Variable</th>\n",
       "      <th>Accuracy</th>\n",
       "    </tr>\n",
       "  </thead>\n",
       "  <tbody>\n",
       "    <tr>\n",
       "      <th>0</th>\n",
       "      <td>0.00005</td>\n",
       "      <td>0.01</td>\n",
       "      <td>0</td>\n",
       "      <td>train_acc</td>\n",
       "      <td>0.474892</td>\n",
       "    </tr>\n",
       "    <tr>\n",
       "      <th>1</th>\n",
       "      <td>0.00005</td>\n",
       "      <td>0.01</td>\n",
       "      <td>1</td>\n",
       "      <td>train_acc</td>\n",
       "      <td>0.505613</td>\n",
       "    </tr>\n",
       "    <tr>\n",
       "      <th>2</th>\n",
       "      <td>0.00005</td>\n",
       "      <td>0.01</td>\n",
       "      <td>2</td>\n",
       "      <td>train_acc</td>\n",
       "      <td>0.515579</td>\n",
       "    </tr>\n",
       "    <tr>\n",
       "      <th>3</th>\n",
       "      <td>0.00005</td>\n",
       "      <td>0.01</td>\n",
       "      <td>3</td>\n",
       "      <td>train_acc</td>\n",
       "      <td>0.517361</td>\n",
       "    </tr>\n",
       "    <tr>\n",
       "      <th>4</th>\n",
       "      <td>0.00005</td>\n",
       "      <td>0.01</td>\n",
       "      <td>4</td>\n",
       "      <td>train_acc</td>\n",
       "      <td>0.519886</td>\n",
       "    </tr>\n",
       "  </tbody>\n",
       "</table>\n",
       "</div>"
      ],
      "text/plain": [
       "    lambda    lr  epoch   Variable  Accuracy\n",
       "0  0.00005  0.01      0  train_acc  0.474892\n",
       "1  0.00005  0.01      1  train_acc  0.505613\n",
       "2  0.00005  0.01      2  train_acc  0.515579\n",
       "3  0.00005  0.01      3  train_acc  0.517361\n",
       "4  0.00005  0.01      4  train_acc  0.519886"
      ]
     },
     "execution_count": 44,
     "metadata": {},
     "output_type": "execute_result"
    }
   ],
   "source": [
    "df_train_eval_long_id.head()"
   ]
  },
  {
   "cell_type": "code",
   "execution_count": 161,
   "id": "82448852-1aca-428c-9239-5e168a8b715c",
   "metadata": {},
   "outputs": [
    {
     "data": {
      "image/png": "[encoded data removed]",
      "text/plain": [
       "<Figure size 500x400 with 1 Axes>"
      ]
     },
     "metadata": {},
     "output_type": "display_data"
    }
   ],
   "source": [
    "palette = sns.color_palette(\"Set2\")[2:]\n",
    "\n",
    "plt.figure(figsize=(5, 4))  # Set the size of the plot\n",
    "sns.lineplot(\n",
    "    x=\"epoch\", y=\"Accuracy\", \n",
    "    data=df_train_eval_long_id.query(\n",
    "        \"lr == 0.01 & Variable == 'val_acc' & `lambda` == 0.00005 & epoch % 10 == 0\"\n",
    "    ), color=palette[0], label = \"ID\",\n",
    "    markers=True, marker=\"o\")\n",
    "# Add a horizontal line at 0.34\n",
    "plt.axhline(y=acc_avg, color=palette[1], linestyle='--', label='Avg.')\n",
    "plt.axhline(y=.33, color='red', linestyle='--', label='Chance Performance')\n",
    "\n",
    "# Optionally, you can customize other properties\n",
    "\n",
    "# Set the x-axis range\n",
    "plt.ylim(0.3, 0.6)\n",
    "\n",
    "\n",
    "# Optionally, you can customize other properties\n",
    "plt.xlabel(\"Epoch\")\n",
    "plt.ylabel(\"Accuracy\")\n",
    "plt.title(\"Accuracy Over Epochs\")\n",
    "plt.legend()\n",
    "plt.grid(True)\n",
    "plt.show()\n"
   ]
  },
  {
   "cell_type": "code",
   "execution_count": null,
   "id": "98f4a184-2b8a-4e69-b73c-52115f0898b2",
   "metadata": {},
   "outputs": [],
   "source": [
    "sns.lineplot("
   ]
  },
  {
   "cell_type": "code",
   "execution_count": 66,
   "id": "81cfdb91-2946-46be-8a58-23e24d1aa75c",
   "metadata": {},
   "outputs": [],
   "source": [
    "from os.path import join as pjoin\n"
   ]
  },
  {
   "cell_type": "code",
   "execution_count": 70,
   "id": "ff3ad68c-7880-43ba-834f-d15cd3b20763",
   "metadata": {},
   "outputs": [],
   "source": [
    "\n",
    "results_dir = f\"\"\"semantic-representations-ID/results/in-context-learning/lama-3.1-{70}B\"\"\"\n",
    "if not os.path.exists(results_dir):\n",
    "    os.makedirs(results_dir)\n",
    "\n",
    "\n",
    "train_triplets = torch.from_numpy(np.loadtxt(\n",
    "    pjoin(\"data/\", 'train_90_ID.txt'))).to(device).type(torch.LongTensor)\n",
    "triplet_ids = train_triplets.detach().numpy()\n",
    "tbl_labels = pd.read_csv(\n",
    "    \"data/unique_id.txt\", delimiter=\"\\\\\", header=None)\n",
    "tbl_labels[0] = tbl_labels[0].str.replace(r'\\d+', '', regex=True)"
   ]
  },
  {
   "cell_type": "code",
   "execution_count": 72,
   "id": "201b0040-27a0-42dc-b0af-ec1d152dae41",
   "metadata": {},
   "outputs": [],
   "source": [
    "\n",
    "def randomize_and_extract_trial(tbl_labels, l_ids):\n",
    "    tbl_select = tbl_labels.iloc[l_ids[0:3]]\n",
    "    tbl_select.reset_index(drop=True, inplace=True)\n",
    "    rand_order = np.random.choice([0, 1, 2], 3, replace=False)\n",
    "    tbl_reordered = tbl_select.iloc[rand_order].reset_index(drop=True)\n",
    "    tbl_reordered[\"rnd\"] = rand_order\n",
    "    tbl_return = pd.DataFrame({\n",
    "        \"1\": [tbl_reordered.iloc[0, 0]],\n",
    "        \"2\": [tbl_reordered.iloc[1, 0]],\n",
    "        \"3\": [tbl_reordered.iloc[2, 0]],\n",
    "        \"selected\": np.where(tbl_reordered[\"rnd\"] == 2)[0] + 1\n",
    "    })\n",
    "    return tbl_return"
   ]
  },
  {
   "cell_type": "code",
   "execution_count": 74,
   "id": "a0b7bed4-aaee-476d-bac7-5a81f0403192",
   "metadata": {},
   "outputs": [],
   "source": [
    "randomize_and_extract_partial = partial(\n",
    "    randomize_and_extract_trial, tbl_labels)"
   ]
  },
  {
   "cell_type": "code",
   "execution_count": 78,
   "id": "8f72786c-d3b0-4eac-abdf-75985e590984",
   "metadata": {},
   "outputs": [],
   "source": [
    "participant_id = 0\n",
    "n_trials = 10"
   ]
  },
  {
   "cell_type": "code",
   "execution_count": 79,
   "id": "cd5e4dee-9420-494f-85af-17043040fbc2",
   "metadata": {},
   "outputs": [],
   "source": [
    "l_trials = list(map(randomize_and_extract_partial,\n",
    "                triplet_ids[triplet_ids[:, 3] == participant_id]))\n",
    "\n",
    "df_trials = pd.concat(l_trials)\n",
    "\n",
    "l_all_current_tasks = []\n",
    "l_all_previous_trials = []\n",
    "for current_trial_id in range(0, n_trials):\n",
    "    l_previous_trials = []\n",
    "    current_trial = df_trials.iloc[current_trial_id, :]\n",
    "    current_task = \", \".join(\n",
    "        [f\"{index+1}. {item}\" for index, item in enumerate(current_trial[0:3])])\n",
    "    if current_trial_id > 0:\n",
    "        for previous_trial_id in range(0, (current_trial_id)):\n",
    "            previous_trial = df_trials.iloc[previous_trial_id, :]\n",
    "            response_prev = f\"\"\"{previous_trial[\"selected\"]}. {previous_trial.iloc[previous_trial[\"selected\"]-1]} in: \"\"\" + \", \".join(\n",
    "                [f\"{index+1}. {item}\" for index, item in enumerate(previous_trial[0:3])])\n",
    "            l_previous_trials.append(response_prev)\n",
    "    l_all_current_tasks.append(current_task)\n",
    "    l_all_previous_trials.append(l_previous_trials)"
   ]
  },
  {
   "cell_type": "code",
   "execution_count": 103,
   "id": "468e214c-191e-4c60-92db-bb28a984ce1b",
   "metadata": {},
   "outputs": [],
   "source": [
    "system_input = (\n",
    "        \"You are a cognitive scientist and you are given a by-trial data set from a participant \" +\n",
    "        \"in the odd-one-out task. For each trial, you are presented with the three words and \" +\n",
    "        \"the participant's response,\\ni.e.,the word the participant thinks is the odd one out of the three. \" +\n",
    "\n",
    "        \"\\nYour goal is to predict, for a new triplet of words, \" +\n",
    "        \"which word the person is most likely\\nto identify as the odd one out. \" +\n",
    "        \"Note that in the very first trial,\\nyou are only presented with the three words, but no previous responses.\"\n",
    "\n",
    "    )\n",
    "input_text = (\n",
    "        \"In an odd-one-out task, a participant is presented with three objects in each trial.\\n\" +\n",
    "        \"The participant is instructed to select the object they think\\nis most dissimilar from the other presented objects.\\n\" +\n",
    "        \"A participant's response is neither correct nor incorrect.\\nThe response should simply reflect the participant's \" +\n",
    "        \"perceived semantic similarity between the three objects.\"\n",
    "    )"
   ]
  },
  {
   "cell_type": "code",
   "execution_count": 104,
   "id": "9624c7bd-9447-40c3-b27d-7e64d4f933ef",
   "metadata": {},
   "outputs": [],
   "source": [
    "trial_id = 5\n",
    "l_prev_concat = l_all_previous_trials[trial_id]\n",
    "current = l_all_current_tasks[trial_id]"
   ]
  },
  {
   "cell_type": "code",
   "execution_count": 109,
   "id": "0fd3b684-e745-44a1-96a4-402aff24991a",
   "metadata": {},
   "outputs": [],
   "source": [
    "question_text = (\n",
    "                f\"\"\"\\nThe current trial is trial nr. {5 + 1}\"\"\"\n",
    "                \"\\nWhen reasoning what logic the person used, think in steps - for example:\\n\"\n",
    "                \"is a participant sensitive to a set of dimensions in semantic space (e.g., technology, food, animals, ...)?\"\n",
    "                \"\\nHow would this person respond given three new objects?\\n\"\n",
    "                \"\\nHere are the previous responses from the participant:\\n\" +\n",
    "                \"\\n\".join(l_prev_concat) +\n",
    "                \"\\n\\nPlease first respond with the respective number (i.e., 1., 2., or 3.), and only then explain your reasoning.\\n\"\n",
    "                \"Make sure that the number corresponds with your reasoning. For example, if you respond with 2. in the triplet\\n\"\n",
    "                \"1. house, 2. zebra, 3. garden, then the number 2. should only refer to 2. zebra\\n\"\n",
    "                \"\\nWhich of the following three words is the person to denote as the odd-one-out?\\n\"\n",
    "                f\"\"\"{current}?\"\"\"\n",
    "            )"
   ]
  },
  {
   "cell_type": "code",
   "execution_count": 110,
   "id": "bcf4f47a-23b9-49b6-b53b-f9334bdb1916",
   "metadata": {},
   "outputs": [],
   "source": [
    "user_input = input_text + question_text"
   ]
  },
  {
   "cell_type": "code",
   "execution_count": 111,
   "id": "d3afb7aa-dd71-43a1-9082-b8121a724012",
   "metadata": {},
   "outputs": [
    {
     "name": "stdout",
     "output_type": "stream",
     "text": [
      "You are a cognitive scientist and you are given a by-trial data set from a participant in the odd-one-out task. For each trial, you are presented with the three words and the participant's response,\n",
      "i.e.,the word the participant thinks is the odd one out of the three. \n",
      "Your goal is to predict, for a new triplet of words, which word the person is most likely\n",
      "to identify as the odd one out. Note that in the very first trial,\n",
      "you are only presented with the three words, but no previous responses.\n"
     ]
    }
   ],
   "source": [
    "print(system_input)"
   ]
  },
  {
   "cell_type": "code",
   "execution_count": 112,
   "id": "077f786d-1bd1-457a-9b60-582cbb5d579f",
   "metadata": {},
   "outputs": [
    {
     "name": "stdout",
     "output_type": "stream",
     "text": [
      "In an odd-one-out task, a participant is presented with three objects in each trial.\n",
      "The participant is instructed to select the object they think\n",
      "is most dissimilar from the other presented objects.\n",
      "A participant's response is neither correct nor incorrect.\n",
      "The response should simply reflect the participant's perceived semantic similarity between the three objects.\n",
      "The current trial is trial nr. 6\n",
      "When reasoning what logic the person used, think in steps - for example:\n",
      "is a participant sensitive to a set of dimensions in semantic space (e.g., technology, food, animals, ...)?\n",
      "How would this person respond given three new objects?\n",
      "\n",
      "Here are the previous responses from the participant:\n",
      "1. dagger in: 1. dagger, 2. macaroni, 3. cup\n",
      "3. bullet in: 1. sheep, 2. badger, 3. bullet\n",
      "2. detonator in: 1. icicle, 2. detonator, 3. aquarium\n",
      "1. petri_dish in: 1. petri_dish, 2. bat, 3. wheat\n",
      "1. moose in: 1. moose, 2. lava, 3. cereal\n",
      "\n",
      "Please first respond with the respective number (i.e., 1., 2., or 3.), and only then explain your reasoning.\n",
      "Make sure that the number corresponds with your reasoning. For example, if you respond with 2. in the triplet\n",
      "1. house, 2. zebra, 3. garden, then the number 2. should only refer to 2. zebra\n",
      "\n",
      "Which of the following three words is the person to denote as the odd-one-out?\n",
      "1. toad, 2. tarantula, 3. cannon?\n"
     ]
    }
   ],
   "source": [
    "print(user_input)"
   ]
  },
  {
   "cell_type": "code",
   "execution_count": null,
   "id": "b29a9cd2-b7ae-4ca3-a8f6-b54d4c8a8794",
   "metadata": {},
   "outputs": [],
   "source": []
  },
  {
   "cell_type": "code",
   "execution_count": null,
   "id": "23c2db50-1876-41da-ae15-f002e8240d87",
   "metadata": {},
   "outputs": [],
   "source": []
  }
 ],
 "metadata": {
  "kernelspec": {
   "display_name": "Python 3 (ipykernel)",
   "language": "python",
   "name": "python3"
  },
  "language_info": {
   "codemirror_mode": {
    "name": "ipython",
    "version": 3
   },
   "file_extension": ".py",
   "mimetype": "text/x-python",
   "name": "python",
   "nbconvert_exporter": "python",
   "pygments_lexer": "ipython3",
   "version": "3.12.8"
  }
 },
 "nbformat": 4,
 "nbformat_minor": 5
}
