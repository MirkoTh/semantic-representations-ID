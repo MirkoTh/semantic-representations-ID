{
 "cells": [
  {
   "cell_type": "code",
   "execution_count": 1,
   "id": "9d611ab5-bf87-4e35-865b-57eef2620d72",
   "metadata": {},
   "outputs": [],
   "source": [
    "import argparse\n",
    "import json\n",
    "import logging\n",
    "import os\n",
    "import random\n",
    "import re\n",
    "from turtle import distance\n",
    "import torch\n",
    "import warnings\n",
    "import pandas as pd\n",
    "from adjustText import adjust_text\n",
    "from typing import Tuple, Iterator, List, Dict\n",
    "from tqdm.notebook import tqdm\n",
    "import seaborn as sns\n",
    "\n",
    "\n",
    "import matplotlib.pyplot as plt\n",
    "import numpy as np\n",
    "import torch.nn as nn\n",
    "import torch.nn.functional as F\n",
    "from torch.utils.data import Dataset, DataLoader, SequentialSampler\n",
    "from sklearn.manifold import TSNE\n",
    "\n",
    "\n",
    "from os.path import join as pjoin\n",
    "from collections import defaultdict\n",
    "from scipy.stats import linregress\n",
    "from torch.optim import Adam, AdamW\n",
    "\n",
    "os.environ['PYTHONIOENCODING']='UTF-8'\n",
    "os.environ['CUDA_LAUNCH_BLOCKING']=str(1)"
   ]
  },
  {
   "cell_type": "code",
   "execution_count": 2,
   "id": "c1d0eca0-b437-49c1-b5c9-26bda0094d33",
   "metadata": {},
   "outputs": [],
   "source": [
    "# Enable automatic reloading of modules before executing code\n",
    "%load_ext autoreload\n",
    "%autoreload 2\n",
    "\n",
    "\n",
    "# Now you can use wildcard import\n",
    "import plotting as pl\n",
    "from models import model as md\n",
    "import utils as ut"
   ]
  },
  {
   "cell_type": "markdown",
   "id": "a169657a-5126-4362-968d-42c51d52a90f",
   "metadata": {},
   "source": [
    "\n",
    "# Import specific module with %aimport\n",
    "%aimport plotting\n",
    "%aimport models.model\n",
    "%aimport utils"
   ]
  },
  {
   "cell_type": "code",
   "execution_count": 3,
   "id": "9e0d9b08-91df-403e-bde2-544820650a9b",
   "metadata": {},
   "outputs": [],
   "source": [
    "task = \"odd_one_out\"\n",
    "modality = \"behavioral\"\n",
    "triplets_dir = \"./data/\"\n",
    "lr = learning_rate = 0.001\n",
    "lmbda = 0.008\n",
    "temperature = 1\n",
    "embed_dim = 10\n",
    "num_threads = 6\n",
    "device = \"cpu\"\n",
    "batch_size = 100\n",
    "sampling_method = \"normal\"\n",
    "rnd_seed = 42\n",
    "p = None\n",
    "results_dir = './results/'\n",
    "plots_dir = './plots/'\n",
    "epochs = 500\n",
    "distance_metric = \"dot\""
   ]
  },
  {
   "cell_type": "code",
   "execution_count": 4,
   "id": "0f6aaa67-e6f3-4e19-8e78-a4a9cae6db89",
   "metadata": {},
   "outputs": [],
   "source": [
    "def parseargs():\n",
    "    parser = argparse.ArgumentParser()\n",
    "    def aa(*args, **kwargs):\n",
    "        parser.add_argument(*args, **kwargs)\n",
    "    aa('--task', type=str, default='odd_one_out',\n",
    "        choices=['odd_one_out', 'similarity_task'])\n",
    "    aa('--modality', type=str, default='behavioral/',\n",
    "        #choices=['behavioral/', 'text/', 'visual/', 'neural/'],\n",
    "        help='define for which modality SPoSE should be perform specified task')\n",
    "    aa('--triplets_dir', type=str,\n",
    "        help='directory from where to load triplets')\n",
    "    aa('--results_dir', type=str, default='./results/',\n",
    "        help='optional specification of results directory (if not provided will resort to ./results/modality/lambda/rnd_seed/)')\n",
    "    aa('--plots_dir', type=str, default='./plots/',\n",
    "        help='optional specification of directory for plots (if not provided will resort to ./plots/modality/lambda/rnd_seed/)')\n",
    "    aa('--learning_rate', type=float, default=0.001,\n",
    "        help='learning rate to be used in optimizer')\n",
    "    aa('--lmbda', type=float,\n",
    "        help='lambda value determines weight of l1-regularization')\n",
    "    aa('--temperature', type=float, default=1.,\n",
    "        help='softmax temperature (beta param) for choice randomness')\n",
    "    aa('--embed_dim', metavar='D', type=int, default=90,\n",
    "        help='dimensionality of the embedding matrix')\n",
    "    aa('--batch_size', metavar='B', type=int, default=100,\n",
    "        choices=[16, 25, 32, 50, 64, 100, 128, 150, 200, 256],\n",
    "        help='number of triplets in each mini-batch')\n",
    "    aa('--epochs', metavar='T', type=int, default=500,\n",
    "        help='maximum number of epochs to optimize SPoSE model for')\n",
    "    aa('--window_size', type=int, default=50,\n",
    "        help='window size to be used for checking convergence criterion with linear regression')\n",
    "    aa('--steps', type=int, default=10,\n",
    "        help='save model parameters and create checkpoints every <steps> epochs')\n",
    "    aa('--sampling_method', type=str, default='normal',\n",
    "        choices=['normal', 'soft'],\n",
    "        help='whether random sampling of the entire training set or soft sampling of some fraction of the training set will be performed during each epoch')\n",
    "    aa('--p', type=float, default=None,\n",
    "        choices=[None, 0.5, 0.6, 0.7, 0.8, 0.9],\n",
    "        help='this argument is only necessary for soft sampling. specifies the fraction of *train* to be sampled during an epoch')\n",
    "    aa('--resume', action='store_true',\n",
    "        help='whether to resume training at last checkpoint; if not set training will restart')\n",
    "    aa('--device', type=str, default='cpu',\n",
    "        choices=['cpu', 'cuda', 'cuda:0', 'cuda:1', 'cuda:2', 'cuda:3', 'cuda:4', 'cuda:5', 'cuda:6', 'cuda:7'])\n",
    "    aa('--rnd_seed', type=int, default=42,\n",
    "        help='random seed for reproducibility')\n",
    "    aa('--distance_metric', type=str, default='dot', choices=['dot', 'euclidean'], help='distance metric')\n",
    "    aa('--early_stopping', action='store_true', help='train until convergence')\n",
    "    aa('--num_threads', type=int, default=20, help='number of threads used by PyTorch multiprocessing')\n",
    "    args = parser.parse_args()\n",
    "    return args\n",
    "\n",
    "def setup_logging(file:str, dir:str='./log_files/'):\n",
    "    if not os.path.exists(dir):\n",
    "        os.makedirs(dir)\n",
    "    #create logger at root level (no need to provide specific name, as our logger won't have children)\n",
    "    logger = logging.getLogger()\n",
    "    logging.basicConfig(filename=os.path.join(dir, file), filemode='w', level=logging.DEBUG)\n",
    "    #add console handler to logger\n",
    "    if len(logger.handlers) < 1:\n",
    "        #create console handler and set level to debug (lowest severity level)\n",
    "        handler = logging.StreamHandler()\n",
    "        #this specifies the lowest-severity log message the logger will handle\n",
    "        handler.setLevel(logging.DEBUG)\n",
    "        #create formatter to configure order, structure, and content of log messages\n",
    "        formatter = logging.Formatter(fmt=\"%(asctime)s - [%(levelname)s] - %(message)s\", datefmt='%d/%m/%Y %I:%M:%S %p')\n",
    "        #add formatter to handler\n",
    "        handler.setFormatter(formatter)\n",
    "        logger.addHandler(handler)\n",
    "    return logger"
   ]
  },
  {
   "cell_type": "code",
   "execution_count": 5,
   "id": "51c5c058-142e-42f8-96e5-13f15904dd6d",
   "metadata": {},
   "outputs": [
    {
     "name": "stdout",
     "output_type": "stream",
     "text": [
      "\n",
      "...Could not find any .npy files for current modality.\n",
      "...Now searching for .txt files.\n",
      "\n"
     ]
    }
   ],
   "source": [
    "logger = setup_logging(file='spose_optimization.log', dir=f'./log_files/lmbda_{lmbda}/')\n",
    "logger.setLevel(logging.INFO)\n",
    "#load triplets into memory\n",
    "train_triplets, test_triplets = ut.load_data(device=device, triplets_dir=triplets_dir)\n",
    "n_items = ut.get_nitems(train_triplets)"
   ]
  },
  {
   "cell_type": "code",
   "execution_count": 6,
   "id": "391ef58f-26fa-4d21-87e4-b20872fd041a",
   "metadata": {},
   "outputs": [
    {
     "data": {
      "text/plain": [
       "torch.Size([100000, 3])"
      ]
     },
     "execution_count": 6,
     "metadata": {},
     "output_type": "execute_result"
    }
   ],
   "source": [
    "train_triplets.shape"
   ]
  },
  {
   "cell_type": "code",
   "execution_count": 7,
   "id": "0892203e-3b78-4ed9-91e9-8a9835c94c4c",
   "metadata": {},
   "outputs": [
    {
     "data": {
      "text/plain": [
       "100"
      ]
     },
     "execution_count": 7,
     "metadata": {},
     "output_type": "execute_result"
    }
   ],
   "source": [
    "batch_size"
   ]
  },
  {
   "cell_type": "code",
   "execution_count": 8,
   "id": "13f47a43-db6c-4820-ac55-746b985e958f",
   "metadata": {},
   "outputs": [
    {
     "data": {
      "text/plain": [
       "1854"
      ]
     },
     "execution_count": 8,
     "metadata": {},
     "output_type": "execute_result"
    }
   ],
   "source": [
    "n_items"
   ]
  },
  {
   "cell_type": "code",
   "execution_count": 9,
   "id": "308dc195-ec37-4894-9946-5f0b0559f8a4",
   "metadata": {},
   "outputs": [],
   "source": [
    "#load train and test mini-batches\n",
    "train_batches, val_batches = ut.load_batches(\n",
    "    train_triplets=train_triplets,\n",
    "    test_triplets=test_triplets,\n",
    "    n_items=n_items,\n",
    "    batch_size=batch_size,\n",
    "    sampling_method=sampling_method,\n",
    "    rnd_seed=rnd_seed,\n",
    "    p=p\n",
    ")"
   ]
  },
  {
   "cell_type": "code",
   "execution_count": 10,
   "id": "c939217c-ca78-4f5b-9e5d-3f089a9e13d4",
   "metadata": {},
   "outputs": [],
   "source": [
    "for i, batch in enumerate(train_batches):\n",
    "    b = batch.to(device)"
   ]
  },
  {
   "cell_type": "code",
   "execution_count": 11,
   "id": "7b4ba94d-55af-4c7b-ae49-ae589db77f55",
   "metadata": {},
   "outputs": [],
   "source": [
    "temperature = torch.tensor(temperature).to(device)\n",
    "model = md.SPoSE(in_size=n_items, out_size=embed_dim, init_weights=True)\n",
    "model.to(device)\n",
    "optim = Adam(model.parameters(), lr=lr)"
   ]
  },
  {
   "cell_type": "raw",
   "id": "07b5a89a-3a35-4826-81f0-bad522c9ad2e",
   "metadata": {},
   "source": [
    "creating paths"
   ]
  },
  {
   "cell_type": "code",
   "execution_count": 12,
   "id": "a0976e37-5d30-409f-bf3f-1e7a6a927290",
   "metadata": {},
   "outputs": [
    {
     "name": "stdout",
     "output_type": "stream",
     "text": [
      "...Creating PATHs\n",
      "\n"
     ]
    }
   ],
   "source": [
    "print(f'...Creating PATHs')\n",
    "print()\n",
    "if results_dir == './results/':\n",
    "    results_dir = os.path.join(results_dir, modality, f'{embed_dim}d', str(lmbda), f'seed{rnd_seed:02d}')\n",
    "if not os.path.exists(results_dir):\n",
    "    os.makedirs(results_dir)\n",
    "\n",
    "if plots_dir == './plots/':\n",
    "    plots_dir = os.path.join(plots_dir, modality, f'{embed_dim}d', str(lmbda), f'seed{rnd_seed}')\n",
    "if not os.path.exists(plots_dir):\n",
    "    os.makedirs(plots_dir)\n",
    "\n",
    "model_dir = os.path.join(results_dir, 'model')"
   ]
  },
  {
   "cell_type": "code",
   "execution_count": 13,
   "id": "72103792-10aa-4132-be04-c0c81551318e",
   "metadata": {},
   "outputs": [],
   "source": [
    "epochs = 50"
   ]
  },
  {
   "cell_type": "code",
   "execution_count": 14,
   "id": "8d4d3e3f-1085-45b3-ab21-357b9eaba0c7",
   "metadata": {},
   "outputs": [
    {
     "name": "stdout",
     "output_type": "stream",
     "text": [
      "Optimization started for lambda: 0.008\n",
      "\n"
     ]
    },
    {
     "data": {
      "application/vnd.jupyter.widget-view+json": {
       "model_id": "1dec2a88b0ed41de98df3bcee7c0aff8",
       "version_major": 2,
       "version_minor": 0
      },
      "text/plain": [
       "  0%|          | 0/50 [00:00<?, ?it/s]"
      ]
     },
     "metadata": {},
     "output_type": "display_data"
    }
   ],
   "source": [
    "if not os.path.exists(model_dir):\n",
    "    os.makedirs(model_dir)\n",
    "start = 0\n",
    "train_accs, val_accs = [], []\n",
    "train_losses, val_losses = [], []\n",
    "loglikelihoods, complexity_losses = [], []\n",
    "nneg_d_over_time = []\n",
    "\n",
    "iter = 0\n",
    "results = {}\n",
    "logger.info(f'Optimization started for lambda: {lmbda}\\n')\n",
    "\n",
    "print(f'Optimization started for lambda: {lmbda}\\n')\n",
    "for epoch in tqdm(range(start, epochs)):\n",
    "    model.train()\n",
    "    batch_llikelihoods = torch.zeros(len(train_batches))\n",
    "    batch_closses = torch.zeros(len(train_batches))\n",
    "    batch_losses_train = torch.zeros(len(train_batches))\n",
    "    batch_accs_train = torch.zeros(len(train_batches))\n",
    "    for i, batch in enumerate(train_batches):\n",
    "        optim.zero_grad() #zero out gradients\n",
    "        batch = batch.to(device)\n",
    "        logits = model(batch)\n",
    "        anchor, positive, negative = torch.unbind(torch.reshape(logits, (-1, 3, embed_dim)), dim=1)\n",
    "        c_entropy = ut.trinomial_loss(anchor, positive, negative, task, temperature, distance_metric)\n",
    "        l1_pen = md.l1_regularization(model).to(device) #L1-norm to enforce sparsity (many 0s)\n",
    "        W = model.fc.weight\n",
    "        pos_pen = torch.sum(F.relu(-W)) #positivity constraint to enforce non-negative values in embedding matrix\n",
    "        complexity_loss = (lmbda/n_items) * l1_pen\n",
    "        loss = c_entropy + 0.01 * pos_pen + complexity_loss\n",
    "        loss.backward()\n",
    "        optim.step()\n",
    "        batch_losses_train[i] += loss.item()\n",
    "        batch_llikelihoods[i] += c_entropy.item()\n",
    "        batch_closses[i] += complexity_loss.item()\n",
    "        batch_accs_train[i] += ut.choice_accuracy(anchor, positive, negative, task, distance_metric)\n",
    "        iter += 1\n",
    "\n",
    "    avg_llikelihood = torch.mean(batch_llikelihoods).item()\n",
    "    avg_closs = torch.mean(batch_closses).item()\n",
    "    avg_train_loss = torch.mean(batch_losses_train).item()\n",
    "    avg_train_acc = torch.mean(batch_accs_train).item()\n",
    "\n",
    "    loglikelihoods.append(avg_llikelihood)\n",
    "    complexity_losses.append(avg_closs)\n",
    "    train_losses.append(avg_train_loss)\n",
    "    train_accs.append(avg_train_acc)"
   ]
  },
  {
   "cell_type": "code",
   "execution_count": 15,
   "id": "75077274-9689-4c72-8dd1-ece8a5ba2c4a",
   "metadata": {},
   "outputs": [
    {
     "data": {
      "text/plain": [
       "<Axes: xlabel='Count', ylabel='value'>"
      ]
     },
     "execution_count": 15,
     "metadata": {},
     "output_type": "execute_result"
    },
    {
     "data": {
      "image/png": "[encoded data removed]",
      "text/plain": [
       "<Figure size 640x480 with 1 Axes>"
      ]
     },
     "metadata": {},
     "output_type": "display_data"
    }
   ],
   "source": [
    "tmp = pd.DataFrame(W.detach().numpy().transpose())\n",
    "sns.histplot(pd.melt(tmp), y = \"value\", hue = \"variable\")\n"
   ]
  },
  {
   "cell_type": "code",
   "execution_count": 16,
   "id": "004f97ad-d75d-47ea-a8a0-175ad5c93e7b",
   "metadata": {
    "scrolled": true
   },
   "outputs": [
    {
     "data": {
      "text/plain": [
       "[0.4125099778175354,\n",
       " 0.4546799659729004,\n",
       " 0.4551299810409546,\n",
       " 0.45347997546195984,\n",
       " 0.4551199972629547,\n",
       " 0.4554300010204315,\n",
       " 0.455299973487854,\n",
       " 0.45496997237205505,\n",
       " 0.4547400176525116,\n",
       " 0.4566199779510498,\n",
       " 0.4560699760913849,\n",
       " 0.45753997564315796,\n",
       " 0.458079993724823,\n",
       " 0.46059995889663696,\n",
       " 0.4638200104236603,\n",
       " 0.4675299823284149,\n",
       " 0.47391000390052795,\n",
       " 0.47863996028900146,\n",
       " 0.48495998978614807,\n",
       " 0.4902700185775757,\n",
       " 0.495449960231781,\n",
       " 0.49977996945381165,\n",
       " 0.5034900307655334,\n",
       " 0.5077599883079529,\n",
       " 0.5114099979400635,\n",
       " 0.5150600075721741,\n",
       " 0.5182399749755859,\n",
       " 0.5218999981880188,\n",
       " 0.5254299640655518,\n",
       " 0.5296100378036499,\n",
       " 0.5329699516296387,\n",
       " 0.5376700162887573,\n",
       " 0.5426200032234192,\n",
       " 0.5483599901199341,\n",
       " 0.5540499687194824,\n",
       " 0.5597600340843201,\n",
       " 0.5661399960517883,\n",
       " 0.5722000002861023,\n",
       " 0.5783599615097046,\n",
       " 0.5835699439048767,\n",
       " 0.588890016078949,\n",
       " 0.5932499766349792,\n",
       " 0.5971400737762451,\n",
       " 0.6007300615310669,\n",
       " 0.6035000085830688,\n",
       " 0.6064499616622925,\n",
       " 0.6086600422859192,\n",
       " 0.6114699840545654,\n",
       " 0.6137000322341919,\n",
       " 0.6160300970077515]"
      ]
     },
     "execution_count": 16,
     "metadata": {},
     "output_type": "execute_result"
    }
   ],
   "source": [
    "train_accs"
   ]
  },
  {
   "cell_type": "code",
   "execution_count": 17,
   "id": "0a9a9188-66e5-4036-ab0a-63aa8ddd5af6",
   "metadata": {},
   "outputs": [],
   "source": [
    "array_avg_reps = W.detach().numpy().transpose()\n",
    "tensor_avg_reps = torch.Tensor(array_avg_reps)\n",
    "tbl_labels = pd.read_csv(\"data/unique_id.txt\", header=None)\n",
    "tbl_labels.columns = [\"label\"]\n",
    "tbl_avg_reps = pd.DataFrame(array_avg_reps)\n",
    "tbl_avg_reps[\"labels\"] = tbl_labels"
   ]
  },
  {
   "cell_type": "code",
   "execution_count": 18,
   "id": "ba3690b2-2aa2-46c2-b963-b00badf11d91",
   "metadata": {},
   "outputs": [
    {
     "name": "stderr",
     "output_type": "stream",
     "text": [
      "C:\\Users\\MirkoThalmann\\miniconda3\\envs\\representationsID\\Lib\\site-packages\\joblib\\externals\\loky\\backend\\context.py:136: UserWarning: Could not find the number of physical cores for the following reason:\n",
      "[WinError 2] Das System kann die angegebene Datei nicht finden\n",
      "Returning the number of logical cores instead. You can silence this warning by setting LOKY_MAX_CPU_COUNT to the number of cores you want to use.\n",
      "  warnings.warn(\n",
      "  File \"C:\\Users\\MirkoThalmann\\miniconda3\\envs\\representationsID\\Lib\\site-packages\\joblib\\externals\\loky\\backend\\context.py\", line 257, in _count_physical_cores\n",
      "    cpu_info = subprocess.run(\n",
      "               ^^^^^^^^^^^^^^^\n",
      "  File \"C:\\Users\\MirkoThalmann\\miniconda3\\envs\\representationsID\\Lib\\subprocess.py\", line 548, in run\n",
      "    with Popen(*popenargs, **kwargs) as process:\n",
      "         ^^^^^^^^^^^^^^^^^^^^^^^^^^^\n",
      "  File \"C:\\Users\\MirkoThalmann\\miniconda3\\envs\\representationsID\\Lib\\subprocess.py\", line 1026, in __init__\n",
      "    self._execute_child(args, executable, preexec_fn, close_fds,\n",
      "  File \"C:\\Users\\MirkoThalmann\\miniconda3\\envs\\representationsID\\Lib\\subprocess.py\", line 1538, in _execute_child\n",
      "    hp, ht, pid, tid = _winapi.CreateProcess(executable, args,\n",
      "                       ^^^^^^^^^^^^^^^^^^^^^^^^^^^^^^^^^^^^^^^\n"
     ]
    }
   ],
   "source": [
    "# Initialize t-SNE\n",
    "tsne_model = TSNE(n_components=2, random_state=42)\n",
    "\n",
    "# Fit and transform the DataFrame\n",
    "tsne_result = tsne_model.fit_transform(tbl_avg_reps.drop(columns = \"labels\"))\n",
    "\n",
    "# Convert the result to a DataFrame\n",
    "df_tsne = pd.DataFrame(tsne_result, columns=['TSNE1', 'TSNE2'])"
   ]
  },
  {
   "cell_type": "code",
   "execution_count": 19,
   "id": "51cb8202-2b4f-41c6-8d68-e5964751197d",
   "metadata": {},
   "outputs": [],
   "source": [
    "df_tsne[\"label\"] = tbl_labels[\"label\"]"
   ]
  },
  {
   "cell_type": "markdown",
   "id": "d9e8f148-59eb-47ad-9a2f-c42fc543d175",
   "metadata": {},
   "source": [
    "## Inspect Semantics of Dimensions\n",
    "### By Sorting According to Dimensions"
   ]
  },
  {
   "cell_type": "code",
   "execution_count": 20,
   "id": "f278a3e7-5dcb-457f-9abd-b79d99e65f93",
   "metadata": {},
   "outputs": [
    {
     "data": {
      "text/html": [
       "<div>\n",
       "<style scoped>\n",
       "    .dataframe tbody tr th:only-of-type {\n",
       "        vertical-align: middle;\n",
       "    }\n",
       "\n",
       "    .dataframe tbody tr th {\n",
       "        vertical-align: top;\n",
       "    }\n",
       "\n",
       "    .dataframe thead th {\n",
       "        text-align: right;\n",
       "    }\n",
       "</style>\n",
       "<table border=\"1\" class=\"dataframe\">\n",
       "  <thead>\n",
       "    <tr style=\"text-align: right;\">\n",
       "      <th></th>\n",
       "      <th>0</th>\n",
       "      <th>1</th>\n",
       "      <th>2</th>\n",
       "      <th>3</th>\n",
       "      <th>4</th>\n",
       "      <th>5</th>\n",
       "      <th>6</th>\n",
       "      <th>7</th>\n",
       "      <th>8</th>\n",
       "      <th>9</th>\n",
       "    </tr>\n",
       "  </thead>\n",
       "  <tbody>\n",
       "    <tr>\n",
       "      <th>0</th>\n",
       "      <td>1.000000</td>\n",
       "      <td>-0.291606</td>\n",
       "      <td>0.244693</td>\n",
       "      <td>0.259923</td>\n",
       "      <td>0.045816</td>\n",
       "      <td>0.259889</td>\n",
       "      <td>0.117285</td>\n",
       "      <td>0.111228</td>\n",
       "      <td>0.084441</td>\n",
       "      <td>-0.137862</td>\n",
       "    </tr>\n",
       "    <tr>\n",
       "      <th>1</th>\n",
       "      <td>-0.291606</td>\n",
       "      <td>1.000000</td>\n",
       "      <td>-0.255712</td>\n",
       "      <td>-0.351852</td>\n",
       "      <td>-0.266884</td>\n",
       "      <td>-0.267352</td>\n",
       "      <td>-0.327050</td>\n",
       "      <td>-0.302554</td>\n",
       "      <td>-0.022695</td>\n",
       "      <td>-0.307656</td>\n",
       "    </tr>\n",
       "    <tr>\n",
       "      <th>2</th>\n",
       "      <td>0.244693</td>\n",
       "      <td>-0.255712</td>\n",
       "      <td>1.000000</td>\n",
       "      <td>0.225901</td>\n",
       "      <td>0.091404</td>\n",
       "      <td>0.215369</td>\n",
       "      <td>0.069186</td>\n",
       "      <td>0.138861</td>\n",
       "      <td>0.117244</td>\n",
       "      <td>-0.133945</td>\n",
       "    </tr>\n",
       "    <tr>\n",
       "      <th>3</th>\n",
       "      <td>0.259923</td>\n",
       "      <td>-0.351852</td>\n",
       "      <td>0.225901</td>\n",
       "      <td>1.000000</td>\n",
       "      <td>0.038899</td>\n",
       "      <td>0.203466</td>\n",
       "      <td>0.115030</td>\n",
       "      <td>0.202612</td>\n",
       "      <td>0.022435</td>\n",
       "      <td>-0.095964</td>\n",
       "    </tr>\n",
       "    <tr>\n",
       "      <th>4</th>\n",
       "      <td>0.045816</td>\n",
       "      <td>-0.266884</td>\n",
       "      <td>0.091404</td>\n",
       "      <td>0.038899</td>\n",
       "      <td>1.000000</td>\n",
       "      <td>0.022975</td>\n",
       "      <td>0.111575</td>\n",
       "      <td>0.120261</td>\n",
       "      <td>0.129408</td>\n",
       "      <td>0.204311</td>\n",
       "    </tr>\n",
       "    <tr>\n",
       "      <th>5</th>\n",
       "      <td>0.259889</td>\n",
       "      <td>-0.267352</td>\n",
       "      <td>0.215369</td>\n",
       "      <td>0.203466</td>\n",
       "      <td>0.022975</td>\n",
       "      <td>1.000000</td>\n",
       "      <td>0.164198</td>\n",
       "      <td>0.113010</td>\n",
       "      <td>0.039784</td>\n",
       "      <td>-0.053953</td>\n",
       "    </tr>\n",
       "    <tr>\n",
       "      <th>6</th>\n",
       "      <td>0.117285</td>\n",
       "      <td>-0.327050</td>\n",
       "      <td>0.069186</td>\n",
       "      <td>0.115030</td>\n",
       "      <td>0.111575</td>\n",
       "      <td>0.164198</td>\n",
       "      <td>1.000000</td>\n",
       "      <td>0.111729</td>\n",
       "      <td>-0.056099</td>\n",
       "      <td>0.101336</td>\n",
       "    </tr>\n",
       "    <tr>\n",
       "      <th>7</th>\n",
       "      <td>0.111228</td>\n",
       "      <td>-0.302554</td>\n",
       "      <td>0.138861</td>\n",
       "      <td>0.202612</td>\n",
       "      <td>0.120261</td>\n",
       "      <td>0.113010</td>\n",
       "      <td>0.111729</td>\n",
       "      <td>1.000000</td>\n",
       "      <td>0.074894</td>\n",
       "      <td>0.031922</td>\n",
       "    </tr>\n",
       "    <tr>\n",
       "      <th>8</th>\n",
       "      <td>0.084441</td>\n",
       "      <td>-0.022695</td>\n",
       "      <td>0.117244</td>\n",
       "      <td>0.022435</td>\n",
       "      <td>0.129408</td>\n",
       "      <td>0.039784</td>\n",
       "      <td>-0.056099</td>\n",
       "      <td>0.074894</td>\n",
       "      <td>1.000000</td>\n",
       "      <td>-0.116232</td>\n",
       "    </tr>\n",
       "    <tr>\n",
       "      <th>9</th>\n",
       "      <td>-0.137862</td>\n",
       "      <td>-0.307656</td>\n",
       "      <td>-0.133945</td>\n",
       "      <td>-0.095964</td>\n",
       "      <td>0.204311</td>\n",
       "      <td>-0.053953</td>\n",
       "      <td>0.101336</td>\n",
       "      <td>0.031922</td>\n",
       "      <td>-0.116232</td>\n",
       "      <td>1.000000</td>\n",
       "    </tr>\n",
       "  </tbody>\n",
       "</table>\n",
       "</div>"
      ],
      "text/plain": [
       "          0         1         2         3         4         5         6  \\\n",
       "0  1.000000 -0.291606  0.244693  0.259923  0.045816  0.259889  0.117285   \n",
       "1 -0.291606  1.000000 -0.255712 -0.351852 -0.266884 -0.267352 -0.327050   \n",
       "2  0.244693 -0.255712  1.000000  0.225901  0.091404  0.215369  0.069186   \n",
       "3  0.259923 -0.351852  0.225901  1.000000  0.038899  0.203466  0.115030   \n",
       "4  0.045816 -0.266884  0.091404  0.038899  1.000000  0.022975  0.111575   \n",
       "5  0.259889 -0.267352  0.215369  0.203466  0.022975  1.000000  0.164198   \n",
       "6  0.117285 -0.327050  0.069186  0.115030  0.111575  0.164198  1.000000   \n",
       "7  0.111228 -0.302554  0.138861  0.202612  0.120261  0.113010  0.111729   \n",
       "8  0.084441 -0.022695  0.117244  0.022435  0.129408  0.039784 -0.056099   \n",
       "9 -0.137862 -0.307656 -0.133945 -0.095964  0.204311 -0.053953  0.101336   \n",
       "\n",
       "          7         8         9  \n",
       "0  0.111228  0.084441 -0.137862  \n",
       "1 -0.302554 -0.022695 -0.307656  \n",
       "2  0.138861  0.117244 -0.133945  \n",
       "3  0.202612  0.022435 -0.095964  \n",
       "4  0.120261  0.129408  0.204311  \n",
       "5  0.113010  0.039784 -0.053953  \n",
       "6  0.111729 -0.056099  0.101336  \n",
       "7  1.000000  0.074894  0.031922  \n",
       "8  0.074894  1.000000 -0.116232  \n",
       "9  0.031922 -0.116232  1.000000  "
      ]
     },
     "execution_count": 20,
     "metadata": {},
     "output_type": "execute_result"
    }
   ],
   "source": [
    "tbl_avg_reps.loc[:, [0, 1, 2, 3, 4, 5, 6, 7, 8, 9]].corr()"
   ]
  },
  {
   "cell_type": "markdown",
   "id": "52aae81c-5f00-49cc-bc52-6d8f07059ac4",
   "metadata": {},
   "source": [
    "### By Calculating a lower dimensional embedding"
   ]
  },
  {
   "cell_type": "code",
   "execution_count": 21,
   "id": "6ea2af7c-72c6-4c61-aa3f-0d64e398c777",
   "metadata": {},
   "outputs": [
    {
     "data": {
      "image/png": "[encoded data removed]",
      "text/plain": [
       "<Figure size 800x600 with 1 Axes>"
      ]
     },
     "metadata": {},
     "output_type": "display_data"
    }
   ],
   "source": [
    "# Print the t-SNE result\n",
    "df_tsne_sample = df_tsne.sample(50).reset_index()\n",
    "# Plot the result\n",
    "plt.figure(figsize=(8, 6))\n",
    "plt.scatter(df_tsne_sample['TSNE1'], df_tsne_sample['TSNE2'], alpha = 0)\n",
    "\n",
    "# Add text labels instead of points\n",
    "texts = []\n",
    "for i, label in enumerate(df_tsne_sample['label']): \n",
    "    texts.append(plt.text(df_tsne_sample['TSNE1'][i], df_tsne_sample['TSNE2'][i], label))\n",
    "adjust_text(texts)\n",
    "plt.xlabel('TSNE1')\n",
    "plt.ylabel('TSNE2')\n",
    "plt.title('t-SNE Result')\n",
    "plt.show()"
   ]
  },
  {
   "cell_type": "markdown",
   "id": "990a29e2-3e51-46bb-9bd2-f94f1caed76e",
   "metadata": {},
   "source": [
    "# Finetune average representations using individual-participant data"
   ]
  },
  {
   "cell_type": "code",
   "execution_count": 22,
   "id": "a6c1576b-3adb-4b47-ba33-6f6e9e87153b",
   "metadata": {},
   "outputs": [
    {
     "name": "stdout",
     "output_type": "stream",
     "text": [
      "\n",
      "...Could not find any .npy files for current modality.\n",
      "...Now searching for .txt files.\n",
      "\n"
     ]
    }
   ],
   "source": [
    "train_triplets_ID, test_triplets_ID = ut.load_data_ID(device=device, triplets_dir=triplets_dir)\n",
    "n_items_ID = ut.get_nitems(train_triplets_ID)"
   ]
  },
  {
   "cell_type": "code",
   "execution_count": 23,
   "id": "0f1e723c-5564-4539-a4e5-8464bd18dfc7",
   "metadata": {},
   "outputs": [],
   "source": [
    "col_split_id = 3\n",
    "# Unique values in the specified column\n",
    "unique_values = np.unique(train_triplets_ID[:, col_split_id])\n",
    "# Split the array into a list of arrays based on the unique values in the specified column\n",
    "split_train = [train_triplets_ID[train_triplets_ID[:, col_split_id] == value] for value in unique_values]\n",
    "split_test = [test_triplets_ID[test_triplets_ID[:, col_split_id] == value] for value in unique_values]"
   ]
  },
  {
   "cell_type": "markdown",
   "id": "7f0ebc02-8726-4f35-b1e8-2d3e5b240b43",
   "metadata": {},
   "source": [
    "### Separate data set into list elements containing the data from individual participants"
   ]
  },
  {
   "cell_type": "code",
   "execution_count": 24,
   "id": "b6b0a37e-d0de-463a-8c23-1d201d23e906",
   "metadata": {},
   "outputs": [],
   "source": [
    "l_train_triplets_ID = []\n",
    "l_test_triplets_ID = []\n",
    "l_train_batches_ID = []\n",
    "l_test_batches_ID = []\n",
    "# divide into list elements and drop subject ID\n",
    "for i in range(0, len(split_train)):\n",
    "    l_train_triplets_ID.append(split_train[i][:, 0:3])\n",
    "    l_test_triplets_ID.append(split_test[i][:, 0:3])"
   ]
  },
  {
   "cell_type": "markdown",
   "id": "4c3d7720-d319-49c5-8ff3-6e0ce426aa57",
   "metadata": {},
   "source": [
    "### Generate the batches for every participant by looping over the lists of batches"
   ]
  },
  {
   "cell_type": "markdown",
   "id": "849c65f3-defb-4554-817e-9d2da438af7f",
   "metadata": {},
   "source": [
    "## ID Model for one participant"
   ]
  },
  {
   "cell_type": "code",
   "execution_count": 30,
   "id": "e879805f-75a5-481d-b40d-f316d850770f",
   "metadata": {},
   "outputs": [],
   "source": [
    "#load train and test mini-batches\n",
    "l_train_batches_ID = []\n",
    "l_val_batches_ID = []\n",
    "\n",
    "i = 39\n",
    "\n",
    "train_batches_ID, val_batches_ID = ut.load_batches_ID(\n",
    "    train_triplets=l_train_triplets_ID[i],\n",
    "    test_triplets=l_test_triplets_ID[i],\n",
    "    average_reps=tensor_avg_reps,\n",
    "    n_items=n_items_ID,\n",
    "    batch_size=batch_size,\n",
    "    sampling_method=sampling_method,\n",
    "    rnd_seed=rnd_seed,\n",
    "    p=p\n",
    ")\n",
    "\n",
    "train_batches, val_batches = ut.load_batches(\n",
    "    train_triplets=l_train_triplets_ID[i],\n",
    "    test_triplets=l_test_triplets_ID[i],\n",
    "    n_items=n_items_ID,\n",
    "    batch_size=batch_size,\n",
    "    sampling_method=sampling_method,\n",
    "    rnd_seed=rnd_seed,\n",
    "    p=p\n",
    ")"
   ]
  },
  {
   "cell_type": "code",
   "execution_count": 31,
   "id": "1db3b71f-b826-455f-b8cf-89a87dbad6ab",
   "metadata": {},
   "outputs": [],
   "source": [
    "model_ID = md.IndependentLinearLayerWithIntercept(array_avg_reps.shape[1])\n",
    "model_ID.to(device)\n",
    "optim = Adam(model_ID.parameters(), lr=lr)"
   ]
  },
  {
   "cell_type": "markdown",
   "id": "a9efeac0-7fd0-412c-8879-6c426b5d0850",
   "metadata": {},
   "source": [
    "### currently, the model set up is for one participant (see just cell above)\n",
    "has to be set up such that all participants can be run and data for every participant is saved"
   ]
  },
  {
   "cell_type": "markdown",
   "id": "de4ec823-1105-4a05-a2b0-f9dfaa2485dc",
   "metadata": {},
   "source": [
    "# todos\n",
    "- increase epochs to 500\n",
    "- vary the dimensionality of the learned representations: 5, 10, 20, 49\n",
    "- "
   ]
  },
  {
   "cell_type": "code",
   "execution_count": 32,
   "id": "332126a5-4966-4aff-a950-6369a1f0239c",
   "metadata": {},
   "outputs": [],
   "source": [
    "epochs = 50"
   ]
  },
  {
   "cell_type": "code",
   "execution_count": 33,
   "id": "45cf7962-3ebd-45a1-8300-f515932a82f8",
   "metadata": {},
   "outputs": [
    {
     "name": "stdout",
     "output_type": "stream",
     "text": [
      "Optimization started for lambda: 0.008\n",
      "\n"
     ]
    },
    {
     "data": {
      "application/vnd.jupyter.widget-view+json": {
       "model_id": "83742fc4914d424791dd285fed1c9b9b",
       "version_major": 2,
       "version_minor": 0
      },
      "text/plain": [
       "  0%|          | 0/50 [00:00<?, ?it/s]"
      ]
     },
     "metadata": {},
     "output_type": "display_data"
    }
   ],
   "source": [
    "if not os.path.exists(model_dir):\n",
    "    os.makedirs(model_dir)\n",
    "start = 0\n",
    "train_accs_ID, val_accs_ID = [], []\n",
    "train_losses_ID, val_losses_ID = [], []\n",
    "loglikelihoods_ID = []\n",
    "nneg_d_over_time_ID = []\n",
    "\n",
    "iter = 0\n",
    "results = {}\n",
    "logger.info(f'Optimization started for lambda: {lmbda}\\n')\n",
    "\n",
    "print(f'Optimization started for lambda: {lmbda}\\n')\n",
    "for epoch in tqdm(range(start, epochs)):\n",
    "    model_ID.train()\n",
    "    batch_llikelihoods = torch.zeros(len(train_batches_ID))\n",
    "    batch_closses = torch.zeros(len(train_batches_ID))\n",
    "    batch_losses_train = torch.zeros(len(train_batches_ID))\n",
    "    batch_accs_train = torch.zeros(len(train_batches_ID))\n",
    "    for i, batch in enumerate(train_batches_ID):\n",
    "        optim.zero_grad() #zero out gradients\n",
    "        batch = batch.to(device)\n",
    "        logits = model_ID(batch)\n",
    "        anchor, positive, negative = torch.unbind(torch.reshape(logits, (-1, 3, embed_dim)), dim=1)\n",
    "        loss = ut.trinomial_loss(anchor, positive, negative, task, temperature, distance_metric)\n",
    "\n",
    "        ICs = model_ID.intercepts\n",
    "        Slopes = model_ID.weights\n",
    "\n",
    "        loss.backward()\n",
    "        optim.step()\n",
    "        \n",
    "        batch_losses_train[i] += loss.item()\n",
    "        batch_llikelihoods[i] += loss.item()\n",
    "        batch_accs_train[i] += ut.choice_accuracy(anchor, positive, negative, task, distance_metric)\n",
    "        iter += 1\n",
    "\n",
    "    avg_llikelihood_ID = torch.mean(batch_llikelihoods).item()\n",
    "    avg_train_loss_ID = torch.mean(batch_losses_train).item()\n",
    "    avg_train_acc_ID = torch.mean(batch_accs_train).item()\n",
    "\n",
    "    loglikelihoods_ID.append(avg_llikelihood_ID)\n",
    "    train_losses_ID.append(avg_train_loss_ID)\n",
    "    train_accs_ID.append(avg_train_acc_ID)"
   ]
  },
  {
   "cell_type": "code",
   "execution_count": 34,
   "id": "521582b4-1bec-492b-8083-b72d81639eaa",
   "metadata": {},
   "outputs": [
    {
     "data": {
      "text/plain": [
       "Parameter containing:\n",
       "tensor([-0.1030, -0.1353, -0.0716,  0.0047, -0.0321, -0.0050,  0.2219, -0.0932,\n",
       "         0.0289, -0.0621], requires_grad=True)"
      ]
     },
     "execution_count": 34,
     "metadata": {},
     "output_type": "execute_result"
    }
   ],
   "source": [
    "ICs"
   ]
  },
  {
   "cell_type": "code",
   "execution_count": 35,
   "id": "d6117e94-d842-41da-b8b1-6177030c5c39",
   "metadata": {},
   "outputs": [
    {
     "data": {
      "text/plain": [
       "list"
      ]
     },
     "execution_count": 35,
     "metadata": {},
     "output_type": "execute_result"
    }
   ],
   "source": [
    "type(train_accs_ID)"
   ]
  },
  {
   "cell_type": "markdown",
   "id": "cc07dbdb-1b0f-4efa-b3eb-79f4739b10cb",
   "metadata": {},
   "source": [
    "## Evaluate average model"
   ]
  },
  {
   "cell_type": "code",
   "execution_count": 36,
   "id": "3491a9fc-5693-44c1-b3cb-685c40bccfe6",
   "metadata": {},
   "outputs": [
    {
     "data": {
      "text/plain": [
       "(0.8652576208114624, 0.6076470613479614)"
      ]
     },
     "execution_count": 36,
     "metadata": {},
     "output_type": "execute_result"
    }
   ],
   "source": [
    "ut.validation(model_ID, val_batches_ID, task, device)"
   ]
  },
  {
   "cell_type": "markdown",
   "id": "0ef7b961-1a9c-41d6-aece-a0b101aa0c4d",
   "metadata": {},
   "source": [
    "## Evaluate by-participant models"
   ]
  },
  {
   "cell_type": "code",
   "execution_count": 37,
   "id": "8ed7a97c-d591-40a9-bf02-cf698875f196",
   "metadata": {},
   "outputs": [
    {
     "data": {
      "text/plain": [
       "(0.8752763271331787, 0.6041176319122314)"
      ]
     },
     "execution_count": 37,
     "metadata": {},
     "output_type": "execute_result"
    }
   ],
   "source": [
    "ut.validation(model, val_batches, task, device)"
   ]
  },
  {
   "cell_type": "markdown",
   "id": "833691d2-e1f1-4476-a34e-8f566dbdd0d8",
   "metadata": {},
   "source": [
    "## Loop over all Participants"
   ]
  },
  {
   "cell_type": "markdown",
   "id": "7b872490-3075-451c-b2c5-ff0719a9752e",
   "metadata": {},
   "source": [
    "## Evalute Improvements and Parameters"
   ]
  },
  {
   "cell_type": "code",
   "execution_count": 40,
   "id": "7135ab01-56c3-43a1-a5a1-887732a420fc",
   "metadata": {},
   "outputs": [],
   "source": [
    "l_train_ID = list()\n",
    "l_val_ID = list()\n",
    "l_val_avg = list()"
   ]
  },
  {
   "cell_type": "code",
   "execution_count": 41,
   "id": "07669b37-a609-4ff3-a0bb-b56f822b3b2e",
   "metadata": {},
   "outputs": [
    {
     "data": {
      "application/vnd.jupyter.widget-view+json": {
       "model_id": "2089ea103c9b450dafa90e5bbb22bba9",
       "version_major": 2,
       "version_minor": 0
      },
      "text/plain": [
       "  0%|          | 0/75 [00:00<?, ?it/s]"
      ]
     },
     "metadata": {},
     "output_type": "display_data"
    }
   ],
   "source": [
    "for tr, te in tqdm(zip(l_train_triplets_ID, l_test_triplets_ID), total = len(l_train_triplets_ID)):\n",
    "    train_ID = ut.train_ID_model(\n",
    "        tr, te, array_avg_reps, \n",
    "        n_items_ID, batch_size, sampling_method, task, temperature, embed_dim, \n",
    "        distance_metric, rnd_seed, p, lr, epochs, device, model_dir\n",
    "    )\n",
    "    val_ID = ut.validation(train_ID[\"model\"], train_ID[\"val_batches_ID\"], task, device)\n",
    "    val_avg = ut.validation(model, train_ID[\"val_batches_avg\"], task, device)\n",
    "\n",
    "    l_train_ID.append(train_ID)\n",
    "    l_val_ID.append(val_ID)\n",
    "    l_val_avg.append(val_avg)"
   ]
  },
  {
   "cell_type": "code",
   "execution_count": 765,
   "id": "a54080f1-c195-47bc-b073-e3227b87345f",
   "metadata": {},
   "outputs": [
    {
     "data": {
      "text/plain": [
       "{'model': IndependentLinearLayerWithIntercept(),\n",
       " 'train_batches_ID': <utils.BatchGenerator_ID at 0x1e662b61490>,\n",
       " 'val_batches_ID': <utils.BatchGenerator_ID at 0x1e662b60aa0>,\n",
       " 'val_batches_avg': <utils.BatchGenerator at 0x1e662b53800>,\n",
       " 'train_accs': [0.4724999964237213,\n",
       "  0.5149999856948853,\n",
       "  0.5450000166893005,\n",
       "  0.5299999713897705,\n",
       "  0.5224999785423279,\n",
       "  0.5,\n",
       "  0.5249999761581421,\n",
       "  0.5,\n",
       "  0.5174999833106995,\n",
       "  0.5225000381469727,\n",
       "  0.5224999785423279,\n",
       "  0.512499988079071,\n",
       "  0.5174999833106995,\n",
       "  0.5299999713897705,\n",
       "  0.5024999976158142,\n",
       "  0.5149999856948853,\n",
       "  0.5049999952316284,\n",
       "  0.5274999737739563,\n",
       "  0.5024999976158142,\n",
       "  0.5374999642372131,\n",
       "  0.5224999785423279,\n",
       "  0.5174999833106995,\n",
       "  0.5249999761581421,\n",
       "  0.5074999928474426,\n",
       "  0.5224999785423279,\n",
       "  0.5249999761581421,\n",
       "  0.4949999749660492,\n",
       "  0.5349999666213989,\n",
       "  0.5199999809265137,\n",
       "  0.512499988079071,\n",
       "  0.512499988079071,\n",
       "  0.5324999690055847,\n",
       "  0.5199999809265137,\n",
       "  0.5225000381469727,\n",
       "  0.5174999833106995,\n",
       "  0.4925000071525574,\n",
       "  0.4949999749660492,\n",
       "  0.4950000047683716,\n",
       "  0.5199999809265137,\n",
       "  0.5149999856948853,\n",
       "  0.5074999928474426,\n",
       "  0.5324999690055847,\n",
       "  0.4950000047683716,\n",
       "  0.5149999856948853,\n",
       "  0.512499988079071,\n",
       "  0.5074999928474426,\n",
       "  0.5074999928474426,\n",
       "  0.49000000953674316,\n",
       "  0.5049999952316284,\n",
       "  0.512499988079071],\n",
       " 'train_losses': [1.143934965133667,\n",
       "  1.1008493900299072,\n",
       "  1.055152177810669,\n",
       "  1.1094717979431152,\n",
       "  1.097113847732544,\n",
       "  1.1401464939117432,\n",
       "  1.0768436193466187,\n",
       "  1.112139344215393,\n",
       "  1.0648744106292725,\n",
       "  1.046783208847046,\n",
       "  1.0875580310821533,\n",
       "  1.0912810564041138,\n",
       "  1.08317232131958,\n",
       "  1.0510179996490479,\n",
       "  1.0830157995224,\n",
       "  1.06309175491333,\n",
       "  1.0618188381195068,\n",
       "  1.0593026876449585,\n",
       "  1.0608619451522827,\n",
       "  1.020733118057251,\n",
       "  1.0493983030319214,\n",
       "  1.0343434810638428,\n",
       "  1.0577725172042847,\n",
       "  1.0407509803771973,\n",
       "  1.0533705949783325,\n",
       "  1.0211548805236816,\n",
       "  1.0731689929962158,\n",
       "  1.0023422241210938,\n",
       "  1.0508352518081665,\n",
       "  1.0402475595474243,\n",
       "  1.0283576250076294,\n",
       "  1.0180583000183105,\n",
       "  1.022845983505249,\n",
       "  1.0324918031692505,\n",
       "  1.0225105285644531,\n",
       "  1.0433504581451416,\n",
       "  1.0365492105484009,\n",
       "  1.0365114212036133,\n",
       "  1.0340042114257812,\n",
       "  1.0284123420715332,\n",
       "  1.0300984382629395,\n",
       "  1.0204379558563232,\n",
       "  1.050813913345337,\n",
       "  1.0211775302886963,\n",
       "  1.0214648246765137,\n",
       "  1.0198184251785278,\n",
       "  1.026693344116211,\n",
       "  1.0372991561889648,\n",
       "  1.020088791847229,\n",
       "  1.0215084552764893],\n",
       " 'train_ll': [1.143934965133667,\n",
       "  1.1008493900299072,\n",
       "  1.055152177810669,\n",
       "  1.1094717979431152,\n",
       "  1.097113847732544,\n",
       "  1.1401464939117432,\n",
       "  1.0768436193466187,\n",
       "  1.112139344215393,\n",
       "  1.0648744106292725,\n",
       "  1.046783208847046,\n",
       "  1.0875580310821533,\n",
       "  1.0912810564041138,\n",
       "  1.08317232131958,\n",
       "  1.0510179996490479,\n",
       "  1.0830157995224,\n",
       "  1.06309175491333,\n",
       "  1.0618188381195068,\n",
       "  1.0593026876449585,\n",
       "  1.0608619451522827,\n",
       "  1.020733118057251,\n",
       "  1.0493983030319214,\n",
       "  1.0343434810638428,\n",
       "  1.0577725172042847,\n",
       "  1.0407509803771973,\n",
       "  1.0533705949783325,\n",
       "  1.0211548805236816,\n",
       "  1.0731689929962158,\n",
       "  1.0023422241210938,\n",
       "  1.0508352518081665,\n",
       "  1.0402475595474243,\n",
       "  1.0283576250076294,\n",
       "  1.0180583000183105,\n",
       "  1.022845983505249,\n",
       "  1.0324918031692505,\n",
       "  1.0225105285644531,\n",
       "  1.0433504581451416,\n",
       "  1.0365492105484009,\n",
       "  1.0365114212036133,\n",
       "  1.0340042114257812,\n",
       "  1.0284123420715332,\n",
       "  1.0300984382629395,\n",
       "  1.0204379558563232,\n",
       "  1.050813913345337,\n",
       "  1.0211775302886963,\n",
       "  1.0214648246765137,\n",
       "  1.0198184251785278,\n",
       "  1.026693344116211,\n",
       "  1.0372991561889648,\n",
       "  1.020088791847229,\n",
       "  1.0215084552764893],\n",
       " 'ics': Parameter containing:\n",
       " tensor([-0.1220, -0.1259, -0.1211, -0.1200, -0.1245, -0.1285, -0.1267, -0.1312,\n",
       "         -0.1263, -0.1282], requires_grad=True),\n",
       " 'Slopes': Parameter containing:\n",
       " tensor([0.8741, 0.8701, 0.8758, 0.8695, 0.8668, 0.8715, 0.8635, 0.8660, 0.8701,\n",
       "         0.8627], requires_grad=True)}"
      ]
     },
     "execution_count": 765,
     "metadata": {},
     "output_type": "execute_result"
    }
   ],
   "source": [
    "tr"
   ]
  },
  {
   "cell_type": "code",
   "execution_count": 763,
   "id": "ed5b7549-e78b-49db-ae5c-616b2e4782b4",
   "metadata": {},
   "outputs": [
    {
     "data": {
      "text/plain": [
       "{'model': IndependentLinearLayerWithIntercept(),\n",
       " 'train_batches_ID': <utils.BatchGenerator_ID at 0x1e662b61490>,\n",
       " 'val_batches_ID': <utils.BatchGenerator_ID at 0x1e662b60aa0>,\n",
       " 'val_batches_avg': <utils.BatchGenerator at 0x1e662b53800>,\n",
       " 'train_accs': [0.4724999964237213,\n",
       "  0.5149999856948853,\n",
       "  0.5450000166893005,\n",
       "  0.5299999713897705,\n",
       "  0.5224999785423279,\n",
       "  0.5,\n",
       "  0.5249999761581421,\n",
       "  0.5,\n",
       "  0.5174999833106995,\n",
       "  0.5225000381469727,\n",
       "  0.5224999785423279,\n",
       "  0.512499988079071,\n",
       "  0.5174999833106995,\n",
       "  0.5299999713897705,\n",
       "  0.5024999976158142,\n",
       "  0.5149999856948853,\n",
       "  0.5049999952316284,\n",
       "  0.5274999737739563,\n",
       "  0.5024999976158142,\n",
       "  0.5374999642372131,\n",
       "  0.5224999785423279,\n",
       "  0.5174999833106995,\n",
       "  0.5249999761581421,\n",
       "  0.5074999928474426,\n",
       "  0.5224999785423279,\n",
       "  0.5249999761581421,\n",
       "  0.4949999749660492,\n",
       "  0.5349999666213989,\n",
       "  0.5199999809265137,\n",
       "  0.512499988079071,\n",
       "  0.512499988079071,\n",
       "  0.5324999690055847,\n",
       "  0.5199999809265137,\n",
       "  0.5225000381469727,\n",
       "  0.5174999833106995,\n",
       "  0.4925000071525574,\n",
       "  0.4949999749660492,\n",
       "  0.4950000047683716,\n",
       "  0.5199999809265137,\n",
       "  0.5149999856948853,\n",
       "  0.5074999928474426,\n",
       "  0.5324999690055847,\n",
       "  0.4950000047683716,\n",
       "  0.5149999856948853,\n",
       "  0.512499988079071,\n",
       "  0.5074999928474426,\n",
       "  0.5074999928474426,\n",
       "  0.49000000953674316,\n",
       "  0.5049999952316284,\n",
       "  0.512499988079071],\n",
       " 'train_losses': [1.143934965133667,\n",
       "  1.1008493900299072,\n",
       "  1.055152177810669,\n",
       "  1.1094717979431152,\n",
       "  1.097113847732544,\n",
       "  1.1401464939117432,\n",
       "  1.0768436193466187,\n",
       "  1.112139344215393,\n",
       "  1.0648744106292725,\n",
       "  1.046783208847046,\n",
       "  1.0875580310821533,\n",
       "  1.0912810564041138,\n",
       "  1.08317232131958,\n",
       "  1.0510179996490479,\n",
       "  1.0830157995224,\n",
       "  1.06309175491333,\n",
       "  1.0618188381195068,\n",
       "  1.0593026876449585,\n",
       "  1.0608619451522827,\n",
       "  1.020733118057251,\n",
       "  1.0493983030319214,\n",
       "  1.0343434810638428,\n",
       "  1.0577725172042847,\n",
       "  1.0407509803771973,\n",
       "  1.0533705949783325,\n",
       "  1.0211548805236816,\n",
       "  1.0731689929962158,\n",
       "  1.0023422241210938,\n",
       "  1.0508352518081665,\n",
       "  1.0402475595474243,\n",
       "  1.0283576250076294,\n",
       "  1.0180583000183105,\n",
       "  1.022845983505249,\n",
       "  1.0324918031692505,\n",
       "  1.0225105285644531,\n",
       "  1.0433504581451416,\n",
       "  1.0365492105484009,\n",
       "  1.0365114212036133,\n",
       "  1.0340042114257812,\n",
       "  1.0284123420715332,\n",
       "  1.0300984382629395,\n",
       "  1.0204379558563232,\n",
       "  1.050813913345337,\n",
       "  1.0211775302886963,\n",
       "  1.0214648246765137,\n",
       "  1.0198184251785278,\n",
       "  1.026693344116211,\n",
       "  1.0372991561889648,\n",
       "  1.020088791847229,\n",
       "  1.0215084552764893],\n",
       " 'train_ll': [1.143934965133667,\n",
       "  1.1008493900299072,\n",
       "  1.055152177810669,\n",
       "  1.1094717979431152,\n",
       "  1.097113847732544,\n",
       "  1.1401464939117432,\n",
       "  1.0768436193466187,\n",
       "  1.112139344215393,\n",
       "  1.0648744106292725,\n",
       "  1.046783208847046,\n",
       "  1.0875580310821533,\n",
       "  1.0912810564041138,\n",
       "  1.08317232131958,\n",
       "  1.0510179996490479,\n",
       "  1.0830157995224,\n",
       "  1.06309175491333,\n",
       "  1.0618188381195068,\n",
       "  1.0593026876449585,\n",
       "  1.0608619451522827,\n",
       "  1.020733118057251,\n",
       "  1.0493983030319214,\n",
       "  1.0343434810638428,\n",
       "  1.0577725172042847,\n",
       "  1.0407509803771973,\n",
       "  1.0533705949783325,\n",
       "  1.0211548805236816,\n",
       "  1.0731689929962158,\n",
       "  1.0023422241210938,\n",
       "  1.0508352518081665,\n",
       "  1.0402475595474243,\n",
       "  1.0283576250076294,\n",
       "  1.0180583000183105,\n",
       "  1.022845983505249,\n",
       "  1.0324918031692505,\n",
       "  1.0225105285644531,\n",
       "  1.0433504581451416,\n",
       "  1.0365492105484009,\n",
       "  1.0365114212036133,\n",
       "  1.0340042114257812,\n",
       "  1.0284123420715332,\n",
       "  1.0300984382629395,\n",
       "  1.0204379558563232,\n",
       "  1.050813913345337,\n",
       "  1.0211775302886963,\n",
       "  1.0214648246765137,\n",
       "  1.0198184251785278,\n",
       "  1.026693344116211,\n",
       "  1.0372991561889648,\n",
       "  1.020088791847229,\n",
       "  1.0215084552764893],\n",
       " 'ics': Parameter containing:\n",
       " tensor([-0.1220, -0.1259, -0.1211, -0.1200, -0.1245, -0.1285, -0.1267, -0.1312,\n",
       "         -0.1263, -0.1282], requires_grad=True),\n",
       " 'Slopes': Parameter containing:\n",
       " tensor([0.8741, 0.8701, 0.8758, 0.8695, 0.8668, 0.8715, 0.8635, 0.8660, 0.8701,\n",
       "         0.8627], requires_grad=True)}"
      ]
     },
     "execution_count": 763,
     "metadata": {},
     "output_type": "execute_result"
    }
   ],
   "source": [
    "train_ID"
   ]
  },
  {
   "cell_type": "code",
   "execution_count": 42,
   "id": "81a48d28-84f3-4be5-bbab-5c172eb84b97",
   "metadata": {
    "scrolled": true
   },
   "outputs": [],
   "source": [
    "df_eval = pd.DataFrame(\n",
    "    np.column_stack((np.arange(0, len(l_train_triplets_ID)), l_val_ID, l_val_avg)), \n",
    "    columns = [\"id\", \"avg_loss_ID\", \"avg_acc_ID\", \"avg_loss_avg\", \"avg_acc_avg\"]\n",
    ")"
   ]
  },
  {
   "cell_type": "code",
   "execution_count": 43,
   "id": "04dc476a-3133-45b4-a8fa-543cd2950f54",
   "metadata": {},
   "outputs": [],
   "source": [
    "df_eval_long = pd.melt(df_eval, id_vars = \"id\", var_name=\"variable\", value_name=\"value\")\n",
    "df_swarm = df_eval_long.query(\"variable in ['avg_acc_avg', 'avg_acc_ID']\").copy()\n",
    "df_swarm.loc[df_swarm['variable'] == 'avg_acc_avg', 'x_position'] = 0.0\n",
    "df_swarm.loc[df_swarm['variable'] == 'avg_acc_ID', 'x_position'] = 0.5"
   ]
  },
  {
   "cell_type": "code",
   "execution_count": 45,
   "id": "a435d543-7c11-47d0-bbd7-3aba902eff2b",
   "metadata": {},
   "outputs": [],
   "source": [
    "l_train_acc = []\n",
    "l_params = []\n",
    "for id, tr in enumerate(l_train_ID):\n",
    "    tmp = np.column_stack((np.repeat(id, len(tr[\"train_accs\"])), np.arange(0, len(tr[\"train_accs\"])), tr[\"train_accs\"]))\n",
    "    l_train_acc.append(tmp)\n",
    "    tmp = np.column_stack((np.repeat(id, embed_dim), np.arange(0, embed_dim), tr[\"ics\"].detach().numpy(), tr[\"Slopes\"].detach().numpy()))\n",
    "    l_params.append(tmp)\n",
    "m_train_acc = np.concatenate(l_train_acc, axis = 0)\n",
    "df_train_acc = pd.DataFrame(m_train_acc, columns = [\"id\", \"epoch\", \"train_acc\"])\n",
    "m_params = np.concatenate(l_params, axis = 0)\n",
    "df_params = pd.DataFrame(m_params, columns = [\"id\", \"dim\", \"intercept\", \"slope\"])"
   ]
  },
  {
   "cell_type": "code",
   "execution_count": 46,
   "id": "ee4d0b7e-19b1-4df9-9ed4-ce44a56475e6",
   "metadata": {},
   "outputs": [],
   "source": [
    "df_train_acc[\"epoch_bin\"] = pd.cut(df_train_acc[\"epoch\"], bins = 20, labels=False, )\n",
    "df_train_acc_agg = df_train_acc.groupby([\"id\", 'epoch_bin'], observed=False).agg({\"train_acc\": ['mean']}).reset_index()\n",
    "df_train_acc_agg.columns = ['_'.join(col).strip() for col in df_train_acc_agg.columns.values]\n",
    "df_train_acc_agg.columns = [\"id\", \"epoch_bin\", \"train_acc_mean\"]\n",
    "df_train_acc_agg = df_train_acc_agg.groupby(\"epoch_bin\", observed=False)[\"train_acc_mean\"].agg([\"mean\", \"std\"]).reset_index()\n",
    "df_train_acc_agg[\"ci_95\"] = df_train_acc_agg[\"std\"]/np.sqrt(len(l_train_triplets_ID))"
   ]
  },
  {
   "cell_type": "code",
   "execution_count": 47,
   "id": "6577f89b-e8f5-455e-a595-cac7c8574baa",
   "metadata": {},
   "outputs": [
    {
     "data": {
      "image/png": "[encoded data removed]",
      "text/plain": [
       "<Figure size 1200x600 with 1 Axes>"
      ]
     },
     "metadata": {},
     "output_type": "display_data"
    }
   ],
   "source": [
    "# Plot the line without crossing the points \n",
    "fig = plt.figure(figsize=(8, 4), dpi=150)\n",
    "ax = plt.subplot(111)\n",
    "ax.plot(\n",
    "    df_train_acc_agg[\"epoch_bin\"] + 1, df_train_acc_agg[\"mean\"], \n",
    "    linestyle='-', color='blue', alpha=0.5\n",
    ") \n",
    "ax.errorbar(\n",
    "    df_train_acc_agg[\"epoch_bin\"] + 1, df_train_acc_agg[\"mean\"], yerr=df_train_acc_agg[\"ci_95\"],\n",
    "    fmt=\"o\", ecolor=\"red\", capsize=7, capthick=1.5, markersize=6, markeredgewidth=2, markeredgecolor='white', \n",
    ")\n",
    "ax.set_xticks(ticks=range(0, 21, 2))\n",
    "ax.set_yticks(ticks=np.arange(0, 1.1, .1))\n",
    "ax.axhline(y=0.33, color='grey', linestyle='--', linewidth=1, label='Chance Performance')\n",
    "ax.set_ylim(.25, .65)\n",
    "# Add labels and title\n",
    "ax.set_xlabel('Epoch (Bins)') \n",
    "ax.set_ylabel('Training Accuracy') \n",
    "ax.set_title('Training Accuracies with 95% CI') \n",
    "ax.legend()\n",
    "# Add gridlines\n",
    "ax.grid(True)\n",
    "plt.show()"
   ]
  },
  {
   "cell_type": "code",
   "execution_count": 48,
   "id": "754cc14a-bbfc-41df-b347-f41350dfa14d",
   "metadata": {},
   "outputs": [],
   "source": [
    "means = df_swarm.groupby('variable')['value'].mean()\n",
    "stds = df_swarm.groupby('variable')['value'].std()\n",
    "stds = stds /np.sqrt(len(l_train_triplets_ID))"
   ]
  },
  {
   "cell_type": "code",
   "execution_count": 52,
   "id": "d11e7a92-3029-4d52-9324-416014035ee9",
   "metadata": {},
   "outputs": [
    {
     "data": {
      "image/png": "[encoded data removed]",
      "text/plain": [
       "<Figure size 675x675 with 1 Axes>"
      ]
     },
     "metadata": {},
     "output_type": "display_data"
    }
   ],
   "source": [
    "# Plot the line without crossing the points \n",
    "fig = plt.figure(figsize=(4.5, 4.5), dpi=150)\n",
    "ax = plt.subplot(111)\n",
    "ax = sns.swarmplot(x='variable', y='value', data=df_swarm, alpha=.25, hue=\"variable\", dodge=False)\n",
    "# Get the current colors from the swarm plot \n",
    "palette = {entry: color for entry, color in zip(df_swarm['variable'].unique(), sns.color_palette())} \n",
    "# Add mean and standard deviation as error bars\n",
    "for category in df_swarm['variable'].unique():\n",
    "    mean = means[category]\n",
    "    std = stds[category]\n",
    "    ax.errorbar(\n",
    "        category, mean, yerr=std, fmt='o', color=palette[category], capsize=5, \n",
    "        capthick=2, label=f'Mean ± 95% CI' if category == df_swarm['variable'].unique()[0] else \"\"\n",
    "    )\n",
    "ax.axhline(y=0.33, color='grey', linestyle='--', linewidth=1, label='Chance Performance')\n",
    "ax.set_ylim(.3, .7)\n",
    "# Set the new x-ticks and labels\n",
    "ax.set_xticks(ticks=[0, 1], labels=['Individual Differences', 'Average'])\n",
    "ax.set_xlabel('Model')\n",
    "ax.set_ylabel('Test Accuracy') \n",
    "ax.set_title('Test Accuracy of the Two Models')\n",
    "ax.legend(loc=10)\n",
    "plt.show()"
   ]
  },
  {
   "cell_type": "code",
   "execution_count": 55,
   "id": "c6a8c6cf-5cbe-44e4-9680-6767ecd1ec93",
   "metadata": {},
   "outputs": [],
   "source": [
    "from scipy.stats import pearsonr"
   ]
  },
  {
   "cell_type": "code",
   "execution_count": 56,
   "id": "00e9d6ba-626f-4842-ab38-7ec374adbae5",
   "metadata": {},
   "outputs": [
    {
     "data": {
      "image/png": "[encoded data removed]",
      "text/plain": [
       "<Figure size 600x600 with 1 Axes>"
      ]
     },
     "metadata": {},
     "output_type": "display_data"
    }
   ],
   "source": [
    "# Plot the line without crossing the points \n",
    "fig = plt.figure(figsize=(6, 6), dpi=100)\n",
    "ax = plt.subplot(111)\n",
    "# Calculate correlation\n",
    "corr, _ = pearsonr(df_params['intercept'], df_params['slope']) \n",
    "ax = sns.scatterplot(df_params, x = \"intercept\", y = \"slope\")\n",
    "ax.annotate(\n",
    "    f'Correlation: {corr:.2f}', xy=(0.65, 0.5), xycoords='axes fraction', \n",
    "    fontsize=12, color='tomato',\n",
    "    bbox=dict(boxstyle=\"round,pad=0.3\", edgecolor='black', facecolor='white') \n",
    ") \n",
    "# Add labels and title \n",
    "ax.set_xlabel('Intercept') \n",
    "ax.set_ylabel('Slope') \n",
    "ax.set_title('Plot Intercepts against Slopes')\n",
    "ax.grid(True)\n",
    "# Display the plot \n",
    "plt.show()"
   ]
  },
  {
   "cell_type": "code",
   "execution_count": 725,
   "id": "fe83af78-9047-431c-897e-f13d4b20f4ed",
   "metadata": {},
   "outputs": [],
   "source": [
    "import pickle"
   ]
  },
  {
   "cell_type": "code",
   "execution_count": 726,
   "id": "adaef2a9-8716-48b7-84b9-55aff04ba77d",
   "metadata": {},
   "outputs": [],
   "source": [
    "# Load from a file \n",
    "with open(\"results/ID/2d/0.008/seed01/results-ID.pkl\", 'rb') as f: \n",
    "    loaded_data = pickle.load(f)"
   ]
  },
  {
   "cell_type": "code",
   "execution_count": null,
   "id": "acb294fc-320d-4c78-86bf-af53de333acd",
   "metadata": {},
   "outputs": [],
   "source": []
  }
 ],
 "metadata": {
  "kernelspec": {
   "display_name": "Python 3 (ipykernel)",
   "language": "python",
   "name": "python3"
  },
  "language_info": {
   "codemirror_mode": {
    "name": "ipython",
    "version": 3
   },
   "file_extension": ".py",
   "mimetype": "text/x-python",
   "name": "python",
   "nbconvert_exporter": "python",
   "pygments_lexer": "ipython3",
   "version": "3.12.8"
  }
 },
 "nbformat": 4,
 "nbformat_minor": 5
}
