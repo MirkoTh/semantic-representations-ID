{
 "cells": [
  {
   "cell_type": "code",
   "execution_count": 44,
   "id": "db4ab8e6-c8f1-4124-bfc1-1dddd5392c30",
   "metadata": {},
   "outputs": [],
   "source": [
    "import gensim"
   ]
  },
  {
   "cell_type": "code",
   "execution_count": 1,
   "id": "9d611ab5-bf87-4e35-865b-57eef2620d72",
   "metadata": {},
   "outputs": [],
   "source": [
    "import argparse\n",
    "import json\n",
    "import logging\n",
    "import os\n",
    "import random\n",
    "import re\n",
    "from turtle import distance\n",
    "import torch\n",
    "import warnings\n",
    "import pandas as pd\n",
    "from adjustText import adjust_text\n",
    "from typing import Tuple, Iterator, List, Dict\n",
    "from tqdm.notebook import tqdm\n",
    "import seaborn as sns\n",
    "\n",
    "\n",
    "import matplotlib.pyplot as plt\n",
    "import numpy as np\n",
    "import torch.nn as nn\n",
    "import torch.nn.functional as F\n",
    "from torch.utils.data import Dataset, DataLoader, SequentialSampler\n",
    "from sklearn.manifold import TSNE\n",
    "\n",
    "\n",
    "from os.path import join as pjoin\n",
    "from collections import defaultdict\n",
    "from scipy.stats import linregress\n",
    "from torch.optim import Adam, AdamW\n",
    "\n",
    "os.environ['PYTHONIOENCODING']='UTF-8'\n",
    "os.environ['CUDA_LAUNCH_BLOCKING']=str(1)"
   ]
  },
  {
   "cell_type": "code",
   "execution_count": 2,
   "id": "c1d0eca0-b437-49c1-b5c9-26bda0094d33",
   "metadata": {},
   "outputs": [],
   "source": [
    "# Enable automatic reloading of modules before executing code\n",
    "%load_ext autoreload\n",
    "%autoreload 2\n",
    "\n",
    "\n",
    "# Now you can use wildcard import\n",
    "import plotting as pl\n",
    "from models import model as md\n",
    "import utils as ut"
   ]
  },
  {
   "cell_type": "markdown",
   "id": "a169657a-5126-4362-968d-42c51d52a90f",
   "metadata": {},
   "source": [
    "\n",
    "# Import specific module with %aimport\n",
    "%aimport plotting\n",
    "%aimport models.model\n",
    "%aimport utils"
   ]
  },
  {
   "cell_type": "code",
   "execution_count": 3,
   "id": "9e0d9b08-91df-403e-bde2-544820650a9b",
   "metadata": {},
   "outputs": [],
   "source": [
    "task = \"odd_one_out\"\n",
    "modality = \"behavioral\"\n",
    "triplets_dir = \"./data/\"\n",
    "lr = learning_rate = 0.001\n",
    "lmbda = 0.008\n",
    "temperature = 1\n",
    "embed_dim = 10\n",
    "num_threads = 6\n",
    "device = \"cpu\"\n",
    "batch_size = 100\n",
    "sampling_method = \"normal\"\n",
    "rnd_seed = 42\n",
    "p = None\n",
    "results_dir = './results/'\n",
    "plots_dir = './plots/'\n",
    "epochs = 10\n",
    "distance_metric = \"dot\""
   ]
  },
  {
   "cell_type": "code",
   "execution_count": 4,
   "id": "0f6aaa67-e6f3-4e19-8e78-a4a9cae6db89",
   "metadata": {},
   "outputs": [],
   "source": [
    "def parseargs():\n",
    "    parser = argparse.ArgumentParser()\n",
    "    def aa(*args, **kwargs):\n",
    "        parser.add_argument(*args, **kwargs)\n",
    "    aa('--task', type=str, default='odd_one_out',\n",
    "        choices=['odd_one_out', 'similarity_task'])\n",
    "    aa('--modality', type=str, default='behavioral/',\n",
    "        #choices=['behavioral/', 'text/', 'visual/', 'neural/'],\n",
    "        help='define for which modality SPoSE should be perform specified task')\n",
    "    aa('--triplets_dir', type=str,\n",
    "        help='directory from where to load triplets')\n",
    "    aa('--results_dir', type=str, default='./results/',\n",
    "        help='optional specification of results directory (if not provided will resort to ./results/modality/lambda/rnd_seed/)')\n",
    "    aa('--plots_dir', type=str, default='./plots/',\n",
    "        help='optional specification of directory for plots (if not provided will resort to ./plots/modality/lambda/rnd_seed/)')\n",
    "    aa('--learning_rate', type=float, default=0.001,\n",
    "        help='learning rate to be used in optimizer')\n",
    "    aa('--lmbda', type=float,\n",
    "        help='lambda value determines weight of l1-regularization')\n",
    "    aa('--temperature', type=float, default=1.,\n",
    "        help='softmax temperature (beta param) for choice randomness')\n",
    "    aa('--embed_dim', metavar='D', type=int, default=90,\n",
    "        help='dimensionality of the embedding matrix')\n",
    "    aa('--batch_size', metavar='B', type=int, default=100,\n",
    "        choices=[16, 25, 32, 50, 64, 100, 128, 150, 200, 256],\n",
    "        help='number of triplets in each mini-batch')\n",
    "    aa('--epochs', metavar='T', type=int, default=500,\n",
    "        help='maximum number of epochs to optimize SPoSE model for')\n",
    "    aa('--window_size', type=int, default=50,\n",
    "        help='window size to be used for checking convergence criterion with linear regression')\n",
    "    aa('--steps', type=int, default=10,\n",
    "        help='save model parameters and create checkpoints every <steps> epochs')\n",
    "    aa('--sampling_method', type=str, default='normal',\n",
    "        choices=['normal', 'soft'],\n",
    "        help='whether random sampling of the entire training set or soft sampling of some fraction of the training set will be performed during each epoch')\n",
    "    aa('--p', type=float, default=None,\n",
    "        choices=[None, 0.5, 0.6, 0.7, 0.8, 0.9],\n",
    "        help='this argument is only necessary for soft sampling. specifies the fraction of *train* to be sampled during an epoch')\n",
    "    aa('--resume', action='store_true',\n",
    "        help='whether to resume training at last checkpoint; if not set training will restart')\n",
    "    aa('--device', type=str, default='cpu',\n",
    "        choices=['cpu', 'cuda', 'cuda:0', 'cuda:1', 'cuda:2', 'cuda:3', 'cuda:4', 'cuda:5', 'cuda:6', 'cuda:7'])\n",
    "    aa('--rnd_seed', type=int, default=42,\n",
    "        help='random seed for reproducibility')\n",
    "    aa('--distance_metric', type=str, default='dot', choices=['dot', 'euclidean'], help='distance metric')\n",
    "    aa('--early_stopping', action='store_true', help='train until convergence')\n",
    "    aa('--num_threads', type=int, default=20, help='number of threads used by PyTorch multiprocessing')\n",
    "    args = parser.parse_args()\n",
    "    return args\n",
    "\n",
    "def setup_logging(file:str, dir:str='./log_files/'):\n",
    "    if not os.path.exists(dir):\n",
    "        os.makedirs(dir)\n",
    "    #create logger at root level (no need to provide specific name, as our logger won't have children)\n",
    "    logger = logging.getLogger()\n",
    "    logging.basicConfig(filename=os.path.join(dir, file), filemode='w', level=logging.DEBUG)\n",
    "    #add console handler to logger\n",
    "    if len(logger.handlers) < 1:\n",
    "        #create console handler and set level to debug (lowest severity level)\n",
    "        handler = logging.StreamHandler()\n",
    "        #this specifies the lowest-severity log message the logger will handle\n",
    "        handler.setLevel(logging.DEBUG)\n",
    "        #create formatter to configure order, structure, and content of log messages\n",
    "        formatter = logging.Formatter(fmt=\"%(asctime)s - [%(levelname)s] - %(message)s\", datefmt='%d/%m/%Y %I:%M:%S %p')\n",
    "        #add formatter to handler\n",
    "        handler.setFormatter(formatter)\n",
    "        logger.addHandler(handler)\n",
    "    return logger"
   ]
  },
  {
   "cell_type": "code",
   "execution_count": 5,
   "id": "51c5c058-142e-42f8-96e5-13f15904dd6d",
   "metadata": {},
   "outputs": [
    {
     "name": "stdout",
     "output_type": "stream",
     "text": [
      "\n",
      "...Could not find any .npy files for current modality.\n",
      "...Now searching for .txt files.\n",
      "\n"
     ]
    }
   ],
   "source": [
    "logger = setup_logging(file='average-reps-only.log', dir=f'./log_files/lmbda_{lmbda}/')\n",
    "logger.setLevel(logging.INFO)\n",
    "#load triplets into memory\n",
    "train_triplets, test_triplets = ut.load_data_ID(device=device, triplets_dir=triplets_dir)\n",
    "n_items = ut.get_nitems(train_triplets)"
   ]
  },
  {
   "cell_type": "code",
   "execution_count": 6,
   "id": "308dc195-ec37-4894-9946-5f0b0559f8a4",
   "metadata": {},
   "outputs": [],
   "source": [
    "#load train and test mini-batches\n",
    "train_batches, val_batches = ut.load_batches(\n",
    "    train_triplets=train_triplets,\n",
    "    test_triplets=test_triplets,\n",
    "    n_items=n_items,\n",
    "    batch_size=batch_size,\n",
    "    sampling_method=sampling_method,\n",
    "    rnd_seed=rnd_seed,\n",
    "    p=p,\n",
    "    method=\"average\"\n",
    ")"
   ]
  },
  {
   "cell_type": "code",
   "execution_count": 7,
   "id": "b52deac4-38e4-4883-b2f4-f5788b918925",
   "metadata": {},
   "outputs": [],
   "source": [
    "for i, batch in enumerate(val_batches):\n",
    "    b = batch.to(device)"
   ]
  },
  {
   "cell_type": "code",
   "execution_count": 8,
   "id": "7b4ba94d-55af-4c7b-ae49-ae589db77f55",
   "metadata": {},
   "outputs": [],
   "source": [
    "temperature = torch.tensor(temperature).to(device)\n",
    "model = md.SPoSE(in_size=n_items, out_size=embed_dim, init_weights=True)\n",
    "model.to(device)\n",
    "optim = Adam(model.parameters(), lr=lr)"
   ]
  },
  {
   "cell_type": "raw",
   "id": "07b5a89a-3a35-4826-81f0-bad522c9ad2e",
   "metadata": {},
   "source": [
    "creating paths"
   ]
  },
  {
   "cell_type": "code",
   "execution_count": 9,
   "id": "a0976e37-5d30-409f-bf3f-1e7a6a927290",
   "metadata": {},
   "outputs": [
    {
     "name": "stdout",
     "output_type": "stream",
     "text": [
      "...Creating PATHs\n",
      "\n"
     ]
    }
   ],
   "source": [
    "print(f'...Creating PATHs')\n",
    "print()\n",
    "if results_dir == './results/':\n",
    "    results_dir = os.path.join(results_dir, modality, f'{embed_dim}d', str(lmbda), f'seed{rnd_seed:02d}')\n",
    "if not os.path.exists(results_dir):\n",
    "    os.makedirs(results_dir)\n",
    "\n",
    "if plots_dir == './plots/':\n",
    "    plots_dir = os.path.join(plots_dir, modality, f'{embed_dim}d', str(lmbda), f'seed{rnd_seed}')\n",
    "if not os.path.exists(plots_dir):\n",
    "    os.makedirs(plots_dir)\n",
    "\n",
    "model_dir = os.path.join(results_dir, 'model')"
   ]
  },
  {
   "cell_type": "code",
   "execution_count": 11,
   "id": "72103792-10aa-4132-be04-c0c81551318e",
   "metadata": {},
   "outputs": [],
   "source": [
    "epochs = 2"
   ]
  },
  {
   "cell_type": "code",
   "execution_count": 12,
   "id": "8d4d3e3f-1085-45b3-ab21-357b9eaba0c7",
   "metadata": {},
   "outputs": [
    {
     "name": "stdout",
     "output_type": "stream",
     "text": [
      "Optimization started for lambda: 0.008\n",
      "\n"
     ]
    },
    {
     "data": {
      "application/vnd.jupyter.widget-view+json": {
       "model_id": "35e794c8f87844c0b537b9fcd74aae6c",
       "version_major": 2,
       "version_minor": 0
      },
      "text/plain": [
       "  0%|          | 0/2 [00:00<?, ?it/s]"
      ]
     },
     "metadata": {},
     "output_type": "display_data"
    }
   ],
   "source": [
    "if not os.path.exists(model_dir):\n",
    "    os.makedirs(model_dir)\n",
    "start = 0\n",
    "train_accs, val_accs = [], []\n",
    "train_losses, val_losses = [], []\n",
    "loglikelihoods, complexity_losses = [], []\n",
    "nneg_d_over_time = []\n",
    "\n",
    "iter = 0\n",
    "results = {}\n",
    "logger.info(f'Optimization started for lambda: {lmbda}\\n')\n",
    "\n",
    "print(f'Optimization started for lambda: {lmbda}\\n')\n",
    "for epoch in tqdm(range(start, epochs)):\n",
    "    model.train()\n",
    "    batch_llikelihoods = torch.zeros(len(train_batches))\n",
    "    batch_closses = torch.zeros(len(train_batches))\n",
    "    batch_losses_train = torch.zeros(len(train_batches))\n",
    "    batch_accs_train = torch.zeros(len(train_batches))\n",
    "    for i, batch in enumerate(train_batches):\n",
    "        optim.zero_grad() #zero out gradients\n",
    "        batch = batch.to(device)\n",
    "        logits = model(batch)\n",
    "        anchor, positive, negative = torch.unbind(torch.reshape(logits, (-1, 3, embed_dim)), dim=1)\n",
    "        c_entropy = ut.trinomial_loss(anchor, positive, negative, task, temperature, distance_metric)\n",
    "        l1_pen = md.l1_regularization(model, \"fc.weight\").to(device) #L1-norm to enforce sparsity (many 0s)\n",
    "        W = model.fc.weight\n",
    "        pos_pen = torch.sum(F.relu(-W)) #positivity constraint to enforce non-negative values in embedding matrix\n",
    "        complexity_loss = (lmbda/n_items) * l1_pen\n",
    "        loss = c_entropy + 0.01 * pos_pen + complexity_loss\n",
    "        loss.backward()\n",
    "        optim.step()\n",
    "        batch_losses_train[i] += loss.item()\n",
    "        batch_llikelihoods[i] += c_entropy.item()\n",
    "        batch_closses[i] += complexity_loss.item()\n",
    "        batch_accs_train[i] += ut.choice_accuracy(anchor, positive, negative, task, distance_metric)\n",
    "        iter += 1\n",
    "\n",
    "    avg_llikelihood = torch.mean(batch_llikelihoods).item()\n",
    "    avg_closs = torch.mean(batch_closses).item()\n",
    "    avg_train_loss = torch.mean(batch_losses_train).item()\n",
    "    avg_train_acc = torch.mean(batch_accs_train).item()\n",
    "\n",
    "    loglikelihoods.append(avg_llikelihood)\n",
    "    complexity_losses.append(avg_closs)\n",
    "    train_losses.append(avg_train_loss)\n",
    "    train_accs.append(avg_train_acc)"
   ]
  },
  {
   "cell_type": "code",
   "execution_count": 13,
   "id": "75077274-9689-4c72-8dd1-ece8a5ba2c4a",
   "metadata": {},
   "outputs": [
    {
     "data": {
      "text/plain": [
       "<Axes: xlabel='Count', ylabel='value'>"
      ]
     },
     "execution_count": 13,
     "metadata": {},
     "output_type": "execute_result"
    },
    {
     "data": {
      "image/png": "[encoded data removed]",
      "text/plain": [
       "<Figure size 640x480 with 1 Axes>"
      ]
     },
     "metadata": {},
     "output_type": "display_data"
    }
   ],
   "source": [
    "tmp = pd.DataFrame(W.detach().numpy().transpose())\n",
    "sns.histplot(pd.melt(tmp), y = \"value\", hue = \"variable\")"
   ]
  },
  {
   "cell_type": "code",
   "execution_count": 14,
   "id": "004f97ad-d75d-47ea-a8a0-175ad5c93e7b",
   "metadata": {
    "scrolled": true
   },
   "outputs": [
    {
     "data": {
      "text/plain": [
       "[0.4380086064338684, 0.4469265639781952]"
      ]
     },
     "execution_count": 14,
     "metadata": {},
     "output_type": "execute_result"
    }
   ],
   "source": [
    "train_accs"
   ]
  },
  {
   "cell_type": "code",
   "execution_count": 15,
   "id": "0a9a9188-66e5-4036-ab0a-63aa8ddd5af6",
   "metadata": {},
   "outputs": [],
   "source": [
    "array_avg_reps = W.detach().numpy().transpose()\n",
    "tensor_avg_reps = torch.Tensor(array_avg_reps)\n",
    "tbl_labels = pd.read_csv(\"data/unique_id.txt\", header=None)\n",
    "tbl_labels.columns = [\"label\"]\n",
    "tbl_avg_reps = pd.DataFrame(array_avg_reps)\n",
    "tbl_avg_reps[\"labels\"] = tbl_labels"
   ]
  },
  {
   "cell_type": "code",
   "execution_count": 16,
   "id": "ba3690b2-2aa2-46c2-b963-b00badf11d91",
   "metadata": {},
   "outputs": [
    {
     "name": "stderr",
     "output_type": "stream",
     "text": [
      "C:\\Users\\MirkoThalmann\\miniconda3\\envs\\representationsID\\Lib\\site-packages\\joblib\\externals\\loky\\backend\\context.py:136: UserWarning: Could not find the number of physical cores for the following reason:\n",
      "[WinError 2] Das System kann die angegebene Datei nicht finden\n",
      "Returning the number of logical cores instead. You can silence this warning by setting LOKY_MAX_CPU_COUNT to the number of cores you want to use.\n",
      "  warnings.warn(\n",
      "  File \"C:\\Users\\MirkoThalmann\\miniconda3\\envs\\representationsID\\Lib\\site-packages\\joblib\\externals\\loky\\backend\\context.py\", line 257, in _count_physical_cores\n",
      "    cpu_info = subprocess.run(\n",
      "               ^^^^^^^^^^^^^^^\n",
      "  File \"C:\\Users\\MirkoThalmann\\miniconda3\\envs\\representationsID\\Lib\\subprocess.py\", line 548, in run\n",
      "    with Popen(*popenargs, **kwargs) as process:\n",
      "         ^^^^^^^^^^^^^^^^^^^^^^^^^^^\n",
      "  File \"C:\\Users\\MirkoThalmann\\miniconda3\\envs\\representationsID\\Lib\\subprocess.py\", line 1026, in __init__\n",
      "    self._execute_child(args, executable, preexec_fn, close_fds,\n",
      "  File \"C:\\Users\\MirkoThalmann\\miniconda3\\envs\\representationsID\\Lib\\subprocess.py\", line 1538, in _execute_child\n",
      "    hp, ht, pid, tid = _winapi.CreateProcess(executable, args,\n",
      "                       ^^^^^^^^^^^^^^^^^^^^^^^^^^^^^^^^^^^^^^^\n"
     ]
    }
   ],
   "source": [
    "# Initialize t-SNE\n",
    "tsne_model = TSNE(n_components=2, random_state=42)\n",
    "\n",
    "# Fit and transform the DataFrame\n",
    "tsne_result = tsne_model.fit_transform(tbl_avg_reps.drop(columns = \"labels\"))\n",
    "\n",
    "# Convert the result to a DataFrame\n",
    "df_tsne = pd.DataFrame(tsne_result, columns=['TSNE1', 'TSNE2'])"
   ]
  },
  {
   "cell_type": "code",
   "execution_count": 17,
   "id": "51cb8202-2b4f-41c6-8d68-e5964751197d",
   "metadata": {},
   "outputs": [],
   "source": [
    "df_tsne[\"label\"] = tbl_labels[\"label\"]"
   ]
  },
  {
   "cell_type": "markdown",
   "id": "d9e8f148-59eb-47ad-9a2f-c42fc543d175",
   "metadata": {},
   "source": [
    "## Inspect Semantics of Dimensions\n",
    "### By Sorting According to Dimensions"
   ]
  },
  {
   "cell_type": "code",
   "execution_count": 18,
   "id": "f278a3e7-5dcb-457f-9abd-b79d99e65f93",
   "metadata": {},
   "outputs": [
    {
     "data": {
      "text/html": [
       "<div>\n",
       "<style scoped>\n",
       "    .dataframe tbody tr th:only-of-type {\n",
       "        vertical-align: middle;\n",
       "    }\n",
       "\n",
       "    .dataframe tbody tr th {\n",
       "        vertical-align: top;\n",
       "    }\n",
       "\n",
       "    .dataframe thead th {\n",
       "        text-align: right;\n",
       "    }\n",
       "</style>\n",
       "<table border=\"1\" class=\"dataframe\">\n",
       "  <thead>\n",
       "    <tr style=\"text-align: right;\">\n",
       "      <th></th>\n",
       "      <th>0</th>\n",
       "      <th>1</th>\n",
       "      <th>2</th>\n",
       "      <th>3</th>\n",
       "      <th>4</th>\n",
       "      <th>5</th>\n",
       "      <th>6</th>\n",
       "      <th>7</th>\n",
       "      <th>8</th>\n",
       "      <th>9</th>\n",
       "    </tr>\n",
       "  </thead>\n",
       "  <tbody>\n",
       "    <tr>\n",
       "      <th>0</th>\n",
       "      <td>1.000000</td>\n",
       "      <td>0.985277</td>\n",
       "      <td>0.985796</td>\n",
       "      <td>0.988933</td>\n",
       "      <td>0.976221</td>\n",
       "      <td>0.990280</td>\n",
       "      <td>0.980424</td>\n",
       "      <td>0.984845</td>\n",
       "      <td>0.990804</td>\n",
       "      <td>0.987640</td>\n",
       "    </tr>\n",
       "    <tr>\n",
       "      <th>1</th>\n",
       "      <td>0.985277</td>\n",
       "      <td>1.000000</td>\n",
       "      <td>0.994047</td>\n",
       "      <td>0.991774</td>\n",
       "      <td>0.991070</td>\n",
       "      <td>0.986985</td>\n",
       "      <td>0.993800</td>\n",
       "      <td>0.994351</td>\n",
       "      <td>0.992154</td>\n",
       "      <td>0.993184</td>\n",
       "    </tr>\n",
       "    <tr>\n",
       "      <th>2</th>\n",
       "      <td>0.985796</td>\n",
       "      <td>0.994047</td>\n",
       "      <td>1.000000</td>\n",
       "      <td>0.990470</td>\n",
       "      <td>0.992051</td>\n",
       "      <td>0.984933</td>\n",
       "      <td>0.992765</td>\n",
       "      <td>0.993824</td>\n",
       "      <td>0.993642</td>\n",
       "      <td>0.994476</td>\n",
       "    </tr>\n",
       "    <tr>\n",
       "      <th>3</th>\n",
       "      <td>0.988933</td>\n",
       "      <td>0.991774</td>\n",
       "      <td>0.990470</td>\n",
       "      <td>1.000000</td>\n",
       "      <td>0.984613</td>\n",
       "      <td>0.993171</td>\n",
       "      <td>0.990557</td>\n",
       "      <td>0.991687</td>\n",
       "      <td>0.991396</td>\n",
       "      <td>0.988962</td>\n",
       "    </tr>\n",
       "    <tr>\n",
       "      <th>4</th>\n",
       "      <td>0.976221</td>\n",
       "      <td>0.991070</td>\n",
       "      <td>0.992051</td>\n",
       "      <td>0.984613</td>\n",
       "      <td>1.000000</td>\n",
       "      <td>0.975259</td>\n",
       "      <td>0.991875</td>\n",
       "      <td>0.991835</td>\n",
       "      <td>0.988279</td>\n",
       "      <td>0.991252</td>\n",
       "    </tr>\n",
       "    <tr>\n",
       "      <th>5</th>\n",
       "      <td>0.990280</td>\n",
       "      <td>0.986985</td>\n",
       "      <td>0.984933</td>\n",
       "      <td>0.993171</td>\n",
       "      <td>0.975259</td>\n",
       "      <td>1.000000</td>\n",
       "      <td>0.984970</td>\n",
       "      <td>0.987230</td>\n",
       "      <td>0.988341</td>\n",
       "      <td>0.984034</td>\n",
       "    </tr>\n",
       "    <tr>\n",
       "      <th>6</th>\n",
       "      <td>0.980424</td>\n",
       "      <td>0.993800</td>\n",
       "      <td>0.992765</td>\n",
       "      <td>0.990557</td>\n",
       "      <td>0.991875</td>\n",
       "      <td>0.984970</td>\n",
       "      <td>1.000000</td>\n",
       "      <td>0.994048</td>\n",
       "      <td>0.990585</td>\n",
       "      <td>0.990834</td>\n",
       "    </tr>\n",
       "    <tr>\n",
       "      <th>7</th>\n",
       "      <td>0.984845</td>\n",
       "      <td>0.994351</td>\n",
       "      <td>0.993824</td>\n",
       "      <td>0.991687</td>\n",
       "      <td>0.991835</td>\n",
       "      <td>0.987230</td>\n",
       "      <td>0.994048</td>\n",
       "      <td>1.000000</td>\n",
       "      <td>0.993258</td>\n",
       "      <td>0.993161</td>\n",
       "    </tr>\n",
       "    <tr>\n",
       "      <th>8</th>\n",
       "      <td>0.990804</td>\n",
       "      <td>0.992154</td>\n",
       "      <td>0.993642</td>\n",
       "      <td>0.991396</td>\n",
       "      <td>0.988279</td>\n",
       "      <td>0.988341</td>\n",
       "      <td>0.990585</td>\n",
       "      <td>0.993258</td>\n",
       "      <td>1.000000</td>\n",
       "      <td>0.994260</td>\n",
       "    </tr>\n",
       "    <tr>\n",
       "      <th>9</th>\n",
       "      <td>0.987640</td>\n",
       "      <td>0.993184</td>\n",
       "      <td>0.994476</td>\n",
       "      <td>0.988962</td>\n",
       "      <td>0.991252</td>\n",
       "      <td>0.984034</td>\n",
       "      <td>0.990834</td>\n",
       "      <td>0.993161</td>\n",
       "      <td>0.994260</td>\n",
       "      <td>1.000000</td>\n",
       "    </tr>\n",
       "  </tbody>\n",
       "</table>\n",
       "</div>"
      ],
      "text/plain": [
       "          0         1         2         3         4         5         6  \\\n",
       "0  1.000000  0.985277  0.985796  0.988933  0.976221  0.990280  0.980424   \n",
       "1  0.985277  1.000000  0.994047  0.991774  0.991070  0.986985  0.993800   \n",
       "2  0.985796  0.994047  1.000000  0.990470  0.992051  0.984933  0.992765   \n",
       "3  0.988933  0.991774  0.990470  1.000000  0.984613  0.993171  0.990557   \n",
       "4  0.976221  0.991070  0.992051  0.984613  1.000000  0.975259  0.991875   \n",
       "5  0.990280  0.986985  0.984933  0.993171  0.975259  1.000000  0.984970   \n",
       "6  0.980424  0.993800  0.992765  0.990557  0.991875  0.984970  1.000000   \n",
       "7  0.984845  0.994351  0.993824  0.991687  0.991835  0.987230  0.994048   \n",
       "8  0.990804  0.992154  0.993642  0.991396  0.988279  0.988341  0.990585   \n",
       "9  0.987640  0.993184  0.994476  0.988962  0.991252  0.984034  0.990834   \n",
       "\n",
       "          7         8         9  \n",
       "0  0.984845  0.990804  0.987640  \n",
       "1  0.994351  0.992154  0.993184  \n",
       "2  0.993824  0.993642  0.994476  \n",
       "3  0.991687  0.991396  0.988962  \n",
       "4  0.991835  0.988279  0.991252  \n",
       "5  0.987230  0.988341  0.984034  \n",
       "6  0.994048  0.990585  0.990834  \n",
       "7  1.000000  0.993258  0.993161  \n",
       "8  0.993258  1.000000  0.994260  \n",
       "9  0.993161  0.994260  1.000000  "
      ]
     },
     "execution_count": 18,
     "metadata": {},
     "output_type": "execute_result"
    }
   ],
   "source": [
    "tbl_avg_reps.loc[:, [0, 1, 2, 3, 4, 5, 6, 7, 8, 9]].corr()"
   ]
  },
  {
   "cell_type": "markdown",
   "id": "52aae81c-5f00-49cc-bc52-6d8f07059ac4",
   "metadata": {},
   "source": [
    "### By Calculating a lower dimensional embedding"
   ]
  },
  {
   "cell_type": "code",
   "execution_count": 19,
   "id": "6ea2af7c-72c6-4c61-aa3f-0d64e398c777",
   "metadata": {},
   "outputs": [
    {
     "data": {
      "image/png": "[encoded data removed]",
      "text/plain": [
       "<Figure size 800x600 with 1 Axes>"
      ]
     },
     "metadata": {},
     "output_type": "display_data"
    }
   ],
   "source": [
    "# Print the t-SNE result\n",
    "df_tsne_sample = df_tsne.sample(50).reset_index()\n",
    "# Plot the result\n",
    "plt.figure(figsize=(8, 6))\n",
    "plt.scatter(df_tsne_sample['TSNE1'], df_tsne_sample['TSNE2'], alpha = 0)\n",
    "\n",
    "# Add text labels instead of points\n",
    "texts = []\n",
    "for i, label in enumerate(df_tsne_sample['label']): \n",
    "    texts.append(plt.text(df_tsne_sample['TSNE1'][i], df_tsne_sample['TSNE2'][i], label))\n",
    "adjust_text(texts)\n",
    "plt.xlabel('TSNE1')\n",
    "plt.ylabel('TSNE2')\n",
    "plt.title('t-SNE Result')\n",
    "plt.show()"
   ]
  },
  {
   "cell_type": "markdown",
   "id": "990a29e2-3e51-46bb-9bd2-f94f1caed76e",
   "metadata": {},
   "source": [
    "# Finetune average representations using individual-participant data"
   ]
  },
  {
   "cell_type": "code",
   "execution_count": 20,
   "id": "a6c1576b-3adb-4b47-ba33-6f6e9e87153b",
   "metadata": {},
   "outputs": [
    {
     "name": "stdout",
     "output_type": "stream",
     "text": [
      "\n",
      "...Could not find any .npy files for current modality.\n",
      "...Now searching for .txt files.\n",
      "\n"
     ]
    }
   ],
   "source": [
    "train_triplets_ID, test_triplets_ID = ut.load_data_ID(device=device, triplets_dir=triplets_dir)\n",
    "n_items_ID = ut.get_nitems(train_triplets_ID)"
   ]
  },
  {
   "cell_type": "code",
   "execution_count": 21,
   "id": "0f1e723c-5564-4539-a4e5-8464bd18dfc7",
   "metadata": {},
   "outputs": [],
   "source": [
    "col_split_id = 3\n",
    "# Unique values in the specified column\n",
    "unique_values = np.unique(train_triplets_ID[:, col_split_id])\n",
    "# Split the array into a list of arrays based on the unique values in the specified column\n",
    "split_train = [train_triplets_ID[train_triplets_ID[:, col_split_id] == value] for value in unique_values]\n",
    "split_test = [test_triplets_ID[test_triplets_ID[:, col_split_id] == value] for value in unique_values]"
   ]
  },
  {
   "cell_type": "markdown",
   "id": "7f0ebc02-8726-4f35-b1e8-2d3e5b240b43",
   "metadata": {},
   "source": [
    "### Separate data set into list elements containing the data from individual participants"
   ]
  },
  {
   "cell_type": "code",
   "execution_count": 26,
   "id": "b6b0a37e-d0de-463a-8c23-1d201d23e906",
   "metadata": {},
   "outputs": [],
   "source": [
    "l_train_triplets_ID = []\n",
    "l_test_triplets_ID = []\n",
    "l_train_batches_ID = []\n",
    "l_test_batches_ID = []\n",
    "# divide into list elements and drop subject ID\n",
    "for i in range(0, len(split_train)):\n",
    "    l_train_triplets_ID.append(split_train[i][:, 0:4])\n",
    "    l_test_triplets_ID.append(split_test[i][:, 0:4])"
   ]
  },
  {
   "cell_type": "markdown",
   "id": "4c3d7720-d319-49c5-8ff3-6e0ce426aa57",
   "metadata": {},
   "source": [
    "### Generate the batches for every participant by looping over the lists of batches"
   ]
  },
  {
   "cell_type": "markdown",
   "id": "849c65f3-defb-4554-817e-9d2da438af7f",
   "metadata": {},
   "source": [
    "## ID Model for one participant"
   ]
  },
  {
   "cell_type": "code",
   "execution_count": 27,
   "id": "e879805f-75a5-481d-b40d-f316d850770f",
   "metadata": {},
   "outputs": [],
   "source": [
    "#load train and test mini-batches\n",
    "l_train_batches_ID = []\n",
    "l_val_batches_ID = []\n",
    "\n",
    "i = 1\n",
    "\n",
    "train_batches_ID, val_batches_ID = ut.load_batches_ID(\n",
    "    train_triplets=l_train_triplets_ID[i],\n",
    "    test_triplets=l_test_triplets_ID[i],\n",
    "    average_reps=tensor_avg_reps,\n",
    "    n_items=n_items_ID,\n",
    "    batch_size=batch_size,\n",
    "    sampling_method=sampling_method,\n",
    "    rnd_seed=rnd_seed,\n",
    "    p=p\n",
    ")\n",
    "\n",
    "train_batches, val_batches = ut.load_batches(\n",
    "    train_triplets=l_train_triplets_ID[i],\n",
    "    test_triplets=l_test_triplets_ID[i],\n",
    "    n_items=n_items_ID,\n",
    "    batch_size=batch_size,\n",
    "    sampling_method=sampling_method,\n",
    "    rnd_seed=rnd_seed,\n",
    "    p=p\n",
    ")"
   ]
  },
  {
   "cell_type": "code",
   "execution_count": 28,
   "id": "995e10fc-e20a-460c-8cf2-09f71e034e87",
   "metadata": {},
   "outputs": [],
   "source": [
    "for i, batch in enumerate(val_batches_ID):\n",
    "    b = batch.to(device)"
   ]
  },
  {
   "cell_type": "code",
   "execution_count": 29,
   "id": "a9853cd1-7f3a-4a0b-857d-dc1db1114750",
   "metadata": {},
   "outputs": [
    {
     "data": {
      "text/plain": [
       "0"
      ]
     },
     "execution_count": 29,
     "metadata": {},
     "output_type": "execute_result"
    }
   ],
   "source": [
    "i"
   ]
  },
  {
   "cell_type": "code",
   "execution_count": 31,
   "id": "1460b671-7a31-460f-b036-1aab1132fcc5",
   "metadata": {},
   "outputs": [
    {
     "data": {
      "text/plain": [
       "torch.Size([300, 10])"
      ]
     },
     "execution_count": 31,
     "metadata": {},
     "output_type": "execute_result"
    }
   ],
   "source": [
    "b.shape"
   ]
  },
  {
   "cell_type": "code",
   "execution_count": 32,
   "id": "1db3b71f-b826-455f-b8cf-89a87dbad6ab",
   "metadata": {},
   "outputs": [],
   "source": [
    "model_ID = md.IndependentLinearLayerWithIntercept(array_avg_reps.shape[1])\n",
    "model_ID.to(device)\n",
    "optim = Adam(model_ID.parameters(), lr=lr)"
   ]
  },
  {
   "cell_type": "markdown",
   "id": "a9efeac0-7fd0-412c-8879-6c426b5d0850",
   "metadata": {},
   "source": [
    "### currently, the model set up is for one participant (see just cell above)\n",
    "has to be set up such that all participants can be run and data for every participant is saved"
   ]
  },
  {
   "cell_type": "code",
   "execution_count": 33,
   "id": "332126a5-4966-4aff-a950-6369a1f0239c",
   "metadata": {},
   "outputs": [],
   "source": [
    "epochs = 50"
   ]
  },
  {
   "cell_type": "code",
   "execution_count": 35,
   "id": "66b8bdce-685c-499a-b9fd-8c5837c90662",
   "metadata": {},
   "outputs": [
    {
     "data": {
      "text/plain": [
       "tensor([0.3462, 0.3789, 0.3810, 0.3945, 0.4194, 0.3326, 0.3844, 0.4086, 0.3485,\n",
       "        0.3810], grad_fn=<AddBackward0>)"
      ]
     },
     "execution_count": 35,
     "metadata": {},
     "output_type": "execute_result"
    }
   ],
   "source": [
    "logits"
   ]
  },
  {
   "cell_type": "code",
   "execution_count": 36,
   "id": "9b1491ee-9e92-4825-929f-ed537bd49eb0",
   "metadata": {},
   "outputs": [
    {
     "data": {
      "text/plain": [
       "10"
      ]
     },
     "execution_count": 36,
     "metadata": {},
     "output_type": "execute_result"
    }
   ],
   "source": [
    "embed_dim"
   ]
  },
  {
   "cell_type": "code",
   "execution_count": 40,
   "id": "0a0a8a9a-9ec4-4ded-bf93-05daf4cb3805",
   "metadata": {},
   "outputs": [
    {
     "data": {
      "text/plain": [
       "tensor([[0.3462, 0.3789, 0.3810,  ..., 0.4086, 0.3485, 0.3810],\n",
       "        [0.0080, 0.0060, 0.0068,  ..., 0.0068, 0.0088, 0.0047],\n",
       "        [0.0747, 0.1108, 0.0934,  ..., 0.1151, 0.0852, 0.0852],\n",
       "        ...,\n",
       "        [0.0025, 0.0064, 0.0048,  ..., 0.0050, 0.0073, 0.0074],\n",
       "        [0.0610, 0.1339, 0.1174,  ..., 0.1546, 0.1506, 0.1289],\n",
       "        [0.0520, 0.1122, 0.1050,  ..., 0.1018, 0.0875, 0.1053]])"
      ]
     },
     "execution_count": 40,
     "metadata": {},
     "output_type": "execute_result"
    }
   ],
   "source": [
    "batch"
   ]
  },
  {
   "cell_type": "code",
   "execution_count": 41,
   "id": "45cf7962-3ebd-45a1-8300-f515932a82f8",
   "metadata": {},
   "outputs": [
    {
     "name": "stdout",
     "output_type": "stream",
     "text": [
      "Optimization started for lambda: 0.008\n",
      "\n"
     ]
    },
    {
     "data": {
      "application/vnd.jupyter.widget-view+json": {
       "model_id": "cfe11e9a00f84a019e4224519024eb95",
       "version_major": 2,
       "version_minor": 0
      },
      "text/plain": [
       "  0%|          | 0/50 [00:00<?, ?it/s]"
      ]
     },
     "metadata": {},
     "output_type": "display_data"
    }
   ],
   "source": [
    "if not os.path.exists(model_dir):\n",
    "    os.makedirs(model_dir)\n",
    "start = 0\n",
    "train_accs_ID, val_accs_ID = [], []\n",
    "train_losses_ID, val_losses_ID = [], []\n",
    "loglikelihoods_ID = []\n",
    "nneg_d_over_time_ID = []\n",
    "\n",
    "iter = 0\n",
    "results = {}\n",
    "logger.info(f'Optimization started for lambda: {lmbda}\\n')\n",
    "\n",
    "print(f'Optimization started for lambda: {lmbda}\\n')\n",
    "for epoch in tqdm(range(start, epochs)):\n",
    "    model_ID.train()\n",
    "    batch_llikelihoods = torch.zeros(len(train_batches_ID))\n",
    "    batch_closses = torch.zeros(len(train_batches_ID))\n",
    "    batch_losses_train = torch.zeros(len(train_batches_ID))\n",
    "    batch_accs_train = torch.zeros(len(train_batches_ID))\n",
    "    for i, batch in enumerate(train_batches_ID):\n",
    "        optim.zero_grad() #zero out gradients\n",
    "        batch = batch.to(device)\n",
    "        logits = model_ID(batch)\n",
    "        anchor, positive, negative = torch.unbind(torch.reshape(logits, (-1, 3, embed_dim)), dim=1)\n",
    "        loss = ut.trinomial_loss(anchor, positive, negative, task, temperature, distance_metric)\n",
    "\n",
    "        ICs = model_ID.intercepts\n",
    "        Slopes = model_ID.weights\n",
    "\n",
    "        loss.backward()\n",
    "        optim.step()\n",
    "        \n",
    "        batch_losses_train[i] += loss.item()\n",
    "        batch_llikelihoods[i] += loss.item()\n",
    "        batch_accs_train[i] += ut.choice_accuracy(anchor, positive, negative, task, distance_metric)\n",
    "        iter += 1\n",
    "\n",
    "    avg_llikelihood_ID = torch.mean(batch_llikelihoods).item()\n",
    "    avg_train_loss_ID = torch.mean(batch_losses_train).item()\n",
    "    avg_train_acc_ID = torch.mean(batch_accs_train).item()\n",
    "\n",
    "    loglikelihoods_ID.append(avg_llikelihood_ID)\n",
    "    train_losses_ID.append(avg_train_loss_ID)\n",
    "    train_accs_ID.append(avg_train_acc_ID)"
   ]
  },
  {
   "cell_type": "code",
   "execution_count": 43,
   "id": "b9f91d64-1b79-4e62-8753-0d820cbb67e5",
   "metadata": {},
   "outputs": [
    {
     "data": {
      "text/plain": [
       "torch.Size([300, 10])"
      ]
     },
     "execution_count": 43,
     "metadata": {},
     "output_type": "execute_result"
    }
   ],
   "source": [
    "batch.shape"
   ]
  },
  {
   "cell_type": "code",
   "execution_count": 42,
   "id": "e7a8d4de-0333-4e78-be2c-4971d6ee6838",
   "metadata": {},
   "outputs": [
    {
     "data": {
      "text/plain": [
       "[0.41499999165534973,\n",
       " 0.42500001192092896,\n",
       " 0.4649999737739563,\n",
       " 0.49000000953674316,\n",
       " 0.4950000047683716,\n",
       " 0.48750001192092896,\n",
       " 0.4975000023841858,\n",
       " 0.49000000953674316,\n",
       " 0.48750001192092896,\n",
       " 0.48749998211860657,\n",
       " 0.4925000071525574,\n",
       " 0.48499998450279236,\n",
       " 0.48749998211860657,\n",
       " 0.48499998450279236,\n",
       " 0.4775000214576721,\n",
       " 0.4699999988079071,\n",
       " 0.4775000214576721,\n",
       " 0.4700000286102295,\n",
       " 0.4724999964237213,\n",
       " 0.45500001311302185,\n",
       " 0.4725000262260437,\n",
       " 0.4775000214576721,\n",
       " 0.4675000011920929,\n",
       " 0.4750000238418579,\n",
       " 0.4675000011920929,\n",
       " 0.4724999964237213,\n",
       " 0.46000000834465027,\n",
       " 0.48250001668930054,\n",
       " 0.4724999666213989,\n",
       " 0.48249995708465576,\n",
       " 0.4699999988079071,\n",
       " 0.4750000238418579,\n",
       " 0.48500001430511475,\n",
       " 0.4724999964237213,\n",
       " 0.4700000286102295,\n",
       " 0.47749999165534973,\n",
       " 0.4650000035762787,\n",
       " 0.47749999165534973,\n",
       " 0.47999998927116394,\n",
       " 0.4624999761581421,\n",
       " 0.4749999940395355,\n",
       " 0.46000000834465027,\n",
       " 0.48500001430511475,\n",
       " 0.48250001668930054,\n",
       " 0.45750001072883606,\n",
       " 0.48000001907348633,\n",
       " 0.48249998688697815,\n",
       " 0.4749999940395355,\n",
       " 0.4675000309944153,\n",
       " 0.47999998927116394]"
      ]
     },
     "execution_count": 42,
     "metadata": {},
     "output_type": "execute_result"
    }
   ],
   "source": [
    "train_accs_ID"
   ]
  },
  {
   "cell_type": "code",
   "execution_count": null,
   "id": "521582b4-1bec-492b-8083-b72d81639eaa",
   "metadata": {},
   "outputs": [],
   "source": [
    "ICs"
   ]
  },
  {
   "cell_type": "code",
   "execution_count": null,
   "id": "d6117e94-d842-41da-b8b1-6177030c5c39",
   "metadata": {},
   "outputs": [],
   "source": [
    "type(train_accs_ID)"
   ]
  },
  {
   "cell_type": "markdown",
   "id": "cc07dbdb-1b0f-4efa-b3eb-79f4739b10cb",
   "metadata": {},
   "source": [
    "## Evaluate average model"
   ]
  },
  {
   "cell_type": "code",
   "execution_count": null,
   "id": "3491a9fc-5693-44c1-b3cb-685c40bccfe6",
   "metadata": {},
   "outputs": [],
   "source": [
    "ut.validation(model_ID, val_batches_ID, task, device)"
   ]
  },
  {
   "cell_type": "markdown",
   "id": "0ef7b961-1a9c-41d6-aece-a0b101aa0c4d",
   "metadata": {},
   "source": [
    "## Evaluate by-participant models"
   ]
  },
  {
   "cell_type": "code",
   "execution_count": null,
   "id": "8ed7a97c-d591-40a9-bf02-cf698875f196",
   "metadata": {},
   "outputs": [],
   "source": [
    "ut.validation(model, val_batches, task, device)"
   ]
  },
  {
   "cell_type": "markdown",
   "id": "833691d2-e1f1-4476-a34e-8f566dbdd0d8",
   "metadata": {},
   "source": [
    "## Loop over all Participants"
   ]
  },
  {
   "cell_type": "markdown",
   "id": "7b872490-3075-451c-b2c5-ff0719a9752e",
   "metadata": {},
   "source": [
    "## Evalute Improvements and Parameters"
   ]
  },
  {
   "cell_type": "code",
   "execution_count": null,
   "id": "7135ab01-56c3-43a1-a5a1-887732a420fc",
   "metadata": {},
   "outputs": [],
   "source": [
    "l_train_ID = list()\n",
    "l_val_ID = list()\n",
    "l_val_avg = list()"
   ]
  },
  {
   "cell_type": "code",
   "execution_count": null,
   "id": "07669b37-a609-4ff3-a0bb-b56f822b3b2e",
   "metadata": {},
   "outputs": [],
   "source": [
    "for tr, te in tqdm(zip(l_train_triplets_ID, l_test_triplets_ID), total = len(l_train_triplets_ID)):\n",
    "    train_ID = ut.train_ID_model(\n",
    "        tr, te, array_avg_reps, \n",
    "        n_items_ID, batch_size, sampling_method, task, temperature, embed_dim, \n",
    "        distance_metric, rnd_seed, p, lr, epochs, device, model_dir\n",
    "    )\n",
    "    val_ID = ut.validation(train_ID[\"model\"], train_ID[\"val_batches_ID\"], task, device)\n",
    "    val_avg = ut.validation(model, train_ID[\"val_batches_avg\"], task, device)\n",
    "\n",
    "    l_train_ID.append(train_ID)\n",
    "    l_val_ID.append(val_ID)\n",
    "    l_val_avg.append(val_avg)"
   ]
  },
  {
   "cell_type": "code",
   "execution_count": null,
   "id": "a54080f1-c195-47bc-b073-e3227b87345f",
   "metadata": {},
   "outputs": [],
   "source": [
    "tr"
   ]
  },
  {
   "cell_type": "code",
   "execution_count": null,
   "id": "ed5b7549-e78b-49db-ae5c-616b2e4782b4",
   "metadata": {},
   "outputs": [],
   "source": [
    "train_ID"
   ]
  },
  {
   "cell_type": "code",
   "execution_count": null,
   "id": "81a48d28-84f3-4be5-bbab-5c172eb84b97",
   "metadata": {
    "scrolled": true
   },
   "outputs": [],
   "source": [
    "df_eval = pd.DataFrame(\n",
    "    np.column_stack((np.arange(0, len(l_train_triplets_ID)), l_val_ID, l_val_avg)), \n",
    "    columns = [\"id\", \"avg_loss_ID\", \"avg_acc_ID\", \"avg_loss_avg\", \"avg_acc_avg\"]\n",
    ")"
   ]
  },
  {
   "cell_type": "code",
   "execution_count": null,
   "id": "04dc476a-3133-45b4-a8fa-543cd2950f54",
   "metadata": {},
   "outputs": [],
   "source": [
    "df_eval_long = pd.melt(df_eval, id_vars = \"id\", var_name=\"variable\", value_name=\"value\")\n",
    "df_swarm = df_eval_long.query(\"variable in ['avg_acc_avg', 'avg_acc_ID']\").copy()\n",
    "df_swarm.loc[df_swarm['variable'] == 'avg_acc_avg', 'x_position'] = 0.0\n",
    "df_swarm.loc[df_swarm['variable'] == 'avg_acc_ID', 'x_position'] = 0.5"
   ]
  },
  {
   "cell_type": "code",
   "execution_count": null,
   "id": "a435d543-7c11-47d0-bbd7-3aba902eff2b",
   "metadata": {},
   "outputs": [],
   "source": [
    "l_train_acc = []\n",
    "l_params = []\n",
    "for id, tr in enumerate(l_train_ID):\n",
    "    tmp = np.column_stack((np.repeat(id, len(tr[\"train_accs\"])), np.arange(0, len(tr[\"train_accs\"])), tr[\"train_accs\"]))\n",
    "    l_train_acc.append(tmp)\n",
    "    tmp = np.column_stack((np.repeat(id, embed_dim), np.arange(0, embed_dim), tr[\"ics\"].detach().numpy(), tr[\"Slopes\"].detach().numpy()))\n",
    "    l_params.append(tmp)\n",
    "m_train_acc = np.concatenate(l_train_acc, axis = 0)\n",
    "df_train_acc = pd.DataFrame(m_train_acc, columns = [\"id\", \"epoch\", \"train_acc\"])\n",
    "m_params = np.concatenate(l_params, axis = 0)\n",
    "df_params = pd.DataFrame(m_params, columns = [\"id\", \"dim\", \"intercept\", \"slope\"])"
   ]
  },
  {
   "cell_type": "code",
   "execution_count": null,
   "id": "ee4d0b7e-19b1-4df9-9ed4-ce44a56475e6",
   "metadata": {},
   "outputs": [],
   "source": [
    "df_train_acc[\"epoch_bin\"] = pd.cut(df_train_acc[\"epoch\"], bins = 20, labels=False, )\n",
    "df_train_acc_agg = df_train_acc.groupby([\"id\", 'epoch_bin'], observed=False).agg({\"train_acc\": ['mean']}).reset_index()\n",
    "df_train_acc_agg.columns = ['_'.join(col).strip() for col in df_train_acc_agg.columns.values]\n",
    "df_train_acc_agg.columns = [\"id\", \"epoch_bin\", \"train_acc_mean\"]\n",
    "df_train_acc_agg = df_train_acc_agg.groupby(\"epoch_bin\", observed=False)[\"train_acc_mean\"].agg([\"mean\", \"std\"]).reset_index()\n",
    "df_train_acc_agg[\"ci_95\"] = df_train_acc_agg[\"std\"]/np.sqrt(len(l_train_triplets_ID))"
   ]
  },
  {
   "cell_type": "code",
   "execution_count": null,
   "id": "6577f89b-e8f5-455e-a595-cac7c8574baa",
   "metadata": {},
   "outputs": [],
   "source": [
    "# Plot the line without crossing the points \n",
    "fig = plt.figure(figsize=(8, 4), dpi=150)\n",
    "ax = plt.subplot(111)\n",
    "ax.plot(\n",
    "    df_train_acc_agg[\"epoch_bin\"] + 1, df_train_acc_agg[\"mean\"], \n",
    "    linestyle='-', color='blue', alpha=0.5\n",
    ") \n",
    "ax.errorbar(\n",
    "    df_train_acc_agg[\"epoch_bin\"] + 1, df_train_acc_agg[\"mean\"], yerr=df_train_acc_agg[\"ci_95\"],\n",
    "    fmt=\"o\", ecolor=\"red\", capsize=7, capthick=1.5, markersize=6, markeredgewidth=2, markeredgecolor='white', \n",
    ")\n",
    "ax.set_xticks(ticks=range(0, 21, 2))\n",
    "ax.set_yticks(ticks=np.arange(0, 1.1, .1))\n",
    "ax.axhline(y=0.33, color='grey', linestyle='--', linewidth=1, label='Chance Performance')\n",
    "ax.set_ylim(.25, .65)\n",
    "# Add labels and title\n",
    "ax.set_xlabel('Epoch (Bins)') \n",
    "ax.set_ylabel('Training Accuracy') \n",
    "ax.set_title('Training Accuracies with 95% CI') \n",
    "ax.legend()\n",
    "# Add gridlines\n",
    "ax.grid(True)\n",
    "plt.show()"
   ]
  },
  {
   "cell_type": "code",
   "execution_count": null,
   "id": "754cc14a-bbfc-41df-b347-f41350dfa14d",
   "metadata": {},
   "outputs": [],
   "source": [
    "means = df_swarm.groupby('variable')['value'].mean()\n",
    "stds = df_swarm.groupby('variable')['value'].std()\n",
    "stds = stds /np.sqrt(len(l_train_triplets_ID))"
   ]
  },
  {
   "cell_type": "code",
   "execution_count": null,
   "id": "d11e7a92-3029-4d52-9324-416014035ee9",
   "metadata": {},
   "outputs": [],
   "source": [
    "# Plot the line without crossing the points \n",
    "fig = plt.figure(figsize=(4.5, 4.5), dpi=150)\n",
    "ax = plt.subplot(111)\n",
    "ax = sns.swarmplot(x='variable', y='value', data=df_swarm, alpha=.25, hue=\"variable\", dodge=False)\n",
    "# Get the current colors from the swarm plot \n",
    "palette = {entry: color for entry, color in zip(df_swarm['variable'].unique(), sns.color_palette())} \n",
    "# Add mean and standard deviation as error bars\n",
    "for category in df_swarm['variable'].unique():\n",
    "    mean = means[category]\n",
    "    std = stds[category]\n",
    "    ax.errorbar(\n",
    "        category, mean, yerr=std, fmt='o', color=palette[category], capsize=5, \n",
    "        capthick=2, label=f'Mean ± 95% CI' if category == df_swarm['variable'].unique()[0] else \"\"\n",
    "    )\n",
    "ax.axhline(y=0.33, color='grey', linestyle='--', linewidth=1, label='Chance Performance')\n",
    "ax.set_ylim(.3, .7)\n",
    "# Set the new x-ticks and labels\n",
    "ax.set_xticks(ticks=[0, 1], labels=['Individual Differences', 'Average'])\n",
    "ax.set_xlabel('Model')\n",
    "ax.set_ylabel('Test Accuracy') \n",
    "ax.set_title('Test Accuracy of the Two Models')\n",
    "ax.legend(loc=10)\n",
    "plt.show()"
   ]
  },
  {
   "cell_type": "code",
   "execution_count": null,
   "id": "c6a8c6cf-5cbe-44e4-9680-6767ecd1ec93",
   "metadata": {},
   "outputs": [],
   "source": [
    "from scipy.stats import pearsonr"
   ]
  },
  {
   "cell_type": "code",
   "execution_count": null,
   "id": "00e9d6ba-626f-4842-ab38-7ec374adbae5",
   "metadata": {},
   "outputs": [],
   "source": [
    "# Plot the line without crossing the points \n",
    "fig = plt.figure(figsize=(6, 6), dpi=100)\n",
    "ax = plt.subplot(111)\n",
    "# Calculate correlation\n",
    "corr, _ = pearsonr(df_params['intercept'], df_params['slope']) \n",
    "ax = sns.scatterplot(df_params, x = \"intercept\", y = \"slope\")\n",
    "ax.annotate(\n",
    "    f'Correlation: {corr:.2f}', xy=(0.65, 0.5), xycoords='axes fraction', \n",
    "    fontsize=12, color='tomato',\n",
    "    bbox=dict(boxstyle=\"round,pad=0.3\", edgecolor='black', facecolor='white') \n",
    ") \n",
    "# Add labels and title \n",
    "ax.set_xlabel('Intercept') \n",
    "ax.set_ylabel('Slope') \n",
    "ax.set_title('Plot Intercepts against Slopes')\n",
    "ax.grid(True)\n",
    "# Display the plot \n",
    "plt.show()"
   ]
  },
  {
   "cell_type": "code",
   "execution_count": null,
   "id": "fe83af78-9047-431c-897e-f13d4b20f4ed",
   "metadata": {},
   "outputs": [],
   "source": [
    "import pickle"
   ]
  },
  {
   "cell_type": "code",
   "execution_count": null,
   "id": "adaef2a9-8716-48b7-84b9-55aff04ba77d",
   "metadata": {},
   "outputs": [],
   "source": [
    "# Load from a file \n",
    "with open(\"results/ID/2d/0.008/seed01/results-ID.pkl\", 'rb') as f: \n",
    "    loaded_data = pickle.load(f)"
   ]
  },
  {
   "cell_type": "code",
   "execution_count": null,
   "id": "acb294fc-320d-4c78-86bf-af53de333acd",
   "metadata": {},
   "outputs": [],
   "source": []
  }
 ],
 "metadata": {
  "kernelspec": {
   "display_name": "Python 3 (ipykernel)",
   "language": "python",
   "name": "python3"
  },
  "language_info": {
   "codemirror_mode": {
    "name": "ipython",
    "version": 3
   },
   "file_extension": ".py",
   "mimetype": "text/x-python",
   "name": "python",
   "nbconvert_exporter": "python",
   "pygments_lexer": "ipython3",
   "version": "3.12.8"
  }
 },
 "nbformat": 4,
 "nbformat_minor": 5
}
