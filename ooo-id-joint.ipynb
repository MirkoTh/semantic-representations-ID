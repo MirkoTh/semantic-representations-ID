{
 "cells": [
  {
   "cell_type": "code",
   "execution_count": 1,
   "id": "04fd9783-b1e6-4308-bd05-126364d39915",
   "metadata": {},
   "outputs": [],
   "source": [
    "import argparse\n",
    "import json\n",
    "import logging\n",
    "import os\n",
    "import random\n",
    "import re\n",
    "from turtle import distance\n",
    "import torch\n",
    "import warnings\n",
    "import pandas as pd\n",
    "from adjustText import adjust_text\n",
    "from typing import Tuple, Iterator, List, Dict\n",
    "from tqdm.notebook import tqdm\n",
    "import seaborn as sns\n",
    "\n",
    "\n",
    "import matplotlib.pyplot as plt\n",
    "import numpy as np\n",
    "import torch.nn as nn\n",
    "import torch.nn.functional as F\n",
    "from torch.utils.data import Dataset, DataLoader, SequentialSampler\n",
    "from sklearn.manifold import TSNE\n",
    "\n",
    "\n",
    "from os.path import join as pjoin\n",
    "from collections import defaultdict\n",
    "from scipy.stats import linregress\n",
    "from torch.optim import Adam, AdamW\n",
    "\n",
    "os.environ['PYTHONIOENCODING']='UTF-8'\n",
    "os.environ['CUDA_LAUNCH_BLOCKING']=str(1)"
   ]
  },
  {
   "cell_type": "code",
   "execution_count": 2,
   "id": "49f7f048-23aa-4779-abd2-4e5233a3bb30",
   "metadata": {},
   "outputs": [],
   "source": [
    "# Enable automatic reloading of modules before executing code\n",
    "%load_ext autoreload\n",
    "%autoreload 2\n",
    "\n",
    "\n",
    "# Now you can use wildcard import\n",
    "import plotting as pl\n",
    "from models import model as md\n",
    "import utils as ut"
   ]
  },
  {
   "cell_type": "code",
   "execution_count": 3,
   "id": "01e828a6-d0fb-4a79-993e-8325ef195559",
   "metadata": {},
   "outputs": [],
   "source": [
    "task = \"odd_one_out\"\n",
    "modality = \"behavioral\"\n",
    "triplets_dir = \"./data/\"\n",
    "lr = learning_rate = 0.001\n",
    "lmbda = 0.008\n",
    "temperature = 1\n",
    "embed_dim = 200\n",
    "num_threads = 6\n",
    "device = \"cpu\"\n",
    "batch_size = 100\n",
    "sampling_method = \"normal\"\n",
    "rnd_seed = 42\n",
    "p = None\n",
    "results_dir = './results/'\n",
    "plots_dir = './plots/'\n",
    "epochs = 500\n",
    "distance_metric = \"dot\""
   ]
  },
  {
   "cell_type": "code",
   "execution_count": 4,
   "id": "4661f6c5-d8d1-4f7c-a251-31dc4df72cf5",
   "metadata": {},
   "outputs": [
    {
     "name": "stdout",
     "output_type": "stream",
     "text": [
      "\n",
      "...Could not find any .npy files for current modality.\n",
      "...Now searching for .txt files.\n",
      "\n"
     ]
    }
   ],
   "source": [
    "train_triplets_ID, test_triplets_ID = ut.load_data_ID(device=device, triplets_dir=triplets_dir)\n",
    "n_items_ID = ut.get_nitems(train_triplets_ID)"
   ]
  },
  {
   "cell_type": "code",
   "execution_count": 11,
   "id": "91c31cda-fc95-456d-a58a-20ee77e19b1c",
   "metadata": {},
   "outputs": [],
   "source": [
    "#load train and test mini-batches\n",
    "train_batches, val_batches = ut.load_batches(\n",
    "    train_triplets=train_triplets_ID,\n",
    "    test_triplets=test_triplets_ID,\n",
    "    n_items=n_items_ID,\n",
    "    batch_size=batch_size,\n",
    "    sampling_method=sampling_method,\n",
    "    rnd_seed=rnd_seed,\n",
    "    p=p, method = \"ids\"\n",
    ")"
   ]
  },
  {
   "cell_type": "code",
   "execution_count": 19,
   "id": "1bc5ba86-8def-44b5-923a-e939d2ba2a89",
   "metadata": {},
   "outputs": [],
   "source": [
    "for i, batch in enumerate(train_batches):\n",
    "    b = batch[0].to(device)\n",
    "    id = batch[1].to(device)"
   ]
  },
  {
   "cell_type": "code",
   "execution_count": 20,
   "id": "2c32f1ed-b3da-4215-bbbc-fcd1cf9b146c",
   "metadata": {},
   "outputs": [
    {
     "data": {
      "text/plain": [
       "tensor([[0., 0., 0.,  ..., 0., 0., 0.],\n",
       "        [0., 0., 0.,  ..., 0., 0., 0.],\n",
       "        [0., 0., 0.,  ..., 0., 0., 0.],\n",
       "        ...,\n",
       "        [0., 0., 0.,  ..., 0., 0., 0.],\n",
       "        [0., 0., 0.,  ..., 0., 0., 0.],\n",
       "        [0., 0., 0.,  ..., 0., 0., 0.]])"
      ]
     },
     "execution_count": 20,
     "metadata": {},
     "output_type": "execute_result"
    }
   ],
   "source": [
    "b"
   ]
  },
  {
   "cell_type": "code",
   "execution_count": 21,
   "id": "a649272e-79ea-494c-8849-e433bf802c5d",
   "metadata": {},
   "outputs": [
    {
     "data": {
      "text/plain": [
       "tensor([170, 140,   0,  ...,  58, 232, 181])"
      ]
     },
     "execution_count": 21,
     "metadata": {},
     "output_type": "execute_result"
    }
   ],
   "source": [
    "id"
   ]
  },
  {
   "cell_type": "code",
   "execution_count": 15,
   "id": "963543c5-90d7-4c2c-b6ae-551dbd827861",
   "metadata": {},
   "outputs": [
    {
     "data": {
      "text/plain": [
       "tensor([[0., 0., 0.,  ..., 0., 0., 0.],\n",
       "        [0., 0., 0.,  ..., 0., 0., 0.],\n",
       "        [0., 0., 0.,  ..., 0., 0., 0.],\n",
       "        ...,\n",
       "        [0., 0., 0.,  ..., 0., 0., 0.],\n",
       "        [0., 0., 0.,  ..., 0., 0., 0.],\n",
       "        [0., 0., 0.,  ..., 0., 0., 0.]])"
      ]
     },
     "execution_count": 15,
     "metadata": {},
     "output_type": "execute_result"
    }
   ],
   "source": [
    "batch[0]"
   ]
  },
  {
   "cell_type": "code",
   "execution_count": 22,
   "id": "3bf7fb1f-4985-4b79-b86d-e6c44f05754d",
   "metadata": {},
   "outputs": [
    {
     "data": {
      "text/plain": [
       "torch.Size([300, 1854])"
      ]
     },
     "execution_count": 22,
     "metadata": {},
     "output_type": "execute_result"
    }
   ],
   "source": [
    "b.shape"
   ]
  },
  {
   "cell_type": "code",
   "execution_count": 7,
   "id": "3f5bb750-d105-4dde-984c-eea38ef8a04e",
   "metadata": {},
   "outputs": [
    {
     "data": {
      "text/plain": [
       "tensor([[ 460,  952,  469,    0],\n",
       "        [  53, 1414,  216,    0],\n",
       "        [ 824,   34,  482,    0],\n",
       "        ...,\n",
       "        [1011,   73,  871,  263],\n",
       "        [1648,  227,  455,  263],\n",
       "        [ 491,  573, 1551,  263]])"
      ]
     },
     "execution_count": 7,
     "metadata": {},
     "output_type": "execute_result"
    }
   ],
   "source": [
    "train_triplets_ID"
   ]
  },
  {
   "cell_type": "code",
   "execution_count": null,
   "id": "87540e42-5787-4886-948d-0b422f69daef",
   "metadata": {},
   "outputs": [],
   "source": []
  },
  {
   "cell_type": "code",
   "execution_count": null,
   "id": "3ab917fb-4ce3-4081-bb64-2c63ff96c39c",
   "metadata": {},
   "outputs": [],
   "source": []
  },
  {
   "cell_type": "code",
   "execution_count": null,
   "id": "ab7b5c1c-6f4f-4cba-8a50-3164379bd864",
   "metadata": {},
   "outputs": [],
   "source": []
  },
  {
   "cell_type": "code",
   "execution_count": null,
   "id": "62789681-68da-49e4-8e25-9e8497e75386",
   "metadata": {},
   "outputs": [],
   "source": []
  },
  {
   "cell_type": "code",
   "execution_count": null,
   "id": "ef929d96-eb5b-4f94-975d-bc427766bed8",
   "metadata": {},
   "outputs": [],
   "source": []
  }
 ],
 "metadata": {
  "kernelspec": {
   "display_name": "Python 3 (ipykernel)",
   "language": "python",
   "name": "python3"
  },
  "language_info": {
   "codemirror_mode": {
    "name": "ipython",
    "version": 3
   },
   "file_extension": ".py",
   "mimetype": "text/x-python",
   "name": "python",
   "nbconvert_exporter": "python",
   "pygments_lexer": "ipython3",
   "version": "3.12.8"
  }
 },
 "nbformat": 4,
 "nbformat_minor": 5
}
