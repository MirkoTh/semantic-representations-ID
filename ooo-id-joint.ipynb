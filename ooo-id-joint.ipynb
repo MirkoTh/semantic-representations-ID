{
 "cells": [
  {
   "cell_type": "markdown",
   "id": "bcd31b63-a156-4b82-85d0-20081ee2636c",
   "metadata": {},
   "source": [
    "# \n"
   ]
  },
  {
   "cell_type": "code",
   "execution_count": 1,
   "id": "04fd9783-b1e6-4308-bd05-126364d39915",
   "metadata": {},
   "outputs": [],
   "source": [
    "import argparse\n",
    "import json\n",
    "import logging\n",
    "import os\n",
    "import random\n",
    "import re\n",
    "from turtle import distance\n",
    "import torch\n",
    "import warnings\n",
    "import pandas as pd\n",
    "from adjustText import adjust_text\n",
    "from typing import Tuple, Iterator, List, Dict\n",
    "from tqdm.notebook import tqdm\n",
    "import seaborn as sns\n",
    "\n",
    "\n",
    "import matplotlib.pyplot as plt\n",
    "import numpy as np\n",
    "import torch.nn as nn\n",
    "import torch.nn.functional as F\n",
    "from torch.utils.data import Dataset, DataLoader, SequentialSampler\n",
    "from sklearn.manifold import TSNE\n",
    "\n",
    "\n",
    "from os.path import join as pjoin\n",
    "from collections import defaultdict\n",
    "from scipy.stats import linregress\n",
    "from torch.optim import Adam, AdamW\n",
    "\n",
    "os.environ['PYTHONIOENCODING']='UTF-8'\n",
    "os.environ['CUDA_LAUNCH_BLOCKING']=str(1)"
   ]
  },
  {
   "cell_type": "code",
   "execution_count": 2,
   "id": "49f7f048-23aa-4779-abd2-4e5233a3bb30",
   "metadata": {},
   "outputs": [],
   "source": [
    "# Enable automatic reloading of modules before executing code\n",
    "%load_ext autoreload\n",
    "%autoreload 2\n",
    "\n",
    "\n",
    "import plotting as pl\n",
    "from models import model as md\n",
    "import utils as ut"
   ]
  },
  {
   "cell_type": "code",
   "execution_count": 3,
   "id": "49d7d7a8-449a-4ac7-8817-dc58587c7c64",
   "metadata": {},
   "outputs": [],
   "source": [
    "# create logger\n",
    "logger = logging.getLogger('ooo-id-joint')\n",
    "logger.setLevel(logging.INFO)\n",
    "\n",
    "# create console handler and set level to debug\n",
    "ch = logging.StreamHandler()\n",
    "ch.setLevel(logging.INFO)\n",
    "\n",
    "# create formatter\n",
    "formatter = logging.Formatter(\n",
    "    fmt='%(asctime)s - %(name)s - %(levelname)s - %(message)s',\n",
    "    datefmt='%Y/%m/%d %H:%M:%S'\n",
    ")\n",
    "\n",
    "# add formatter to ch\n",
    "ch.setFormatter(formatter)\n",
    "\n",
    "# add ch to logger\n",
    "logger.addHandler(ch)"
   ]
  },
  {
   "cell_type": "code",
   "execution_count": 4,
   "id": "01e828a6-d0fb-4a79-993e-8325ef195559",
   "metadata": {},
   "outputs": [],
   "source": [
    "task = \"odd_one_out\"\n",
    "modality = \"behavioral\"\n",
    "triplets_dir = \"./data/\"\n",
    "lr = learning_rate = 0.001\n",
    "lmbda = 0.008\n",
    "temperature = 1\n",
    "embed_dim = 200\n",
    "num_threads = 6\n",
    "device = \"cpu\"\n",
    "batch_size = 100\n",
    "sampling_method = \"normal\"\n",
    "rnd_seed = 42\n",
    "p = None\n",
    "results_dir = './results/id-joint/'\n",
    "plots_dir = './plots/id-joint/'\n",
    "epochs = 500\n",
    "distance_metric = \"dot\""
   ]
  },
  {
   "cell_type": "code",
   "execution_count": 5,
   "id": "0cd5866a-9a9a-4181-9aa9-9801033738ce",
   "metadata": {},
   "outputs": [
    {
     "name": "stderr",
     "output_type": "stream",
     "text": [
      "2025/01/21 14:45:03 - ooo-id-joint - INFO - does logging work?\n"
     ]
    }
   ],
   "source": [
    "logger.info(\"does logging work?\")"
   ]
  },
  {
   "cell_type": "code",
   "execution_count": 6,
   "id": "4661f6c5-d8d1-4f7c-a251-31dc4df72cf5",
   "metadata": {},
   "outputs": [
    {
     "name": "stdout",
     "output_type": "stream",
     "text": [
      "\n",
      "...Could not find any .npy files for current modality.\n",
      "...Now searching for .txt files.\n",
      "\n"
     ]
    }
   ],
   "source": [
    "train_triplets_ID, test_triplets_ID = ut.load_data_ID(device=device, triplets_dir=triplets_dir)\n",
    "n_items_ID = ut.get_nitems(train_triplets_ID)"
   ]
  },
  {
   "cell_type": "code",
   "execution_count": 7,
   "id": "7c02a812-8cf1-4ba8-acc2-eaaf51c1b8c4",
   "metadata": {},
   "outputs": [],
   "source": [
    "n_participants = len(np.unique(train_triplets_ID.numpy()[:,3]))"
   ]
  },
  {
   "cell_type": "code",
   "execution_count": 8,
   "id": "91c31cda-fc95-456d-a58a-20ee77e19b1c",
   "metadata": {},
   "outputs": [],
   "source": [
    "#load train and test mini-batches\n",
    "train_batches, val_batches = ut.load_batches(\n",
    "    train_triplets=train_triplets_ID,\n",
    "    test_triplets=test_triplets_ID,\n",
    "    n_items=n_items_ID,\n",
    "    batch_size=batch_size,\n",
    "    sampling_method=sampling_method,\n",
    "    rnd_seed=rnd_seed,\n",
    "    p=p, method = \"ids\"\n",
    ")"
   ]
  },
  {
   "cell_type": "code",
   "execution_count": 9,
   "id": "87540e42-5787-4886-948d-0b422f69daef",
   "metadata": {},
   "outputs": [],
   "source": [
    "#temperature = torch.tensor(temperature).to(device)\n",
    "temperature = torch.tensor(temperature).clone().detach()\n",
    "model = md.SPoSE_ID(\n",
    "    in_size=n_items_ID, out_size=embed_dim, \n",
    "    num_participants=n_participants, init_weights=True)\n",
    "model.to(device)\n",
    "optim = Adam(model.parameters(), lr=lr)"
   ]
  },
  {
   "cell_type": "code",
   "execution_count": 12,
   "id": "3ab917fb-4ce3-4081-bb64-2c63ff96c39c",
   "metadata": {},
   "outputs": [
    {
     "name": "stderr",
     "output_type": "stream",
     "text": [
      "2025/01/21 14:45:21 - ooo-id-joint - INFO - ...Creating PATHs\n"
     ]
    }
   ],
   "source": [
    "logger.info(f'...Creating PATHs')\n",
    "\n",
    "if results_dir == './results/id-joint/':\n",
    "    results_dir = os.path.join(results_dir, modality, f'{embed_dim}d', str(lmbda), f'seed{rnd_seed:02d}')\n",
    "if not os.path.exists(results_dir):\n",
    "    os.makedirs(results_dir)\n",
    "\n",
    "if plots_dir == './plots/id-joint/':\n",
    "    plots_dir = os.path.join(plots_dir, modality, f'{embed_dim}d', str(lmbda), f'seed{rnd_seed}')\n",
    "if not os.path.exists(plots_dir):\n",
    "    os.makedirs(plots_dir)\n",
    "\n",
    "model_dir = os.path.join(results_dir, 'model')"
   ]
  },
  {
   "cell_type": "code",
   "execution_count": 13,
   "id": "ab7b5c1c-6f4f-4cba-8a50-3164379bd864",
   "metadata": {},
   "outputs": [],
   "source": [
    "epochs = 2"
   ]
  },
  {
   "cell_type": "code",
   "execution_count": 17,
   "id": "62789681-68da-49e4-8e25-9e8497e75386",
   "metadata": {},
   "outputs": [
    {
     "name": "stderr",
     "output_type": "stream",
     "text": [
      "2025/01/21 14:49:05 - ooo-id-joint - INFO - Optimization started for lambda: 0.008\n",
      "\n"
     ]
    },
    {
     "name": "stdout",
     "output_type": "stream",
     "text": [
      "Optimization started for lambda: 0.008\n",
      "\n"
     ]
    },
    {
     "data": {
      "application/vnd.jupyter.widget-view+json": {
       "model_id": "5d0f5fbab5f14f22945fb55c8f36406a",
       "version_major": 2,
       "version_minor": 0
      },
      "text/plain": [
       "  0%|          | 0/2 [00:00<?, ?it/s]"
      ]
     },
     "metadata": {},
     "output_type": "display_data"
    }
   ],
   "source": [
    "if not os.path.exists(model_dir):\n",
    "    os.makedirs(model_dir)\n",
    "start = 0\n",
    "train_accs, val_accs = [], []\n",
    "train_losses, val_losses = [], []\n",
    "loglikelihoods, complexity_losses_ID, complexity_losses_avg = [], [], []\n",
    "nneg_d_over_time = []\n",
    "\n",
    "iter = 0\n",
    "results = {}\n",
    "logger.info(f'Optimization started for lambda: {lmbda}\\n')\n",
    "\n",
    "print(f'Optimization started for lambda: {lmbda}\\n')\n",
    "for epoch in tqdm(range(start, epochs)):\n",
    "    model.train()\n",
    "    batch_llikelihoods = torch.zeros(len(train_batches))\n",
    "    batch_closses_avg = torch.zeros(len(train_batches))\n",
    "    batch_closses_ID = torch.zeros(len(train_batches))\n",
    "    batch_losses_train = torch.zeros(len(train_batches))\n",
    "    batch_accs_train = torch.zeros(len(train_batches))\n",
    "    for i, batch in enumerate(train_batches):\n",
    "        optim.zero_grad() #zero out gradients\n",
    "        b = batch[0].to(device)\n",
    "        id = batch[1].to(device)\n",
    "        logits = model(b, id)\n",
    "        anchor, positive, negative = torch.unbind(torch.reshape(logits, (-1, 3, embed_dim)), dim=1)\n",
    "        c_entropy = ut.trinomial_loss(anchor, positive, negative, task, temperature, distance_metric)\n",
    "        l1_pen_avg = md.l1_regularization(model, \"weight\").to(device) #L1-norm to enforce sparsity (many 0s)\n",
    "        l1_pen_ID = md.l1_regularization(model, \"individual_slopes\").to(device) #L1-norm to enforce sparsity (many 0s)\n",
    "        W = model.fc.weight\n",
    "        pos_pen = torch.sum(F.relu(-W)) #positivity constraint to enforce non-negative values in embedding matrix\n",
    "        complexity_loss_avg = (lmbda/n_items_ID) * l1_pen_avg\n",
    "        complexity_loss_ID = (lmbda/n_items_ID) * l1_pen_ID\n",
    "        # possible options\n",
    "        # ignore complexity loss on ndimns avg, but enforce sparsity on the number of used dims per individual\n",
    "        # enforce sparsity on both\n",
    "        # ignore complexity loss on ndims avg, enforce reverse sparsity (i.e., mostly 1s) on IDs\n",
    "        # enforce sparsity on ndims avg, and enforce reverse sparsity (i.e., mostly 1s) on IDs\n",
    "        loss = c_entropy + 0.01 * pos_pen + complexity_loss_ID\n",
    "        loss.backward()\n",
    "        optim.step()\n",
    "        batch_losses_train[i] += loss.item()\n",
    "        batch_llikelihoods[i] += c_entropy.item()\n",
    "        batch_closses_ID[i] += complexity_loss_ID.item()\n",
    "        batch_closses_avg[i] += complexity_loss_avg.item()\n",
    "        batch_accs_train[i] += ut.choice_accuracy(anchor, positive, negative, task, distance_metric)\n",
    "        iter += 1\n",
    "\n",
    "    avg_llikelihood = torch.mean(batch_llikelihoods).item()\n",
    "    avg_closs_ID = torch.mean(batch_closses_ID).item()\n",
    "    avg_closs_avg = torch.mean(batch_closses_avg).item()\n",
    "    avg_train_loss = torch.mean(batch_losses_train).item()\n",
    "    avg_train_acc = torch.mean(batch_accs_train).item()\n",
    "\n",
    "    loglikelihoods.append(avg_llikelihood)\n",
    "    complexity_losses_ID.append(avg_closs_ID)\n",
    "    complexity_losses_avg.append(avg_closs_avg)\n",
    "    train_losses.append(avg_train_loss)\n",
    "    train_accs.append(avg_train_acc)"
   ]
  },
  {
   "cell_type": "code",
   "execution_count": 32,
   "id": "9ed5efd4-12bb-4728-bf88-3a0ed83c5172",
   "metadata": {},
   "outputs": [
    {
     "data": {
      "text/plain": [
       "<seaborn.axisgrid.FacetGrid at 0x22e94bf6e40>"
      ]
     },
     "execution_count": 32,
     "metadata": {},
     "output_type": "execute_result"
    },
    {
     "data": {
      "image/png": "[encoded data removed]",
      "text/plain": [
       "<Figure size 558.875x500 with 1 Axes>"
      ]
     },
     "metadata": {},
     "output_type": "display_data"
    }
   ],
   "source": [
    "sns.displot(model.individual_slopes(torch.LongTensor([0])).detach().numpy().T, binwidth=1)"
   ]
  },
  {
   "cell_type": "code",
   "execution_count": 33,
   "id": "0b146490-6dff-458b-b65b-28963f10a821",
   "metadata": {},
   "outputs": [
    {
     "data": {
      "text/plain": [
       "(0.9825718402862549, 0.5442655086517334)"
      ]
     },
     "execution_count": 33,
     "metadata": {},
     "output_type": "execute_result"
    }
   ],
   "source": [
    "ut.validation(model, val_batches, task, device, level_explanation=\"ID\")"
   ]
  }
 ],
 "metadata": {
  "kernelspec": {
   "display_name": "Python 3 (ipykernel)",
   "language": "python",
   "name": "python3"
  },
  "language_info": {
   "codemirror_mode": {
    "name": "ipython",
    "version": 3
   },
   "file_extension": ".py",
   "mimetype": "text/x-python",
   "name": "python",
   "nbconvert_exporter": "python",
   "pygments_lexer": "ipython3",
   "version": "3.12.8"
  }
 },
 "nbformat": 4,
 "nbformat_minor": 5
}
