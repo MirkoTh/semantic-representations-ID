{
 "cells": [
  {
   "cell_type": "markdown",
   "id": "bcd31b63-a156-4b82-85d0-20081ee2636c",
   "metadata": {},
   "source": [
    "# \n"
   ]
  },
  {
   "cell_type": "code",
   "execution_count": 1,
   "id": "04fd9783-b1e6-4308-bd05-126364d39915",
   "metadata": {},
   "outputs": [],
   "source": [
    "import argparse\n",
    "import json\n",
    "import logging\n",
    "import os\n",
    "import random\n",
    "import re\n",
    "from turtle import distance\n",
    "import torch\n",
    "import warnings\n",
    "import pandas as pd\n",
    "from adjustText import adjust_text\n",
    "from typing import Tuple, Iterator, List, Dict\n",
    "from tqdm.notebook import tqdm\n",
    "import seaborn as sns\n",
    "\n",
    "\n",
    "import matplotlib.pyplot as plt\n",
    "import numpy as np\n",
    "import torch.nn as nn\n",
    "import torch.nn.functional as F\n",
    "from torch.utils.data import Dataset, DataLoader, SequentialSampler\n",
    "from sklearn.manifold import TSNE\n",
    "\n",
    "\n",
    "from os.path import join as pjoin\n",
    "from collections import defaultdict\n",
    "from scipy.stats import linregress\n",
    "from torch.optim import Adam, AdamW\n",
    "\n",
    "os.environ['PYTHONIOENCODING']='UTF-8'\n",
    "os.environ['CUDA_LAUNCH_BLOCKING']=str(1)"
   ]
  },
  {
   "cell_type": "code",
   "execution_count": 2,
   "id": "49f7f048-23aa-4779-abd2-4e5233a3bb30",
   "metadata": {},
   "outputs": [],
   "source": [
    "# Enable automatic reloading of modules before executing code\n",
    "%load_ext autoreload\n",
    "%autoreload 2\n",
    "\n",
    "\n",
    "import plotting as pl\n",
    "from models import model as md\n",
    "import utils as ut"
   ]
  },
  {
   "cell_type": "code",
   "execution_count": 3,
   "id": "49d7d7a8-449a-4ac7-8817-dc58587c7c64",
   "metadata": {},
   "outputs": [],
   "source": [
    "# create logger\n",
    "logger = logging.getLogger('ooo-id-joint')\n",
    "logger.setLevel(logging.INFO)\n",
    "\n",
    "# create console handler and set level to debug\n",
    "ch = logging.StreamHandler()\n",
    "ch.setLevel(logging.INFO)\n",
    "\n",
    "# create formatter\n",
    "formatter = logging.Formatter(\n",
    "    fmt='%(asctime)s - %(name)s - %(levelname)s - %(message)s',\n",
    "    datefmt='%Y/%m/%d %H:%M:%S'\n",
    ")\n",
    "\n",
    "# add formatter to ch\n",
    "ch.setFormatter(formatter)\n",
    "\n",
    "# add ch to logger\n",
    "logger.addHandler(ch)"
   ]
  },
  {
   "cell_type": "code",
   "execution_count": 4,
   "id": "01e828a6-d0fb-4a79-993e-8325ef195559",
   "metadata": {},
   "outputs": [],
   "source": [
    "task = \"odd_one_out\"\n",
    "modality = \"behavioral\"\n",
    "triplets_dir = \"./data/\"\n",
    "lr = learning_rate = 0.001\n",
    "lmbda = 0.008\n",
    "temperature = 1\n",
    "embed_dim = 5\n",
    "num_threads = 6\n",
    "device = \"cpu\"\n",
    "batch_size = 100\n",
    "sampling_method = \"normal\"\n",
    "rnd_seed = 42\n",
    "p = None\n",
    "results_dir = './results/id-joint/'\n",
    "plots_dir = './plots/id-joint/'\n",
    "epochs = 500\n",
    "distance_metric = \"dot\"\n",
    "sparsity = \"items_and_random_ids\"\n",
    "lmbda_hierarchical = 100"
   ]
  },
  {
   "cell_type": "code",
   "execution_count": 5,
   "id": "0cd5866a-9a9a-4181-9aa9-9801033738ce",
   "metadata": {},
   "outputs": [
    {
     "name": "stderr",
     "output_type": "stream",
     "text": [
      "2025/06/03 13:58:39 - ooo-id-joint - INFO - does logging work?\n"
     ]
    }
   ],
   "source": [
    "logger.info(\"does logging work?\")"
   ]
  },
  {
   "cell_type": "code",
   "execution_count": 6,
   "id": "4661f6c5-d8d1-4f7c-a251-31dc4df72cf5",
   "metadata": {},
   "outputs": [
    {
     "name": "stdout",
     "output_type": "stream",
     "text": [
      "\n",
      "...Could not find any .npy files for current modality.\n",
      "...Now searching for .txt files.\n",
      "\n"
     ]
    }
   ],
   "source": [
    "train_triplets_ID, test_triplets_ID = ut.load_data_ID(device=device, triplets_dir=triplets_dir)\n",
    "n_items_ID = ut.get_nitems(train_triplets_ID)"
   ]
  },
  {
   "cell_type": "code",
   "execution_count": 7,
   "id": "7c02a812-8cf1-4ba8-acc2-eaaf51c1b8c4",
   "metadata": {},
   "outputs": [],
   "source": [
    "n_participants = len(np.unique(train_triplets_ID.numpy()[:,3]))"
   ]
  },
  {
   "cell_type": "code",
   "execution_count": 8,
   "id": "91c31cda-fc95-456d-a58a-20ee77e19b1c",
   "metadata": {},
   "outputs": [],
   "source": [
    "#load train and test mini-batches\n",
    "train_batches, val_batches = ut.load_batches(\n",
    "    train_triplets=train_triplets_ID,\n",
    "    test_triplets=test_triplets_ID,\n",
    "    n_items=n_items_ID,\n",
    "    batch_size=batch_size,\n",
    "    sampling_method=sampling_method,\n",
    "    rnd_seed=rnd_seed,\n",
    "    p=p, method = \"ids\"\n",
    ")"
   ]
  },
  {
   "cell_type": "markdown",
   "id": "aea056cb-ca4a-4346-8297-05317daf7944",
   "metadata": {},
   "source": [
    "#temperature = torch.tensor(temperature).to(device)\n",
    "temperature = torch.tensor(temperature).clone().detach()\n",
    "model = md.SPoSE_ID(\n",
    "    in_size=n_items_ID, out_size=embed_dim, \n",
    "    num_participants=n_participants, init_weights=True)\n",
    "model.to(device)\n",
    "optim = Adam(model.parameters(), lr=lr)"
   ]
  },
  {
   "cell_type": "code",
   "execution_count": 103,
   "id": "cdcd34d0-072b-4af1-b3d9-975b0abf1a2a",
   "metadata": {},
   "outputs": [
    {
     "name": "stderr",
     "output_type": "stream",
     "text": [
      "C:\\Users\\Mirko\\AppData\\Local\\Temp\\ipykernel_21248\\1349477898.py:1: UserWarning: To copy construct from a tensor, it is recommended to use sourceTensor.clone().detach() or sourceTensor.clone().detach().requires_grad_(True), rather than torch.tensor(sourceTensor).\n",
      "  temperature = torch.tensor(temperature).clone().detach()\n"
     ]
    }
   ],
   "source": [
    "# same temperature for everybody, i.e. = 1\n",
    "temperature = torch.tensor(temperature).clone().detach()\n",
    "model = md.SPoSE_ID(\n",
    "    in_size=n_items_ID, out_size=embed_dim, \n",
    "    num_participants=n_participants, init_weights=True)\n",
    "optim = Adam(model.parameters(), lr=lr)"
   ]
  },
  {
   "cell_type": "code",
   "execution_count": 108,
   "id": "7519d7af-c979-4339-8c54-06ea20046f3a",
   "metadata": {},
   "outputs": [],
   "source": [
    "# by-participant dimension weights (random effects) and by-participant softmax scaling\n",
    "model = md.CombinedModel(\n",
    "    in_size=n_items_ID, out_size=embed_dim,\n",
    "    num_participants=n_participants, init_weights=True\n",
    ")\n",
    "optim = Adam(model.parameters(), lr=lr)"
   ]
  },
  {
   "cell_type": "code",
   "execution_count": 10,
   "id": "3ab917fb-4ce3-4081-bb64-2c63ff96c39c",
   "metadata": {},
   "outputs": [
    {
     "name": "stderr",
     "output_type": "stream",
     "text": [
      "2025/06/03 13:58:47 - ooo-id-joint - INFO - ...Creating PATHs\n"
     ]
    }
   ],
   "source": [
    "logger.info(f'...Creating PATHs')\n",
    "\n",
    "if results_dir == './results/id-joint/':\n",
    "    results_dir = os.path.join(results_dir, modality, f'{embed_dim}d', str(lmbda), f'seed{rnd_seed:02d}')\n",
    "if not os.path.exists(results_dir):\n",
    "    os.makedirs(results_dir)\n",
    "\n",
    "if plots_dir == './plots/id-joint/':\n",
    "    plots_dir = os.path.join(plots_dir, modality, f'{embed_dim}d', str(lmbda), f'seed{rnd_seed}')\n",
    "if not os.path.exists(plots_dir):\n",
    "    os.makedirs(plots_dir)\n",
    "\n",
    "model_dir = os.path.join(results_dir, 'model')"
   ]
  },
  {
   "cell_type": "code",
   "execution_count": 92,
   "id": "ab7b5c1c-6f4f-4cba-8a50-3164379bd864",
   "metadata": {},
   "outputs": [],
   "source": [
    "epochs = 1"
   ]
  },
  {
   "cell_type": "code",
   "execution_count": 112,
   "id": "8ce8fae0-9514-4d92-8dc5-c1a3b999bb45",
   "metadata": {},
   "outputs": [],
   "source": [
    "sparsity = \"items_and_random_ids\"#\"both\"#"
   ]
  },
  {
   "cell_type": "code",
   "execution_count": 116,
   "id": "62789681-68da-49e4-8e25-9e8497e75386",
   "metadata": {},
   "outputs": [
    {
     "name": "stderr",
     "output_type": "stream",
     "text": [
      "2025/06/03 19:41:26 - ooo-id-joint - INFO - Optimization started for lambda: 0.008\n",
      "\n"
     ]
    },
    {
     "name": "stdout",
     "output_type": "stream",
     "text": [
      "Optimization started for lambda: 0.008\n",
      "\n"
     ]
    },
    {
     "data": {
      "application/vnd.jupyter.widget-view+json": {
       "model_id": "ab01de3b3bc048449ade347e12f1d402",
       "version_major": 2,
       "version_minor": 0
      },
      "text/plain": [
       "  0%|          | 0/1 [00:00<?, ?it/s]"
      ]
     },
     "metadata": {},
     "output_type": "display_data"
    }
   ],
   "source": [
    "if not os.path.exists(model_dir):\n",
    "    os.makedirs(model_dir)\n",
    "start = 0\n",
    "train_accs, val_accs = [], []\n",
    "train_losses, val_losses = [], []\n",
    "loglikelihoods, complexity_losses_ID, complexity_losses_avg = [], [], []\n",
    "nneg_d_over_time = []\n",
    "\n",
    "iter = 0\n",
    "results = {}\n",
    "logger.info(f'Optimization started for lambda: {lmbda}\\n')\n",
    "\n",
    "print(f'Optimization started for lambda: {lmbda}\\n')\n",
    "for epoch in tqdm(range(start, epochs)):\n",
    "    model.train()\n",
    "    batch_llikelihoods = torch.zeros(len(train_batches))\n",
    "    batch_closses_avg = torch.zeros(len(train_batches))\n",
    "    batch_closses_ID = torch.zeros(len(train_batches))\n",
    "    batch_losses_train = torch.zeros(len(train_batches))\n",
    "    batch_accs_train = torch.zeros(len(train_batches))\n",
    "    for i, batch in enumerate(train_batches):\n",
    "        optim.zero_grad() #zero out gradients\n",
    "        b = batch[0].to(device)\n",
    "        id = batch[1].to(device)\n",
    "        # old code with only embedding model and subsequent fixed softmax function (with temp = 1)\n",
    "        ##logits = model(b, id)\n",
    "        #anchor, positive, negative = torch.unbind(torch.reshape(logits, (-1, 3, embed_dim)), dim=1)\n",
    "        #c_entropy = ut.trinomial_loss(anchor, positive, negative, task, temperature, distance_metric)\n",
    "\n",
    "        # new code with embedding model and decision models combined (with by-participant tempreatures)\n",
    "        c_entropy, anchor, positive, negative = model(b, id, distance_metric)\n",
    "        \n",
    "        l1_pen_avg = md.l1_regularization(model, \"weight\").to(device) #L1-norm to enforce sparsity (many 0s)\n",
    "        l1_pen_ID = md.l1_regularization(model, \"individual_slopes\", \"most\").to(device) #L1-norm to enforce sparsity (many 0s)\n",
    "        W = model.model1.fc.weight\n",
    "        # positivity constraint to enforce non-negative values in embedding matrix\n",
    "        pos_pen = torch.sum(F.relu(-W)) + torch.sum(F.relu(-model.model1.individual_slopes.weight))\n",
    "        temperatures = model.model2.individual_temps\n",
    "        complexity_loss_avg = (lmbda/n_items_ID) * l1_pen_avg\n",
    "        complexity_loss_ID = (lmbda/n_participants) * l1_pen_ID\n",
    "\n",
    "        if sparsity == 'items':\n",
    "            loss = c_entropy + 0.01 * pos_pen + complexity_loss_avg\n",
    "        elif sparsity == 'both':\n",
    "            loss = c_entropy + 0.01 * pos_pen + complexity_loss_ID + complexity_loss_avg\n",
    "        elif sparsity == \"items_and_random_ids\":\n",
    "            # Gaussian loss on individual differences for each dimension\n",
    "            # is only computed by random model\n",
    "            gaussian_pen = model.model1.hierarchical_loss(id)\n",
    "            gaussian_loss = gaussian_pen * lmbda_hierarchical\n",
    "            loss = c_entropy + 0.01 * pos_pen + complexity_loss_avg + gaussian_loss\n",
    "        \n",
    "        loss.backward()\n",
    "        optim.step()\n",
    "        batch_losses_train[i] += loss.item()\n",
    "        batch_llikelihoods[i] += c_entropy.item()\n",
    "        batch_closses_ID[i] += complexity_loss_ID.item()\n",
    "        batch_closses_avg[i] += complexity_loss_avg.item()\n",
    "        batch_accs_train[i] += ut.choice_accuracy(anchor, positive, negative, task, distance_metric)\n",
    "        iter += 1\n",
    "\n",
    "    avg_llikelihood = torch.mean(batch_llikelihoods).item()\n",
    "    avg_closs_ID = torch.mean(batch_closses_ID).item()\n",
    "    avg_closs_avg = torch.mean(batch_closses_avg).item()\n",
    "    avg_train_loss = torch.mean(batch_losses_train).item()\n",
    "    avg_train_acc = torch.mean(batch_accs_train).item()\n",
    "\n",
    "    loglikelihoods.append(avg_llikelihood)\n",
    "    complexity_losses_ID.append(avg_closs_ID)\n",
    "    complexity_losses_avg.append(avg_closs_avg)\n",
    "    train_losses.append(avg_train_loss)\n",
    "    train_accs.append(avg_train_acc)"
   ]
  },
  {
   "cell_type": "code",
   "execution_count": 125,
   "id": "8fe01d02-57d3-4cae-8d4a-576706840300",
   "metadata": {},
   "outputs": [
    {
     "data": {
      "text/plain": [
       "torch.Size([100, 1])"
      ]
     },
     "execution_count": 125,
     "metadata": {},
     "output_type": "execute_result"
    }
   ],
   "source": [
    "temperature = model.model2(id[::3])\n",
    "temperature.shape"
   ]
  },
  {
   "cell_type": "code",
   "execution_count": 120,
   "id": "4c6bed08-8d40-4bad-8f8a-e3c9301e7a09",
   "metadata": {},
   "outputs": [
    {
     "data": {
      "text/plain": [
       "torch.Size([779, 1])"
      ]
     },
     "execution_count": 120,
     "metadata": {},
     "output_type": "execute_result"
    }
   ],
   "source": [
    "temperatures.weight.shape"
   ]
  },
  {
   "cell_type": "code",
   "execution_count": 115,
   "id": "71565b47-5e2b-41f8-8629-01aac4d9fcbe",
   "metadata": {},
   "outputs": [
    {
     "name": "stdout",
     "output_type": "stream",
     "text": [
      "> \u001b[1;32mc:\\users\\mirko\\appdata\\local\\temp\\ipykernel_21248\\4247164375.py\u001b[0m(51)\u001b[0;36m<module>\u001b[1;34m()\u001b[0m\n",
      "\n"
     ]
    },
    {
     "name": "stdin",
     "output_type": "stream",
     "text": [
      "ipdb>  u\n"
     ]
    },
    {
     "name": "stdout",
     "output_type": "stream",
     "text": [
      "> \u001b[1;32mc:\\users\\mirko\\miniconda3\\envs\\representationsid\\lib\\site-packages\\ipython\\core\\interactiveshell.py\u001b[0m(3577)\u001b[0;36mrun_code\u001b[1;34m()\u001b[0m\n",
      "\u001b[1;32m   3575 \u001b[1;33m                    \u001b[1;32mawait\u001b[0m \u001b[0meval\u001b[0m\u001b[1;33m(\u001b[0m\u001b[0mcode_obj\u001b[0m\u001b[1;33m,\u001b[0m \u001b[0mself\u001b[0m\u001b[1;33m.\u001b[0m\u001b[0muser_global_ns\u001b[0m\u001b[1;33m,\u001b[0m \u001b[0mself\u001b[0m\u001b[1;33m.\u001b[0m\u001b[0muser_ns\u001b[0m\u001b[1;33m)\u001b[0m\u001b[1;33m\u001b[0m\u001b[1;33m\u001b[0m\u001b[0m\n",
      "\u001b[0m\u001b[1;32m   3576 \u001b[1;33m                \u001b[1;32melse\u001b[0m\u001b[1;33m:\u001b[0m\u001b[1;33m\u001b[0m\u001b[1;33m\u001b[0m\u001b[0m\n",
      "\u001b[0m\u001b[1;32m-> 3577 \u001b[1;33m                    \u001b[0mexec\u001b[0m\u001b[1;33m(\u001b[0m\u001b[0mcode_obj\u001b[0m\u001b[1;33m,\u001b[0m \u001b[0mself\u001b[0m\u001b[1;33m.\u001b[0m\u001b[0muser_global_ns\u001b[0m\u001b[1;33m,\u001b[0m \u001b[0mself\u001b[0m\u001b[1;33m.\u001b[0m\u001b[0muser_ns\u001b[0m\u001b[1;33m)\u001b[0m\u001b[1;33m\u001b[0m\u001b[1;33m\u001b[0m\u001b[0m\n",
      "\u001b[0m\u001b[1;32m   3578 \u001b[1;33m            \u001b[1;32mfinally\u001b[0m\u001b[1;33m:\u001b[0m\u001b[1;33m\u001b[0m\u001b[1;33m\u001b[0m\u001b[0m\n",
      "\u001b[0m\u001b[1;32m   3579 \u001b[1;33m                \u001b[1;31m# Reset our crash handler in place\u001b[0m\u001b[1;33m\u001b[0m\u001b[1;33m\u001b[0m\u001b[0m\n",
      "\u001b[0m\n"
     ]
    },
    {
     "name": "stdin",
     "output_type": "stream",
     "text": [
      "ipdb>  u\n"
     ]
    },
    {
     "name": "stdout",
     "output_type": "stream",
     "text": [
      "*** Oldest frame\n"
     ]
    },
    {
     "name": "stdin",
     "output_type": "stream",
     "text": [
      "ipdb>  u\n"
     ]
    },
    {
     "name": "stdout",
     "output_type": "stream",
     "text": [
      "*** Oldest frame\n"
     ]
    },
    {
     "name": "stdin",
     "output_type": "stream",
     "text": [
      "ipdb>  \n"
     ]
    },
    {
     "name": "stdout",
     "output_type": "stream",
     "text": [
      "*** Oldest frame\n"
     ]
    },
    {
     "name": "stdin",
     "output_type": "stream",
     "text": [
      "ipdb>  d\n"
     ]
    },
    {
     "name": "stdout",
     "output_type": "stream",
     "text": [
      "> \u001b[1;32mc:\\users\\mirko\\appdata\\local\\temp\\ipykernel_21248\\4247164375.py\u001b[0m(51)\u001b[0;36m<module>\u001b[1;34m()\u001b[0m\n",
      "\n"
     ]
    },
    {
     "name": "stdin",
     "output_type": "stream",
     "text": [
      "ipdb>  d\n"
     ]
    },
    {
     "name": "stdout",
     "output_type": "stream",
     "text": [
      "*** Newest frame\n"
     ]
    },
    {
     "name": "stdin",
     "output_type": "stream",
     "text": [
      "ipdb>  d\n"
     ]
    },
    {
     "name": "stdout",
     "output_type": "stream",
     "text": [
      "*** Newest frame\n"
     ]
    },
    {
     "name": "stdin",
     "output_type": "stream",
     "text": [
      "ipdb>  gaussian_loss\n"
     ]
    },
    {
     "name": "stdout",
     "output_type": "stream",
     "text": [
      "tensor(13.9312, grad_fn=<MulBackward0>)\n"
     ]
    },
    {
     "name": "stdin",
     "output_type": "stream",
     "text": [
      "ipdb>  complexity_loss_avg\n"
     ]
    },
    {
     "name": "stdout",
     "output_type": "stream",
     "text": [
      "tensor(0.0151, grad_fn=<MulBackward0>)\n"
     ]
    },
    {
     "name": "stdin",
     "output_type": "stream",
     "text": [
      "ipdb>  pos_pen\n"
     ]
    },
    {
     "name": "stdout",
     "output_type": "stream",
     "text": [
      "tensor(0.0576, grad_fn=<AddBackward0>)\n"
     ]
    },
    {
     "name": "stdin",
     "output_type": "stream",
     "text": [
      "ipdb>  c_entropy\n"
     ]
    },
    {
     "name": "stdout",
     "output_type": "stream",
     "text": [
      "(tensor(1.0987, grad_fn=<MeanBackward0>), tensor([[0.0838, 0.0419, 0.0860, 0.0665, 0.0475],\n",
      "        [0.0428, 0.0253, 0.0536, 0.0345, 0.0596],\n",
      "        [0.0395, 0.0719, 0.0497, 0.0679, 0.0359],\n",
      "        [0.0155, 0.0416, 0.0498, 0.0253, 0.0555],\n",
      "        [0.0599, 0.0300, 0.0590, 0.0682, 0.0477],\n",
      "        [0.0546, 0.0663, 0.0232, 0.0570, 0.0421],\n",
      "        [0.0155, 0.0525, 0.0518, 0.0306, 0.0555],\n",
      "        [0.0816, 0.0644, 0.0764, 0.0767, 0.0286],\n",
      "        [0.0359, 0.0524, 0.0458, 0.0419, 0.0556],\n",
      "        [0.0552, 0.0211, 0.0273, 0.0392, 0.0313],\n",
      "        [0.0644, 0.0342, 0.0354, 0.0623, 0.0347],\n",
      "        [0.0534, 0.0253, 0.0274, 0.0400, 0.0587],\n",
      "        [0.0776, 0.0588, 0.0353, 0.0621, 0.0356],\n",
      "        [0.0439, 0.0665, 0.0315, 0.0470, 0.0591],\n",
      "        [0.0321, 0.0477, 0.0488, 0.0828, 0.0573],\n",
      "        [0.0446, 0.0392, 0.0496, 0.0628, 0.0493],\n",
      "        [0.0478, 0.0609, 0.0382, 0.0606, 0.0609],\n",
      "        [0.0397, 0.0453, 0.0295, 0.0680, 0.0594],\n",
      "        [0.0362, 0.0401, 0.0443, 0.0596, 0.0514],\n",
      "        [0.0471, 0.0545, 0.0446, 0.0661, 0.0648],\n",
      "        [0.0741, 0.0526, 0.0729, 0.0752, 0.0637],\n",
      "        [0.0643, 0.0510, 0.0437, 0.0228, 0.0522],\n",
      "        [0.0521, 0.0502, 0.0882, 0.0605, 0.0472],\n",
      "        [0.0668, 0.0308, 0.0397, 0.0539, 0.0426],\n",
      "        [0.0275, 0.0271, 0.0662, 0.0661, 0.0399],\n",
      "        [0.0472, 0.0658, 0.0255, 0.0427, 0.0316],\n",
      "        [0.0508, 0.0292, 0.0346, 0.0371, 0.0589],\n",
      "        [0.0556, 0.0662, 0.0592, 0.0389, 0.0456],\n",
      "        [0.0749, 0.0427, 0.0398, 0.0542, 0.0328],\n",
      "        [0.0244, 0.0321, 0.0420, 0.0279, 0.0654],\n",
      "        [0.0337, 0.0406, 0.0469, 0.0609, 0.0201],\n",
      "        [0.0540, 0.0439, 0.0437, 0.0439, 0.0259],\n",
      "        [0.0634, 0.0398, 0.0550, 0.0523, 0.0698],\n",
      "        [0.0334, 0.0623, 0.0632, 0.0532, 0.0389],\n",
      "        [0.0660, 0.0519, 0.0417, 0.0350, 0.0410],\n",
      "        [0.0327, 0.0233, 0.0593, 0.0628, 0.0563],\n",
      "        [0.0334, 0.0533, 0.0356, 0.0432, 0.0589],\n",
      "        [0.0576, 0.0516, 0.0461, 0.0504, 0.0537],\n",
      "        [0.0376, 0.0202, 0.0596, 0.0687, 0.0578],\n",
      "        [0.0456, 0.0663, 0.0463, 0.0677, 0.0442],\n",
      "        [0.0394, 0.0487, 0.0529, 0.0315, 0.0393],\n",
      "        [0.0590, 0.0563, 0.0319, 0.0449, 0.0135],\n",
      "        [0.0659, 0.0468, 0.0495, 0.0535, 0.0439],\n",
      "        [0.0178, 0.0533, 0.0256, 0.0488, 0.0173],\n",
      "        [0.0471, 0.0571, 0.0486, 0.0480, 0.0661],\n",
      "        [0.0617, 0.0370, 0.0423, 0.0669, 0.0441],\n",
      "        [0.0488, 0.0820, 0.0311, 0.0501, 0.0478],\n",
      "        [0.0458, 0.0613, 0.0301, 0.0626, 0.0454],\n",
      "        [0.0503, 0.0592, 0.0692, 0.0424, 0.0479],\n",
      "        [0.0747, 0.0417, 0.0468, 0.0745, 0.0916],\n",
      "        [0.0143, 0.0357, 0.0431, 0.0248, 0.0559],\n",
      "        [0.0479, 0.0390, 0.0277, 0.0899, 0.0569],\n",
      "        [0.0516, 0.0477, 0.0386, 0.0510, 0.0496],\n",
      "        [0.0362, 0.0643, 0.0419, 0.0670, 0.0518],\n",
      "        [0.0345, 0.0477, 0.0639, 0.0545, 0.0504],\n",
      "        [0.0143, 0.0486, 0.0337, 0.0678, 0.0615],\n",
      "        [0.0466, 0.0554, 0.0323, 0.0483, 0.0600],\n",
      "        [0.0387, 0.0572, 0.0630, 0.0477, 0.0503],\n",
      "        [0.0812, 0.0546, 0.0594, 0.0299, 0.0379],\n",
      "        [0.0328, 0.0333, 0.0410, 0.0778, 0.0517],\n",
      "        [0.0505, 0.0680, 0.0401, 0.0512, 0.0190],\n",
      "        [0.0526, 0.0459, 0.0245, 0.0602, 0.0574],\n",
      "        [0.0430, 0.0642, 0.0391, 0.0592, 0.0552],\n",
      "        [0.0419, 0.0736, 0.0505, 0.0637, 0.0353],\n",
      "        [0.0450, 0.0570, 0.0609, 0.0361, 0.0185],\n",
      "        [0.0642, 0.0680, 0.0572, 0.0911, 0.0363],\n",
      "        [0.0427, 0.0615, 0.0638, 0.0390, 0.0450],\n",
      "        [0.0603, 0.0572, 0.0349, 0.0437, 0.0555],\n",
      "        [0.0186, 0.0396, 0.0423, 0.0275, 0.0530],\n",
      "        [0.0857, 0.0545, 0.0499, 0.0522, 0.0525],\n",
      "        [0.0284, 0.0289, 0.0368, 0.0322, 0.0637],\n",
      "        [0.0431, 0.0393, 0.0559, 0.0782, 0.0601],\n",
      "        [0.1027, 0.0389, 0.0445, 0.0612, 0.0389],\n",
      "        [0.0495, 0.0460, 0.0771, 0.0368, 0.0470],\n",
      "        [0.0639, 0.0853, 0.0433, 0.0450, 0.0488],\n",
      "        [0.0428, 0.0374, 0.0534, 0.0498, 0.0491],\n",
      "        [0.0300, 0.0583, 0.0551, 0.0460, 0.0317],\n",
      "        [0.0276, 0.0721, 0.0556, 0.0569, 0.0441],\n",
      "        [0.0312, 0.0586, 0.0667, 0.0479, 0.0473],\n",
      "        [0.0404, 0.0534, 0.0336, 0.0408, 0.0518],\n",
      "        [0.0393, 0.0784, 0.0337, 0.0574, 0.0478],\n",
      "        [0.0423, 0.0578, 0.0188, 0.0805, 0.0383],\n",
      "        [0.0341, 0.0578, 0.0340, 0.0724, 0.0365],\n",
      "        [0.0443, 0.0520, 0.0597, 0.0533, 0.0452],\n",
      "        [0.0493, 0.0285, 0.0294, 0.0376, 0.0551],\n",
      "        [0.0529, 0.0474, 0.0278, 0.0528, 0.0654],\n",
      "        [0.0687, 0.0501, 0.0554, 0.0281, 0.0361],\n",
      "        [0.0284, 0.0307, 0.0419, 0.0626, 0.0412],\n",
      "        [0.0303, 0.0304, 0.0480, 0.0340, 0.0608],\n",
      "        [0.0599, 0.0530, 0.0135, 0.0493, 0.0695],\n",
      "        [0.0515, 0.0457, 0.0372, 0.0818, 0.0582],\n",
      "        [0.0472, 0.0447, 0.0401, 0.0567, 0.0559],\n",
      "        [0.0631, 0.0196, 0.0618, 0.0657, 0.0426],\n",
      "        [0.0388, 0.0424, 0.0317, 0.0708, 0.0330],\n",
      "        [0.0496, 0.0637, 0.0293, 0.0626, 0.0555],\n",
      "        [0.0413, 0.0502, 0.0608, 0.0502, 0.0553],\n",
      "        [0.0790, 0.0623, 0.0802, 0.0745, 0.0190],\n",
      "        [0.0412, 0.0627, 0.0469, 0.0553, 0.0526],\n",
      "        [0.0827, 0.0416, 0.0337, 0.0333, 0.0503],\n",
      "        [0.0549, 0.0458, 0.0730, 0.0374, 0.0406]], grad_fn=<UnbindBackward0>), tensor([[0.0823, 0.0440, 0.0854, 0.0677, 0.0502],\n",
      "        [0.0464, 0.0249, 0.0594, 0.0339, 0.0572],\n",
      "        [0.0439, 0.0712, 0.0414, 0.0736, 0.0398],\n",
      "        [0.0200, 0.0387, 0.0472, 0.0267, 0.0507],\n",
      "        [0.0541, 0.0377, 0.0574, 0.0701, 0.0415],\n",
      "        [0.0480, 0.0680, 0.0202, 0.0603, 0.0378],\n",
      "        [0.0187, 0.0454, 0.0527, 0.0389, 0.0631],\n",
      "        [0.0625, 0.0505, 0.0653, 0.0760, 0.0255],\n",
      "        [0.0308, 0.0500, 0.0336, 0.0424, 0.0537],\n",
      "        [0.0624, 0.0256, 0.0317, 0.0318, 0.0386],\n",
      "        [0.0481, 0.0390, 0.0433, 0.0551, 0.0448],\n",
      "        [0.0477, 0.0297, 0.0358, 0.0347, 0.0507],\n",
      "        [0.0770, 0.0591, 0.0635, 0.0576, 0.0362],\n",
      "        [0.0423, 0.0582, 0.0363, 0.0516, 0.0392],\n",
      "        [0.0348, 0.0470, 0.0469, 0.0826, 0.0528],\n",
      "        [0.0430, 0.0521, 0.0573, 0.0550, 0.0482],\n",
      "        [0.0505, 0.0516, 0.0479, 0.0608, 0.0599],\n",
      "        [0.0363, 0.0468, 0.0283, 0.0613, 0.0655],\n",
      "        [0.0362, 0.0400, 0.0435, 0.0565, 0.0425],\n",
      "        [0.0590, 0.0536, 0.0504, 0.0753, 0.0597],\n",
      "        [0.0809, 0.0711, 0.0715, 0.0685, 0.0748],\n",
      "        [0.0670, 0.0409, 0.0491, 0.0209, 0.0538],\n",
      "        [0.0515, 0.0551, 0.1322, 0.0566, 0.0505],\n",
      "        [0.0539, 0.0262, 0.0437, 0.0603, 0.0385],\n",
      "        [0.0225, 0.0232, 0.0652, 0.0579, 0.0402],\n",
      "        [0.0449, 0.0813, 0.0307, 0.0422, 0.0301],\n",
      "        [0.0490, 0.0306, 0.0336, 0.0330, 0.0510],\n",
      "        [0.0560, 0.0530, 0.0576, 0.0402, 0.0450],\n",
      "        [0.0782, 0.0561, 0.0520, 0.0795, 0.0332],\n",
      "        [0.0323, 0.0327, 0.0450, 0.0318, 0.0700],\n",
      "        [0.0263, 0.0419, 0.0467, 0.0661, 0.0202],\n",
      "        [0.0486, 0.0441, 0.0347, 0.0418, 0.0290],\n",
      "        [0.0670, 0.0443, 0.0602, 0.0749, 0.0659],\n",
      "        [0.0328, 0.0654, 0.0596, 0.0554, 0.0460],\n",
      "        [0.0563, 0.0476, 0.0540, 0.0281, 0.0474],\n",
      "        [0.0350, 0.0294, 0.0524, 0.0547, 0.0617],\n",
      "        [0.0357, 0.0451, 0.0400, 0.0444, 0.0456],\n",
      "        [0.0697, 0.0503, 0.0536, 0.0528, 0.0493],\n",
      "        [0.0362, 0.0223, 0.0544, 0.0559, 0.0532],\n",
      "        [0.0425, 0.0604, 0.0441, 0.0535, 0.0525],\n",
      "        [0.0409, 0.0621, 0.0498, 0.0316, 0.0384],\n",
      "        [0.0640, 0.0587, 0.0401, 0.0502, 0.0140],\n",
      "        [0.0742, 0.0514, 0.0445, 0.0512, 0.0545],\n",
      "        [0.0190, 0.0422, 0.0275, 0.0478, 0.0133],\n",
      "        [0.0561, 0.0470, 0.0549, 0.0529, 0.0502],\n",
      "        [0.0586, 0.0403, 0.0394, 0.0554, 0.0467],\n",
      "        [0.0545, 0.0680, 0.0297, 0.0436, 0.0490],\n",
      "        [0.0457, 0.0561, 0.0306, 0.0592, 0.0562],\n",
      "        [0.0544, 0.0617, 0.0778, 0.0479, 0.0439],\n",
      "        [0.0638, 0.0449, 0.0715, 0.0786, 0.0706],\n",
      "        [0.0148, 0.0392, 0.0454, 0.0271, 0.0555],\n",
      "        [0.0475, 0.0316, 0.0288, 0.0841, 0.0461],\n",
      "        [0.0539, 0.0662, 0.0381, 0.0492, 0.0564],\n",
      "        [0.0319, 0.0595, 0.0529, 0.0489, 0.0503],\n",
      "        [0.0433, 0.0399, 0.0564, 0.0665, 0.0496],\n",
      "        [0.0122, 0.0463, 0.0417, 0.0712, 0.0582],\n",
      "        [0.0550, 0.0569, 0.0296, 0.0583, 0.0577],\n",
      "        [0.0497, 0.0488, 0.0663, 0.0473, 0.0494],\n",
      "        [0.0997, 0.0604, 0.0594, 0.0359, 0.0421],\n",
      "        [0.0284, 0.0341, 0.0408, 0.0561, 0.0592],\n",
      "        [0.0564, 0.0623, 0.0300, 0.0483, 0.0201],\n",
      "        [0.0401, 0.0449, 0.0269, 0.0502, 0.0563],\n",
      "        [0.0321, 0.0789, 0.0401, 0.0615, 0.0633],\n",
      "        [0.0307, 0.0779, 0.0420, 0.0703, 0.0427],\n",
      "        [0.0507, 0.0547, 0.0668, 0.0450, 0.0185],\n",
      "        [0.0555, 0.0501, 0.0586, 0.0774, 0.0439],\n",
      "        [0.0441, 0.0628, 0.0628, 0.0477, 0.0491],\n",
      "        [0.0433, 0.0498, 0.0303, 0.0459, 0.0589],\n",
      "        [0.0138, 0.0346, 0.0462, 0.0262, 0.0455],\n",
      "        [0.0766, 0.0603, 0.0512, 0.0448, 0.0599],\n",
      "        [0.0242, 0.0357, 0.0473, 0.0272, 0.0681],\n",
      "        [0.0393, 0.0355, 0.0627, 0.0734, 0.0641],\n",
      "        [0.0773, 0.0372, 0.0393, 0.0562, 0.0359],\n",
      "        [0.0488, 0.0509, 0.0780, 0.0394, 0.0581],\n",
      "        [0.0567, 0.0890, 0.0371, 0.0442, 0.0523],\n",
      "        [0.0446, 0.0410, 0.0477, 0.0608, 0.0445],\n",
      "        [0.0323, 0.0513, 0.0511, 0.0733, 0.0448],\n",
      "        [0.0313, 0.0591, 0.0587, 0.0625, 0.0287],\n",
      "        [0.0280, 0.0612, 0.0750, 0.0455, 0.0460],\n",
      "        [0.0446, 0.0505, 0.0377, 0.0359, 0.0466],\n",
      "        [0.0353, 0.0971, 0.0339, 0.0657, 0.0430],\n",
      "        [0.0368, 0.0579, 0.0207, 0.0699, 0.0483],\n",
      "        [0.0363, 0.0544, 0.0313, 0.0715, 0.0429],\n",
      "        [0.0447, 0.0444, 0.0727, 0.0507, 0.0519],\n",
      "        [0.0459, 0.0248, 0.0330, 0.0378, 0.0500],\n",
      "        [0.0497, 0.0441, 0.0302, 0.0501, 0.0647],\n",
      "        [0.0689, 0.0507, 0.0578, 0.0409, 0.0322],\n",
      "        [0.0300, 0.0284, 0.0273, 0.0567, 0.0433],\n",
      "        [0.0346, 0.0312, 0.0486, 0.0311, 0.0547],\n",
      "        [0.0556, 0.0498, 0.0168, 0.0559, 0.0651],\n",
      "        [0.0582, 0.0451, 0.0433, 0.0945, 0.0539],\n",
      "        [0.0562, 0.0426, 0.0383, 0.0700, 0.0608],\n",
      "        [0.0693, 0.0177, 0.0844, 0.0690, 0.0407],\n",
      "        [0.0394, 0.0487, 0.0410, 0.0680, 0.0303],\n",
      "        [0.0494, 0.0547, 0.0331, 0.0512, 0.0481],\n",
      "        [0.0430, 0.0466, 0.0734, 0.0488, 0.0485],\n",
      "        [0.0769, 0.0420, 0.0830, 0.0604, 0.0202],\n",
      "        [0.0442, 0.0634, 0.0449, 0.0548, 0.0533],\n",
      "        [0.0824, 0.0415, 0.0411, 0.0346, 0.0418],\n",
      "        [0.0564, 0.0431, 0.0764, 0.0351, 0.0511]], grad_fn=<UnbindBackward0>), tensor([[0.0765, 0.0499, 0.0936, 0.0598, 0.0468],\n",
      "        [0.0477, 0.0257, 0.0625, 0.0306, 0.0490],\n",
      "        [0.0447, 0.0710, 0.0468, 0.0608, 0.0408],\n",
      "        [0.0132, 0.0360, 0.0476, 0.0227, 0.0498],\n",
      "        [0.0654, 0.0356, 0.0371, 0.0826, 0.0415],\n",
      "        [0.0509, 0.0809, 0.0220, 0.0583, 0.0373],\n",
      "        [0.0191, 0.0401, 0.0526, 0.0281, 0.0576],\n",
      "        [0.0782, 0.0538, 0.0805, 0.1074, 0.0272],\n",
      "        [0.0385, 0.0438, 0.0406, 0.0528, 0.0605],\n",
      "        [0.0593, 0.0255, 0.0323, 0.0395, 0.0403],\n",
      "        [0.0473, 0.0348, 0.0383, 0.0651, 0.0371],\n",
      "        [0.0430, 0.0301, 0.0383, 0.0325, 0.0539],\n",
      "        [0.0600, 0.0612, 0.0531, 0.0529, 0.0417],\n",
      "        [0.0483, 0.0601, 0.0337, 0.0473, 0.0518],\n",
      "        [0.0312, 0.0521, 0.0415, 0.0842, 0.0491],\n",
      "        [0.0375, 0.0558, 0.0534, 0.0571, 0.0466],\n",
      "        [0.0445, 0.0579, 0.0441, 0.0605, 0.0580],\n",
      "        [0.0430, 0.0357, 0.0354, 0.0752, 0.0571],\n",
      "        [0.0388, 0.0405, 0.0416, 0.0560, 0.0430],\n",
      "        [0.0681, 0.0499, 0.0518, 0.0685, 0.0694],\n",
      "        [0.0869, 0.0700, 0.0633, 0.0860, 0.0647],\n",
      "        [0.0674, 0.0408, 0.0443, 0.0220, 0.0407],\n",
      "        [0.0523, 0.0473, 0.1141, 0.0510, 0.0569],\n",
      "        [0.0584, 0.0338, 0.0376, 0.0473, 0.0458],\n",
      "        [0.0285, 0.0236, 0.0668, 0.0560, 0.0413],\n",
      "        [0.0437, 0.0813, 0.0364, 0.0435, 0.0299],\n",
      "        [0.0506, 0.0255, 0.0293, 0.0356, 0.0577],\n",
      "        [0.0535, 0.0607, 0.0563, 0.0376, 0.0419],\n",
      "        [0.0795, 0.0421, 0.0562, 0.0765, 0.0354],\n",
      "        [0.0321, 0.0362, 0.0482, 0.0277, 0.0717],\n",
      "        [0.0327, 0.0420, 0.0437, 0.0615, 0.0196],\n",
      "        [0.0612, 0.0459, 0.0410, 0.0430, 0.0319],\n",
      "        [0.0755, 0.0557, 0.0501, 0.0669, 0.0695],\n",
      "        [0.0310, 0.0769, 0.0545, 0.0639, 0.0443],\n",
      "        [0.0637, 0.0620, 0.0474, 0.0381, 0.0431],\n",
      "        [0.0289, 0.0262, 0.0485, 0.0657, 0.0580],\n",
      "        [0.0346, 0.0546, 0.0401, 0.0498, 0.0507],\n",
      "        [0.0786, 0.0527, 0.0519, 0.0556, 0.0467],\n",
      "        [0.0337, 0.0267, 0.0545, 0.0551, 0.0510],\n",
      "        [0.0459, 0.0780, 0.0533, 0.0703, 0.0537],\n",
      "        [0.0406, 0.0473, 0.0556, 0.0277, 0.0418],\n",
      "        [0.0677, 0.0537, 0.0327, 0.0494, 0.0144],\n",
      "        [0.0710, 0.0436, 0.0538, 0.0464, 0.0463],\n",
      "        [0.0185, 0.0464, 0.0260, 0.0581, 0.0164],\n",
      "        [0.0513, 0.0608, 0.0552, 0.0489, 0.0522],\n",
      "        [0.0746, 0.0441, 0.0467, 0.0799, 0.0410],\n",
      "        [0.0488, 0.0687, 0.0413, 0.0515, 0.0525],\n",
      "        [0.0458, 0.0631, 0.0324, 0.0672, 0.0595],\n",
      "        [0.0642, 0.0422, 0.0706, 0.0439, 0.0484],\n",
      "        [0.0763, 0.0463, 0.0521, 0.0756, 0.0826],\n",
      "        [0.0192, 0.0419, 0.0447, 0.0282, 0.0531],\n",
      "        [0.0457, 0.0299, 0.0254, 0.0674, 0.0514],\n",
      "        [0.0513, 0.0646, 0.0464, 0.0569, 0.0586],\n",
      "        [0.0359, 0.0515, 0.0549, 0.0599, 0.0514],\n",
      "        [0.0423, 0.0526, 0.0600, 0.0554, 0.0481],\n",
      "        [0.0146, 0.0569, 0.0395, 0.0734, 0.0587],\n",
      "        [0.0442, 0.0608, 0.0296, 0.0729, 0.0613],\n",
      "        [0.0355, 0.0498, 0.0652, 0.0491, 0.0481],\n",
      "        [0.1018, 0.0583, 0.0469, 0.0290, 0.0405],\n",
      "        [0.0279, 0.0312, 0.0480, 0.0691, 0.0496],\n",
      "        [0.0458, 0.0797, 0.0343, 0.0495, 0.0205],\n",
      "        [0.0399, 0.0466, 0.0277, 0.0782, 0.0520],\n",
      "        [0.0276, 0.0775, 0.0346, 0.0576, 0.0559],\n",
      "        [0.0441, 0.0630, 0.0419, 0.0737, 0.0432],\n",
      "        [0.0526, 0.0543, 0.0574, 0.0377, 0.0177],\n",
      "        [0.0669, 0.0507, 0.0518, 0.0807, 0.0416],\n",
      "        [0.0415, 0.0529, 0.0616, 0.0532, 0.0507],\n",
      "        [0.0505, 0.0491, 0.0275, 0.0433, 0.0459],\n",
      "        [0.0162, 0.0327, 0.0352, 0.0287, 0.0477],\n",
      "        [0.0755, 0.0534, 0.0455, 0.0583, 0.0547],\n",
      "        [0.0321, 0.0346, 0.0434, 0.0330, 0.0617],\n",
      "        [0.0479, 0.0413, 0.0571, 0.0791, 0.0580],\n",
      "        [0.0778, 0.0451, 0.0451, 0.0549, 0.0375],\n",
      "        [0.0527, 0.0532, 0.0812, 0.0363, 0.0400],\n",
      "        [0.0541, 0.0908, 0.0493, 0.0404, 0.0546],\n",
      "        [0.0408, 0.0457, 0.0531, 0.0588, 0.0421],\n",
      "        [0.0326, 0.0732, 0.0520, 0.0662, 0.0367],\n",
      "        [0.0362, 0.0609, 0.0604, 0.0628, 0.0408],\n",
      "        [0.0275, 0.0546, 0.0725, 0.0394, 0.0475],\n",
      "        [0.0413, 0.0596, 0.0345, 0.0565, 0.0535],\n",
      "        [0.0373, 0.0837, 0.0345, 0.0675, 0.0515],\n",
      "        [0.0397, 0.0553, 0.0212, 0.0638, 0.0360],\n",
      "        [0.0391, 0.0654, 0.0381, 0.0705, 0.0282],\n",
      "        [0.0388, 0.0522, 0.0707, 0.0459, 0.0421],\n",
      "        [0.0482, 0.0272, 0.0381, 0.0346, 0.0438],\n",
      "        [0.0503, 0.0520, 0.0219, 0.0437, 0.0596],\n",
      "        [0.0717, 0.0559, 0.0534, 0.0456, 0.0275],\n",
      "        [0.0333, 0.0363, 0.0409, 0.0458, 0.0332],\n",
      "        [0.0313, 0.0292, 0.0473, 0.0265, 0.0726],\n",
      "        [0.0536, 0.0476, 0.0161, 0.0539, 0.0621],\n",
      "        [0.0566, 0.0386, 0.0362, 0.0765, 0.0570],\n",
      "        [0.0503, 0.0493, 0.0420, 0.0693, 0.0566],\n",
      "        [0.0658, 0.0182, 0.0830, 0.0560, 0.0509],\n",
      "        [0.0380, 0.0488, 0.0326, 0.0471, 0.0319],\n",
      "        [0.0400, 0.0581, 0.0346, 0.0691, 0.0421],\n",
      "        [0.0434, 0.0509, 0.0651, 0.0505, 0.0458],\n",
      "        [0.0641, 0.0502, 0.0809, 0.0715, 0.0177],\n",
      "        [0.0411, 0.0628, 0.0478, 0.0583, 0.0638],\n",
      "        [0.0834, 0.0296, 0.0367, 0.0326, 0.0521],\n",
      "        [0.0408, 0.0451, 0.0847, 0.0292, 0.0484]], grad_fn=<UnbindBackward0>))\n"
     ]
    },
    {
     "name": "stdin",
     "output_type": "stream",
     "text": [
      "ipdb>  q\n"
     ]
    }
   ],
   "source": [
    "%debug"
   ]
  },
  {
   "cell_type": "code",
   "execution_count": 107,
   "id": "79dffa3b-b20b-4321-b03a-7835e0c5a012",
   "metadata": {},
   "outputs": [
    {
     "ename": "AttributeError",
     "evalue": "'SPoSE_ID' object has no attribute 'model2'",
     "output_type": "error",
     "traceback": [
      "\u001b[1;31m---------------------------------------------------------------------------\u001b[0m",
      "\u001b[1;31mAttributeError\u001b[0m                            Traceback (most recent call last)",
      "Cell \u001b[1;32mIn[107], line 1\u001b[0m\n\u001b[1;32m----> 1\u001b[0m model\u001b[38;5;241m.\u001b[39mmodel2\u001b[38;5;241m.\u001b[39mindividual_temp\n",
      "File \u001b[1;32m~\\Miniconda3\\envs\\representationsID\\Lib\\site-packages\\torch\\nn\\modules\\module.py:1931\u001b[0m, in \u001b[0;36mModule.__getattr__\u001b[1;34m(self, name)\u001b[0m\n\u001b[0;32m   1929\u001b[0m     \u001b[38;5;28;01mif\u001b[39;00m name \u001b[38;5;129;01min\u001b[39;00m modules:\n\u001b[0;32m   1930\u001b[0m         \u001b[38;5;28;01mreturn\u001b[39;00m modules[name]\n\u001b[1;32m-> 1931\u001b[0m \u001b[38;5;28;01mraise\u001b[39;00m \u001b[38;5;167;01mAttributeError\u001b[39;00m(\n\u001b[0;32m   1932\u001b[0m     \u001b[38;5;124mf\u001b[39m\u001b[38;5;124m\"\u001b[39m\u001b[38;5;124m'\u001b[39m\u001b[38;5;132;01m{\u001b[39;00m\u001b[38;5;28mtype\u001b[39m(\u001b[38;5;28mself\u001b[39m)\u001b[38;5;241m.\u001b[39m\u001b[38;5;18m__name__\u001b[39m\u001b[38;5;132;01m}\u001b[39;00m\u001b[38;5;124m'\u001b[39m\u001b[38;5;124m object has no attribute \u001b[39m\u001b[38;5;124m'\u001b[39m\u001b[38;5;132;01m{\u001b[39;00mname\u001b[38;5;132;01m}\u001b[39;00m\u001b[38;5;124m'\u001b[39m\u001b[38;5;124m\"\u001b[39m\n\u001b[0;32m   1933\u001b[0m )\n",
      "\u001b[1;31mAttributeError\u001b[0m: 'SPoSE_ID' object has no attribute 'model2'"
     ]
    }
   ],
   "source": [
    "model.model2.individual_temp"
   ]
  },
  {
   "cell_type": "code",
   "execution_count": 106,
   "id": "8faf3612-ee07-4d4f-9952-61f5a2299236",
   "metadata": {},
   "outputs": [
    {
     "data": {
      "text/plain": [
       "array([[1.2488026e-04, 5.4249448e-01, 4.6119004e-01, ..., 2.6513796e-02,\n",
       "        5.1370466e-01, 5.4254532e-03],\n",
       "       [8.4570572e-03, 5.3880185e-01, 4.4871181e-01, ..., 1.9630427e-02,\n",
       "        5.1940149e-01, 7.5151920e-03],\n",
       "       [7.5001414e-03, 5.6534922e-01, 5.4045355e-01, ..., 2.4781615e-02,\n",
       "        5.3451508e-01, 6.1446461e-03],\n",
       "       [5.5434802e-03, 5.1286918e-01, 4.3171996e-01, ..., 2.5860973e-02,\n",
       "        5.8949488e-01, 5.2375770e-03],\n",
       "       [2.2367933e-03, 5.2881318e-01, 3.9170602e-01, ..., 1.8137183e-02,\n",
       "        6.0324448e-01, 3.0320287e-03]], dtype=float32)"
      ]
     },
     "execution_count": 106,
     "metadata": {},
     "output_type": "execute_result"
    }
   ],
   "source": [
    "W.detach().numpy()"
   ]
  },
  {
   "cell_type": "code",
   "execution_count": 97,
   "id": "6c8f5903-a779-459e-82b8-edffb06f06b5",
   "metadata": {},
   "outputs": [
    {
     "data": {
      "text/plain": [
       "array([[4.4163256e-03, 9.0080708e-01, 8.3867741e-01, ..., 4.7263638e-03,\n",
       "        9.0297687e-01, 1.8213496e-03],\n",
       "       [1.9821785e-03, 8.3191413e-01, 8.2467502e-01, ..., 3.0178870e-03,\n",
       "        9.2473161e-01, 9.0029743e-03],\n",
       "       [9.5303543e-04, 9.0386522e-01, 8.5980487e-01, ..., 2.8125320e-03,\n",
       "        9.0631515e-01, 4.8444886e-03],\n",
       "       [3.1128111e-03, 8.5169780e-01, 8.5115469e-01, ..., 2.4082672e-03,\n",
       "        9.1601223e-01, 4.4557704e-03],\n",
       "       [1.2365832e-04, 8.4126085e-01, 8.1123960e-01, ..., 4.6370127e-03,\n",
       "        8.9525217e-01, 1.0374830e-02]], dtype=float32)"
      ]
     },
     "execution_count": 97,
     "metadata": {},
     "output_type": "execute_result"
    }
   ],
   "source": [
    "W.detach().numpy()"
   ]
  },
  {
   "cell_type": "code",
   "execution_count": 89,
   "id": "3708c078-cd08-40eb-a467-441352799770",
   "metadata": {},
   "outputs": [
    {
     "data": {
      "text/plain": [
       "array([[0.00210072, 0.420163  , 0.43454918, ..., 0.00692283, 0.5933233 ,\n",
       "        0.01272796],\n",
       "       [0.00144666, 0.4043298 , 0.41609097, ..., 0.00506097, 0.5559423 ,\n",
       "        0.0078155 ],\n",
       "       [0.00182202, 0.440309  , 0.407759  , ..., 0.00682421, 0.5857174 ,\n",
       "        0.01419358],\n",
       "       [0.00310083, 0.4267743 , 0.40370175, ..., 0.00368708, 0.58716834,\n",
       "        0.01045753],\n",
       "       [0.00216038, 0.40577433, 0.4294411 , ..., 0.00715684, 0.5774063 ,\n",
       "        0.01094915]], dtype=float32)"
      ]
     },
     "execution_count": 89,
     "metadata": {},
     "output_type": "execute_result"
    }
   ],
   "source": [
    "W.detach().numpy()"
   ]
  },
  {
   "cell_type": "code",
   "execution_count": 85,
   "id": "68990674-16e7-4ac9-add7-f2529862f081",
   "metadata": {},
   "outputs": [
    {
     "data": {
      "text/plain": [
       "torch.Size([5, 1854])"
      ]
     },
     "execution_count": 85,
     "metadata": {},
     "output_type": "execute_result"
    }
   ],
   "source": [
    "W.shape"
   ]
  },
  {
   "cell_type": "code",
   "execution_count": 99,
   "id": "24b4cbe7-acaf-4c09-9f64-6a5812c2300a",
   "metadata": {},
   "outputs": [
    {
     "data": {
      "text/plain": [
       "Parameter containing:\n",
       "tensor([0.7242, 0.6954, 0.7195, 0.7015, 0.6930], requires_grad=True)"
      ]
     },
     "execution_count": 99,
     "metadata": {},
     "output_type": "execute_result"
    }
   ],
   "source": [
    "model.global_mean"
   ]
  },
  {
   "cell_type": "code",
   "execution_count": 100,
   "id": "114c9066-acc5-4cd1-b82b-6cd4db9acbaa",
   "metadata": {},
   "outputs": [
    {
     "data": {
      "text/plain": [
       "Parameter containing:\n",
       "tensor([1.6273, 1.5620, 1.6078, 1.6056, 1.5486], requires_grad=True)"
      ]
     },
     "execution_count": 100,
     "metadata": {},
     "output_type": "execute_result"
    }
   ],
   "source": [
    "model.global_std"
   ]
  },
  {
   "cell_type": "code",
   "execution_count": 102,
   "id": "4e75f370-8c14-4da5-b116-a6c4af1c2a25",
   "metadata": {},
   "outputs": [
    {
     "data": {
      "text/plain": [
       "array([[0.71978843, 0.6919417 , 0.7152474 , 0.69772637, 0.68903816],\n",
       "       [0.71958333, 0.69228286, 0.71639913, 0.6982293 , 0.6916885 ],\n",
       "       [0.7185298 , 0.6897603 , 0.71348894, 0.69557405, 0.6866857 ],\n",
       "       ...,\n",
       "       [0.71718425, 0.68939465, 0.71281224, 0.6960883 , 0.68829036],\n",
       "       [0.7418074 , 0.7106149 , 0.73667794, 0.71739197, 0.70760006],\n",
       "       [0.71776676, 0.6889095 , 0.712183  , 0.6964258 , 0.6857342 ]],\n",
       "      dtype=float32)"
      ]
     },
     "execution_count": 102,
     "metadata": {},
     "output_type": "execute_result"
    }
   ],
   "source": [
    "model.individual_slopes.weight.detach().numpy()"
   ]
  },
  {
   "cell_type": "code",
   "execution_count": 88,
   "id": "ada7bb62-3e4a-4472-adc6-6222f6f42c72",
   "metadata": {},
   "outputs": [
    {
     "data": {
      "text/plain": [
       "array([[0.6320544 , 0.6068339 , 0.619429  , 0.6246506 , 0.62808615],\n",
       "       [0.6496101 , 0.61717767, 0.63376534, 0.6407734 , 0.64298815],\n",
       "       [0.63799673, 0.61541986, 0.62699723, 0.6311339 , 0.63246214],\n",
       "       ...,\n",
       "       [0.64621526, 0.6246882 , 0.64007556, 0.6397715 , 0.640133  ],\n",
       "       [0.6317623 , 0.59836715, 0.61660486, 0.6250277 , 0.62885207],\n",
       "       [0.6399908 , 0.6139921 , 0.62775934, 0.63292557, 0.6340461 ]],\n",
       "      dtype=float32)"
      ]
     },
     "execution_count": 88,
     "metadata": {},
     "output_type": "execute_result"
    }
   ],
   "source": [
    "model.model1.individual_slopes.weight.detach().numpy()"
   ]
  },
  {
   "cell_type": "code",
   "execution_count": 126,
   "id": "82323b67-d32c-4895-a7d0-aaca30ef8ee8",
   "metadata": {},
   "outputs": [
    {
     "data": {
      "text/plain": [
       "Parameter containing:\n",
       "tensor([[-7.6436e-01],\n",
       "        [-5.1557e-02],\n",
       "        [-1.5459e-01],\n",
       "        [-8.6382e-01],\n",
       "        [-5.1407e-03],\n",
       "        [-6.9536e-01],\n",
       "        [-1.0887e+00],\n",
       "        [-1.7769e+00],\n",
       "        [-8.0748e-03],\n",
       "        [-6.8873e-01],\n",
       "        [-4.4547e-02],\n",
       "        [-4.1903e-02],\n",
       "        [-1.2077e-02],\n",
       "        [-1.9350e+00],\n",
       "        [-1.5257e+00],\n",
       "        [-8.4641e-02],\n",
       "        [-2.0964e-02],\n",
       "        [-1.2533e+00],\n",
       "        [-3.4858e-01],\n",
       "        [-2.7414e-01],\n",
       "        [-1.1948e+00],\n",
       "        [-1.4754e-02],\n",
       "        [-1.2429e+00],\n",
       "        [-1.6385e+00],\n",
       "        [-9.6206e-02],\n",
       "        [-3.5212e-02],\n",
       "        [-1.4969e-01],\n",
       "        [-3.6804e-01],\n",
       "        [-1.1080e+00],\n",
       "        [-2.7782e-01],\n",
       "        [-1.1424e+00],\n",
       "        [-4.9042e-01],\n",
       "        [-1.7728e+00],\n",
       "        [-5.1587e-01],\n",
       "        [-5.5594e-02],\n",
       "        [-6.5030e-01],\n",
       "        [-2.5292e-02],\n",
       "        [-2.6585e-01],\n",
       "        [-4.4434e-02],\n",
       "        [-1.5704e-01],\n",
       "        [-8.5394e-01],\n",
       "        [-1.0588e+00],\n",
       "        [-1.1179e+00],\n",
       "        [-1.3327e+00],\n",
       "        [-7.5698e-01],\n",
       "        [-1.1110e+00],\n",
       "        [-3.5907e-02],\n",
       "        [-4.7816e-01],\n",
       "        [-4.3952e-01],\n",
       "        [-3.0480e-02],\n",
       "        [-1.3033e+00],\n",
       "        [-8.7907e-01],\n",
       "        [-6.8709e-01],\n",
       "        [-4.5190e-01],\n",
       "        [-5.8696e-01],\n",
       "        [-2.4628e+00],\n",
       "        [-5.9003e-01],\n",
       "        [-1.6847e+00],\n",
       "        [-5.5221e-01],\n",
       "        [-1.7386e-01],\n",
       "        [-1.1081e+00],\n",
       "        [-1.1306e+00],\n",
       "        [-1.2333e-01],\n",
       "        [-6.9534e-01],\n",
       "        [-1.0056e+00],\n",
       "        [-1.2758e+00],\n",
       "        [-1.0404e+00],\n",
       "        [-2.3032e+00],\n",
       "        [ 2.7040e-03],\n",
       "        [-8.4704e-01],\n",
       "        [-4.6498e-02],\n",
       "        [-1.0872e+00],\n",
       "        [-1.3119e+00],\n",
       "        [-2.0788e-01],\n",
       "        [-1.8527e+00],\n",
       "        [-4.1277e-02],\n",
       "        [-6.8604e-03],\n",
       "        [-3.7859e-01],\n",
       "        [-1.3907e-01],\n",
       "        [-1.6239e+00],\n",
       "        [-1.6256e+00],\n",
       "        [-1.5758e+00],\n",
       "        [-1.4663e+00],\n",
       "        [-2.7699e-01],\n",
       "        [-1.4185e-01],\n",
       "        [-6.9250e-02],\n",
       "        [-1.3343e+00],\n",
       "        [-1.2238e+00],\n",
       "        [-6.7237e-01],\n",
       "        [-1.1834e-01],\n",
       "        [-4.2042e-01],\n",
       "        [-5.4589e-01],\n",
       "        [-1.6147e-01],\n",
       "        [-5.3826e-01],\n",
       "        [-1.4046e+00],\n",
       "        [-1.8852e-01],\n",
       "        [-1.6328e+00],\n",
       "        [-1.8040e-01],\n",
       "        [-1.0464e-01],\n",
       "        [-1.8349e-01],\n",
       "        [-1.1464e+00],\n",
       "        [-1.6727e+00],\n",
       "        [-1.4550e-01],\n",
       "        [-3.2369e-01],\n",
       "        [-1.2181e+00],\n",
       "        [-1.1720e+00],\n",
       "        [-1.4366e+00],\n",
       "        [-2.6803e-01],\n",
       "        [-3.6672e-01],\n",
       "        [-1.1416e-01],\n",
       "        [-2.0387e-02],\n",
       "        [-1.6502e+00],\n",
       "        [-3.0060e-01],\n",
       "        [-1.8537e-01],\n",
       "        [-9.5338e-01],\n",
       "        [-2.0734e+00],\n",
       "        [-4.6850e-01],\n",
       "        [-3.3871e-01],\n",
       "        [-8.8383e-01],\n",
       "        [-5.8135e-01],\n",
       "        [-3.6026e-01],\n",
       "        [-1.4032e-02],\n",
       "        [-5.9456e-01],\n",
       "        [-7.8075e-01],\n",
       "        [-6.5828e-01],\n",
       "        [-4.4288e-01],\n",
       "        [-6.3511e-01],\n",
       "        [-6.1665e-01],\n",
       "        [-6.4900e-01],\n",
       "        [-2.1442e+00],\n",
       "        [-8.2829e-01],\n",
       "        [-1.6415e+00],\n",
       "        [-1.2135e+00],\n",
       "        [-1.5906e+00],\n",
       "        [-6.6389e-02],\n",
       "        [-7.2353e-01],\n",
       "        [-1.2676e+00],\n",
       "        [ 7.6029e-02],\n",
       "        [-1.4598e-01],\n",
       "        [-1.5100e+00],\n",
       "        [-5.8437e-01],\n",
       "        [-8.0158e-01],\n",
       "        [-1.4542e+00],\n",
       "        [-7.6851e-01],\n",
       "        [-1.9295e-01],\n",
       "        [-4.0937e-01],\n",
       "        [-1.6877e+00],\n",
       "        [-2.3418e-01],\n",
       "        [-1.5161e-01],\n",
       "        [-5.3603e-02],\n",
       "        [-8.7765e-01],\n",
       "        [-2.2166e+00],\n",
       "        [-1.3128e+00],\n",
       "        [-2.5800e-01],\n",
       "        [ 2.2290e-02],\n",
       "        [-6.3572e-01],\n",
       "        [-1.1089e-02],\n",
       "        [-4.6887e-02],\n",
       "        [-3.6928e-01],\n",
       "        [-4.5326e-01],\n",
       "        [-2.4470e-02],\n",
       "        [-1.7443e-01],\n",
       "        [-1.5221e+00],\n",
       "        [-1.2575e+00],\n",
       "        [-3.5237e-02],\n",
       "        [ 2.1160e-03],\n",
       "        [-1.5310e+00],\n",
       "        [-1.1016e+00],\n",
       "        [-3.6955e-01],\n",
       "        [-2.8678e-02],\n",
       "        [-9.3346e-01],\n",
       "        [-8.8766e-01],\n",
       "        [-1.3484e-02],\n",
       "        [-1.3753e-02],\n",
       "        [-9.3309e-02],\n",
       "        [-9.4606e-02],\n",
       "        [-5.9425e-01],\n",
       "        [-1.6323e+00],\n",
       "        [-1.1948e+00],\n",
       "        [-5.2578e-01],\n",
       "        [-1.1234e+00],\n",
       "        [-3.9347e-01],\n",
       "        [-1.1515e+00],\n",
       "        [-3.5715e-01],\n",
       "        [-1.9235e+00],\n",
       "        [-5.4209e-03],\n",
       "        [-1.5043e+00],\n",
       "        [-2.8249e-01],\n",
       "        [ 5.9425e-02],\n",
       "        [-3.7124e-01],\n",
       "        [-1.7872e+00],\n",
       "        [-6.9280e-01],\n",
       "        [-4.1746e-01],\n",
       "        [-4.5271e-01],\n",
       "        [-2.4342e-01],\n",
       "        [-1.3281e-01],\n",
       "        [-2.4961e-02],\n",
       "        [-1.3038e+00],\n",
       "        [-9.0307e-01],\n",
       "        [-2.1882e-01],\n",
       "        [-7.7345e-01],\n",
       "        [-1.3285e-01],\n",
       "        [-3.4384e-01],\n",
       "        [-1.2539e+00],\n",
       "        [-4.9270e-01],\n",
       "        [-1.4783e+00],\n",
       "        [-6.6513e-01],\n",
       "        [-4.0689e-01],\n",
       "        [-5.5131e-02],\n",
       "        [-2.5304e-01],\n",
       "        [-1.9373e+00],\n",
       "        [-6.7644e-01],\n",
       "        [-9.9845e-01],\n",
       "        [-9.3084e-01],\n",
       "        [-3.1884e-01],\n",
       "        [-1.9708e+00],\n",
       "        [-1.7212e+00],\n",
       "        [-1.4695e+00],\n",
       "        [-6.7256e-02],\n",
       "        [-1.8835e-01],\n",
       "        [-4.2621e-01],\n",
       "        [-3.2821e-01],\n",
       "        [-6.6372e-01],\n",
       "        [-1.4845e+00],\n",
       "        [-1.3131e-01],\n",
       "        [-5.7898e-01],\n",
       "        [-1.9239e+00],\n",
       "        [-1.2530e+00],\n",
       "        [-5.9480e-01],\n",
       "        [-4.8018e-01],\n",
       "        [-1.7116e+00],\n",
       "        [-3.3346e-01],\n",
       "        [-4.1034e-02],\n",
       "        [-7.0365e-02],\n",
       "        [-1.9857e-01],\n",
       "        [-1.5315e+00],\n",
       "        [-4.0689e-02],\n",
       "        [-6.0035e-01],\n",
       "        [-1.1255e+00],\n",
       "        [-4.9273e-01],\n",
       "        [-1.5699e+00],\n",
       "        [-1.7234e-02],\n",
       "        [-4.9372e-01],\n",
       "        [-1.4977e+00],\n",
       "        [-2.0004e-02],\n",
       "        [-5.5239e-03],\n",
       "        [-6.2073e-01],\n",
       "        [-1.0879e+00],\n",
       "        [-1.1309e+00],\n",
       "        [-9.5598e-01],\n",
       "        [-1.5032e+00],\n",
       "        [-5.6862e-01],\n",
       "        [-1.4328e+00],\n",
       "        [-5.9739e-01],\n",
       "        [-8.5546e-01],\n",
       "        [-7.2050e-01],\n",
       "        [ 1.8699e-02],\n",
       "        [-6.7786e-02],\n",
       "        [-3.2359e-01],\n",
       "        [-1.4595e+00],\n",
       "        [-1.2660e+00],\n",
       "        [-8.6285e-01],\n",
       "        [-1.6786e-01],\n",
       "        [-3.8746e-01],\n",
       "        [-4.4145e-03],\n",
       "        [-6.1035e-03],\n",
       "        [-2.7579e-02],\n",
       "        [-1.2240e+00],\n",
       "        [-3.2291e-01],\n",
       "        [-2.5616e-01],\n",
       "        [-1.0555e+00],\n",
       "        [-5.2654e-01],\n",
       "        [-7.7900e-01],\n",
       "        [-1.8664e-01],\n",
       "        [-4.3447e-01],\n",
       "        [-1.1434e+00],\n",
       "        [-5.5359e-02],\n",
       "        [-1.0020e-01],\n",
       "        [-9.1895e-01],\n",
       "        [-5.2984e-01],\n",
       "        [-1.7307e-01],\n",
       "        [-1.7932e+00],\n",
       "        [-1.2317e+00],\n",
       "        [-1.5187e-01],\n",
       "        [-1.3794e+00],\n",
       "        [-7.1640e-01],\n",
       "        [-5.5795e-01],\n",
       "        [-1.2814e+00],\n",
       "        [-8.0497e-01],\n",
       "        [-3.6097e-01],\n",
       "        [-2.3891e-01],\n",
       "        [-8.8904e-01],\n",
       "        [ 2.4446e-03],\n",
       "        [-9.7091e-01],\n",
       "        [ 3.9478e-03],\n",
       "        [-1.2707e-01],\n",
       "        [-1.3415e-01],\n",
       "        [-4.2866e-02],\n",
       "        [-9.2307e-01],\n",
       "        [-6.7353e-01],\n",
       "        [-2.1904e-01],\n",
       "        [-1.4140e+00],\n",
       "        [-6.6191e-01],\n",
       "        [-3.3194e-02],\n",
       "        [-3.0834e-01],\n",
       "        [-8.0685e-01],\n",
       "        [-1.1387e+00],\n",
       "        [-1.4306e+00],\n",
       "        [-4.6474e-01],\n",
       "        [-1.3580e+00],\n",
       "        [-8.2475e-01],\n",
       "        [-4.2497e-02],\n",
       "        [-1.4456e+00],\n",
       "        [-9.6447e-02],\n",
       "        [-8.7756e-01],\n",
       "        [-2.8682e-01],\n",
       "        [-8.5563e-01],\n",
       "        [-1.7101e+00],\n",
       "        [-6.5604e-01],\n",
       "        [-1.0128e+00],\n",
       "        [-5.2345e-01],\n",
       "        [-1.4401e-01],\n",
       "        [-1.5091e-01],\n",
       "        [-1.7443e+00],\n",
       "        [-1.3231e-01],\n",
       "        [-3.5697e-01],\n",
       "        [-3.3772e-01],\n",
       "        [-9.1696e-01],\n",
       "        [-1.0022e+00],\n",
       "        [-3.2997e-01],\n",
       "        [-2.9181e-01],\n",
       "        [-4.6080e-01],\n",
       "        [-1.1564e+00],\n",
       "        [-9.3990e-02],\n",
       "        [-1.4108e+00],\n",
       "        [-1.3622e+00],\n",
       "        [-1.7658e+00],\n",
       "        [-9.9394e-02],\n",
       "        [-3.2822e-01],\n",
       "        [-8.0965e-01],\n",
       "        [-5.4234e-01],\n",
       "        [-1.2436e+00],\n",
       "        [-6.4328e-01],\n",
       "        [-7.8677e-01],\n",
       "        [-1.5633e+00],\n",
       "        [-6.6872e-01],\n",
       "        [-6.2507e-01],\n",
       "        [-1.4740e-02],\n",
       "        [-2.7156e-01],\n",
       "        [-1.1744e+00],\n",
       "        [-6.1980e-01],\n",
       "        [-1.9750e-02],\n",
       "        [-4.7369e-01],\n",
       "        [-1.6837e+00],\n",
       "        [-2.2827e+00],\n",
       "        [-1.3744e-01],\n",
       "        [-2.1426e-01],\n",
       "        [-1.2351e+00],\n",
       "        [-8.5750e-03],\n",
       "        [-2.2016e-01],\n",
       "        [ 1.1474e-02],\n",
       "        [-4.7546e-01],\n",
       "        [-3.8487e-01],\n",
       "        [-2.9275e-03],\n",
       "        [-1.1887e+00],\n",
       "        [-1.4804e+00],\n",
       "        [-8.4854e-01],\n",
       "        [-8.3717e-01],\n",
       "        [-7.3201e-01],\n",
       "        [-1.1214e+00],\n",
       "        [-6.6508e-01],\n",
       "        [-4.9555e-01],\n",
       "        [-1.4739e+00],\n",
       "        [-9.2414e-01],\n",
       "        [-1.8276e-01],\n",
       "        [-1.5826e+00],\n",
       "        [-3.7931e-01],\n",
       "        [-5.8268e-01],\n",
       "        [-2.4698e-01],\n",
       "        [-3.2112e-02],\n",
       "        [-4.9737e-01],\n",
       "        [-1.3078e+00],\n",
       "        [-2.1404e+00],\n",
       "        [-7.8648e-01],\n",
       "        [-4.2115e-01],\n",
       "        [-2.0037e+00],\n",
       "        [-8.9261e-01],\n",
       "        [-4.2303e-03],\n",
       "        [-1.0566e+00],\n",
       "        [-1.7771e+00],\n",
       "        [-1.0941e+00],\n",
       "        [-5.9349e-01],\n",
       "        [-3.0283e-01],\n",
       "        [-1.6759e+00],\n",
       "        [-1.2340e+00],\n",
       "        [-1.2910e-01],\n",
       "        [-1.6186e+00],\n",
       "        [-1.7161e+00],\n",
       "        [-2.3286e-01],\n",
       "        [-1.3611e+00],\n",
       "        [-3.6068e-01],\n",
       "        [-4.8913e-02],\n",
       "        [-4.0616e-01],\n",
       "        [-1.2794e+00],\n",
       "        [-2.0569e-01],\n",
       "        [-1.2202e+00],\n",
       "        [-1.6830e-01],\n",
       "        [-3.9856e-01],\n",
       "        [-3.4937e-01],\n",
       "        [-1.3616e+00],\n",
       "        [-2.1386e+00],\n",
       "        [-3.0926e-01],\n",
       "        [-8.9047e-01],\n",
       "        [-1.9552e-01],\n",
       "        [-1.7549e+00],\n",
       "        [-1.1540e+00],\n",
       "        [-1.3093e+00],\n",
       "        [-8.6819e-01],\n",
       "        [-2.8025e-01],\n",
       "        [-9.8063e-01],\n",
       "        [-1.7527e+00],\n",
       "        [-2.6424e-01],\n",
       "        [-1.2805e-01],\n",
       "        [-5.5474e-01],\n",
       "        [-1.1661e+00],\n",
       "        [-5.0806e-01],\n",
       "        [-3.4690e-01],\n",
       "        [-2.1587e+00],\n",
       "        [-1.4108e+00],\n",
       "        [-6.0379e-01],\n",
       "        [-1.2188e+00],\n",
       "        [-4.1675e-01],\n",
       "        [-6.0324e-01],\n",
       "        [-1.1037e+00],\n",
       "        [-7.0332e-02],\n",
       "        [-5.6655e-01],\n",
       "        [-1.2723e+00],\n",
       "        [-1.5425e-01],\n",
       "        [-9.2068e-03],\n",
       "        [-1.3276e-01],\n",
       "        [-7.7097e-01],\n",
       "        [-1.9727e+00],\n",
       "        [-1.4127e+00],\n",
       "        [-7.6651e-01],\n",
       "        [-2.0532e-01],\n",
       "        [-2.0108e+00],\n",
       "        [-2.4970e-01],\n",
       "        [-1.2439e-02],\n",
       "        [ 3.8869e-04],\n",
       "        [-1.4178e+00],\n",
       "        [-8.5030e-01],\n",
       "        [-1.9756e+00],\n",
       "        [-1.9726e-01],\n",
       "        [-1.1302e+00],\n",
       "        [-5.9741e-01],\n",
       "        [-5.3416e-02],\n",
       "        [-2.0423e-01],\n",
       "        [-4.8645e-01],\n",
       "        [-7.5118e-02],\n",
       "        [-7.7261e-02],\n",
       "        [-8.9225e-03],\n",
       "        [-8.8395e-02],\n",
       "        [-4.2906e-01],\n",
       "        [-1.5053e-01],\n",
       "        [-6.9694e-02],\n",
       "        [-7.2579e-01],\n",
       "        [-4.0068e-01],\n",
       "        [-1.6651e+00],\n",
       "        [-6.1420e-01],\n",
       "        [-4.8711e-02],\n",
       "        [-1.3674e+00],\n",
       "        [-2.8328e-01],\n",
       "        [-1.9817e-01],\n",
       "        [-1.7388e+00],\n",
       "        [-9.4464e-01],\n",
       "        [-7.0474e-02],\n",
       "        [-4.3964e-01],\n",
       "        [-8.5925e-01],\n",
       "        [-1.8788e+00],\n",
       "        [-3.4437e-01],\n",
       "        [-6.3667e-02],\n",
       "        [-7.4488e-01],\n",
       "        [-5.0107e-02],\n",
       "        [-9.5954e-01],\n",
       "        [-1.3612e-01],\n",
       "        [-1.6723e-01],\n",
       "        [ 3.7895e-04],\n",
       "        [-3.8896e-01],\n",
       "        [-1.1319e+00],\n",
       "        [-1.6056e+00],\n",
       "        [-7.2674e-02],\n",
       "        [-1.5653e+00],\n",
       "        [-2.3280e-01],\n",
       "        [-5.0272e-01],\n",
       "        [-8.2878e-01],\n",
       "        [-8.8535e-01],\n",
       "        [-1.1776e+00],\n",
       "        [-1.3763e+00],\n",
       "        [-2.0126e-02],\n",
       "        [-2.6720e-02],\n",
       "        [-8.0281e-01],\n",
       "        [-1.8390e-02],\n",
       "        [-8.7460e-01],\n",
       "        [-9.5338e-01],\n",
       "        [-1.7102e+00],\n",
       "        [-1.3776e-01],\n",
       "        [-2.1415e-01],\n",
       "        [-6.8964e-01],\n",
       "        [-1.0928e+00],\n",
       "        [-8.1781e-01],\n",
       "        [-3.1676e-01],\n",
       "        [-5.6554e-02],\n",
       "        [-3.0685e-01],\n",
       "        [-1.3408e-01],\n",
       "        [-6.6587e-01],\n",
       "        [-5.4722e-02],\n",
       "        [-1.0375e+00],\n",
       "        [-3.4904e-02],\n",
       "        [-1.6235e+00],\n",
       "        [-3.7239e-01],\n",
       "        [-1.1933e+00],\n",
       "        [-7.7427e-02],\n",
       "        [-4.2586e-02],\n",
       "        [-3.0450e-01],\n",
       "        [-7.8348e-01],\n",
       "        [-4.1988e-01],\n",
       "        [-3.1383e-01],\n",
       "        [-2.0501e+00],\n",
       "        [-1.0708e-02],\n",
       "        [-1.5676e+00],\n",
       "        [-1.0126e+00],\n",
       "        [-5.3222e-03],\n",
       "        [-2.3084e-01],\n",
       "        [-7.8066e-01],\n",
       "        [ 1.3414e-02],\n",
       "        [-9.9757e-01],\n",
       "        [-4.9595e-02],\n",
       "        [-4.2552e-01],\n",
       "        [-1.5033e-01],\n",
       "        [-2.9867e-03],\n",
       "        [-2.6085e-01],\n",
       "        [-6.6727e-01],\n",
       "        [-1.6293e+00],\n",
       "        [-1.0972e+00],\n",
       "        [-6.0862e-02],\n",
       "        [-1.0811e+00],\n",
       "        [-9.6189e-01],\n",
       "        [-6.7176e-02],\n",
       "        [-1.2202e+00],\n",
       "        [-1.7317e+00],\n",
       "        [-1.3931e+00],\n",
       "        [-3.1536e-01],\n",
       "        [-2.1025e-01],\n",
       "        [-5.9055e-01],\n",
       "        [-1.4840e+00],\n",
       "        [-2.1048e+00],\n",
       "        [-9.4225e-01],\n",
       "        [-1.5590e+00],\n",
       "        [ 2.5115e-03],\n",
       "        [-5.0251e-01],\n",
       "        [-7.2818e-01],\n",
       "        [-8.7968e-02],\n",
       "        [-1.0561e+00],\n",
       "        [-8.1845e-01],\n",
       "        [-2.7528e-01],\n",
       "        [-5.9179e-01],\n",
       "        [-3.0771e-01],\n",
       "        [-8.3493e-03],\n",
       "        [-3.2308e-02],\n",
       "        [-1.0590e-01],\n",
       "        [-2.3581e-01],\n",
       "        [-4.4491e-02],\n",
       "        [-1.4561e-01],\n",
       "        [-9.4561e-01],\n",
       "        [-1.6551e-01],\n",
       "        [-1.9052e-01],\n",
       "        [-1.0764e+00],\n",
       "        [-6.5853e-03],\n",
       "        [-8.8868e-01],\n",
       "        [-4.9345e-01],\n",
       "        [-8.6443e-01],\n",
       "        [-2.0530e-01],\n",
       "        [-1.2007e-01],\n",
       "        [-3.2016e-01],\n",
       "        [-1.5629e+00],\n",
       "        [-1.7448e+00],\n",
       "        [-1.4948e-01],\n",
       "        [-1.4172e-02],\n",
       "        [-1.3076e-01],\n",
       "        [ 2.1683e-01],\n",
       "        [-1.5208e+00],\n",
       "        [-1.7538e+00],\n",
       "        [-1.3651e+00],\n",
       "        [-6.0572e-01],\n",
       "        [-9.1843e-02],\n",
       "        [-3.9124e-01],\n",
       "        [-1.6706e+00],\n",
       "        [-1.1493e-01],\n",
       "        [-1.0930e+00],\n",
       "        [-6.8718e-01],\n",
       "        [-9.9505e-02],\n",
       "        [-9.5406e-01],\n",
       "        [-1.7582e+00],\n",
       "        [-8.8844e-01],\n",
       "        [-1.5783e+00],\n",
       "        [-1.9348e-01],\n",
       "        [-4.9062e-01],\n",
       "        [-6.2266e-01],\n",
       "        [-1.2624e+00],\n",
       "        [-1.9022e+00],\n",
       "        [-3.5875e-01],\n",
       "        [-8.7997e-02],\n",
       "        [-2.7679e-01],\n",
       "        [-2.8791e-01],\n",
       "        [-4.7405e-01],\n",
       "        [-2.0785e+00],\n",
       "        [-2.1715e-01],\n",
       "        [-1.2880e-01],\n",
       "        [-1.4913e-01],\n",
       "        [-1.1295e-01],\n",
       "        [-1.2442e+00],\n",
       "        [-7.1678e-01],\n",
       "        [-2.6420e-01],\n",
       "        [-1.0379e+00],\n",
       "        [-1.5192e-02],\n",
       "        [-3.8573e-01],\n",
       "        [ 1.3156e-05],\n",
       "        [-7.2326e-01],\n",
       "        [-1.9226e+00],\n",
       "        [-3.4764e-01],\n",
       "        [-1.9108e+00],\n",
       "        [-6.6993e-06],\n",
       "        [-1.7595e+00],\n",
       "        [-5.6134e-01],\n",
       "        [-8.0042e-01],\n",
       "        [-3.4581e-01],\n",
       "        [-1.1365e+00],\n",
       "        [-8.8619e-01],\n",
       "        [-7.0560e-01],\n",
       "        [-4.8223e-01],\n",
       "        [-7.9104e-01],\n",
       "        [-5.9167e-01],\n",
       "        [-2.0799e+00],\n",
       "        [-2.3627e-01],\n",
       "        [-1.4001e+00],\n",
       "        [-1.6878e-03],\n",
       "        [-7.1871e-02],\n",
       "        [-1.3966e+00],\n",
       "        [-9.1825e-02],\n",
       "        [-7.9861e-01],\n",
       "        [-3.0333e-01],\n",
       "        [ 2.0910e-04],\n",
       "        [-5.1710e-01],\n",
       "        [-4.8081e-01],\n",
       "        [-1.4563e+00],\n",
       "        [-1.3173e+00],\n",
       "        [-1.9319e+00],\n",
       "        [-9.9420e-01],\n",
       "        [-5.1253e-01],\n",
       "        [-1.0857e+00],\n",
       "        [-1.8737e+00],\n",
       "        [-1.0226e+00],\n",
       "        [-2.6806e-01],\n",
       "        [-1.2921e+00],\n",
       "        [-3.7124e-01],\n",
       "        [-2.4591e-01],\n",
       "        [-6.2436e-01],\n",
       "        [-1.5532e-02],\n",
       "        [-1.7742e+00],\n",
       "        [-1.0763e+00],\n",
       "        [-8.9985e-01],\n",
       "        [-7.9322e-01],\n",
       "        [-6.4365e-01],\n",
       "        [-2.7096e-02],\n",
       "        [-7.1461e-03],\n",
       "        [ 7.1206e-03],\n",
       "        [-4.3263e-01],\n",
       "        [-3.1012e-01],\n",
       "        [ 4.7576e-02],\n",
       "        [-6.3494e-01],\n",
       "        [-3.9017e-01],\n",
       "        [-2.3705e-01],\n",
       "        [-8.4976e-01],\n",
       "        [-1.5794e-03],\n",
       "        [-1.3179e-01],\n",
       "        [-1.1204e+00],\n",
       "        [-5.8898e-01],\n",
       "        [-6.7885e-01],\n",
       "        [-1.5919e+00],\n",
       "        [-6.8898e-02],\n",
       "        [-1.7122e+00],\n",
       "        [-1.8151e+00],\n",
       "        [-8.0555e-01],\n",
       "        [-1.6316e+00],\n",
       "        [-1.8625e+00],\n",
       "        [-5.3359e-01],\n",
       "        [-1.6725e+00],\n",
       "        [-1.2029e-01],\n",
       "        [-9.9555e-02],\n",
       "        [-1.2781e-01],\n",
       "        [-1.7724e+00],\n",
       "        [-1.0414e+00],\n",
       "        [ 4.8319e-03],\n",
       "        [-4.6272e-01],\n",
       "        [-5.4747e-01],\n",
       "        [-1.3863e+00],\n",
       "        [-8.0390e-01],\n",
       "        [-6.5153e-01],\n",
       "        [-5.8862e-01],\n",
       "        [-8.7585e-01],\n",
       "        [-7.0201e-01],\n",
       "        [-3.0652e-01],\n",
       "        [-2.5825e-01],\n",
       "        [-5.3892e-01],\n",
       "        [-8.0130e-01],\n",
       "        [-2.3051e-01],\n",
       "        [-5.1149e-01],\n",
       "        [-2.1273e+00],\n",
       "        [-1.0441e+00],\n",
       "        [-4.6762e-03],\n",
       "        [-1.5954e+00],\n",
       "        [-1.0303e+00],\n",
       "        [-3.2044e-01],\n",
       "        [-3.1813e-01],\n",
       "        [-1.0600e+00],\n",
       "        [-1.2655e-01],\n",
       "        [-2.3073e+00],\n",
       "        [-1.5853e-01],\n",
       "        [-1.7203e+00],\n",
       "        [-9.9423e-01],\n",
       "        [-1.0825e-01],\n",
       "        [-1.3437e+00],\n",
       "        [-2.2402e-01],\n",
       "        [-8.4009e-03],\n",
       "        [-7.9620e-01],\n",
       "        [-2.5403e-01],\n",
       "        [-7.9025e-01],\n",
       "        [-1.4569e+00],\n",
       "        [-9.1029e-02],\n",
       "        [-7.0399e-01],\n",
       "        [-1.3173e+00],\n",
       "        [-7.4528e-01],\n",
       "        [-1.5422e+00],\n",
       "        [-3.4901e-01],\n",
       "        [-9.0626e-02],\n",
       "        [-5.1378e-01],\n",
       "        [-1.1778e-01],\n",
       "        [-8.6530e-01],\n",
       "        [-9.9946e-01],\n",
       "        [-8.1428e-01],\n",
       "        [-1.3786e+00],\n",
       "        [-7.5116e-01],\n",
       "        [-6.6289e-03],\n",
       "        [-1.1879e-01],\n",
       "        [-3.5024e-01],\n",
       "        [-9.8403e-02],\n",
       "        [-1.5651e-01],\n",
       "        [-3.3210e-01],\n",
       "        [-1.4402e-01],\n",
       "        [-9.2681e-01],\n",
       "        [-1.8384e+00],\n",
       "        [-1.6061e-01],\n",
       "        [-1.5063e+00],\n",
       "        [-3.2942e-01],\n",
       "        [-1.9617e-02],\n",
       "        [-7.0781e-01],\n",
       "        [-1.7171e+00],\n",
       "        [-1.0448e+00],\n",
       "        [-1.5548e+00],\n",
       "        [-9.5530e-01],\n",
       "        [-9.4616e-01],\n",
       "        [-1.1692e+00],\n",
       "        [-1.3403e+00],\n",
       "        [-3.9485e-01],\n",
       "        [-6.3073e-01],\n",
       "        [-5.0373e-01],\n",
       "        [-7.5709e-02],\n",
       "        [-1.1454e+00],\n",
       "        [-4.3809e-01]], requires_grad=True)"
      ]
     },
     "execution_count": 126,
     "metadata": {},
     "output_type": "execute_result"
    }
   ],
   "source": [
    "model.model2.individual_temps.weight"
   ]
  },
  {
   "cell_type": "code",
   "execution_count": 82,
   "id": "7d7da1c3-635b-44b5-84c0-bd16b196fc4c",
   "metadata": {},
   "outputs": [
    {
     "data": {
      "text/plain": [
       "Embedding(779, 1)"
      ]
     },
     "execution_count": 82,
     "metadata": {},
     "output_type": "execute_result"
    }
   ],
   "source": [
    "temperatures"
   ]
  },
  {
   "cell_type": "code",
   "execution_count": 83,
   "id": "e8407c95-7d34-483c-a700-482e48bfbeef",
   "metadata": {},
   "outputs": [
    {
     "data": {
      "text/plain": [
       "(array([ 80., 127.,  89.,  99.,  74., 105., 126.,  77.,   1.,   1.]),\n",
       " array([0.07635029, 0.20416582, 0.33198136, 0.45979691, 0.58761245,\n",
       "        0.71542799, 0.84324348, 0.97105902, 1.09887457, 1.22669017,\n",
       "        1.35450566]),\n",
       " <BarContainer object of 10 artists>)"
      ]
     },
     "execution_count": 83,
     "metadata": {},
     "output_type": "execute_result"
    },
    {
     "data": {
      "image/png": "[encoded data removed]",
      "text/plain": [
       "<Figure size 640x480 with 1 Axes>"
      ]
     },
     "metadata": {},
     "output_type": "display_data"
    }
   ],
   "source": [
    "plt.hist(np.exp(temperatures.weight.detach().numpy()))"
   ]
  },
  {
   "cell_type": "code",
   "execution_count": 39,
   "id": "ad3b2499-eab3-4a89-8f51-323b6974f951",
   "metadata": {},
   "outputs": [
    {
     "data": {
      "text/plain": [
       "tensor([5.4000, 5.8000, 4.9000])"
      ]
     },
     "execution_count": 39,
     "metadata": {},
     "output_type": "execute_result"
    }
   ],
   "source": [
    "torch.sum(logits, dim=1)"
   ]
  },
  {
   "cell_type": "code",
   "execution_count": 67,
   "id": "b570c21c-c390-47ae-9ec0-1c8b76e646da",
   "metadata": {},
   "outputs": [
    {
     "name": "stdout",
     "output_type": "stream",
     "text": [
      "tensor([[0.0120, 0.9775, 0.0024, 0.0080],\n",
      "        [0.4100, 0.0828, 0.2036, 0.3037],\n",
      "        [0.1368, 0.5020, 0.1941, 0.1671]])\n"
     ]
    }
   ],
   "source": [
    "logits = torch.tensor([\n",
    "    [1.2, 2.3, 0.8, 1.1],  # Person 1\n",
    "    [2.1, 0.5, 1.4, 1.8],  # Person 2\n",
    "    [0.3, 2.9, 1.0, 0.7]   # Person 3\n",
    "], dtype=torch.float32)\n",
    "\n",
    "# Different temperatures per person\n",
    "temperatures = torch.tensor([0.25, 1.0, 2.0]).unsqueeze(1)  # Shape: (3, 1)\n",
    "\n",
    "# Apply temperature scaling before softmax\n",
    "scaled_logits = logits / temperatures\n",
    "softmax_probs = F.softmax(scaled_logits, dim=-1)\n",
    "\n",
    "print(softmax_probs)"
   ]
  },
  {
   "cell_type": "code",
   "execution_count": 22,
   "id": "15924ec1-3ef4-47f2-b0e6-8dfa8c83bffb",
   "metadata": {},
   "outputs": [],
   "source": [
    "sims = ut.compute_similarities(anchor, positive, negative, \"odd_one_out\")"
   ]
  },
  {
   "cell_type": "code",
   "execution_count": 40,
   "id": "a59e0976-30ef-4ede-9869-d59047de78e5",
   "metadata": {
    "scrolled": true
   },
   "outputs": [
    {
     "data": {
      "text/plain": [
       "tensor([[1.3608e+00, 1.3041e+00, 1.4422e+00],\n",
       "        [1.5871e-03, 7.7633e-03, 2.6269e-01],\n",
       "        [1.0675e-04, 8.7361e-03, 1.3053e-02],\n",
       "        [4.0834e-02, 1.2501e+00, 2.5644e-02],\n",
       "        [9.4935e-05, 1.7881e-02, 9.6467e-03],\n",
       "        [5.6534e-05, 6.1603e-03, 9.3200e-03],\n",
       "        [4.0721e-01, 6.2695e-01, 6.7444e-01],\n",
       "        [3.0242e-02, 5.2454e-02, 1.5277e+00],\n",
       "        [2.1305e+00, 1.1983e+00, 1.3410e+00],\n",
       "        [5.6752e-01, 2.4875e-01, 3.7772e-01],\n",
       "        [6.0151e-01, 5.0019e-03, 5.6171e-03],\n",
       "        [8.8495e-01, 5.6825e-02, 1.3568e-01],\n",
       "        [1.5230e+00, 4.1414e-03, 4.7590e-03],\n",
       "        [2.2264e+00, 9.5018e-01, 1.0503e+00],\n",
       "        [1.0030e+00, 3.2391e-03, 7.7141e-03],\n",
       "        [8.8465e-05, 9.2714e-03, 6.6538e-03],\n",
       "        [2.0186e-04, 9.6217e-03, 4.1878e-02],\n",
       "        [1.9302e+00, 1.1928e+00, 1.5265e+00],\n",
       "        [4.3802e-03, 2.6853e-05, 1.6183e-03],\n",
       "        [6.1874e-01, 2.3422e-01, 1.0089e-01],\n",
       "        [7.7396e-01, 8.9878e-03, 6.6277e-03],\n",
       "        [8.3114e-02, 1.4759e-01, 9.7049e-01],\n",
       "        [1.8985e-03, 5.8773e-03, 3.8046e-01],\n",
       "        [1.0259e-03, 1.7866e-01, 1.1855e-02],\n",
       "        [5.1303e-03, 4.1292e-05, 4.0686e-03],\n",
       "        [4.8948e-01, 1.0955e-02, 3.5298e-03],\n",
       "        [1.2481e+00, 8.8776e-03, 5.6504e-03],\n",
       "        [1.1563e-02, 9.8345e-03, 1.4788e-04],\n",
       "        [4.8563e-04, 1.3137e-02, 8.8403e-02],\n",
       "        [1.8826e-04, 4.6280e-03, 9.8709e-03],\n",
       "        [8.4701e-02, 6.7914e-04, 7.4527e-03],\n",
       "        [1.5924e+00, 3.0581e-01, 3.0294e-01],\n",
       "        [2.7737e-01, 3.2856e-03, 2.7381e-03],\n",
       "        [1.2831e-02, 7.1496e-03, 1.4440e+00],\n",
       "        [1.1801e-02, 9.9306e-03, 7.4835e-05],\n",
       "        [9.9243e-01, 8.4119e-03, 4.0456e-03],\n",
       "        [6.9087e-03, 1.5059e+00, 1.0999e-02],\n",
       "        [1.1265e+00, 1.0621e-02, 1.2559e-02],\n",
       "        [1.0371e-03, 6.9241e-03, 7.3552e-02],\n",
       "        [3.5067e-02, 3.2382e-01, 1.1073e-01],\n",
       "        [1.0884e+00, 1.1917e-01, 1.3445e-01],\n",
       "        [2.0689e+00, 5.9372e-03, 6.2302e-03],\n",
       "        [5.6492e-03, 7.5386e-01, 4.7521e-03],\n",
       "        [1.7939e-05, 5.8403e-05, 4.9533e-05],\n",
       "        [1.4779e+00, 1.3615e+00, 1.0361e+00],\n",
       "        [3.4397e-02, 3.7590e-02, 1.6957e+00],\n",
       "        [3.0424e-03, 8.9318e-03, 8.8519e-01],\n",
       "        [4.5719e-03, 3.3446e-01, 1.8459e-03],\n",
       "        [1.3894e+00, 2.7235e-02, 1.2935e-02],\n",
       "        [1.8615e+00, 9.3895e-03, 1.1539e-02],\n",
       "        [7.1272e-01, 3.4512e-03, 9.0136e-03],\n",
       "        [3.1852e-02, 2.0936e-02, 1.3113e+00],\n",
       "        [8.0734e-01, 4.1915e-02, 1.4227e-02],\n",
       "        [1.1708e+00, 1.5562e+00, 1.1204e+00],\n",
       "        [1.0267e+00, 3.4383e-01, 3.2450e-01],\n",
       "        [1.9873e-03, 8.2856e-01, 5.1096e-03],\n",
       "        [1.6714e+00, 1.1313e-02, 1.7884e-02],\n",
       "        [3.1164e-03, 9.6208e-04, 9.5135e-02],\n",
       "        [1.5052e-02, 2.2263e-02, 8.5844e-04],\n",
       "        [1.1342e+00, 4.5189e-01, 5.7651e-01],\n",
       "        [9.4414e-01, 3.9140e-03, 4.0068e-03],\n",
       "        [3.7402e-01, 2.4430e-01, 1.2138e+00],\n",
       "        [7.6683e-01, 3.0778e-03, 1.3635e-02],\n",
       "        [2.0065e-01, 8.7632e-03, 1.2695e-03],\n",
       "        [2.6098e+00, 1.4538e-02, 1.4055e-02],\n",
       "        [7.1828e-01, 1.1427e-01, 1.0893e-01],\n",
       "        [8.8985e-01, 4.6778e-03, 1.0297e-02],\n",
       "        [1.2234e+00, 7.3778e-03, 7.4773e-03],\n",
       "        [6.0436e-01, 1.3936e-03, 5.5769e-03],\n",
       "        [1.7793e+00, 4.3238e-01, 2.7437e-01],\n",
       "        [1.2708e+00, 1.9731e+00, 1.2420e+00],\n",
       "        [2.0849e-02, 3.2097e-02, 1.6258e+00],\n",
       "        [6.3825e-01, 8.7594e-03, 2.0844e-02],\n",
       "        [2.2747e+00, 6.0229e-01, 4.3182e-01],\n",
       "        [1.1575e+00, 4.9407e-03, 1.0592e-02],\n",
       "        [3.2461e-01, 2.1933e-03, 8.2347e-03],\n",
       "        [2.0851e+00, 9.9960e-03, 1.1750e-02],\n",
       "        [1.6080e-01, 8.2218e-01, 1.8602e-01],\n",
       "        [2.0432e-02, 9.2258e-03, 1.5473e-04],\n",
       "        [1.1848e-04, 8.1424e-03, 7.7344e-03],\n",
       "        [1.0509e-02, 7.6124e-03, 1.0445e+00],\n",
       "        [4.4146e-01, 7.3874e-01, 7.3370e-01],\n",
       "        [7.9236e-05, 1.4188e-02, 3.1899e-03],\n",
       "        [1.3536e+00, 2.3185e-02, 1.3363e-02],\n",
       "        [5.4846e-03, 1.0285e-02, 8.8064e-01],\n",
       "        [3.6367e-04, 3.6089e-04, 6.9375e-04],\n",
       "        [1.2387e+00, 2.2690e+00, 1.3711e+00],\n",
       "        [3.0596e-02, 1.3733e-02, 1.1616e+00],\n",
       "        [8.9300e-03, 3.1463e-03, 7.4378e-01],\n",
       "        [5.4269e-03, 8.0237e-01, 6.3588e-03],\n",
       "        [8.2722e-01, 6.5821e-01, 4.7068e-01],\n",
       "        [6.0855e-02, 5.1779e-02, 9.7952e-01],\n",
       "        [1.1783e-01, 3.7842e-01, 2.7729e-01],\n",
       "        [4.0162e-04, 1.0952e-02, 3.0096e-02],\n",
       "        [9.8530e-03, 7.9963e-03, 6.5316e-01],\n",
       "        [1.0734e+00, 1.2275e-02, 4.9561e-03],\n",
       "        [2.7253e-01, 9.8408e-01, 3.0971e-01],\n",
       "        [1.8811e+00, 1.2338e-01, 2.2604e-01],\n",
       "        [1.2681e+00, 9.7847e-01, 9.5946e-01],\n",
       "        [2.0506e-02, 1.3718e-02, 8.4861e-01]], grad_fn=<StackBackward0>)"
      ]
     },
     "execution_count": 40,
     "metadata": {},
     "output_type": "execute_result"
    }
   ],
   "source": [
    "sims"
   ]
  },
  {
   "cell_type": "code",
   "execution_count": 44,
   "id": "4e088c32-9092-4e31-8674-4d4a12c949ba",
   "metadata": {},
   "outputs": [
    {
     "data": {
      "text/plain": [
       "tensor([[2.9368e-01, 2.0123e-01, 5.0509e-01],\n",
       "        [1.2915e-01, 1.3457e-01, 7.3628e-01],\n",
       "        [3.1753e-01, 3.3633e-01, 3.4615e-01],\n",
       "        [3.1513e-04, 9.9940e-01, 2.8478e-04],\n",
       "        [3.1332e-01, 3.5276e-01, 3.3392e-01],\n",
       "        [3.2204e-01, 3.3541e-01, 3.4255e-01],\n",
       "        [8.8759e-02, 3.8410e-01, 5.2715e-01],\n",
       "        [4.6160e-05, 5.3528e-05, 9.9990e-01],\n",
       "        [9.9287e-01, 1.9856e-03, 5.1412e-03],\n",
       "        [7.1350e-01, 8.5202e-02, 2.0130e-01],\n",
       "        [9.6379e-01, 1.8068e-02, 1.8143e-02],\n",
       "        [9.8934e-01, 3.9599e-03, 6.6986e-03],\n",
       "        [9.9992e-01, 4.0034e-05, 4.0199e-05],\n",
       "        [9.9940e-01, 2.0171e-04, 3.9334e-04],\n",
       "        [9.9742e-01, 1.2711e-03, 1.3096e-03],\n",
       "        [3.2176e-01, 3.4208e-01, 3.3616e-01],\n",
       "        [2.9541e-01, 3.1456e-01, 3.9003e-01],\n",
       "        [9.3012e-01, 6.8169e-03, 6.3060e-02],\n",
       "        [3.3862e-01, 3.2894e-01, 3.3244e-01],\n",
       "        [9.0195e-01, 6.9480e-02, 2.8566e-02],\n",
       "        [9.8804e-01, 6.0250e-03, 5.9310e-03],\n",
       "        [2.6781e-03, 4.1164e-03, 9.9321e-01],\n",
       "        [6.8955e-02, 7.0808e-02, 8.6024e-01],\n",
       "        [1.8716e-01, 6.1166e-01, 2.0118e-01],\n",
       "        [3.3788e-01, 3.2661e-01, 3.3550e-01],\n",
       "        [9.2563e-01, 3.8103e-02, 3.6262e-02],\n",
       "        [9.9949e-01, 2.5819e-04, 2.5269e-04],\n",
       "        [3.4302e-01, 3.3909e-01, 3.1789e-01],\n",
       "        [2.5740e-01, 2.8005e-01, 4.6255e-01],\n",
       "        [3.2292e-01, 3.3262e-01, 3.4445e-01],\n",
       "        [4.6112e-01, 2.6336e-01, 2.7552e-01],\n",
       "        [9.9963e-01, 1.8823e-04, 1.8466e-04],\n",
       "        [7.5693e-01, 1.2176e-01, 1.2132e-01],\n",
       "        [7.1849e-05, 6.9179e-05, 9.9986e-01],\n",
       "        [3.4336e-01, 3.3910e-01, 3.1754e-01],\n",
       "        [9.9722e-01, 1.4118e-03, 1.3713e-03],\n",
       "        [4.5706e-05, 9.9991e-01, 4.6970e-05],\n",
       "        [9.9882e-01, 5.8711e-04, 5.9475e-04],\n",
       "        [2.7310e-01, 2.8403e-01, 4.4287e-01],\n",
       "        [1.0514e-01, 7.2075e-01, 1.7411e-01],\n",
       "        [9.9672e-01, 1.5574e-03, 1.7244e-03],\n",
       "        [1.0000e+00, 1.0641e-06, 1.0662e-06],\n",
       "        [6.7272e-03, 9.8659e-01, 6.6871e-03],\n",
       "        [3.3328e-01, 3.3337e-01, 3.3335e-01],\n",
       "        [6.6095e-01, 3.0430e-01, 3.4748e-02],\n",
       "        [1.5491e-05, 1.5824e-05, 9.9997e-01],\n",
       "        [2.7763e-03, 2.8874e-03, 9.9434e-01],\n",
       "        [9.0906e-02, 8.1983e-01, 8.9269e-02],\n",
       "        [9.9978e-01, 1.1376e-04, 1.0342e-04],\n",
       "        [9.9999e-01, 4.3409e-06, 4.4035e-06],\n",
       "        [9.8230e-01, 8.6839e-03, 9.0119e-03],\n",
       "        [1.9740e-04, 1.8354e-04, 9.9962e-01],\n",
       "        [9.8899e-01, 6.0124e-03, 4.9990e-03],\n",
       "        [6.7660e-02, 8.8397e-01, 4.8369e-02],\n",
       "        [9.8058e-01, 1.0336e-02, 9.0861e-03],\n",
       "        [4.0115e-03, 9.9189e-01, 4.0958e-03],\n",
       "        [9.9997e-01, 1.5610e-05, 1.6309e-05],\n",
       "        [2.6092e-01, 2.5720e-01, 4.8188e-01],\n",
       "        [3.3796e-01, 3.5460e-01, 3.0744e-01],\n",
       "        [9.6631e-01, 1.0224e-02, 2.3466e-02],\n",
       "        [9.9622e-01, 1.8885e-03, 1.8896e-03],\n",
       "        [3.6829e-03, 1.5509e-03, 9.9477e-01],\n",
       "        [9.8742e-01, 6.0701e-03, 6.5128e-03],\n",
       "        [6.4812e-01, 1.8034e-01, 1.7155e-01],\n",
       "        [1.0000e+00, 3.0618e-08, 3.0520e-08],\n",
       "        [9.6615e-01, 1.7228e-02, 1.6626e-02],\n",
       "        [9.9445e-01, 2.7211e-03, 2.8250e-03],\n",
       "        [9.9940e-01, 3.0139e-04, 3.0159e-04],\n",
       "        [9.6486e-01, 1.7326e-02, 1.7816e-02],\n",
       "        [9.9983e-01, 1.2598e-04, 4.3935e-05],\n",
       "        [9.1077e-03, 9.8338e-01, 7.5169e-03],\n",
       "        [2.2557e-05, 2.4313e-05, 9.9995e-01],\n",
       "        [9.6960e-01, 1.4589e-02, 1.5813e-02],\n",
       "        [9.9998e-01, 1.4384e-05, 4.6163e-06],\n",
       "        [9.9906e-01, 4.5979e-04, 4.7744e-04],\n",
       "        [8.0783e-01, 9.4149e-02, 9.8018e-02],\n",
       "        [1.0000e+00, 9.8147e-07, 9.9302e-07],\n",
       "        [1.1850e-02, 9.7413e-01, 1.4020e-02],\n",
       "        [3.5694e-01, 3.3125e-01, 3.1181e-01],\n",
       "        [3.2185e-01, 3.3954e-01, 3.3861e-01],\n",
       "        [1.0129e-03, 9.9349e-04, 9.9799e-01],\n",
       "        [6.5479e-02, 4.7511e-01, 4.5941e-01],\n",
       "        [3.2056e-01, 3.5217e-01, 3.2727e-01],\n",
       "        [9.9973e-01, 1.4056e-04, 1.3165e-04],\n",
       "        [2.9081e-03, 3.0026e-03, 9.9409e-01],\n",
       "        [3.3309e-01, 3.3308e-01, 3.3382e-01],\n",
       "        [1.0359e-03, 9.9646e-01, 2.5037e-03],\n",
       "        [5.3092e-04, 4.7447e-04, 9.9899e-01],\n",
       "        [7.3466e-03, 7.0687e-03, 9.8558e-01],\n",
       "        [4.8790e-03, 9.9021e-01, 4.9095e-03],\n",
       "        [7.0576e-01, 2.2872e-01, 6.5518e-02],\n",
       "        [2.1795e-03, 2.0516e-03, 9.9577e-01],\n",
       "        [1.0442e-01, 5.9327e-01, 3.0232e-01],\n",
       "        [3.0379e-01, 3.2592e-01, 3.7029e-01],\n",
       "        [1.3358e-02, 1.3194e-02, 9.7345e-01],\n",
       "        [9.9835e-01, 8.4544e-04, 8.0518e-04],\n",
       "        [8.5375e-03, 9.8052e-01, 1.0939e-02],\n",
       "        [9.9998e-01, 8.1438e-06, 1.6146e-05],\n",
       "        [7.8566e-01, 1.1395e-01, 1.0039e-01],\n",
       "        [3.9721e-03, 3.7963e-03, 9.9223e-01]], grad_fn=<SoftmaxBackward0>)"
      ]
     },
     "execution_count": 44,
     "metadata": {},
     "output_type": "execute_result"
    }
   ],
   "source": [
    "F.softmax(sims/.15, dim=1)"
   ]
  },
  {
   "cell_type": "code",
   "execution_count": 26,
   "id": "f4a8ffe5-d852-4400-a459-39846086241e",
   "metadata": {},
   "outputs": [
    {
     "data": {
      "text/plain": [
       "tensor(0.0068, grad_fn=<SelectBackward0>)"
      ]
     },
     "execution_count": 26,
     "metadata": {},
     "output_type": "execute_result"
    }
   ],
   "source": [
    "sims[0][0]"
   ]
  },
  {
   "cell_type": "code",
   "execution_count": 27,
   "id": "852bc898-94dd-44ad-bb17-040baf8681c2",
   "metadata": {},
   "outputs": [
    {
     "data": {
      "text/plain": [
       "tensor(0.0112, grad_fn=<SelectBackward0>)"
      ]
     },
     "execution_count": 27,
     "metadata": {},
     "output_type": "execute_result"
    }
   ],
   "source": [
    "sims[1][0]"
   ]
  },
  {
   "cell_type": "code",
   "execution_count": 28,
   "id": "99dde401-fff4-4014-87ac-19c1154df8c0",
   "metadata": {},
   "outputs": [
    {
     "data": {
      "text/plain": [
       "tensor(0.7064, grad_fn=<SelectBackward0>)"
      ]
     },
     "execution_count": 28,
     "metadata": {},
     "output_type": "execute_result"
    }
   ],
   "source": [
    "sims[2][0]"
   ]
  },
  {
   "cell_type": "code",
   "execution_count": 30,
   "id": "7b1f6c6e-93b6-476b-8537-222750f5db57",
   "metadata": {},
   "outputs": [
    {
     "data": {
      "text/plain": [
       "tensor(0.9726, grad_fn=<MeanBackward0>)"
      ]
     },
     "execution_count": 30,
     "metadata": {},
     "output_type": "execute_result"
    }
   ],
   "source": [
    "torch.mean(-torch.log(F.softmax(torch.stack(sims, dim=-1), dim=1)[:, 0]))"
   ]
  },
  {
   "cell_type": "code",
   "execution_count": 54,
   "id": "79107c93-ccef-41eb-a423-6892afcbfd68",
   "metadata": {},
   "outputs": [],
   "source": [
    "logits2 = torch.stack(sims, dim=-1)"
   ]
  },
  {
   "cell_type": "code",
   "execution_count": 58,
   "id": "048b48f8-21cc-4b2a-be52-38b531d81ebd",
   "metadata": {},
   "outputs": [
    {
     "data": {
      "text/plain": [
       "torch.Size([100, 3])"
      ]
     },
     "execution_count": 58,
     "metadata": {},
     "output_type": "execute_result"
    }
   ],
   "source": [
    "logits2.shape"
   ]
  },
  {
   "cell_type": "code",
   "execution_count": 59,
   "id": "5d93748f-de59-4f52-bd45-de760d9bce39",
   "metadata": {},
   "outputs": [
    {
     "data": {
      "text/plain": [
       "torch.Size([100, 1])"
      ]
     },
     "execution_count": 59,
     "metadata": {},
     "output_type": "execute_result"
    }
   ],
   "source": [
    "ts_by_id.shape"
   ]
  },
  {
   "cell_type": "code",
   "execution_count": 61,
   "id": "d757d302-1dde-45d4-b7c5-6dcbdcd344e4",
   "metadata": {},
   "outputs": [
    {
     "data": {
      "text/plain": [
       "torch.Size([100, 3])"
      ]
     },
     "execution_count": 61,
     "metadata": {},
     "output_type": "execute_result"
    }
   ],
   "source": [
    "logits2_scaled.shape"
   ]
  },
  {
   "cell_type": "code",
   "execution_count": 64,
   "id": "03076764-9c45-4f39-82ab-79b1be212996",
   "metadata": {},
   "outputs": [],
   "source": [
    "ts_by_id = torch.tensor(np.concatenate((np.ones(25), np.ones(50)*2, np.ones(25)*3)))\n",
    "ts_by_id = ts_by_id.unsqueeze(1)\n",
    "logits2_scaled = logits2/ts_by_id\n",
    "probs = F.softmax(logits2_scaled, dim = 1)"
   ]
  },
  {
   "cell_type": "markdown",
   "id": "618cda9e-9d27-4f5f-bf8f-c89de4fba91f",
   "metadata": {},
   "source": [
    "#todos\n",
    "- create an embedding similar as or individual betas\n",
    "- extract relevant embeddings for in-batch ids\n",
    "- divide sims by by-id scalings\n",
    "- apply normal softmax"
   ]
  },
  {
   "cell_type": "code",
   "execution_count": 65,
   "id": "b2503160-37e7-4d9b-b990-8f96c68b169d",
   "metadata": {
    "scrolled": true
   },
   "outputs": [
    {
     "data": {
      "text/plain": [
       "tensor([[0.2489, 0.2500, 0.5011],\n",
       "        [0.6174, 0.1900, 0.1926],\n",
       "        [0.3329, 0.3324, 0.3347],\n",
       "        [0.3024, 0.3715, 0.3261],\n",
       "        [0.3124, 0.3785, 0.3091],\n",
       "        [0.2373, 0.5211, 0.2416],\n",
       "        [0.3346, 0.3340, 0.3314],\n",
       "        [0.3323, 0.3340, 0.3337],\n",
       "        [0.4004, 0.2751, 0.3245],\n",
       "        [0.3289, 0.3408, 0.3303],\n",
       "        [0.6816, 0.1596, 0.1587],\n",
       "        [0.2685, 0.1966, 0.5350],\n",
       "        [0.7473, 0.1264, 0.1263],\n",
       "        [0.6367, 0.1815, 0.1819],\n",
       "        [0.3263, 0.3493, 0.3245],\n",
       "        [0.7956, 0.1022, 0.1022],\n",
       "        [0.3312, 0.3350, 0.3338],\n",
       "        [0.2500, 0.3456, 0.4043],\n",
       "        [0.2304, 0.5329, 0.2367],\n",
       "        [0.3529, 0.3238, 0.3233],\n",
       "        [0.4034, 0.2993, 0.2973],\n",
       "        [0.6429, 0.1783, 0.1788],\n",
       "        [0.3166, 0.3626, 0.3208],\n",
       "        [0.3097, 0.3801, 0.3102],\n",
       "        [0.3751, 0.3276, 0.2973],\n",
       "        [0.3539, 0.3439, 0.3022],\n",
       "        [0.4000, 0.2900, 0.3100],\n",
       "        [0.3057, 0.3896, 0.3047],\n",
       "        [0.2731, 0.3382, 0.3888],\n",
       "        [0.5859, 0.2069, 0.2072],\n",
       "        [0.5427, 0.2286, 0.2287],\n",
       "        [0.2728, 0.2819, 0.4454],\n",
       "        [0.5598, 0.2186, 0.2216],\n",
       "        [0.3940, 0.3026, 0.3033],\n",
       "        [0.3322, 0.3340, 0.3338],\n",
       "        [0.3144, 0.3529, 0.3327],\n",
       "        [0.2607, 0.4393, 0.3000],\n",
       "        [0.3333, 0.3333, 0.3333],\n",
       "        [0.3850, 0.3071, 0.3078],\n",
       "        [0.3134, 0.3737, 0.3128],\n",
       "        [0.6091, 0.1957, 0.1952],\n",
       "        [0.3440, 0.3627, 0.2933],\n",
       "        [0.2695, 0.2691, 0.4615],\n",
       "        [0.3870, 0.3069, 0.3061],\n",
       "        [0.4271, 0.2851, 0.2878],\n",
       "        [0.2674, 0.4649, 0.2677],\n",
       "        [0.2755, 0.4681, 0.2563],\n",
       "        [0.3931, 0.2963, 0.3106],\n",
       "        [0.5614, 0.2208, 0.2178],\n",
       "        [0.3173, 0.3178, 0.3649],\n",
       "        [0.3351, 0.3327, 0.3322],\n",
       "        [0.2892, 0.2889, 0.4219],\n",
       "        [0.5687, 0.2157, 0.2156],\n",
       "        [0.3320, 0.3339, 0.3341],\n",
       "        [0.2715, 0.2724, 0.4562],\n",
       "        [0.4907, 0.2546, 0.2546],\n",
       "        [0.4378, 0.2808, 0.2814],\n",
       "        [0.3124, 0.3745, 0.3131],\n",
       "        [0.3335, 0.3415, 0.3249],\n",
       "        [0.3333, 0.3333, 0.3333],\n",
       "        [0.3356, 0.4008, 0.2636],\n",
       "        [0.3333, 0.3334, 0.3333],\n",
       "        [0.3333, 0.3333, 0.3333],\n",
       "        [0.4829, 0.2587, 0.2585],\n",
       "        [0.3617, 0.3204, 0.3179],\n",
       "        [0.2444, 0.2439, 0.5116],\n",
       "        [0.3041, 0.3225, 0.3734],\n",
       "        [0.5474, 0.2265, 0.2261],\n",
       "        [0.5905, 0.2047, 0.2049],\n",
       "        [0.3248, 0.3259, 0.3493],\n",
       "        [0.3549, 0.3282, 0.3169],\n",
       "        [0.3063, 0.3687, 0.3250],\n",
       "        [0.3322, 0.3346, 0.3332],\n",
       "        [0.3851, 0.3068, 0.3081],\n",
       "        [0.3885, 0.3049, 0.3067],\n",
       "        [0.3406, 0.3290, 0.3303],\n",
       "        [0.4030, 0.2985, 0.2985],\n",
       "        [0.3997, 0.2837, 0.3166],\n",
       "        [0.3230, 0.3616, 0.3154],\n",
       "        [0.3315, 0.3308, 0.3376],\n",
       "        [0.3337, 0.3330, 0.3332],\n",
       "        [0.3115, 0.3602, 0.3282],\n",
       "        [0.3202, 0.3585, 0.3213],\n",
       "        [0.4328, 0.2837, 0.2835],\n",
       "        [0.3753, 0.3096, 0.3151],\n",
       "        [0.3339, 0.3179, 0.3482],\n",
       "        [0.2957, 0.4095, 0.2948],\n",
       "        [0.3475, 0.3269, 0.3256],\n",
       "        [0.4263, 0.2869, 0.2868],\n",
       "        [0.3322, 0.3352, 0.3326],\n",
       "        [0.3229, 0.3537, 0.3234],\n",
       "        [0.3758, 0.3176, 0.3065],\n",
       "        [0.4415, 0.2790, 0.2795],\n",
       "        [0.4046, 0.2978, 0.2976],\n",
       "        [0.2944, 0.4035, 0.3021],\n",
       "        [0.3329, 0.3339, 0.3332],\n",
       "        [0.3922, 0.3040, 0.3038],\n",
       "        [0.3806, 0.3098, 0.3096],\n",
       "        [0.3328, 0.3334, 0.3338],\n",
       "        [0.3195, 0.3618, 0.3186]], dtype=torch.float64,\n",
       "       grad_fn=<SoftmaxBackward0>)"
      ]
     },
     "execution_count": 65,
     "metadata": {},
     "output_type": "execute_result"
    }
   ],
   "source": [
    "probs"
   ]
  },
  {
   "cell_type": "code",
   "execution_count": null,
   "id": "69ea99b9-6472-4736-8c6d-02296f7ecfea",
   "metadata": {},
   "outputs": [],
   "source": [
    "np.c"
   ]
  },
  {
   "cell_type": "code",
   "execution_count": 45,
   "id": "3797ab58-1d9e-4d10-9d31-23ff87b106db",
   "metadata": {},
   "outputs": [
    {
     "ename": "TypeError",
     "evalue": "only integer scalar arrays can be converted to a scalar index",
     "output_type": "error",
     "traceback": [
      "\u001b[1;31m---------------------------------------------------------------------------\u001b[0m",
      "\u001b[1;31mTypeError\u001b[0m                                 Traceback (most recent call last)",
      "Cell \u001b[1;32mIn[45], line 1\u001b[0m\n\u001b[1;32m----> 1\u001b[0m np\u001b[38;5;241m.\u001b[39mconcatenate(np\u001b[38;5;241m.\u001b[39mones(\u001b[38;5;241m25\u001b[39m), np\u001b[38;5;241m.\u001b[39mones(\u001b[38;5;241m50\u001b[39m)\u001b[38;5;241m*\u001b[39m\u001b[38;5;241m2\u001b[39m)\n",
      "\u001b[1;31mTypeError\u001b[0m: only integer scalar arrays can be converted to a scalar index"
     ]
    }
   ],
   "source": [
    "np.concatenate(np.ones(25), np.ones(50)*2)"
   ]
  },
  {
   "cell_type": "code",
   "execution_count": 18,
   "id": "912bbe66-21c3-4304-8541-0e584ce994f5",
   "metadata": {},
   "outputs": [
    {
     "data": {
      "text/plain": [
       "Parameter containing:\n",
       "tensor([0.7789, 0.7349, 0.7171, 0.7641, 0.6490], requires_grad=True)"
      ]
     },
     "execution_count": 18,
     "metadata": {},
     "output_type": "execute_result"
    }
   ],
   "source": [
    "model.global_mean"
   ]
  },
  {
   "cell_type": "code",
   "execution_count": 19,
   "id": "83710e50-2d6c-464d-a85a-f7e2387ae224",
   "metadata": {},
   "outputs": [
    {
     "data": {
      "text/plain": [
       "Parameter containing:\n",
       "tensor([12.1648, 11.7770, 11.5320, 12.0216, 10.5358], requires_grad=True)"
      ]
     },
     "execution_count": 19,
     "metadata": {},
     "output_type": "execute_result"
    }
   ],
   "source": [
    "model.global_std"
   ]
  },
  {
   "cell_type": "code",
   "execution_count": 20,
   "id": "0ef609c0-1d13-4241-8aea-ec06da2a97d1",
   "metadata": {},
   "outputs": [],
   "source": [
    "betas = model.individual_slopes.weight.detach().numpy()"
   ]
  },
  {
   "cell_type": "code",
   "execution_count": 21,
   "id": "6f78153b-7b46-43b0-80f6-ef8d7f4724c6",
   "metadata": {},
   "outputs": [
    {
     "data": {
      "image/png": "[encoded data removed]",
      "text/plain": [
       "<Figure size 1500x500 with 5 Axes>"
      ]
     },
     "metadata": {},
     "output_type": "display_data"
    }
   ],
   "source": [
    "# Create histograms for each column\n",
    "fig, axes = plt.subplots(1, 5, figsize=(15, 5))\n",
    "\n",
    "for i in range(5):\n",
    "    axes[i].hist(betas[:, i], bins=20, alpha=0.7)\n",
    "    axes[i].set_title(f'Histogram {i+1}')\n",
    "\n",
    "plt.tight_layout()\n",
    "plt.show()"
   ]
  },
  {
   "cell_type": "code",
   "execution_count": null,
   "id": "98060e7e-19a6-4d73-b40f-9393a09145cb",
   "metadata": {},
   "outputs": [],
   "source": [
    "for n, p in model.named_parameters():\n",
    "    print(n)\n",
    "    print(p)"
   ]
  },
  {
   "cell_type": "code",
   "execution_count": null,
   "id": "4d25e18f-15cb-4670-b328-8be96fb5f1e4",
   "metadata": {},
   "outputs": [],
   "source": [
    "kwd_pattern = fr'{\"weight\"}'\n",
    "agreement = \"few\"\n",
    "l1_reg = torch.tensor(0., requires_grad=True)\n",
    "for n, p in model.named_parameters():\n",
    "    if re.search(kwd_pattern, n):\n",
    "        if agreement == \"few\":\n",
    "            l1_reg = l1_reg + torch.norm(p, 1)\n",
    "        elif agreement == \"most\":\n",
    "            l1_reg = l1_reg + torch.norm(1-p, 1)\n",
    "        l1_reg = l1_reg + torch.norm(p, 1)\n"
   ]
  },
  {
   "cell_type": "code",
   "execution_count": null,
   "id": "a7f3df43-1cc5-462d-931a-e3ed3ca98cb1",
   "metadata": {},
   "outputs": [],
   "source": [
    "p.shape"
   ]
  },
  {
   "cell_type": "code",
   "execution_count": null,
   "id": "379f44a1-fdcf-4f24-9623-bf96df533d95",
   "metadata": {},
   "outputs": [],
   "source": [
    "l1_reg"
   ]
  },
  {
   "cell_type": "code",
   "execution_count": null,
   "id": "998d7a8a-637f-4243-baed-bf788c5003ba",
   "metadata": {},
   "outputs": [],
   "source": [
    "torch.sum(F.relu(-W)) + torch.sum(F.relu(-model.individual_slopes.weight))"
   ]
  },
  {
   "cell_type": "code",
   "execution_count": null,
   "id": "92f4ced9-9fc0-4807-b2d2-e2860b1df0a1",
   "metadata": {},
   "outputs": [],
   "source": [
    "F.relu(-W)"
   ]
  },
  {
   "cell_type": "code",
   "execution_count": null,
   "id": "702065df-7223-4fe5-947a-0cd5f72b6a58",
   "metadata": {},
   "outputs": [],
   "source": [
    "md.l1_regularization(model, \"individual_slopes\", agreement=\"few\").to(device)"
   ]
  },
  {
   "cell_type": "code",
   "execution_count": null,
   "id": "94a1f0fb-df93-4744-9504-9bc3c462e317",
   "metadata": {},
   "outputs": [],
   "source": [
    "torch.sum(F.relu(-model.individual_slopes.weight))"
   ]
  },
  {
   "cell_type": "code",
   "execution_count": null,
   "id": "6582515c-5316-4862-93aa-5378becd48ef",
   "metadata": {},
   "outputs": [],
   "source": [
    "model.individual_slopes.weight.shape"
   ]
  },
  {
   "cell_type": "code",
   "execution_count": null,
   "id": "797f4af1-8273-4306-98f7-37657878deb3",
   "metadata": {},
   "outputs": [],
   "source": [
    "torch.sum(F.relu(-W))"
   ]
  },
  {
   "cell_type": "code",
   "execution_count": null,
   "id": "d3ebab28-cabc-4976-a505-70aecfd3270d",
   "metadata": {},
   "outputs": [],
   "source": [
    "plt.hist(pd.melt(pd.DataFrame(W.detach().numpy()))[\"value\"])"
   ]
  },
  {
   "cell_type": "code",
   "execution_count": null,
   "id": "05cfc1fd-22f4-4999-abdb-ca607b32443f",
   "metadata": {},
   "outputs": [],
   "source": [
    "plt.hist(pd.melt(pd.DataFrame(model.individual_slopes.weight.detach().numpy()))[\"value\"])"
   ]
  },
  {
   "cell_type": "code",
   "execution_count": null,
   "id": "bce3fd04-c596-45b4-94c5-2fc1145b9ddf",
   "metadata": {},
   "outputs": [],
   "source": [
    "torch.norm(model.named_parameters"
   ]
  },
  {
   "cell_type": "code",
   "execution_count": null,
   "id": "9ed5efd4-12bb-4728-bf88-3a0ed83c5172",
   "metadata": {},
   "outputs": [],
   "source": [
    "sns.displot(model.individual_slopes(torch.LongTensor([0])).detach().numpy().T, binwidth=1)"
   ]
  },
  {
   "cell_type": "code",
   "execution_count": null,
   "id": "0b146490-6dff-458b-b65b-28963f10a821",
   "metadata": {},
   "outputs": [],
   "source": [
    "ut.validation(model, val_batches, task, device, level_explanation=\"ID\")"
   ]
  },
  {
   "cell_type": "code",
   "execution_count": null,
   "id": "c7d632f7-6693-4c0f-91c6-cdb9c6c2d7ba",
   "metadata": {},
   "outputs": [],
   "source": [
    "anchor = torch.Tensor([[3, 10]])\n",
    "positive = torch.Tensor([[1, 3]])\n",
    "negative = torch.Tensor([[7, 5]])"
   ]
  },
  {
   "cell_type": "code",
   "execution_count": null,
   "id": "eeae6fc0-a318-4a16-8c70-877a4c43680c",
   "metadata": {},
   "outputs": [],
   "source": [
    "ut.choice_accuracy(anchor, positive, negative, method=\"odd_one_out\")"
   ]
  },
  {
   "cell_type": "code",
   "execution_count": null,
   "id": "9733eaae-0fe7-4876-89da-e1ef00933917",
   "metadata": {},
   "outputs": [],
   "source": [
    "model.individual_slopes(torch.LongTensor(1))"
   ]
  }
 ],
 "metadata": {
  "kernelspec": {
   "display_name": "Python 3 (ipykernel)",
   "language": "python",
   "name": "python3"
  },
  "language_info": {
   "codemirror_mode": {
    "name": "ipython",
    "version": 3
   },
   "file_extension": ".py",
   "mimetype": "text/x-python",
   "name": "python",
   "nbconvert_exporter": "python",
   "pygments_lexer": "ipython3",
   "version": "3.12.8"
  }
 },
 "nbformat": 4,
 "nbformat_minor": 5
}
