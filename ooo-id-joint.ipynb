{
 "cells": [
  {
   "cell_type": "markdown",
   "id": "bcd31b63-a156-4b82-85d0-20081ee2636c",
   "metadata": {},
   "source": [
    "# \n"
   ]
  },
  {
   "cell_type": "code",
   "execution_count": 1,
   "id": "04fd9783-b1e6-4308-bd05-126364d39915",
   "metadata": {},
   "outputs": [],
   "source": [
    "import argparse\n",
    "import json\n",
    "import logging\n",
    "import os\n",
    "import random\n",
    "import re\n",
    "from turtle import distance\n",
    "import torch\n",
    "import warnings\n",
    "import pandas as pd\n",
    "from adjustText import adjust_text\n",
    "from typing import Tuple, Iterator, List, Dict\n",
    "from tqdm.notebook import tqdm\n",
    "import seaborn as sns\n",
    "\n",
    "\n",
    "import matplotlib.pyplot as plt\n",
    "import numpy as np\n",
    "import torch.nn as nn\n",
    "import torch.nn.functional as F\n",
    "from torch.utils.data import Dataset, DataLoader, SequentialSampler\n",
    "from sklearn.manifold import TSNE\n",
    "\n",
    "\n",
    "from os.path import join as pjoin\n",
    "from collections import defaultdict\n",
    "from scipy.stats import linregress\n",
    "from torch.optim import Adam, AdamW\n",
    "\n",
    "os.environ['PYTHONIOENCODING']='UTF-8'\n",
    "os.environ['CUDA_LAUNCH_BLOCKING']=str(1)"
   ]
  },
  {
   "cell_type": "code",
   "execution_count": 2,
   "id": "49f7f048-23aa-4779-abd2-4e5233a3bb30",
   "metadata": {},
   "outputs": [],
   "source": [
    "# Enable automatic reloading of modules before executing code\n",
    "%load_ext autoreload\n",
    "%autoreload 2\n",
    "\n",
    "\n",
    "import plotting as pl\n",
    "from models import model as md\n",
    "import utils as ut"
   ]
  },
  {
   "cell_type": "code",
   "execution_count": 3,
   "id": "49d7d7a8-449a-4ac7-8817-dc58587c7c64",
   "metadata": {},
   "outputs": [],
   "source": [
    "# create logger\n",
    "logger = logging.getLogger('ooo-id-joint')\n",
    "logger.setLevel(logging.INFO)\n",
    "\n",
    "# create console handler and set level to debug\n",
    "ch = logging.StreamHandler()\n",
    "ch.setLevel(logging.INFO)\n",
    "\n",
    "# create formatter\n",
    "formatter = logging.Formatter(\n",
    "    fmt='%(asctime)s - %(name)s - %(levelname)s - %(message)s',\n",
    "    datefmt='%Y/%m/%d %H:%M:%S'\n",
    ")\n",
    "\n",
    "# add formatter to ch\n",
    "ch.setFormatter(formatter)\n",
    "\n",
    "# add ch to logger\n",
    "logger.addHandler(ch)"
   ]
  },
  {
   "cell_type": "code",
   "execution_count": 4,
   "id": "01e828a6-d0fb-4a79-993e-8325ef195559",
   "metadata": {},
   "outputs": [],
   "source": [
    "task = \"odd_one_out\"\n",
    "modality = \"behavioral\"\n",
    "triplets_dir = \"./data/\"\n",
    "lr = learning_rate = 0.001\n",
    "lmbda = 0.008\n",
    "temperature = 1\n",
    "embed_dim = 5\n",
    "num_threads = 6\n",
    "device = \"cpu\"\n",
    "batch_size = 100\n",
    "sampling_method = \"normal\"\n",
    "rnd_seed = 42\n",
    "p = None\n",
    "results_dir = './results/id-joint/'\n",
    "plots_dir = './plots/id-joint/'\n",
    "epochs = 500\n",
    "distance_metric = \"dot\"\n",
    "sparsity = \"items_and_random_ids\"\n",
    "lmbda_hierarchical = 100"
   ]
  },
  {
   "cell_type": "code",
   "execution_count": 5,
   "id": "0cd5866a-9a9a-4181-9aa9-9801033738ce",
   "metadata": {},
   "outputs": [
    {
     "name": "stderr",
     "output_type": "stream",
     "text": [
      "2025/06/02 16:47:12 - ooo-id-joint - INFO - does logging work?\n"
     ]
    }
   ],
   "source": [
    "logger.info(\"does logging work?\")"
   ]
  },
  {
   "cell_type": "code",
   "execution_count": 6,
   "id": "4661f6c5-d8d1-4f7c-a251-31dc4df72cf5",
   "metadata": {},
   "outputs": [
    {
     "name": "stdout",
     "output_type": "stream",
     "text": [
      "\n",
      "...Could not find any .npy files for current modality.\n",
      "...Now searching for .txt files.\n",
      "\n"
     ]
    }
   ],
   "source": [
    "train_triplets_ID, test_triplets_ID = ut.load_data_ID(device=device, triplets_dir=triplets_dir)\n",
    "n_items_ID = ut.get_nitems(train_triplets_ID)"
   ]
  },
  {
   "cell_type": "code",
   "execution_count": 7,
   "id": "7c02a812-8cf1-4ba8-acc2-eaaf51c1b8c4",
   "metadata": {},
   "outputs": [],
   "source": [
    "n_participants = len(np.unique(train_triplets_ID.numpy()[:,3]))"
   ]
  },
  {
   "cell_type": "code",
   "execution_count": 8,
   "id": "91c31cda-fc95-456d-a58a-20ee77e19b1c",
   "metadata": {},
   "outputs": [],
   "source": [
    "#load train and test mini-batches\n",
    "train_batches, val_batches = ut.load_batches(\n",
    "    train_triplets=train_triplets_ID,\n",
    "    test_triplets=test_triplets_ID,\n",
    "    n_items=n_items_ID,\n",
    "    batch_size=batch_size,\n",
    "    sampling_method=sampling_method,\n",
    "    rnd_seed=rnd_seed,\n",
    "    p=p, method = \"ids\"\n",
    ")"
   ]
  },
  {
   "cell_type": "markdown",
   "id": "aea056cb-ca4a-4346-8297-05317daf7944",
   "metadata": {},
   "source": [
    "#temperature = torch.tensor(temperature).to(device)\n",
    "temperature = torch.tensor(temperature).clone().detach()\n",
    "model = md.SPoSE_ID(\n",
    "    in_size=n_items_ID, out_size=embed_dim, \n",
    "    num_participants=n_participants, init_weights=True)\n",
    "model.to(device)\n",
    "optim = Adam(model.parameters(), lr=lr)"
   ]
  },
  {
   "cell_type": "code",
   "execution_count": 16,
   "id": "8607f7aa-1dd4-43f3-90a3-220631f3f94d",
   "metadata": {},
   "outputs": [
    {
     "name": "stderr",
     "output_type": "stream",
     "text": [
      "C:\\Users\\Mirko\\AppData\\Local\\Temp\\ipykernel_1636\\2743099833.py:1: UserWarning: To copy construct from a tensor, it is recommended to use sourceTensor.clone().detach() or sourceTensor.clone().detach().requires_grad_(True), rather than torch.tensor(sourceTensor).\n",
      "  temperature = torch.tensor(temperature).clone().detach()\n"
     ]
    }
   ],
   "source": [
    "temperature = torch.tensor(temperature).clone().detach()\n",
    "model = md.SPoSE_ID_Random(\n",
    "    in_size=n_items_ID, out_size=embed_dim, \n",
    "    num_participants=n_participants, init_weights=True)\n",
    "model.to(device)\n",
    "optim = Adam(model.parameters(), lr=lr)"
   ]
  },
  {
   "cell_type": "code",
   "execution_count": 10,
   "id": "3ab917fb-4ce3-4081-bb64-2c63ff96c39c",
   "metadata": {},
   "outputs": [
    {
     "name": "stderr",
     "output_type": "stream",
     "text": [
      "2025/06/02 16:47:14 - ooo-id-joint - INFO - ...Creating PATHs\n"
     ]
    }
   ],
   "source": [
    "logger.info(f'...Creating PATHs')\n",
    "\n",
    "if results_dir == './results/id-joint/':\n",
    "    results_dir = os.path.join(results_dir, modality, f'{embed_dim}d', str(lmbda), f'seed{rnd_seed:02d}')\n",
    "if not os.path.exists(results_dir):\n",
    "    os.makedirs(results_dir)\n",
    "\n",
    "if plots_dir == './plots/id-joint/':\n",
    "    plots_dir = os.path.join(plots_dir, modality, f'{embed_dim}d', str(lmbda), f'seed{rnd_seed}')\n",
    "if not os.path.exists(plots_dir):\n",
    "    os.makedirs(plots_dir)\n",
    "\n",
    "model_dir = os.path.join(results_dir, 'model')"
   ]
  },
  {
   "cell_type": "code",
   "execution_count": 11,
   "id": "ab7b5c1c-6f4f-4cba-8a50-3164379bd864",
   "metadata": {},
   "outputs": [],
   "source": [
    "epochs = 2"
   ]
  },
  {
   "cell_type": "code",
   "execution_count": 12,
   "id": "8ce8fae0-9514-4d92-8dc5-c1a3b999bb45",
   "metadata": {},
   "outputs": [],
   "source": [
    "sparsity = \"items_and_random_ids\""
   ]
  },
  {
   "cell_type": "code",
   "execution_count": 17,
   "id": "62789681-68da-49e4-8e25-9e8497e75386",
   "metadata": {},
   "outputs": [
    {
     "name": "stderr",
     "output_type": "stream",
     "text": [
      "2025/06/02 16:48:56 - ooo-id-joint - INFO - Optimization started for lambda: 0.008\n",
      "\n"
     ]
    },
    {
     "name": "stdout",
     "output_type": "stream",
     "text": [
      "Optimization started for lambda: 0.008\n",
      "\n"
     ]
    },
    {
     "data": {
      "application/vnd.jupyter.widget-view+json": {
       "model_id": "f2ebb27305874ba6be19b73ce8ce3b3f",
       "version_major": 2,
       "version_minor": 0
      },
      "text/plain": [
       "  0%|          | 0/2 [00:00<?, ?it/s]"
      ]
     },
     "metadata": {},
     "output_type": "display_data"
    }
   ],
   "source": [
    "if not os.path.exists(model_dir):\n",
    "    os.makedirs(model_dir)\n",
    "start = 0\n",
    "train_accs, val_accs = [], []\n",
    "train_losses, val_losses = [], []\n",
    "loglikelihoods, complexity_losses_ID, complexity_losses_avg = [], [], []\n",
    "nneg_d_over_time = []\n",
    "\n",
    "iter = 0\n",
    "results = {}\n",
    "logger.info(f'Optimization started for lambda: {lmbda}\\n')\n",
    "\n",
    "print(f'Optimization started for lambda: {lmbda}\\n')\n",
    "for epoch in tqdm(range(start, epochs)):\n",
    "    model.train()\n",
    "    batch_llikelihoods = torch.zeros(len(train_batches))\n",
    "    batch_closses_avg = torch.zeros(len(train_batches))\n",
    "    batch_closses_ID = torch.zeros(len(train_batches))\n",
    "    batch_losses_train = torch.zeros(len(train_batches))\n",
    "    batch_accs_train = torch.zeros(len(train_batches))\n",
    "    for i, batch in enumerate(train_batches):\n",
    "        optim.zero_grad() #zero out gradients\n",
    "        b = batch[0].to(device)\n",
    "        id = batch[1].to(device)\n",
    "        logits = model(b, id)\n",
    "        anchor, positive, negative = torch.unbind(torch.reshape(logits, (-1, 3, embed_dim)), dim=1)\n",
    "        c_entropy = ut.trinomial_loss(anchor, positive, negative, task, temperature, distance_metric)\n",
    "        l1_pen_avg = md.l1_regularization(model, \"weight\").to(device) #L1-norm to enforce sparsity (many 0s)\n",
    "        l1_pen_ID = md.l1_regularization(model, \"individual_slopes\", \"most\").to(device) #L1-norm to enforce sparsity (many 0s)\n",
    "        W = model.fc.weight\n",
    "        # positivity constraint to enforce non-negative values in embedding matrix\n",
    "        pos_pen = torch.sum(F.relu(-W)) + torch.sum(F.relu(-model.individual_slopes.weight))\n",
    "        complexity_loss_avg = (lmbda/n_items_ID) * l1_pen_avg\n",
    "        complexity_loss_ID = (lmbda/n_participants) * l1_pen_ID\n",
    "\n",
    "        if sparsity == 'items':\n",
    "            loss = c_entropy + 0.01 * pos_pen + complexity_loss_avg\n",
    "        elif sparsity == 'both':\n",
    "            loss = c_entropy + 0.01 * pos_pen + complexity_loss_ID + complexity_loss_avg\n",
    "        elif sparsity == \"items_and_random_ids\":\n",
    "            # Gaussian loss on individual differences for each dimension\n",
    "            # is only computed by random model\n",
    "            gaussian_pen = model.hierarchical_loss(id)\n",
    "            gaussian_loss = gaussian_pen * lmbda_hierarchical\n",
    "            loss = c_entropy + 0.01 * pos_pen + complexity_loss_avg + gaussian_loss\n",
    "        \n",
    "        loss.backward()\n",
    "        optim.step()\n",
    "        batch_losses_train[i] += loss.item()\n",
    "        batch_llikelihoods[i] += c_entropy.item()\n",
    "        batch_closses_ID[i] += complexity_loss_ID.item()\n",
    "        batch_closses_avg[i] += complexity_loss_avg.item()\n",
    "        batch_accs_train[i] += ut.choice_accuracy(anchor, positive, negative, task, distance_metric)\n",
    "        iter += 1\n",
    "\n",
    "    avg_llikelihood = torch.mean(batch_llikelihoods).item()\n",
    "    avg_closs_ID = torch.mean(batch_closses_ID).item()\n",
    "    avg_closs_avg = torch.mean(batch_closses_avg).item()\n",
    "    avg_train_loss = torch.mean(batch_losses_train).item()\n",
    "    avg_train_acc = torch.mean(batch_accs_train).item()\n",
    "\n",
    "    loglikelihoods.append(avg_llikelihood)\n",
    "    complexity_losses_ID.append(avg_closs_ID)\n",
    "    complexity_losses_avg.append(avg_closs_avg)\n",
    "    train_losses.append(avg_train_loss)\n",
    "    train_accs.append(avg_train_acc)"
   ]
  },
  {
   "cell_type": "code",
   "execution_count": 18,
   "id": "912bbe66-21c3-4304-8541-0e584ce994f5",
   "metadata": {},
   "outputs": [
    {
     "data": {
      "text/plain": [
       "Parameter containing:\n",
       "tensor([0.7789, 0.7349, 0.7171, 0.7641, 0.6490], requires_grad=True)"
      ]
     },
     "execution_count": 18,
     "metadata": {},
     "output_type": "execute_result"
    }
   ],
   "source": [
    "model.global_mean"
   ]
  },
  {
   "cell_type": "code",
   "execution_count": 19,
   "id": "83710e50-2d6c-464d-a85a-f7e2387ae224",
   "metadata": {},
   "outputs": [
    {
     "data": {
      "text/plain": [
       "Parameter containing:\n",
       "tensor([12.1648, 11.7770, 11.5320, 12.0216, 10.5358], requires_grad=True)"
      ]
     },
     "execution_count": 19,
     "metadata": {},
     "output_type": "execute_result"
    }
   ],
   "source": [
    "model.global_std"
   ]
  },
  {
   "cell_type": "code",
   "execution_count": 20,
   "id": "0ef609c0-1d13-4241-8aea-ec06da2a97d1",
   "metadata": {},
   "outputs": [],
   "source": [
    "betas = model.individual_slopes.weight.detach().numpy()"
   ]
  },
  {
   "cell_type": "code",
   "execution_count": 21,
   "id": "6f78153b-7b46-43b0-80f6-ef8d7f4724c6",
   "metadata": {},
   "outputs": [
    {
     "data": {
      "image/png": "[encoded data removed]",
      "text/plain": [
       "<Figure size 1500x500 with 5 Axes>"
      ]
     },
     "metadata": {},
     "output_type": "display_data"
    }
   ],
   "source": [
    "# Create histograms for each column\n",
    "fig, axes = plt.subplots(1, 5, figsize=(15, 5))\n",
    "\n",
    "for i in range(5):\n",
    "    axes[i].hist(betas[:, i], bins=20, alpha=0.7)\n",
    "    axes[i].set_title(f'Histogram {i+1}')\n",
    "\n",
    "plt.tight_layout()\n",
    "plt.show()"
   ]
  },
  {
   "cell_type": "code",
   "execution_count": null,
   "id": "98060e7e-19a6-4d73-b40f-9393a09145cb",
   "metadata": {},
   "outputs": [],
   "source": [
    "for n, p in model.named_parameters():\n",
    "    print(n)\n",
    "    print(p)"
   ]
  },
  {
   "cell_type": "code",
   "execution_count": null,
   "id": "4d25e18f-15cb-4670-b328-8be96fb5f1e4",
   "metadata": {},
   "outputs": [],
   "source": [
    "kwd_pattern = fr'{\"weight\"}'\n",
    "agreement = \"few\"\n",
    "l1_reg = torch.tensor(0., requires_grad=True)\n",
    "for n, p in model.named_parameters():\n",
    "    if re.search(kwd_pattern, n):\n",
    "        if agreement == \"few\":\n",
    "            l1_reg = l1_reg + torch.norm(p, 1)\n",
    "        elif agreement == \"most\":\n",
    "            l1_reg = l1_reg + torch.norm(1-p, 1)\n",
    "        l1_reg = l1_reg + torch.norm(p, 1)\n"
   ]
  },
  {
   "cell_type": "code",
   "execution_count": null,
   "id": "a7f3df43-1cc5-462d-931a-e3ed3ca98cb1",
   "metadata": {},
   "outputs": [],
   "source": [
    "p.shape"
   ]
  },
  {
   "cell_type": "code",
   "execution_count": null,
   "id": "379f44a1-fdcf-4f24-9623-bf96df533d95",
   "metadata": {},
   "outputs": [],
   "source": [
    "l1_reg"
   ]
  },
  {
   "cell_type": "code",
   "execution_count": null,
   "id": "998d7a8a-637f-4243-baed-bf788c5003ba",
   "metadata": {},
   "outputs": [],
   "source": [
    "torch.sum(F.relu(-W)) + torch.sum(F.relu(-model.individual_slopes.weight))"
   ]
  },
  {
   "cell_type": "code",
   "execution_count": null,
   "id": "92f4ced9-9fc0-4807-b2d2-e2860b1df0a1",
   "metadata": {},
   "outputs": [],
   "source": [
    "F.relu(-W)"
   ]
  },
  {
   "cell_type": "code",
   "execution_count": null,
   "id": "702065df-7223-4fe5-947a-0cd5f72b6a58",
   "metadata": {},
   "outputs": [],
   "source": [
    "md.l1_regularization(model, \"individual_slopes\", agreement=\"few\").to(device)"
   ]
  },
  {
   "cell_type": "code",
   "execution_count": null,
   "id": "94a1f0fb-df93-4744-9504-9bc3c462e317",
   "metadata": {},
   "outputs": [],
   "source": [
    "torch.sum(F.relu(-model.individual_slopes.weight))"
   ]
  },
  {
   "cell_type": "code",
   "execution_count": null,
   "id": "6582515c-5316-4862-93aa-5378becd48ef",
   "metadata": {},
   "outputs": [],
   "source": [
    "model.individual_slopes.weight.shape"
   ]
  },
  {
   "cell_type": "code",
   "execution_count": null,
   "id": "797f4af1-8273-4306-98f7-37657878deb3",
   "metadata": {},
   "outputs": [],
   "source": [
    "torch.sum(F.relu(-W))"
   ]
  },
  {
   "cell_type": "code",
   "execution_count": null,
   "id": "d3ebab28-cabc-4976-a505-70aecfd3270d",
   "metadata": {},
   "outputs": [],
   "source": [
    "plt.hist(pd.melt(pd.DataFrame(W.detach().numpy()))[\"value\"])"
   ]
  },
  {
   "cell_type": "code",
   "execution_count": null,
   "id": "05cfc1fd-22f4-4999-abdb-ca607b32443f",
   "metadata": {},
   "outputs": [],
   "source": [
    "plt.hist(pd.melt(pd.DataFrame(model.individual_slopes.weight.detach().numpy()))[\"value\"])"
   ]
  },
  {
   "cell_type": "code",
   "execution_count": null,
   "id": "bce3fd04-c596-45b4-94c5-2fc1145b9ddf",
   "metadata": {},
   "outputs": [],
   "source": [
    "torch.norm(model.named_parameters"
   ]
  },
  {
   "cell_type": "code",
   "execution_count": null,
   "id": "9ed5efd4-12bb-4728-bf88-3a0ed83c5172",
   "metadata": {},
   "outputs": [],
   "source": [
    "sns.displot(model.individual_slopes(torch.LongTensor([0])).detach().numpy().T, binwidth=1)"
   ]
  },
  {
   "cell_type": "code",
   "execution_count": null,
   "id": "0b146490-6dff-458b-b65b-28963f10a821",
   "metadata": {},
   "outputs": [],
   "source": [
    "ut.validation(model, val_batches, task, device, level_explanation=\"ID\")"
   ]
  },
  {
   "cell_type": "code",
   "execution_count": null,
   "id": "c7d632f7-6693-4c0f-91c6-cdb9c6c2d7ba",
   "metadata": {},
   "outputs": [],
   "source": [
    "anchor = torch.Tensor([[3, 10]])\n",
    "positive = torch.Tensor([[1, 3]])\n",
    "negative = torch.Tensor([[7, 5]])"
   ]
  },
  {
   "cell_type": "code",
   "execution_count": null,
   "id": "eeae6fc0-a318-4a16-8c70-877a4c43680c",
   "metadata": {},
   "outputs": [],
   "source": [
    "ut.choice_accuracy(anchor, positive, negative, method=\"odd_one_out\")"
   ]
  },
  {
   "cell_type": "code",
   "execution_count": null,
   "id": "9733eaae-0fe7-4876-89da-e1ef00933917",
   "metadata": {},
   "outputs": [],
   "source": [
    "model.individual_slopes(torch.LongTensor(1))"
   ]
  }
 ],
 "metadata": {
  "kernelspec": {
   "display_name": "Python 3 (ipykernel)",
   "language": "python",
   "name": "python3"
  },
  "language_info": {
   "codemirror_mode": {
    "name": "ipython",
    "version": 3
   },
   "file_extension": ".py",
   "mimetype": "text/x-python",
   "name": "python",
   "nbconvert_exporter": "python",
   "pygments_lexer": "ipython3",
   "version": "3.12.8"
  }
 },
 "nbformat": 4,
 "nbformat_minor": 5
}
