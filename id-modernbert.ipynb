{
 "cells": [
  {
   "cell_type": "code",
   "execution_count": 1,
   "id": "4489279b-cf8c-4a48-a4f6-81b355f37ca2",
   "metadata": {},
   "outputs": [],
   "source": [
    "from transformers import AutoTokenizer, AutoModel, AutoModelForMaskedLM\n",
    "import torch"
   ]
  },
  {
   "cell_type": "code",
   "execution_count": 2,
   "id": "1a1fe8b0-5c36-436d-a515-b0e6a6beefc6",
   "metadata": {},
   "outputs": [],
   "source": [
    "import matplotlib.pyplot as plt\n",
    "import seaborn as sns\n",
    "import numpy as np\n",
    "import pandas as pd\n",
    "\n",
    "import argparse\n",
    "import json\n",
    "import logging\n",
    "import os\n",
    "import random\n",
    "import re\n",
    "from turtle import distance\n",
    "import warnings\n",
    "from adjustText import adjust_text\n",
    "from typing import Tuple, Iterator, List, Dict\n",
    "from tqdm.notebook import tqdm\n",
    "import torch.nn.functional as F\n",
    "\n",
    "from os.path import join as pjoin\n",
    "from collections import defaultdict\n",
    "from scipy.stats import linregress\n",
    "from torch.optim import Adam, AdamW\n",
    "\n",
    "os.environ['PYTHONIOENCODING']='UTF-8'\n",
    "os.environ['CUDA_LAUNCH_BLOCKING']=str(1)"
   ]
  },
  {
   "cell_type": "code",
   "execution_count": 3,
   "id": "0e1f936c-907a-465d-904e-1b4ec582f62e",
   "metadata": {},
   "outputs": [],
   "source": [
    "# Enable automatic reloading of modules before executing code\n",
    "%load_ext autoreload\n",
    "%autoreload 2\n",
    "\n",
    "\n",
    "# Now you can use wildcard import\n",
    "import plotting as pl\n",
    "from models import model as md\n",
    "import utils as ut"
   ]
  },
  {
   "cell_type": "code",
   "execution_count": 4,
   "id": "887dba3f-cd4e-4869-8921-f8df56504ce6",
   "metadata": {},
   "outputs": [],
   "source": [
    "# create logger\n",
    "logger = logging.getLogger('ooo-modernbert')\n",
    "logger.setLevel(logging.INFO)\n",
    "\n",
    "# create console handler and set level to debug\n",
    "ch = logging.StreamHandler()\n",
    "ch.setLevel(logging.INFO)\n",
    "\n",
    "# create formatter\n",
    "formatter = logging.Formatter(\n",
    "    fmt='%(asctime)s - %(name)s - %(levelname)s - %(message)s',\n",
    "    datefmt='%Y/%m/%d %H:%M:%S'\n",
    ")\n",
    "\n",
    "# add formatter to ch\n",
    "ch.setFormatter(formatter)\n",
    "\n",
    "# add ch to logger\n",
    "logger.addHandler(ch)"
   ]
  },
  {
   "cell_type": "code",
   "execution_count": 349,
   "id": "721527a7-524f-448c-b0ac-41182f55ea2a",
   "metadata": {},
   "outputs": [
    {
     "name": "stdout",
     "output_type": "stream",
     "text": [
      "Predicted token:  Paris\n"
     ]
    }
   ],
   "source": [
    "model_id = \"answerdotai/ModernBERT-base\"\n",
    "tokenizer = AutoTokenizer.from_pretrained(model_id)\n",
    "model = AutoModelForMaskedLM.from_pretrained(model_id)\n",
    "\n",
    "text = \"The capital of France is [MASK].\"\n",
    "inputs = tokenizer(text, return_tensors=\"pt\")\n",
    "outputs = model(**inputs)\n",
    "\n",
    "# To get predictions for the mask:\n",
    "masked_index = inputs[\"input_ids\"][0].tolist().index(tokenizer.mask_token_id)\n",
    "predicted_token_id = outputs.logits[0, masked_index].argmax(axis=-1)\n",
    "predicted_token = tokenizer.decode(predicted_token_id)\n",
    "print(\"Predicted token:\", predicted_token)\n",
    "# Predicted token:  Paris"
   ]
  },
  {
   "cell_type": "code",
   "execution_count": 6,
   "id": "3fc2c702-7563-4358-ad29-a99e9e12ccc7",
   "metadata": {},
   "outputs": [],
   "source": [
    "device = torch.device(\"cuda\" if torch.cuda.is_available() else \"cpu\")\n",
    "tokenizer = AutoTokenizer.from_pretrained(\"answerdotai/ModernBERT-base\")\n",
    "model = AutoModel.from_pretrained(\"answerdotai/ModernBERT-base\").to(device)"
   ]
  },
  {
   "cell_type": "code",
   "execution_count": 7,
   "id": "67e6c454-bdb7-430b-a74f-b37d046d054f",
   "metadata": {},
   "outputs": [],
   "source": [
    "tbl_labels = pd.read_csv(\"data/unique_id.txt\", delimiter=\"\\\\\", header=None)\n",
    "tbl_labels[\"label_id\"] = np.arange(1, tbl_labels.shape[0]+1)\n",
    "tbl_labels.columns = [\"label\", \"label_id\"]\n",
    "new_order = [\"label_id\", \"label\"]\n",
    "tbl_labels = tbl_labels[new_order]"
   ]
  },
  {
   "cell_type": "code",
   "execution_count": 242,
   "id": "49e1e904-8272-4d89-9a22-2212515cc32f",
   "metadata": {},
   "outputs": [],
   "source": [
    "l_tokens = []\n",
    "l_prompts = []\n",
    "with torch.no_grad():\n",
    "    l_embeddings = []\n",
    "    for prompt in tbl_labels[\"label\"]:\n",
    "        tokenized_input = tokenizer.encode(prompt, return_tensors=\"pt\").to(device)\n",
    "        l_tokens.append(tokenized_input)\n",
    "        l_prompts.append(prompt)\n",
    "        output = model(tokenized_input)\n",
    "        embedding = output.last_hidden_state[:, 0, :].numpy()\n",
    "        l_embeddings.append(embedding[-1])"
   ]
  },
  {
   "cell_type": "markdown",
   "id": "b4ce2691-61ef-401e-97e0-9a51bcda81ca",
   "metadata": {},
   "source": [
    "# Setup Modeling"
   ]
  },
  {
   "cell_type": "code",
   "execution_count": 277,
   "id": "b80d2c86-a715-462f-bca6-831ed8946d19",
   "metadata": {},
   "outputs": [],
   "source": [
    "task = \"odd_one_out\"\n",
    "modality = \"behavioral\"\n",
    "triplets_dir = \"./data/\"\n",
    "lr = learning_rate = 0.0005\n",
    "lmbda = 0.0005\n",
    "temperature = 1\n",
    "num_threads = 6\n",
    "device = \"cpu\"\n",
    "batch_size = 50\n",
    "sampling_method = \"normal\"\n",
    "rnd_seed = 42\n",
    "p = None\n",
    "results_dir = './results/'\n",
    "plots_dir = './plots/'\n",
    "epochs = 10\n",
    "distance_metric = \"dot\""
   ]
  },
  {
   "cell_type": "code",
   "execution_count": 278,
   "id": "b60eee94-0476-464c-9146-3b33cdb34c8e",
   "metadata": {},
   "outputs": [
    {
     "name": "stdout",
     "output_type": "stream",
     "text": [
      "\n",
      "...Could not find any .npy files for current modality.\n",
      "...Now searching for .txt files.\n",
      "\n"
     ]
    }
   ],
   "source": [
    "#load triplets into memory\n",
    "train_triplets, test_triplets = ut.load_data_ID(device=device, triplets_dir=triplets_dir, testcase = True)\n",
    "n_items = ut.get_nitems(train_triplets)"
   ]
  },
  {
   "cell_type": "code",
   "execution_count": 279,
   "id": "0094800a-82f6-4113-9806-b5e2a1cc0705",
   "metadata": {},
   "outputs": [],
   "source": [
    "n_participants = len(np.unique(train_triplets.numpy()[:,3]))\n",
    "array_embeddings = np.array(l_embeddings)\n",
    "embed_dim = array_embeddings.shape[1]\n",
    "tensor_avg_reps = torch.Tensor(array_embeddings)"
   ]
  },
  {
   "cell_type": "code",
   "execution_count": 280,
   "id": "76841a68-c062-428f-b883-e5b0bfc34d4d",
   "metadata": {},
   "outputs": [],
   "source": [
    "#load train and test mini-batches\n",
    "train_batches, val_batches = ut.load_batches_ID(\n",
    "    train_triplets=train_triplets,\n",
    "    test_triplets=test_triplets,\n",
    "    average_reps=tensor_avg_reps,\n",
    "    n_items=n_items,\n",
    "    batch_size=batch_size,\n",
    "    sampling_method=sampling_method,\n",
    "    rnd_seed=rnd_seed,\n",
    "    p=p,\n",
    "    method=\"embedding\",\n",
    "    within_subjects=True\n",
    ")"
   ]
  },
  {
   "cell_type": "code",
   "execution_count": 317,
   "id": "9f83bc2b-696c-40e5-9ec9-15e85e09a5de",
   "metadata": {},
   "outputs": [],
   "source": [
    "epochs = 10\n",
    "lmbda = .01\n",
    "lr = 0.01"
   ]
  },
  {
   "cell_type": "code",
   "execution_count": 318,
   "id": "e298c0df-3883-4e02-96fe-215fda7c97d9",
   "metadata": {},
   "outputs": [],
   "source": [
    "model_weight = md.Weighted_Embedding(\n",
    "    embed_size=tensor_avg_reps.shape[1],\n",
    "    num_participants=n_participants,\n",
    "    init_weights=True\n",
    ")\n",
    "model_weight.to(device)\n",
    "optim = Adam(model_weight.parameters(), lr=lr)"
   ]
  },
  {
   "cell_type": "code",
   "execution_count": 319,
   "id": "465de757-3562-4081-89d3-0facc91b81c3",
   "metadata": {},
   "outputs": [
    {
     "name": "stdout",
     "output_type": "stream",
     "text": [
      "...Creating PATHs\n",
      "\n"
     ]
    }
   ],
   "source": [
    "print(f'...Creating PATHs')\n",
    "print()\n",
    "if results_dir == './results/':\n",
    "    results_dir = os.path.join(results_dir, modality, str(lmbda), f'seed{rnd_seed:02d}')\n",
    "if not os.path.exists(results_dir):\n",
    "    os.makedirs(results_dir)\n",
    "\n",
    "if plots_dir == './plots/':\n",
    "    plots_dir = os.path.join(plots_dir, modality, str(lmbda), f'seed{rnd_seed}')\n",
    "if not os.path.exists(plots_dir):\n",
    "    os.makedirs(plots_dir)\n",
    "\n",
    "model_dir = os.path.join(results_dir, 'model')"
   ]
  },
  {
   "cell_type": "code",
   "execution_count": 341,
   "id": "50325e26-aedc-49bb-826e-7b33b7141eb2",
   "metadata": {},
   "outputs": [
    {
     "name": "stderr",
     "output_type": "stream",
     "text": [
      "2025/01/29 15:09:18 - ooo-modernbert - INFO - Optimization started for lambda: 0.01\n",
      "\n"
     ]
    },
    {
     "name": "stdout",
     "output_type": "stream",
     "text": [
      "Optimization started for lambda: 0.01\n",
      "\n"
     ]
    },
    {
     "data": {
      "application/vnd.jupyter.widget-view+json": {
       "model_id": "79626ac6857d4bef84ad20b750f3bc58",
       "version_major": 2,
       "version_minor": 0
      },
      "text/plain": [
       "  0%|          | 0/15 [00:00<?, ?it/s]"
      ]
     },
     "metadata": {},
     "output_type": "display_data"
    },
    {
     "name": "stdout",
     "output_type": "stream",
     "text": [
      "l1_pen_ID =  tensor(31.1588, grad_fn=<AddBackward0>)\n",
      "tri_loss =  tensor(0.4168, grad_fn=<MeanBackward0>)\n",
      "l1_pen_ID =  tensor(27.8141, grad_fn=<AddBackward0>)\n",
      "tri_loss =  tensor(0.3386, grad_fn=<MeanBackward0>)\n",
      "l1_pen_ID =  tensor(27.6698, grad_fn=<AddBackward0>)\n",
      "tri_loss =  tensor(0.2866, grad_fn=<MeanBackward0>)\n",
      "l1_pen_ID =  tensor(23.2732, grad_fn=<AddBackward0>)\n",
      "tri_loss =  tensor(0.3467, grad_fn=<MeanBackward0>)\n",
      "l1_pen_ID =  tensor(24.0581, grad_fn=<AddBackward0>)\n",
      "tri_loss =  tensor(0.2720, grad_fn=<MeanBackward0>)\n",
      "l1_pen_ID =  tensor(23.0168, grad_fn=<AddBackward0>)\n",
      "tri_loss =  tensor(0.3921, grad_fn=<MeanBackward0>)\n",
      "l1_pen_ID =  tensor(24.3092, grad_fn=<AddBackward0>)\n",
      "tri_loss =  tensor(0.3003, grad_fn=<MeanBackward0>)\n",
      "l1_pen_ID =  tensor(22.0711, grad_fn=<AddBackward0>)\n",
      "tri_loss =  tensor(0.3465, grad_fn=<MeanBackward0>)\n",
      "l1_pen_ID =  tensor(22.9093, grad_fn=<AddBackward0>)\n",
      "tri_loss =  tensor(0.3373, grad_fn=<MeanBackward0>)\n",
      "l1_pen_ID =  tensor(23.1347, grad_fn=<AddBackward0>)\n",
      "tri_loss =  tensor(0.3430, grad_fn=<MeanBackward0>)\n",
      "l1_pen_ID =  tensor(23.4172, grad_fn=<AddBackward0>)\n",
      "tri_loss =  tensor(0.3884, grad_fn=<MeanBackward0>)\n",
      "l1_pen_ID =  tensor(25.5417, grad_fn=<AddBackward0>)\n",
      "tri_loss =  tensor(0.2842, grad_fn=<MeanBackward0>)\n",
      "l1_pen_ID =  tensor(24.1435, grad_fn=<AddBackward0>)\n",
      "tri_loss =  tensor(0.2932, grad_fn=<MeanBackward0>)\n",
      "l1_pen_ID =  tensor(32.6405, grad_fn=<AddBackward0>)\n",
      "tri_loss =  tensor(0.3207, grad_fn=<MeanBackward0>)\n",
      "l1_pen_ID =  tensor(29.4648, grad_fn=<AddBackward0>)\n",
      "tri_loss =  tensor(0.2649, grad_fn=<MeanBackward0>)\n"
     ]
    }
   ],
   "source": [
    "if not os.path.exists(model_dir):\n",
    "    os.makedirs(model_dir)\n",
    "start = 0\n",
    "train_accs, val_accs = [], []\n",
    "train_losses, val_losses = [], []\n",
    "loglikelihoods = []\n",
    "nneg_d_over_time = []\n",
    "\n",
    "iter = 0\n",
    "results = {}\n",
    "logger.info(f'Optimization started for lambda: {lmbda}\\n')\n",
    "\n",
    "print(f'Optimization started for lambda: {lmbda}\\n')\n",
    "for epoch in tqdm(range(start, epochs)):\n",
    "    model_weight.train()\n",
    "    batch_llikelihoods = torch.zeros(len(train_batches))\n",
    "    batch_closses = torch.zeros(len(train_batches))\n",
    "    batch_losses_train = torch.zeros(len(train_batches))\n",
    "    batch_accs_train = torch.zeros(len(train_batches))\n",
    "    for i, batch in enumerate(train_batches):\n",
    "        optim.zero_grad() #zero out gradients\n",
    "        d = batch[0].to(device)\n",
    "        ids = batch[1].to(device)\n",
    "        logits = model_weight(d, ids)\n",
    "        anchor, positive, negative = torch.unbind(torch.reshape(logits, (-1, 3, embed_dim)), dim=1)\n",
    "        tri_loss = ut.trinomial_loss(anchor, positive, negative, task, temperature, distance_metric)\n",
    "        l1_pen_ID = md.l1_regularization(model_weight, \"individual_slopes.weight\", \"most\").to(device) #L1-norm to enforce sparsity (many 0s)\n",
    "        complexity_loss_ID = (lmbda/n_participants) * l1_pen_ID\n",
    "        loss = tri_loss + complexity_loss_ID\n",
    "        Slopes = model_weight.individual_slopes\n",
    "        \n",
    "        loss.backward()\n",
    "        optim.step()\n",
    "        \n",
    "        batch_losses_train[i] += loss.item()\n",
    "        batch_llikelihoods[i] += loss.item()\n",
    "        batch_accs_train[i] += ut.choice_accuracy(anchor, positive, negative, task, distance_metric)\n",
    "        iter += 1\n",
    "\n",
    "    print(\"l1_pen_ID = \", l1_pen_ID)\n",
    "    print(\"tri_loss = \", tri_loss)\n",
    "    avg_llikelihood = torch.mean(batch_llikelihoods).item()\n",
    "    avg_train_loss = torch.mean(batch_losses_train).item()\n",
    "    avg_train_acc = torch.mean(batch_accs_train).item()\n",
    "    \n",
    "    loglikelihoods.append(avg_llikelihood)\n",
    "    train_losses.append(avg_train_loss)\n",
    "    train_accs.append(avg_train_acc)"
   ]
  },
  {
   "cell_type": "code",
   "execution_count": null,
   "id": "2e980dcd-e87e-49a7-a363-b7ed25459166",
   "metadata": {},
   "outputs": [],
   "source": []
  },
  {
   "cell_type": "code",
   "execution_count": 342,
   "id": "095c05d1-f34c-45ce-8689-4f43566057bf",
   "metadata": {},
   "outputs": [
    {
     "data": {
      "text/plain": [
       "[0.3317129909992218,\n",
       " 0.3316666781902313,\n",
       " 0.33254629373550415,\n",
       " 0.33064818382263184,\n",
       " 0.3324074149131775,\n",
       " 0.3319907486438751,\n",
       " 0.33097225427627563,\n",
       " 0.3338888883590698,\n",
       " 0.3317129611968994,\n",
       " 0.3308796286582947,\n",
       " 0.33092594146728516,\n",
       " 0.33162036538124084,\n",
       " 0.3311111330986023,\n",
       " 0.3308333158493042,\n",
       " 0.3305555284023285]"
      ]
     },
     "execution_count": 342,
     "metadata": {},
     "output_type": "execute_result"
    }
   ],
   "source": [
    "train_accs"
   ]
  },
  {
   "cell_type": "code",
   "execution_count": 336,
   "id": "98bd7c0b-330a-4f7f-918a-373b0b6bfec9",
   "metadata": {},
   "outputs": [],
   "source": [
    "kwd_pattern = fr'{\"individual_slopes.weight\"}'\n",
    "agreement = \"few\"\n",
    "l1_reg = torch.tensor(0., requires_grad=True)\n",
    "for n, p in model_weight.named_parameters():\n",
    "    if re.search(kwd_pattern, n):\n",
    "        if agreement == \"few\":\n",
    "            l1_reg = l1_reg + torch.norm(p, 1)\n",
    "        elif agreement == \"most\":\n",
    "            l1_reg = l1_reg + torch.norm((1-p), 1)"
   ]
  },
  {
   "cell_type": "code",
   "execution_count": 337,
   "id": "a55cb980-11e7-4847-8120-b0c985d0adee",
   "metadata": {},
   "outputs": [
    {
     "data": {
      "text/plain": [
       "tensor(11.3138, grad_fn=<AddBackward0>)"
      ]
     },
     "execution_count": 337,
     "metadata": {},
     "output_type": "execute_result"
    }
   ],
   "source": [
    "l1_reg"
   ]
  },
  {
   "cell_type": "code",
   "execution_count": 312,
   "id": "c2e85cd2-e9ce-4fd2-8d94-98f0e29c586e",
   "metadata": {},
   "outputs": [
    {
     "data": {
      "text/plain": [
       "tensor(0.3304, grad_fn=<MeanBackward0>)"
      ]
     },
     "execution_count": 312,
     "metadata": {},
     "output_type": "execute_result"
    }
   ],
   "source": [
    "tri_loss"
   ]
  },
  {
   "cell_type": "code",
   "execution_count": 313,
   "id": "ae84bfaf-d79b-409c-987f-afc440f78918",
   "metadata": {},
   "outputs": [
    {
     "data": {
      "text/plain": [
       "tensor(8.0104, grad_fn=<AddBackward0>)"
      ]
     },
     "execution_count": 313,
     "metadata": {},
     "output_type": "execute_result"
    }
   ],
   "source": [
    "loss"
   ]
  },
  {
   "cell_type": "code",
   "execution_count": 311,
   "id": "a87e2c0e-a869-4cb7-89bd-fb118d56ac80",
   "metadata": {},
   "outputs": [
    {
     "data": {
      "text/plain": [
       "tensor(7.6800, grad_fn=<MulBackward0>)"
      ]
     },
     "execution_count": 311,
     "metadata": {},
     "output_type": "execute_result"
    }
   ],
   "source": [
    "complexity_loss_ID"
   ]
  },
  {
   "cell_type": "code",
   "execution_count": 309,
   "id": "894aaa62-21d5-4971-99e3-76f3d6064682",
   "metadata": {},
   "outputs": [
    {
     "data": {
      "text/plain": [
       "tensor(7680.0146, grad_fn=<AddBackward0>)"
      ]
     },
     "execution_count": 309,
     "metadata": {},
     "output_type": "execute_result"
    }
   ],
   "source": [
    "l1_pen_ID"
   ]
  },
  {
   "cell_type": "code",
   "execution_count": 308,
   "id": "4c2af833-c8ff-4b5b-83a1-94cf4ae1650b",
   "metadata": {},
   "outputs": [
    {
     "name": "stdout",
     "output_type": "stream",
     "text": [
      "tensor(7427.3647, grad_fn=<LinalgVectorNormBackward0>)\n"
     ]
    }
   ],
   "source": [
    "for n, p in model_weight.named_parameters():\n",
    "    print(torch.norm(1-p, 1))"
   ]
  },
  {
   "cell_type": "code",
   "execution_count": 191,
   "id": "717c4f60-9b02-4b45-824b-896dcfd0e34b",
   "metadata": {},
   "outputs": [],
   "source": [
    "sims = (\n",
    "    torch.Tensor([1, 1]), torch.Tensor([1, 1]), torch.Tensor([3, 3])\n",
    ")"
   ]
  },
  {
   "cell_type": "code",
   "execution_count": 322,
   "id": "41062b9a-74eb-4369-8fa8-ee20aef8d206",
   "metadata": {},
   "outputs": [
    {
     "data": {
      "text/plain": [
       "[0.3204629719257355,\n",
       " 0.32175925374031067,\n",
       " 0.3219907581806183,\n",
       " 0.32111111283302307,\n",
       " 0.32087960839271545,\n",
       " 0.31962963938713074,\n",
       " 0.3202778100967407,\n",
       " 0.3197222352027893,\n",
       " 0.31902778148651123,\n",
       " 0.31902778148651123,\n",
       " 0.3204629719257355,\n",
       " 0.3200463056564331,\n",
       " 0.3187500238418579,\n",
       " 0.31921297311782837,\n",
       " 0.3200462758541107]"
      ]
     },
     "execution_count": 322,
     "metadata": {},
     "output_type": "execute_result"
    }
   ],
   "source": [
    "train_accs"
   ]
  },
  {
   "cell_type": "code",
   "execution_count": 299,
   "id": "be33d208-2b59-4e67-86cd-5b5c6ef94b03",
   "metadata": {},
   "outputs": [
    {
     "data": {
      "text/plain": [
       "(0.3294354975223541, 0.3261111080646515)"
      ]
     },
     "execution_count": 299,
     "metadata": {},
     "output_type": "execute_result"
    }
   ],
   "source": [
    "ut.validation(model_weight, val_batches, task, device, level_explanation=\"ID\")"
   ]
  },
  {
   "cell_type": "code",
   "execution_count": 343,
   "id": "68a6f0eb-1be2-488f-b9c4-54ba23222bea",
   "metadata": {},
   "outputs": [
    {
     "data": {
      "text/plain": [
       "(array([766.,   0.,   0.,   0.,   0.,   0.,   0.,   1.,   0.,   1.]),\n",
       " array([0.99530554, 1.02087355, 1.04644156, 1.07200956, 1.09757757,\n",
       "        1.12314558, 1.14871359, 1.1742816 , 1.19984961, 1.22541761,\n",
       "        1.25098562]),\n",
       " <BarContainer object of 10 artists>)"
      ]
     },
     "execution_count": 343,
     "metadata": {},
     "output_type": "execute_result"
    },
    {
     "data": {
      "image/png": "[encoded data removed]",
      "text/plain": [
       "<Figure size 640x480 with 1 Axes>"
      ]
     },
     "metadata": {},
     "output_type": "display_data"
    }
   ],
   "source": [
    "plt.hist(Slopes(torch.LongTensor([4])).detach().numpy()[-1])"
   ]
  },
  {
   "cell_type": "code",
   "execution_count": 136,
   "id": "f29eb19d-35ca-404c-9530-cace91b43ada",
   "metadata": {
    "scrolled": true
   },
   "outputs": [
    {
     "ename": "ValueError",
     "evalue": "autodetected range of [nan, nan] is not finite",
     "output_type": "error",
     "traceback": [
      "\u001b[1;31m---------------------------------------------------------------------------\u001b[0m",
      "\u001b[1;31mValueError\u001b[0m                                Traceback (most recent call last)",
      "Cell \u001b[1;32mIn[136], line 1\u001b[0m\n\u001b[1;32m----> 1\u001b[0m plt\u001b[38;5;241m.\u001b[39mhist(Slopes(torch\u001b[38;5;241m.\u001b[39mLongTensor([\u001b[38;5;241m8\u001b[39m]))\u001b[38;5;241m.\u001b[39mdetach()\u001b[38;5;241m.\u001b[39mnumpy()[\u001b[38;5;241m-\u001b[39m\u001b[38;5;241m1\u001b[39m])\n",
      "File \u001b[1;32m~\\miniconda3\\envs\\representationsID\\Lib\\site-packages\\matplotlib\\pyplot.py:3440\u001b[0m, in \u001b[0;36mhist\u001b[1;34m(x, bins, range, density, weights, cumulative, bottom, histtype, align, orientation, rwidth, log, color, label, stacked, data, **kwargs)\u001b[0m\n\u001b[0;32m   3415\u001b[0m \u001b[38;5;129m@_copy_docstring_and_deprecators\u001b[39m(Axes\u001b[38;5;241m.\u001b[39mhist)\n\u001b[0;32m   3416\u001b[0m \u001b[38;5;28;01mdef\u001b[39;00m \u001b[38;5;21mhist\u001b[39m(\n\u001b[0;32m   3417\u001b[0m     x: ArrayLike \u001b[38;5;241m|\u001b[39m Sequence[ArrayLike],\n\u001b[1;32m   (...)\u001b[0m\n\u001b[0;32m   3438\u001b[0m     BarContainer \u001b[38;5;241m|\u001b[39m Polygon \u001b[38;5;241m|\u001b[39m \u001b[38;5;28mlist\u001b[39m[BarContainer \u001b[38;5;241m|\u001b[39m Polygon],\n\u001b[0;32m   3439\u001b[0m ]:\n\u001b[1;32m-> 3440\u001b[0m     \u001b[38;5;28;01mreturn\u001b[39;00m gca()\u001b[38;5;241m.\u001b[39mhist(\n\u001b[0;32m   3441\u001b[0m         x,\n\u001b[0;32m   3442\u001b[0m         bins\u001b[38;5;241m=\u001b[39mbins,\n\u001b[0;32m   3443\u001b[0m         \u001b[38;5;28mrange\u001b[39m\u001b[38;5;241m=\u001b[39m\u001b[38;5;28mrange\u001b[39m,\n\u001b[0;32m   3444\u001b[0m         density\u001b[38;5;241m=\u001b[39mdensity,\n\u001b[0;32m   3445\u001b[0m         weights\u001b[38;5;241m=\u001b[39mweights,\n\u001b[0;32m   3446\u001b[0m         cumulative\u001b[38;5;241m=\u001b[39mcumulative,\n\u001b[0;32m   3447\u001b[0m         bottom\u001b[38;5;241m=\u001b[39mbottom,\n\u001b[0;32m   3448\u001b[0m         histtype\u001b[38;5;241m=\u001b[39mhisttype,\n\u001b[0;32m   3449\u001b[0m         align\u001b[38;5;241m=\u001b[39malign,\n\u001b[0;32m   3450\u001b[0m         orientation\u001b[38;5;241m=\u001b[39morientation,\n\u001b[0;32m   3451\u001b[0m         rwidth\u001b[38;5;241m=\u001b[39mrwidth,\n\u001b[0;32m   3452\u001b[0m         log\u001b[38;5;241m=\u001b[39mlog,\n\u001b[0;32m   3453\u001b[0m         color\u001b[38;5;241m=\u001b[39mcolor,\n\u001b[0;32m   3454\u001b[0m         label\u001b[38;5;241m=\u001b[39mlabel,\n\u001b[0;32m   3455\u001b[0m         stacked\u001b[38;5;241m=\u001b[39mstacked,\n\u001b[0;32m   3456\u001b[0m         \u001b[38;5;241m*\u001b[39m\u001b[38;5;241m*\u001b[39m({\u001b[38;5;124m\"\u001b[39m\u001b[38;5;124mdata\u001b[39m\u001b[38;5;124m\"\u001b[39m: data} \u001b[38;5;28;01mif\u001b[39;00m data \u001b[38;5;129;01mis\u001b[39;00m \u001b[38;5;129;01mnot\u001b[39;00m \u001b[38;5;28;01mNone\u001b[39;00m \u001b[38;5;28;01melse\u001b[39;00m {}),\n\u001b[0;32m   3457\u001b[0m         \u001b[38;5;241m*\u001b[39m\u001b[38;5;241m*\u001b[39mkwargs,\n\u001b[0;32m   3458\u001b[0m     )\n",
      "File \u001b[1;32m~\\miniconda3\\envs\\representationsID\\Lib\\site-packages\\matplotlib\\__init__.py:1473\u001b[0m, in \u001b[0;36m_preprocess_data.<locals>.inner\u001b[1;34m(ax, data, *args, **kwargs)\u001b[0m\n\u001b[0;32m   1470\u001b[0m \u001b[38;5;129m@functools\u001b[39m\u001b[38;5;241m.\u001b[39mwraps(func)\n\u001b[0;32m   1471\u001b[0m \u001b[38;5;28;01mdef\u001b[39;00m \u001b[38;5;21minner\u001b[39m(ax, \u001b[38;5;241m*\u001b[39margs, data\u001b[38;5;241m=\u001b[39m\u001b[38;5;28;01mNone\u001b[39;00m, \u001b[38;5;241m*\u001b[39m\u001b[38;5;241m*\u001b[39mkwargs):\n\u001b[0;32m   1472\u001b[0m     \u001b[38;5;28;01mif\u001b[39;00m data \u001b[38;5;129;01mis\u001b[39;00m \u001b[38;5;28;01mNone\u001b[39;00m:\n\u001b[1;32m-> 1473\u001b[0m         \u001b[38;5;28;01mreturn\u001b[39;00m func(\n\u001b[0;32m   1474\u001b[0m             ax,\n\u001b[0;32m   1475\u001b[0m             \u001b[38;5;241m*\u001b[39m\u001b[38;5;28mmap\u001b[39m(sanitize_sequence, args),\n\u001b[0;32m   1476\u001b[0m             \u001b[38;5;241m*\u001b[39m\u001b[38;5;241m*\u001b[39m{k: sanitize_sequence(v) \u001b[38;5;28;01mfor\u001b[39;00m k, v \u001b[38;5;129;01min\u001b[39;00m kwargs\u001b[38;5;241m.\u001b[39mitems()})\n\u001b[0;32m   1478\u001b[0m     bound \u001b[38;5;241m=\u001b[39m new_sig\u001b[38;5;241m.\u001b[39mbind(ax, \u001b[38;5;241m*\u001b[39margs, \u001b[38;5;241m*\u001b[39m\u001b[38;5;241m*\u001b[39mkwargs)\n\u001b[0;32m   1479\u001b[0m     auto_label \u001b[38;5;241m=\u001b[39m (bound\u001b[38;5;241m.\u001b[39marguments\u001b[38;5;241m.\u001b[39mget(label_namer)\n\u001b[0;32m   1480\u001b[0m                   \u001b[38;5;129;01mor\u001b[39;00m bound\u001b[38;5;241m.\u001b[39mkwargs\u001b[38;5;241m.\u001b[39mget(label_namer))\n",
      "File \u001b[1;32m~\\miniconda3\\envs\\representationsID\\Lib\\site-packages\\matplotlib\\axes\\_axes.py:7001\u001b[0m, in \u001b[0;36mAxes.hist\u001b[1;34m(self, x, bins, range, density, weights, cumulative, bottom, histtype, align, orientation, rwidth, log, color, label, stacked, **kwargs)\u001b[0m\n\u001b[0;32m   6997\u001b[0m \u001b[38;5;66;03m# Loop through datasets\u001b[39;00m\n\u001b[0;32m   6998\u001b[0m \u001b[38;5;28;01mfor\u001b[39;00m i \u001b[38;5;129;01min\u001b[39;00m \u001b[38;5;28mrange\u001b[39m(nx):\n\u001b[0;32m   6999\u001b[0m     \u001b[38;5;66;03m# this will automatically overwrite bins,\u001b[39;00m\n\u001b[0;32m   7000\u001b[0m     \u001b[38;5;66;03m# so that each histogram uses the same bins\u001b[39;00m\n\u001b[1;32m-> 7001\u001b[0m     m, bins \u001b[38;5;241m=\u001b[39m np\u001b[38;5;241m.\u001b[39mhistogram(x[i], bins, weights\u001b[38;5;241m=\u001b[39mw[i], \u001b[38;5;241m*\u001b[39m\u001b[38;5;241m*\u001b[39mhist_kwargs)\n\u001b[0;32m   7002\u001b[0m     tops\u001b[38;5;241m.\u001b[39mappend(m)\n\u001b[0;32m   7003\u001b[0m tops \u001b[38;5;241m=\u001b[39m np\u001b[38;5;241m.\u001b[39marray(tops, \u001b[38;5;28mfloat\u001b[39m)  \u001b[38;5;66;03m# causes problems later if it's an int\u001b[39;00m\n",
      "File \u001b[1;32m~\\miniconda3\\envs\\representationsID\\Lib\\site-packages\\numpy\\lib\\histograms.py:780\u001b[0m, in \u001b[0;36mhistogram\u001b[1;34m(a, bins, range, density, weights)\u001b[0m\n\u001b[0;32m    680\u001b[0m \u001b[38;5;250m\u001b[39m\u001b[38;5;124mr\u001b[39m\u001b[38;5;124;03m\"\"\"\u001b[39;00m\n\u001b[0;32m    681\u001b[0m \u001b[38;5;124;03mCompute the histogram of a dataset.\u001b[39;00m\n\u001b[0;32m    682\u001b[0m \n\u001b[1;32m   (...)\u001b[0m\n\u001b[0;32m    776\u001b[0m \n\u001b[0;32m    777\u001b[0m \u001b[38;5;124;03m\"\"\"\u001b[39;00m\n\u001b[0;32m    778\u001b[0m a, weights \u001b[38;5;241m=\u001b[39m _ravel_and_check_weights(a, weights)\n\u001b[1;32m--> 780\u001b[0m bin_edges, uniform_bins \u001b[38;5;241m=\u001b[39m _get_bin_edges(a, bins, \u001b[38;5;28mrange\u001b[39m, weights)\n\u001b[0;32m    782\u001b[0m \u001b[38;5;66;03m# Histogram is an integer or a float array depending on the weights.\u001b[39;00m\n\u001b[0;32m    783\u001b[0m \u001b[38;5;28;01mif\u001b[39;00m weights \u001b[38;5;129;01mis\u001b[39;00m \u001b[38;5;28;01mNone\u001b[39;00m:\n",
      "File \u001b[1;32m~\\miniconda3\\envs\\representationsID\\Lib\\site-packages\\numpy\\lib\\histograms.py:426\u001b[0m, in \u001b[0;36m_get_bin_edges\u001b[1;34m(a, bins, range, weights)\u001b[0m\n\u001b[0;32m    423\u001b[0m     \u001b[38;5;28;01mif\u001b[39;00m n_equal_bins \u001b[38;5;241m<\u001b[39m \u001b[38;5;241m1\u001b[39m:\n\u001b[0;32m    424\u001b[0m         \u001b[38;5;28;01mraise\u001b[39;00m \u001b[38;5;167;01mValueError\u001b[39;00m(\u001b[38;5;124m'\u001b[39m\u001b[38;5;124m`bins` must be positive, when an integer\u001b[39m\u001b[38;5;124m'\u001b[39m)\n\u001b[1;32m--> 426\u001b[0m     first_edge, last_edge \u001b[38;5;241m=\u001b[39m _get_outer_edges(a, \u001b[38;5;28mrange\u001b[39m)\n\u001b[0;32m    428\u001b[0m \u001b[38;5;28;01melif\u001b[39;00m np\u001b[38;5;241m.\u001b[39mndim(bins) \u001b[38;5;241m==\u001b[39m \u001b[38;5;241m1\u001b[39m:\n\u001b[0;32m    429\u001b[0m     bin_edges \u001b[38;5;241m=\u001b[39m np\u001b[38;5;241m.\u001b[39masarray(bins)\n",
      "File \u001b[1;32m~\\miniconda3\\envs\\representationsID\\Lib\\site-packages\\numpy\\lib\\histograms.py:323\u001b[0m, in \u001b[0;36m_get_outer_edges\u001b[1;34m(a, range)\u001b[0m\n\u001b[0;32m    321\u001b[0m     first_edge, last_edge \u001b[38;5;241m=\u001b[39m a\u001b[38;5;241m.\u001b[39mmin(), a\u001b[38;5;241m.\u001b[39mmax()\n\u001b[0;32m    322\u001b[0m     \u001b[38;5;28;01mif\u001b[39;00m \u001b[38;5;129;01mnot\u001b[39;00m (np\u001b[38;5;241m.\u001b[39misfinite(first_edge) \u001b[38;5;129;01mand\u001b[39;00m np\u001b[38;5;241m.\u001b[39misfinite(last_edge)):\n\u001b[1;32m--> 323\u001b[0m         \u001b[38;5;28;01mraise\u001b[39;00m \u001b[38;5;167;01mValueError\u001b[39;00m(\n\u001b[0;32m    324\u001b[0m             \u001b[38;5;124m\"\u001b[39m\u001b[38;5;124mautodetected range of [\u001b[39m\u001b[38;5;132;01m{}\u001b[39;00m\u001b[38;5;124m, \u001b[39m\u001b[38;5;132;01m{}\u001b[39;00m\u001b[38;5;124m] is not finite\u001b[39m\u001b[38;5;124m\"\u001b[39m\u001b[38;5;241m.\u001b[39mformat(first_edge, last_edge))\n\u001b[0;32m    326\u001b[0m \u001b[38;5;66;03m# expand empty range to avoid divide by zero\u001b[39;00m\n\u001b[0;32m    327\u001b[0m \u001b[38;5;28;01mif\u001b[39;00m first_edge \u001b[38;5;241m==\u001b[39m last_edge:\n",
      "\u001b[1;31mValueError\u001b[0m: autodetected range of [nan, nan] is not finite"
     ]
    },
    {
     "data": {
      "image/png": "[encoded data removed]",
      "text/plain": [
       "<Figure size 640x480 with 1 Axes>"
      ]
     },
     "metadata": {},
     "output_type": "display_data"
    }
   ],
   "source": [
    "plt.hist(Slopes(torch.LongTensor([8])).detach().numpy()[-1])"
   ]
  }
 ],
 "metadata": {
  "kernelspec": {
   "display_name": "Python 3 (ipykernel)",
   "language": "python",
   "name": "python3"
  },
  "language_info": {
   "codemirror_mode": {
    "name": "ipython",
    "version": 3
   },
   "file_extension": ".py",
   "mimetype": "text/x-python",
   "name": "python",
   "nbconvert_exporter": "python",
   "pygments_lexer": "ipython3",
   "version": "3.12.8"
  }
 },
 "nbformat": 4,
 "nbformat_minor": 5
}
