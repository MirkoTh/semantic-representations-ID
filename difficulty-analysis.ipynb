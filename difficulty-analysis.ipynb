{
 "cells": [
  {
   "cell_type": "code",
   "execution_count": 1,
   "id": "a70a1355-f6e4-448c-a5e7-8b11a3d3e878",
   "metadata": {},
   "outputs": [],
   "source": [
    "import numpy as np\n",
    "import pandas as pd\n",
    "import matplotlib.pyplot as plt\n",
    "import seaborn as sns"
   ]
  },
  {
   "cell_type": "code",
   "execution_count": 2,
   "id": "0d3e958f-18b2-41e1-9264-7348bad85b1f",
   "metadata": {},
   "outputs": [],
   "source": [
    "array_weights = np.load(\"results/avg/15d/0.0005/seed852/weights_sorted.npy\")"
   ]
  },
  {
   "cell_type": "code",
   "execution_count": 26,
   "id": "ddcbacba-d3e0-4a27-a9e5-be72ce618c4e",
   "metadata": {},
   "outputs": [],
   "source": [
    "df_train = pd.DataFrame(np.loadtxt(\"data/train_90_ID.txt\"))\n",
    "df_train.columns = [\"anchor\", \"positive\", \"negative\", \"ID\"]\n",
    "new_order = [\"ID\", \"anchor\", \"positive\", \"negative\"]\n",
    "df_train = df_train[new_order]"
   ]
  },
  {
   "cell_type": "code",
   "execution_count": 27,
   "id": "4deea2d1-83fc-4ade-a3e0-ed6bbdcd4877",
   "metadata": {},
   "outputs": [
    {
     "data": {
      "text/html": [
       "<div>\n",
       "<style scoped>\n",
       "    .dataframe tbody tr th:only-of-type {\n",
       "        vertical-align: middle;\n",
       "    }\n",
       "\n",
       "    .dataframe tbody tr th {\n",
       "        vertical-align: top;\n",
       "    }\n",
       "\n",
       "    .dataframe thead th {\n",
       "        text-align: right;\n",
       "    }\n",
       "</style>\n",
       "<table border=\"1\" class=\"dataframe\">\n",
       "  <thead>\n",
       "    <tr style=\"text-align: right;\">\n",
       "      <th></th>\n",
       "      <th>ID</th>\n",
       "      <th>anchor</th>\n",
       "      <th>positive</th>\n",
       "      <th>negative</th>\n",
       "    </tr>\n",
       "  </thead>\n",
       "  <tbody>\n",
       "    <tr>\n",
       "      <th>0</th>\n",
       "      <td>0.0</td>\n",
       "      <td>460.0</td>\n",
       "      <td>952.0</td>\n",
       "      <td>469.0</td>\n",
       "    </tr>\n",
       "    <tr>\n",
       "      <th>1</th>\n",
       "      <td>0.0</td>\n",
       "      <td>53.0</td>\n",
       "      <td>1414.0</td>\n",
       "      <td>216.0</td>\n",
       "    </tr>\n",
       "    <tr>\n",
       "      <th>2</th>\n",
       "      <td>0.0</td>\n",
       "      <td>824.0</td>\n",
       "      <td>34.0</td>\n",
       "      <td>482.0</td>\n",
       "    </tr>\n",
       "    <tr>\n",
       "      <th>3</th>\n",
       "      <td>0.0</td>\n",
       "      <td>1805.0</td>\n",
       "      <td>87.0</td>\n",
       "      <td>1159.0</td>\n",
       "    </tr>\n",
       "    <tr>\n",
       "      <th>4</th>\n",
       "      <td>0.0</td>\n",
       "      <td>297.0</td>\n",
       "      <td>903.0</td>\n",
       "      <td>1018.0</td>\n",
       "    </tr>\n",
       "  </tbody>\n",
       "</table>\n",
       "</div>"
      ],
      "text/plain": [
       "    ID  anchor  positive  negative\n",
       "0  0.0   460.0     952.0     469.0\n",
       "1  0.0    53.0    1414.0     216.0\n",
       "2  0.0   824.0      34.0     482.0\n",
       "3  0.0  1805.0      87.0    1159.0\n",
       "4  0.0   297.0     903.0    1018.0"
      ]
     },
     "execution_count": 27,
     "metadata": {},
     "output_type": "execute_result"
    }
   ],
   "source": [
    "df_train.head()"
   ]
  },
  {
   "cell_type": "code",
   "execution_count": 110,
   "id": "40879e66-cf0e-4a7c-9b0d-721c9c11d6da",
   "metadata": {},
   "outputs": [],
   "source": [
    "df_1 = df_train.query(\"ID == 3.0\").copy()"
   ]
  },
  {
   "cell_type": "code",
   "execution_count": 111,
   "id": "147174cb-2637-48e3-b512-a871bad38b56",
   "metadata": {},
   "outputs": [
    {
     "data": {
      "text/plain": [
       "(2192, 4)"
      ]
     },
     "execution_count": 111,
     "metadata": {},
     "output_type": "execute_result"
    }
   ],
   "source": [
    "df_1.shape"
   ]
  },
  {
   "cell_type": "code",
   "execution_count": 112,
   "id": "a0814356-48e5-430a-a242-1894c2b46edf",
   "metadata": {},
   "outputs": [],
   "source": [
    "def min_difference(row):\n",
    "    triplet = [array_weights[int(i), :] for i in list(row[[\"anchor\", \"positive\", \"negative\"]])]\n",
    "    pos_sim = np.sum(triplet[0] * triplet[1])\n",
    "    neg_sim = np.sum(triplet[0] * triplet[2])\n",
    "    neg_sim_2 = np.sum(triplet[1] * triplet[2])\n",
    "    smallest_diff = pos_sim - np.max([neg_sim, neg_sim_2])\n",
    "    return smallest_diff"
   ]
  },
  {
   "cell_type": "code",
   "execution_count": 113,
   "id": "d8c604ac-838a-4e15-a133-9f466ff22a89",
   "metadata": {},
   "outputs": [],
   "source": [
    "df_1[\"smallest_difference\"] = df_1[[\"anchor\", \"positive\", \"negative\"]].apply(min_difference, axis=1)"
   ]
  },
  {
   "cell_type": "code",
   "execution_count": 114,
   "id": "c4625911-4500-46ec-bc58-a72d66db440c",
   "metadata": {},
   "outputs": [
    {
     "data": {
      "image/png": "[encoded data removed]",
      "text/plain": [
       "<Figure size 640x480 with 1 Axes>"
      ]
     },
     "metadata": {},
     "output_type": "display_data"
    }
   ],
   "source": [
    "_ = plt.hist(df_1[\"smallest_difference\"], bins=30)"
   ]
  },
  {
   "cell_type": "code",
   "execution_count": 115,
   "id": "da0837aa-38dc-489b-9134-27897552da3a",
   "metadata": {},
   "outputs": [
    {
     "data": {
      "text/html": [
       "<div>\n",
       "<style scoped>\n",
       "    .dataframe tbody tr th:only-of-type {\n",
       "        vertical-align: middle;\n",
       "    }\n",
       "\n",
       "    .dataframe tbody tr th {\n",
       "        vertical-align: top;\n",
       "    }\n",
       "\n",
       "    .dataframe thead th {\n",
       "        text-align: right;\n",
       "    }\n",
       "</style>\n",
       "<table border=\"1\" class=\"dataframe\">\n",
       "  <thead>\n",
       "    <tr style=\"text-align: right;\">\n",
       "      <th></th>\n",
       "      <th>ID</th>\n",
       "      <th>anchor</th>\n",
       "      <th>positive</th>\n",
       "      <th>negative</th>\n",
       "      <th>smallest_difference</th>\n",
       "      <th>cum</th>\n",
       "    </tr>\n",
       "  </thead>\n",
       "  <tbody>\n",
       "    <tr>\n",
       "      <th>4983</th>\n",
       "      <td>3.0</td>\n",
       "      <td>601.0</td>\n",
       "      <td>485.0</td>\n",
       "      <td>1140.0</td>\n",
       "      <td>-4.056118</td>\n",
       "      <td>0.000000</td>\n",
       "    </tr>\n",
       "    <tr>\n",
       "      <th>3996</th>\n",
       "      <td>3.0</td>\n",
       "      <td>1045.0</td>\n",
       "      <td>1460.0</td>\n",
       "      <td>1850.0</td>\n",
       "      <td>-3.722368</td>\n",
       "      <td>0.000456</td>\n",
       "    </tr>\n",
       "    <tr>\n",
       "      <th>5894</th>\n",
       "      <td>3.0</td>\n",
       "      <td>46.0</td>\n",
       "      <td>1638.0</td>\n",
       "      <td>88.0</td>\n",
       "      <td>-3.678394</td>\n",
       "      <td>0.000912</td>\n",
       "    </tr>\n",
       "    <tr>\n",
       "      <th>4990</th>\n",
       "      <td>3.0</td>\n",
       "      <td>1479.0</td>\n",
       "      <td>809.0</td>\n",
       "      <td>764.0</td>\n",
       "      <td>-3.569621</td>\n",
       "      <td>0.001369</td>\n",
       "    </tr>\n",
       "    <tr>\n",
       "      <th>5397</th>\n",
       "      <td>3.0</td>\n",
       "      <td>1665.0</td>\n",
       "      <td>1520.0</td>\n",
       "      <td>548.0</td>\n",
       "      <td>-3.536870</td>\n",
       "      <td>0.001825</td>\n",
       "    </tr>\n",
       "    <tr>\n",
       "      <th>...</th>\n",
       "      <td>...</td>\n",
       "      <td>...</td>\n",
       "      <td>...</td>\n",
       "      <td>...</td>\n",
       "      <td>...</td>\n",
       "      <td>...</td>\n",
       "    </tr>\n",
       "    <tr>\n",
       "      <th>4818</th>\n",
       "      <td>3.0</td>\n",
       "      <td>469.0</td>\n",
       "      <td>346.0</td>\n",
       "      <td>644.0</td>\n",
       "      <td>5.649981</td>\n",
       "      <td>0.997719</td>\n",
       "    </tr>\n",
       "    <tr>\n",
       "      <th>4876</th>\n",
       "      <td>3.0</td>\n",
       "      <td>107.0</td>\n",
       "      <td>1091.0</td>\n",
       "      <td>1445.0</td>\n",
       "      <td>5.668139</td>\n",
       "      <td>0.998175</td>\n",
       "    </tr>\n",
       "    <tr>\n",
       "      <th>5629</th>\n",
       "      <td>3.0</td>\n",
       "      <td>964.0</td>\n",
       "      <td>1018.0</td>\n",
       "      <td>317.0</td>\n",
       "      <td>5.686295</td>\n",
       "      <td>0.998631</td>\n",
       "    </tr>\n",
       "    <tr>\n",
       "      <th>4335</th>\n",
       "      <td>3.0</td>\n",
       "      <td>1018.0</td>\n",
       "      <td>332.0</td>\n",
       "      <td>787.0</td>\n",
       "      <td>6.087033</td>\n",
       "      <td>0.999088</td>\n",
       "    </tr>\n",
       "    <tr>\n",
       "      <th>4707</th>\n",
       "      <td>3.0</td>\n",
       "      <td>647.0</td>\n",
       "      <td>442.0</td>\n",
       "      <td>1315.0</td>\n",
       "      <td>6.316928</td>\n",
       "      <td>0.999544</td>\n",
       "    </tr>\n",
       "  </tbody>\n",
       "</table>\n",
       "<p>2192 rows × 6 columns</p>\n",
       "</div>"
      ],
      "text/plain": [
       "       ID  anchor  positive  negative  smallest_difference       cum\n",
       "4983  3.0   601.0     485.0    1140.0            -4.056118  0.000000\n",
       "3996  3.0  1045.0    1460.0    1850.0            -3.722368  0.000456\n",
       "5894  3.0    46.0    1638.0      88.0            -3.678394  0.000912\n",
       "4990  3.0  1479.0     809.0     764.0            -3.569621  0.001369\n",
       "5397  3.0  1665.0    1520.0     548.0            -3.536870  0.001825\n",
       "...   ...     ...       ...       ...                  ...       ...\n",
       "4818  3.0   469.0     346.0     644.0             5.649981  0.997719\n",
       "4876  3.0   107.0    1091.0    1445.0             5.668139  0.998175\n",
       "5629  3.0   964.0    1018.0     317.0             5.686295  0.998631\n",
       "4335  3.0  1018.0     332.0     787.0             6.087033  0.999088\n",
       "4707  3.0   647.0     442.0    1315.0             6.316928  0.999544\n",
       "\n",
       "[2192 rows x 6 columns]"
      ]
     },
     "execution_count": 115,
     "metadata": {},
     "output_type": "execute_result"
    }
   ],
   "source": [
    "df_1.sort_values(\"smallest_difference\", inplace=True)\n",
    "df_1[\"cum\"] = np.arange(0, df_1.shape[0])\n",
    "df_1[\"cum\"] = df_1[\"cum\"] / df_1.shape[0]\n",
    "df_1"
   ]
  },
  {
   "cell_type": "code",
   "execution_count": 131,
   "id": "c81e879b-23f9-4ee6-a885-39a74070448c",
   "metadata": {},
   "outputs": [],
   "source": [
    "vector1 = np.array([2, 2])\n",
    "vector2 = np.array([2, 2])\n",
    "cosine_similarity = np.dot(vector1, vector2)\n",
    "pos_sim = np.sum(vector1 * vector2)"
   ]
  },
  {
   "cell_type": "code",
   "execution_count": 132,
   "id": "708061cc-d978-49f0-9525-8955cb14336a",
   "metadata": {},
   "outputs": [
    {
     "data": {
      "text/plain": [
       "8"
      ]
     },
     "execution_count": 132,
     "metadata": {},
     "output_type": "execute_result"
    }
   ],
   "source": [
    "cosine_similarity"
   ]
  },
  {
   "cell_type": "code",
   "execution_count": 133,
   "id": "d5cdc2e5-ca34-4185-b841-2843d481bf31",
   "metadata": {},
   "outputs": [
    {
     "data": {
      "text/plain": [
       "8"
      ]
     },
     "execution_count": 133,
     "metadata": {},
     "output_type": "execute_result"
    }
   ],
   "source": [
    "pos_sim"
   ]
  },
  {
   "cell_type": "code",
   "execution_count": 116,
   "id": "31b6be4e-00c4-43f8-b00c-f82db065840e",
   "metadata": {},
   "outputs": [
    {
     "data": {
      "image/png": "[encoded data removed]",
      "text/plain": [
       "<Figure size 640x480 with 1 Axes>"
      ]
     },
     "metadata": {},
     "output_type": "display_data"
    }
   ],
   "source": [
    "plt.plot(df_1['smallest_difference'], df_1['cum'], marker='o', linestyle='-', color='b')\n",
    "plt.title('Cumulative Distribution')\n",
    "plt.xlabel('Values')\n",
    "plt.ylabel('Cumulative Probability')\n",
    "plt.grid(True)\n",
    "plt.show()"
   ]
  },
  {
   "cell_type": "code",
   "execution_count": null,
   "id": "37e27585-8854-42f0-b07f-5708b89ef209",
   "metadata": {},
   "outputs": [],
   "source": []
  }
 ],
 "metadata": {
  "kernelspec": {
   "display_name": "Python 3 (ipykernel)",
   "language": "python",
   "name": "python3"
  },
  "language_info": {
   "codemirror_mode": {
    "name": "ipython",
    "version": 3
   },
   "file_extension": ".py",
   "mimetype": "text/x-python",
   "name": "python",
   "nbconvert_exporter": "python",
   "pygments_lexer": "ipython3",
   "version": "3.12.8"
  }
 },
 "nbformat": 4,
 "nbformat_minor": 5
}
