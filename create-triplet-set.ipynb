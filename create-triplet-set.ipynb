{
 "cells": [
  {
   "cell_type": "markdown",
   "id": "b8d45a2f-e0f8-4ba8-97df-396989e123c5",
   "metadata": {},
   "source": [
    "script\n",
    "- selects the triplets used for the first individual differences in object representation study\n",
    "- saves the triplet ids and the required file paths of the images to be used in the study html and js"
   ]
  },
  {
   "cell_type": "code",
   "execution_count": 24,
   "id": "4e2f7753-8652-4fe8-83c6-67f71c5c8123",
   "metadata": {},
   "outputs": [],
   "source": [
    "import os\n",
    "import re\n",
    "\n",
    "from functools import partial\n",
    "\n",
    "import pandas as pd\n",
    "import matplotlib.pyplot as plt\n",
    "import seaborn as sns"
   ]
  },
  {
   "cell_type": "code",
   "execution_count": 2,
   "id": "50196bb2-4af4-49de-8030-03b0b7a07152",
   "metadata": {},
   "outputs": [],
   "source": [
    "import utils as ut"
   ]
  },
  {
   "cell_type": "code",
   "execution_count": 5,
   "id": "b1622057-2c56-49b2-a6e3-6bf3aaf791b5",
   "metadata": {},
   "outputs": [],
   "source": [
    "df_items_delta = pd.read_csv(\"data/triplets-delta.csv\")"
   ]
  },
  {
   "cell_type": "code",
   "execution_count": 35,
   "id": "db8a8ee1-9069-4064-aaa1-5477ac9d7ab4",
   "metadata": {},
   "outputs": [],
   "source": [
    "n_informative_trials = 440\n",
    "n_practice_trials = 5\n",
    "seed = 3832\n",
    "\n",
    "my_cols = [\"triplet_id\", \"id_lo\", \"id_mid\",\"id_hi\", \"delta\", \"prop_max\"]\n",
    "\n",
    "# 1. triplets most informative given the models\n",
    "df_triplets_study_delta = df_items_delta.query(\"n_per_triplet >= 100\")[my_cols].drop_duplicates().sort_values(\n",
    "    \"delta\", ascending=False).head(int(n_informative_trials/2))\n",
    "df_triplets_remaining = pd.merge(df_items_delta, df_triplets_study_delta[[\"triplet_id\", \"delta\"]], how=\"left\", on=\"triplet_id\", suffixes=(\"\", \"_y\"))\n",
    "df_triplets_remaining = df_triplets_remaining.query(\"delta_y.isna()\").drop(columns=[\"delta_y\"])\n",
    "\n",
    "# 2. triplets most disagreed upon from the participants\n",
    "#df_triplets_study_disagree = df_triplets_remaining.query(\n",
    "#    \"n_per_triplet >= 100 & delta >= 0.035\"\n",
    "#)[[\"delta\", \"prop_max\", \"triplet_id\", \"id_lo\", \"id_mid\",\"id_hi\"]].drop_duplicates().sort_values(\n",
    "#    \"prop_max\").head(int(n_informative_trials/2))\n",
    "\n",
    "# 3. random selection amongst the rest with constraint that delta >= 0\n",
    "df_triplets_study_random = df_triplets_remaining.query(\"delta >= 0\").sample(n=int(n_informative_trials/2), random_state=seed)\n",
    "\n",
    "df_triplets_study = pd.concat([df_triplets_study_delta, df_triplets_study_random])\n",
    "df_triplets_study = df_triplets_study[my_cols].drop_duplicates().head(n_informative_trials)\n",
    "\n",
    "df_triplets_study = df_triplets_study.sample(frac=1).reset_index(drop=True)\n",
    "\n",
    "df_triplets_practice = df_items_delta.query(\"delta <= 0.05\")[[\"delta\", \"triplet_id\", \"id_lo\", \"id_mid\",\"id_hi\"]].drop_duplicates(\n",
    "    ).sort_values(\"delta\", ascending=False).head(n_practice_trials).sample(frac=1).reset_index(drop=True)"
   ]
  },
  {
   "cell_type": "code",
   "execution_count": 27,
   "id": "b4668fe4-b7ef-45b0-84c7-54c2656e67c9",
   "metadata": {},
   "outputs": [
    {
     "data": {
      "image/png": "[encoded data removed]",
      "text/plain": [
       "<Figure size 640x480 with 1 Axes>"
      ]
     },
     "metadata": {},
     "output_type": "display_data"
    }
   ],
   "source": [
    "sns.histplot(data=df_triplets_study.rename(columns={'delta': 'Delta', \"prop_max\":\"Agreement\"}).melt(value_vars=[\"Delta\", \"Agreement\"]), x=\"value\", hue=\"variable\")\n",
    "plt.xlabel(\"Value\")\n",
    "_ = plt.ylabel(\"Nr. Participants\")"
   ]
  },
  {
   "cell_type": "code",
   "execution_count": 28,
   "id": "1e549e01-9116-415b-ad21-1d2d5826ef77",
   "metadata": {},
   "outputs": [],
   "source": [
    "l_concepts = os.listdir(\"data/images/\")\n",
    "l_m = [re.match(\"^[a-z]\", l_concepts[i]) for i in range(0, len(l_concepts))]\n",
    "l_filter = [l_m[i] != None for i in range(0, len(l_concepts))]\n",
    "l_concepts_filtered = [value for value, flag in zip(l_concepts, l_filter) if flag]\n",
    "f_partial = partial(ut.extract_image, l_concepts_filtered)"
   ]
  },
  {
   "cell_type": "code",
   "execution_count": 30,
   "id": "61e5a79d-aa1a-4769-a77e-09c5f2824e42",
   "metadata": {},
   "outputs": [],
   "source": [
    "l_all_study = []\n",
    "l_all_ids_study = []\n",
    "l_all_triplets_study = []\n",
    "for i, row in df_triplets_study.iterrows():\n",
    "    current_ids = row[[\"id_lo\", \"id_mid\", \"id_hi\"]]\n",
    "    l_current_ids = list(current_ids.values.reshape(-1))\n",
    "    l_current_ids = [int(l) for l in l_current_ids]\n",
    "    path_to_images = list(map(f_partial, l_current_ids))\n",
    "    l_all_study.append(path_to_images)\n",
    "    l_all_ids_study.append(l_current_ids)\n",
    "    l_all_triplets_study.append(int(row[\"triplet_id\"]))\n",
    "\n",
    "l_all_practice = []\n",
    "l_all_ids_practice = []\n",
    "l_all_triplets_practice = []\n",
    "for i, row in df_triplets_practice.iterrows():\n",
    "    current_ids = row[[\"id_lo\", \"id_mid\", \"id_hi\"]]\n",
    "    l_current_ids = list(current_ids.values.reshape(-1))\n",
    "    l_current_ids = [int(l) for l in l_current_ids]\n",
    "    path_to_images = list(map(f_partial, l_current_ids))\n",
    "    l_all_practice.append(path_to_images)\n",
    "    l_all_ids_practice.append(l_current_ids)\n",
    "    l_all_triplets_practice.append(int(row[\"triplet_id\"]))"
   ]
  },
  {
   "cell_type": "code",
   "execution_count": 31,
   "id": "7140ac61-8bf5-4f37-b449-05a3c372c22c",
   "metadata": {},
   "outputs": [],
   "source": [
    "def save_id_paths(l, s):\n",
    "    # Convert to JavaScript syntax\n",
    "    js_content = f\"const {s} = {l};\\n\"\n",
    "    \n",
    "    # Save to a .js file\n",
    "    with open(f\"experiments/expt-utils/{s}.js\", \"w\") as f:\n",
    "        f.write(js_content)\n",
    "\n",
    "def save_image_paths(l, s):\n",
    "    # Replace backslashes and format as JS array\n",
    "    js_array = f\"const {s} = [\\n\"\n",
    "    for group in l:\n",
    "        cleaned = [img.replace(\"\\\\\", \"/\") for img in group]\n",
    "        js_array += \"  [\\n\"\n",
    "        js_array += \"\".join([f'    \"{img}\",\\n' for img in cleaned])\n",
    "        js_array = js_array.rstrip(\",\\n\") + \"\\n\"\n",
    "        js_array += \"  ],\\n\"\n",
    "    js_array = js_array.rstrip(\",\\n\") + \"\\n];\"\n",
    "    \n",
    "    # Save to file\n",
    "    with open(f\"experiments/expt-utils/{s}.js\", \"w\") as f:\n",
    "        f.write(js_array)"
   ]
  },
  {
   "cell_type": "code",
   "execution_count": 32,
   "id": "d521e1b9-3fd8-459a-92da-09c2a0373dbc",
   "metadata": {},
   "outputs": [],
   "source": [
    "save_id_paths(l_all_triplets_practice, \"practiceIdsTriplets\")\n",
    "save_id_paths(l_all_triplets_study, \"properIdsTriplets\")\n",
    "save_id_paths(l_all_ids_practice, \"practiceIdsItems\")\n",
    "save_id_paths(l_all_ids_study, \"properIdsItems\")"
   ]
  },
  {
   "cell_type": "code",
   "execution_count": 33,
   "id": "cb22ab9d-c313-4463-beb4-238f4e40cb7e",
   "metadata": {},
   "outputs": [],
   "source": [
    "save_image_paths(l_all_practice, \"practiceImageList\")\n",
    "save_image_paths(l_all_study, \"properImageList\")"
   ]
  },
  {
   "cell_type": "code",
   "execution_count": null,
   "id": "5f730626-6f7d-4184-8426-1c16fdd05823",
   "metadata": {},
   "outputs": [],
   "source": []
  }
 ],
 "metadata": {
  "kernelspec": {
   "display_name": "Python 3 (ipykernel)",
   "language": "python",
   "name": "python3"
  },
  "language_info": {
   "codemirror_mode": {
    "name": "ipython",
    "version": 3
   },
   "file_extension": ".py",
   "mimetype": "text/x-python",
   "name": "python",
   "nbconvert_exporter": "python",
   "pygments_lexer": "ipython3",
   "version": "3.12.8"
  }
 },
 "nbformat": 4,
 "nbformat_minor": 5
}
