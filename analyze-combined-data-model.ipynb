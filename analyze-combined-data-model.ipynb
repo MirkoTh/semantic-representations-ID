{
 "cells": [
  {
   "cell_type": "code",
   "execution_count": 1,
   "id": "eed5d831-78a3-45c0-9808-ad84dc280862",
   "metadata": {},
   "outputs": [],
   "source": [
    "# Enable automatic reloading of modules before executing code\n",
    "%load_ext autoreload\n",
    "%autoreload 2"
   ]
  },
  {
   "cell_type": "code",
   "execution_count": 118,
   "id": "0130ace6-c137-4e54-8683-df5f0d39f0f5",
   "metadata": {},
   "outputs": [],
   "source": [
    "import os\n",
    "import copy\n",
    "\n",
    "import numpy as np\n",
    "import pandas as pd\n",
    "import matplotlib.pyplot as plt\n",
    "import seaborn as sns\n",
    "import torch"
   ]
  },
  {
   "cell_type": "code",
   "execution_count": 3,
   "id": "af72f834-005c-4e59-a127-4918748bb4a7",
   "metadata": {},
   "outputs": [],
   "source": [
    "import utils as ut"
   ]
  },
  {
   "cell_type": "code",
   "execution_count": 19,
   "id": "15b214d7-ab78-4e4d-92a1-c28e568372e2",
   "metadata": {},
   "outputs": [],
   "source": [
    "# test run of the model for dev purposes, or full/final data set?\n",
    "is_testcase = True"
   ]
  },
  {
   "cell_type": "markdown",
   "id": "49fe0f99-104e-47fd-a894-61d5e2a98274",
   "metadata": {},
   "source": [
    "# Load Model Results from Disk"
   ]
  },
  {
   "cell_type": "code",
   "execution_count": 4,
   "id": "a824e59e-fa81-4119-973d-146eac185b52",
   "metadata": {},
   "outputs": [],
   "source": [
    "l_lmbda = [0.0005]\n",
    "l_lmbda_hierarchical = [0.01]\n",
    "l_rnd_seed = [7640]\n",
    "l_embed_dim = [7]\n",
    "l_sparse = [\"items_and_random_ids\"]\n",
    "modeltype = \"random_weights_random_scaling\"\n",
    "modelversion = \"embeddings-decision-combined-data\""
   ]
  },
  {
   "cell_type": "code",
   "execution_count": 25,
   "id": "4554b322-344f-49d0-9c4f-36de89fa5ede",
   "metadata": {},
   "outputs": [],
   "source": [
    "# load results from model run\n",
    "l_results = load_ID_lowdim(\n",
    "    l_lmbda=l_lmbda, l_lmbda_hierarchical=l_lmbda_hierarchical, l_rnd_seed=l_rnd_seed, \n",
    "    l_embed_dim=l_embed_dim, l_sparse=l_sparse, modelversion=modelversion, modeltype=modeltype\n",
    ")"
   ]
  },
  {
   "cell_type": "code",
   "execution_count": 39,
   "id": "2c0ce07d-9b63-4e6d-a156-d80855aa7738",
   "metadata": {},
   "outputs": [],
   "source": [
    "# Load Relevant IDs for correlational analyses\n",
    "if is_testcase:\n",
    "    df_pids = pd.read_csv(\"data/study1-2025-08/new-participant-ids-in-joint-modeling-testcase.csv\")\n",
    "elif not is_testcase:\n",
    "    df_pids = pd.read_csv(\"data/study1-2025-08/new-participant-ids-in-joint-modeling.csv\")"
   ]
  },
  {
   "cell_type": "code",
   "execution_count": 52,
   "id": "00bbe8a9-7420-4d10-83f0-838de7e0ff1b",
   "metadata": {},
   "outputs": [],
   "source": [
    "l_pids_model = list(df_pids[\"participant_id_model\"])\n",
    "l_pids_new = list(df_pids[\"participant_id_new\"])"
   ]
  },
  {
   "cell_type": "code",
   "execution_count": 53,
   "id": "1bafc3e8-04fb-4a8f-9615-4fa74edbdea2",
   "metadata": {},
   "outputs": [
    {
     "data": {
      "text/html": [
       "<div>\n",
       "<style scoped>\n",
       "    .dataframe tbody tr th:only-of-type {\n",
       "        vertical-align: middle;\n",
       "    }\n",
       "\n",
       "    .dataframe tbody tr th {\n",
       "        vertical-align: top;\n",
       "    }\n",
       "\n",
       "    .dataframe thead th {\n",
       "        text-align: right;\n",
       "    }\n",
       "</style>\n",
       "<table border=\"1\" class=\"dataframe\">\n",
       "  <thead>\n",
       "    <tr style=\"text-align: right;\">\n",
       "      <th></th>\n",
       "      <th>participant_id_new</th>\n",
       "      <th>0</th>\n",
       "      <th>1</th>\n",
       "      <th>2</th>\n",
       "      <th>3</th>\n",
       "      <th>4</th>\n",
       "      <th>5</th>\n",
       "      <th>6</th>\n",
       "    </tr>\n",
       "  </thead>\n",
       "  <tbody>\n",
       "    <tr>\n",
       "      <th>0</th>\n",
       "      <td>1</td>\n",
       "      <td>1.201567</td>\n",
       "      <td>0.598141</td>\n",
       "      <td>0.626638</td>\n",
       "      <td>1.406600</td>\n",
       "      <td>0.127356</td>\n",
       "      <td>0.372309</td>\n",
       "      <td>0.363178</td>\n",
       "    </tr>\n",
       "    <tr>\n",
       "      <th>1</th>\n",
       "      <td>2</td>\n",
       "      <td>1.154933</td>\n",
       "      <td>0.331691</td>\n",
       "      <td>1.248743</td>\n",
       "      <td>0.674811</td>\n",
       "      <td>1.291103</td>\n",
       "      <td>0.332149</td>\n",
       "      <td>0.592179</td>\n",
       "    </tr>\n",
       "    <tr>\n",
       "      <th>2</th>\n",
       "      <td>3</td>\n",
       "      <td>0.552247</td>\n",
       "      <td>0.333345</td>\n",
       "      <td>1.197031</td>\n",
       "      <td>0.575579</td>\n",
       "      <td>0.993515</td>\n",
       "      <td>0.359048</td>\n",
       "      <td>0.580531</td>\n",
       "    </tr>\n",
       "    <tr>\n",
       "      <th>3</th>\n",
       "      <td>4</td>\n",
       "      <td>0.791544</td>\n",
       "      <td>0.632017</td>\n",
       "      <td>1.233657</td>\n",
       "      <td>1.050458</td>\n",
       "      <td>1.188171</td>\n",
       "      <td>0.723804</td>\n",
       "      <td>0.440776</td>\n",
       "    </tr>\n",
       "  </tbody>\n",
       "</table>\n",
       "</div>"
      ],
      "text/plain": [
       "   participant_id_new         0         1         2         3         4  \\\n",
       "0                   1  1.201567  0.598141  0.626638  1.406600  0.127356   \n",
       "1                   2  1.154933  0.331691  1.248743  0.674811  1.291103   \n",
       "2                   3  0.552247  0.333345  1.197031  0.575579  0.993515   \n",
       "3                   4  0.791544  0.632017  1.233657  1.050458  1.188171   \n",
       "\n",
       "          5         6  \n",
       "0  0.372309  0.363178  \n",
       "1  0.332149  0.592179  \n",
       "2  0.359048  0.580531  \n",
       "3  0.723804  0.440776  "
      ]
     },
     "execution_count": 53,
     "metadata": {},
     "output_type": "execute_result"
    }
   ],
   "source": [
    "df_dim_weights = pd.DataFrame(l_results[0][\"decision_weights\"].detach().numpy()[l_pids_model, :])\n",
    "# participant_id_new can be joined with results coming only from the new study\n",
    "df_dim_weights[\"participant_id_new\"] = l_pids_new\n",
    "# Move participant_id column to the first position\n",
    "col = \"participant_id_new\"\n",
    "new_order = [col] + [c for c in df_dim_weights.columns if c != col]\n",
    "df_dim_weights = df_dim_weights[new_order]\n",
    "df_dim_weights"
   ]
  },
  {
   "cell_type": "code",
   "execution_count": 151,
   "id": "06b4c5d1-107b-4422-accb-2034faf73006",
   "metadata": {},
   "outputs": [],
   "source": [
    "# load dfs saved with R\n",
    "df_qs_num_long = pd.read_csv(\"data/study1-2025-08/tbl_qs_num_long_excluded.csv\")\n",
    "df_qs_txt = pd.read_csv(\"data/study1-2025-08/tbl_qs_txt_excluded.csv\")\n",
    "df_qs_num = df_qs_num_long.pivot(index=[\"participant_id\", \"session_id\"], columns=\"name\", values=\"value\").reset_index(drop=False)\n",
    "# reverse code items\n",
    "df_qs_num = ut.reverse_code_q_items(df_qs_num)\n",
    "# create scale and facet scores\n",
    "df_qs_num = ut.scales_and_facets(df_qs_num)"
   ]
  },
  {
   "cell_type": "code",
   "execution_count": null,
   "id": "de022c95-d8f5-4f5b-98e3-ac30f3f62200",
   "metadata": {},
   "outputs": [],
   "source": []
  },
  {
   "cell_type": "markdown",
   "id": "d0e8a035-ecfd-4040-a159-a9147e2dccbb",
   "metadata": {},
   "source": [
    "*todos*\n",
    "- create text embeddings for interest questions\n",
    "- merge with dim weights\n",
    "- create features with dim weights:\n",
    "    - average dim weight\n",
    "    - gini coef\n",
    "- run model with split-half data\n",
    "- load results and create feature \"stability\" of weights between halfs"
   ]
  },
  {
   "cell_type": "code",
   "execution_count": 55,
   "id": "52b27c0f-10e5-4eb3-9a30-90f7b1ac73ef",
   "metadata": {},
   "outputs": [
    {
     "data": {
      "text/html": [
       "<div>\n",
       "<style scoped>\n",
       "    .dataframe tbody tr th:only-of-type {\n",
       "        vertical-align: middle;\n",
       "    }\n",
       "\n",
       "    .dataframe tbody tr th {\n",
       "        vertical-align: top;\n",
       "    }\n",
       "\n",
       "    .dataframe thead th {\n",
       "        text-align: right;\n",
       "    }\n",
       "</style>\n",
       "<table border=\"1\" class=\"dataframe\">\n",
       "  <thead>\n",
       "    <tr style=\"text-align: right;\">\n",
       "      <th></th>\n",
       "      <th>participant_id</th>\n",
       "      <th>session_id</th>\n",
       "      <th>workHistory</th>\n",
       "      <th>interests1</th>\n",
       "      <th>interests2</th>\n",
       "      <th>interests3</th>\n",
       "      <th>feedback</th>\n",
       "    </tr>\n",
       "  </thead>\n",
       "  <tbody>\n",
       "    <tr>\n",
       "      <th>0</th>\n",
       "      <td>1</td>\n",
       "      <td>1</td>\n",
       "      <td>Barista</td>\n",
       "      <td>Sport results, trading card games, video games</td>\n",
       "      <td>Playing trading card games, board games, video...</td>\n",
       "      <td>Biomedical Science</td>\n",
       "      <td>No further feedback, study was easy to underst...</td>\n",
       "    </tr>\n",
       "    <tr>\n",
       "      <th>1</th>\n",
       "      <td>2</td>\n",
       "      <td>1</td>\n",
       "      <td>IT specialist for system integration</td>\n",
       "      <td>politics, gaming, veganism, music</td>\n",
       "      <td>playing video games, watching shows, meeting w...</td>\n",
       "      <td>philosophy, astronomy</td>\n",
       "      <td>Was pretty interesting but it would've been ni...</td>\n",
       "    </tr>\n",
       "    <tr>\n",
       "      <th>2</th>\n",
       "      <td>3</td>\n",
       "      <td>1</td>\n",
       "      <td>Storeman, Inventory Controller, Buyer, Senior ...</td>\n",
       "      <td>Sport, Football, Politics</td>\n",
       "      <td>Watching local football team</td>\n",
       "      <td>Increasing global inequality,</td>\n",
       "      <td>Nothing to add</td>\n",
       "    </tr>\n",
       "    <tr>\n",
       "      <th>3</th>\n",
       "      <td>5</td>\n",
       "      <td>1</td>\n",
       "      <td>Nursing Assistant, Nurse</td>\n",
       "      <td>Entertainment, Politics, Medicine &amp; Healthcare...</td>\n",
       "      <td>Watching series, Playing video games, Listenin...</td>\n",
       "      <td>Computer programing, Data Analytics</td>\n",
       "      <td>NaN</td>\n",
       "    </tr>\n",
       "  </tbody>\n",
       "</table>\n",
       "</div>"
      ],
      "text/plain": [
       "   participant_id  session_id  \\\n",
       "0               1           1   \n",
       "1               2           1   \n",
       "2               3           1   \n",
       "3               5           1   \n",
       "\n",
       "                                         workHistory  \\\n",
       "0                                            Barista   \n",
       "1               IT specialist for system integration   \n",
       "2  Storeman, Inventory Controller, Buyer, Senior ...   \n",
       "3                           Nursing Assistant, Nurse   \n",
       "\n",
       "                                          interests1  \\\n",
       "0     Sport results, trading card games, video games   \n",
       "1                  politics, gaming, veganism, music   \n",
       "2                          Sport, Football, Politics   \n",
       "3  Entertainment, Politics, Medicine & Healthcare...   \n",
       "\n",
       "                                          interests2  \\\n",
       "0  Playing trading card games, board games, video...   \n",
       "1  playing video games, watching shows, meeting w...   \n",
       "2                       Watching local football team   \n",
       "3  Watching series, Playing video games, Listenin...   \n",
       "\n",
       "                            interests3  \\\n",
       "0                   Biomedical Science   \n",
       "1                philosophy, astronomy   \n",
       "2        Increasing global inequality,   \n",
       "3  Computer programing, Data Analytics   \n",
       "\n",
       "                                            feedback  \n",
       "0  No further feedback, study was easy to underst...  \n",
       "1  Was pretty interesting but it would've been ni...  \n",
       "2                                     Nothing to add  \n",
       "3                                                NaN  "
      ]
     },
     "execution_count": 55,
     "metadata": {},
     "output_type": "execute_result"
    }
   ],
   "source": [
    "df_qs_txt.head()"
   ]
  }
 ],
 "metadata": {
  "kernelspec": {
   "display_name": "Python 3 (ipykernel)",
   "language": "python",
   "name": "python3"
  },
  "language_info": {
   "codemirror_mode": {
    "name": "ipython",
    "version": 3
   },
   "file_extension": ".py",
   "mimetype": "text/x-python",
   "name": "python",
   "nbconvert_exporter": "python",
   "pygments_lexer": "ipython3",
   "version": "3.12.8"
  }
 },
 "nbformat": 4,
 "nbformat_minor": 5
}
