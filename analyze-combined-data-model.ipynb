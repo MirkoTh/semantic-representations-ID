{
 "cells": [
  {
   "cell_type": "code",
   "execution_count": 1,
   "id": "eed5d831-78a3-45c0-9808-ad84dc280862",
   "metadata": {},
   "outputs": [],
   "source": [
    "# Enable automatic reloading of modules before executing code\n",
    "%load_ext autoreload\n",
    "%autoreload 2"
   ]
  },
  {
   "cell_type": "code",
   "execution_count": 176,
   "id": "0130ace6-c137-4e54-8683-df5f0d39f0f5",
   "metadata": {},
   "outputs": [],
   "source": [
    "import os\n",
    "import copy\n",
    "\n",
    "import numpy as np\n",
    "import pandas as pd\n",
    "import matplotlib.pyplot as plt\n",
    "import seaborn as sns\n",
    "import torch"
   ]
  },
  {
   "cell_type": "code",
   "execution_count": 3,
   "id": "af72f834-005c-4e59-a127-4918748bb4a7",
   "metadata": {},
   "outputs": [],
   "source": [
    "import utils as ut"
   ]
  },
  {
   "cell_type": "code",
   "execution_count": 19,
   "id": "15b214d7-ab78-4e4d-92a1-c28e568372e2",
   "metadata": {},
   "outputs": [],
   "source": [
    "# test run of the model for dev purposes, or full/final data set?\n",
    "is_testcase = True"
   ]
  },
  {
   "cell_type": "markdown",
   "id": "49fe0f99-104e-47fd-a894-61d5e2a98274",
   "metadata": {},
   "source": [
    "# Load Model Results from Disk"
   ]
  },
  {
   "cell_type": "code",
   "execution_count": 4,
   "id": "a824e59e-fa81-4119-973d-146eac185b52",
   "metadata": {},
   "outputs": [],
   "source": [
    "l_lmbda = [0.0005]\n",
    "l_lmbda_hierarchical = [0.01]\n",
    "l_rnd_seed = [7640]\n",
    "l_embed_dim = [7]\n",
    "l_sparse = [\"items_and_random_ids\"]\n",
    "modeltype = \"random_weights_random_scaling\"\n",
    "modelversion = \"embeddings-decision-combined-data\""
   ]
  },
  {
   "cell_type": "code",
   "execution_count": 25,
   "id": "4554b322-344f-49d0-9c4f-36de89fa5ede",
   "metadata": {},
   "outputs": [],
   "source": [
    "# load results from model run\n",
    "l_results = load_ID_lowdim(\n",
    "    l_lmbda=l_lmbda, l_lmbda_hierarchical=l_lmbda_hierarchical, l_rnd_seed=l_rnd_seed, \n",
    "    l_embed_dim=l_embed_dim, l_sparse=l_sparse, modelversion=modelversion, modeltype=modeltype\n",
    ")"
   ]
  },
  {
   "cell_type": "code",
   "execution_count": 39,
   "id": "2c0ce07d-9b63-4e6d-a156-d80855aa7738",
   "metadata": {},
   "outputs": [],
   "source": [
    "# Load Relevant IDs for correlational analyses\n",
    "if is_testcase:\n",
    "    df_pids = pd.read_csv(\"data/study1-2025-08/new-participant-ids-in-joint-modeling-testcase.csv\")\n",
    "elif not is_testcase:\n",
    "    df_pids = pd.read_csv(\"data/study1-2025-08/new-participant-ids-in-joint-modeling.csv\")"
   ]
  },
  {
   "cell_type": "code",
   "execution_count": 52,
   "id": "00bbe8a9-7420-4d10-83f0-838de7e0ff1b",
   "metadata": {},
   "outputs": [],
   "source": [
    "l_pids_model = list(df_pids[\"participant_id_model\"])\n",
    "l_pids_new = list(df_pids[\"participant_id_new\"])"
   ]
  },
  {
   "cell_type": "code",
   "execution_count": 277,
   "id": "1bafc3e8-04fb-4a8f-9615-4fa74edbdea2",
   "metadata": {},
   "outputs": [],
   "source": [
    "df_dim_weights = pd.DataFrame(l_results[0][\"decision_weights\"].detach().numpy()[l_pids_model, :])\n",
    "# participant_id_new can be joined with results coming only from the new study\n",
    "df_dim_weights[\"participant_id_new\"] = l_pids_new\n",
    "# Move participant_id column to the first position\n",
    "col = \"participant_id_new\"\n",
    "new_order = [col] + [c for c in df_dim_weights.columns if c != col]\n",
    "df_dim_weights = df_dim_weights[new_order]\n",
    "df_dim_weights[\"avg_weight\"] = df_dim_weights[0:6].mean(axis=0)"
   ]
  },
  {
   "cell_type": "code",
   "execution_count": 248,
   "id": "06b4c5d1-107b-4422-accb-2034faf73006",
   "metadata": {},
   "outputs": [],
   "source": [
    "# load dfs saved with R\n",
    "df_qs_num_long = pd.read_csv(\"data/study1-2025-08/tbl_qs_num_long_excluded.csv\")\n",
    "df_qs_txt = pd.read_csv(\"data/study1-2025-08/tbl_qs_txt_excluded.csv\")\n",
    "df_qs_num = df_qs_num_long.pivot(index=[\"participant_id\", \"session_id\"], columns=\"name\", values=\"value\").reset_index(drop=False)\n",
    "# reverse code items\n",
    "df_qs_num = ut.reverse_code_q_items(df_qs_num)\n",
    "# create scale and facet scores\n",
    "df_qs_num = ut.scales_and_facets(df_qs_num)\n",
    "# only keep scales, drop items and facets\n",
    "df_qs_num = ut.keep_scales_only(df_qs_num)"
   ]
  },
  {
   "cell_type": "code",
   "execution_count": 249,
   "id": "b6802453-0cf9-4374-9652-fdee24386405",
   "metadata": {},
   "outputs": [],
   "source": [
    "model_id = \"answerdotai/ModernBERT-base\"\n",
    "model, tokenizer, device = ut.load_model(model_id)\n",
    "df_qs_txt = ut.add_prefixes_and_concatenate_cols(df_qs_txt)\n",
    "\n",
    "df_qs_txt[\"embedding_work_history\"] = df_qs_txt[\"workHistory\"].apply(\n",
    "    lambda col: ut.tokenize_col(\n",
    "        col, prefix1 = \"Here are some details about my life: \", \n",
    "        prefix2 = \"I have worked as \", \n",
    "        tokenizer=tokenizer, model=model, device=device\n",
    "    )\n",
    ")\n",
    "df_qs_txt[\"embedding_interests1\"] = df_qs_txt[\"interests1\"].apply(\n",
    "    lambda col: ut.tokenize_col(\n",
    "        col, prefix1 = \"Here are some details about my life: \", \n",
    "        prefix2 = \"The topics or activities I am most passionate about are: \", \n",
    "        tokenizer=tokenizer, model=model, device=device\n",
    "    )\n",
    ")\n",
    "df_qs_txt[\"embedding_interests2\"] = df_qs_txt[\"interests2\"].apply(\n",
    "    lambda col: ut.tokenize_col(\n",
    "        col, prefix1 = \"Here are some details about my life: \", \n",
    "        prefix2 = \"The topics or activities I love doing in my free time are: \", \n",
    "        tokenizer=tokenizer, model=model, device=device\n",
    "    )\n",
    ")\n",
    "df_qs_txt[\"embedding_interests3\"] = df_qs_txt[\"interests3\"].apply(\n",
    "    lambda col: ut.tokenize_col(\n",
    "        col, prefix1 = \"Here are some details about my life: \", \n",
    "        prefix2 = \"The subjects, which fascinate me and make me want to learn more are: \", \n",
    "        tokenizer=tokenizer, model=model, device=device\n",
    "    )\n",
    ")\n",
    "df_qs_txt[\"embedding_all_txt\"] = df_qs_txt[\"txt_concat\"].apply(\n",
    "    lambda col: ut.tokenize_col(col, prefix1 = \"\", prefix2 = \"\", tokenizer=tokenizer, model=model, device=device)\n",
    ")"
   ]
  },
  {
   "cell_type": "code",
   "execution_count": 271,
   "id": "e3e0d84d-e862-4698-ab68-ddecc3b5b8b4",
   "metadata": {},
   "outputs": [],
   "source": [
    "idx_embeddings = [col.startswith(\"embedding\") for col in df_qs_txt.columns]\n",
    "colnames_required = list(df_qs_txt.columns[idx_embeddings])\n",
    "\n",
    "colnames_required.extend([\"participant_id\", \"session_id\"])\n",
    "df_embeddings = df_qs_txt[colnames_required]\n",
    "df_qs_num = df_qs_num.merge(df_embeddings, how=\"left\", on=[\"participant_id\", \"session_id\"])"
   ]
  },
  {
   "cell_type": "code",
   "execution_count": 279,
   "id": "a3ebc218-9912-4bad-a6ef-e1915746f4d6",
   "metadata": {},
   "outputs": [],
   "source": [
    "df_ooo_qs = df_dim_weights.merge(df_qs_num, how=\"left\", left_on=\"participant_id_new\", right_on=\"participant_id\")\n",
    "df_ooo_qs.rename(columns={\"participant_id_new\":\"pid\"}, inplace=True)"
   ]
  },
  {
   "cell_type": "code",
   "execution_count": null,
   "id": "77c1ea48-f35d-4063-b141-3a2e4b26dead",
   "metadata": {},
   "outputs": [],
   "source": []
  },
  {
   "cell_type": "markdown",
   "id": "983b0ecd-4f6c-4b33-b12e-394030901148",
   "metadata": {},
   "source": [
    "*todos*\n",
    "\n",
    "- run model with split-half data\n",
    "- create features with dim weights:\n",
    "    - gini coef\n",
    "    - load results and create feature \"stability\" of weights between halfs"
   ]
  }
 ],
 "metadata": {
  "kernelspec": {
   "display_name": "Python 3 (ipykernel)",
   "language": "python",
   "name": "python3"
  },
  "language_info": {
   "codemirror_mode": {
    "name": "ipython",
    "version": 3
   },
   "file_extension": ".py",
   "mimetype": "text/x-python",
   "name": "python",
   "nbconvert_exporter": "python",
   "pygments_lexer": "ipython3",
   "version": "3.12.8"
  }
 },
 "nbformat": 4,
 "nbformat_minor": 5
}
