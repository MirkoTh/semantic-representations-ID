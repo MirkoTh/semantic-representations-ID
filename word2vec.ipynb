{
 "cells": [
  {
   "cell_type": "markdown",
   "id": "5246f203-03d5-4cc0-bcca-97e115b439f7",
   "metadata": {},
   "source": [
    "# \n"
   ]
  },
  {
   "cell_type": "code",
   "execution_count": 1,
   "id": "f6d6889e-1f1c-4eb1-91ec-4a4977d299fa",
   "metadata": {},
   "outputs": [],
   "source": [
    "from gensim.models import KeyedVectors\n",
    "from huggingface_hub import hf_hub_download"
   ]
  },
  {
   "cell_type": "code",
   "execution_count": 2,
   "id": "960d5a91-a4b0-4ea1-b208-62e3a22b898e",
   "metadata": {},
   "outputs": [],
   "source": [
    "import pandas as pd\n",
    "import numpy as np\n",
    "import torch\n",
    "import re"
   ]
  },
  {
   "cell_type": "code",
   "execution_count": 3,
   "id": "a61cbcb1-6f7a-487f-a5bb-1919b52d32df",
   "metadata": {},
   "outputs": [],
   "source": [
    "import gensim.downloader as api\n",
    "from gensim.models import KeyedVectors"
   ]
  },
  {
   "cell_type": "code",
   "execution_count": 4,
   "id": "d03c9ec9-2462-480b-b444-f23c4561ab7a",
   "metadata": {
    "scrolled": true
   },
   "outputs": [],
   "source": [
    "# Load pre-trained Word2Vec model from gensim-data\n",
    "model = api.load('word2vec-google-news-300')\n",
    "\n",
    "# Alternatively, load model from local file if downloaded\n",
    "# model = KeyedVectors.load_word2vec_format('path/to/GoogleNews-vectors-negative300.bin', binary=True)"
   ]
  },
  {
   "cell_type": "code",
   "execution_count": 5,
   "id": "9b8ab577-d132-4396-bd60-739e3ada9030",
   "metadata": {},
   "outputs": [],
   "source": [
    "tbl_labels = pd.read_csv(\"data/unique_id.txt\", delimiter=\"\\\\\", header=None)\n",
    "tbl_labels[\"label_id\"] = np.arange(1, tbl_labels.shape[0]+1)\n",
    "tbl_labels.columns = [\"label\", \"label_id\"]\n",
    "new_order = [\"label_id\", \"label\"]\n",
    "tbl_labels = tbl_labels[new_order]"
   ]
  },
  {
   "cell_type": "code",
   "execution_count": 6,
   "id": "aa44bded-6267-47ca-953a-b7db948b28ef",
   "metadata": {},
   "outputs": [],
   "source": [
    "e1 = model[\"woman\"]\n",
    "e2 = model[\"man\"]\n",
    "e3 = model[\"forest\"]"
   ]
  },
  {
   "cell_type": "code",
   "execution_count": 7,
   "id": "69ad77c2-c0f5-441d-92cc-fb3756020830",
   "metadata": {},
   "outputs": [],
   "source": [
    "pos_sim = np.sum(e1 * e2)\n",
    "neg_sim = np.sum(e1 * e3)\n",
    "neg_sim2 = np.sum(e2 * e3)"
   ]
  },
  {
   "cell_type": "code",
   "execution_count": 8,
   "id": "6886d78a-c1f3-4ffe-aeb5-d94a301fdf51",
   "metadata": {},
   "outputs": [
    {
     "data": {
      "text/plain": [
       "4.702738"
      ]
     },
     "execution_count": 8,
     "metadata": {},
     "output_type": "execute_result"
    }
   ],
   "source": [
    "pos_sim"
   ]
  },
  {
   "cell_type": "code",
   "execution_count": 9,
   "id": "52d49d0f-1c82-4db0-8004-db797aae6c9a",
   "metadata": {},
   "outputs": [
    {
     "data": {
      "text/plain": [
       "0.56843174"
      ]
     },
     "execution_count": 9,
     "metadata": {},
     "output_type": "execute_result"
    }
   ],
   "source": [
    "neg_sim"
   ]
  },
  {
   "cell_type": "code",
   "execution_count": 10,
   "id": "13a19c6f-47db-49f0-a1c5-644b0e962af4",
   "metadata": {},
   "outputs": [
    {
     "data": {
      "text/plain": [
       "0.48191285"
      ]
     },
     "execution_count": 10,
     "metadata": {},
     "output_type": "execute_result"
    }
   ],
   "source": [
    "neg_sim2"
   ]
  },
  {
   "cell_type": "code",
   "execution_count": 11,
   "id": "fe2ba9f2-d211-4d43-b072-097fbef8f891",
   "metadata": {},
   "outputs": [],
   "source": [
    "table_lookup = pd.DataFrame({\"label\": [\n",
    "    \"go-kart\", \"axe\", \"backscratcher\", \"first-aid_kit\", \"hot-air_balloon\",\n",
    "    \"hot-water_bottle\", \"ice-cream_cone\", \"iceskate\", \"ping-pong_table\",\n",
    "    \"pom-pom\", \"t-shirt\", \"ticktacktoe\", \"yo-yo\"\n",
    "], \"updated_label\": [\n",
    "    \"small_car\", \"axes\", \"backscratchers\", \"first_aid_kit\", \"hot_air_balloon\",\n",
    "    \"hot_water_bottle\", \"ice_cream_cones\", \"ice_skating\", \"pingpong_table\",\n",
    "    \"pom_pom\", \"tshirt\", \"tic_tac_toe\", \"yo_yo\"\n",
    "    ]})\n",
    "table_lookup.label = table_lookup.label.astype(object)\n",
    "tbl_labels.label = tbl_labels.label.astype(object)"
   ]
  },
  {
   "cell_type": "code",
   "execution_count": 12,
   "id": "d4df0ad7-60a0-47e7-8ba4-a3343e574faf",
   "metadata": {},
   "outputs": [
    {
     "data": {
      "text/html": [
       "<div>\n",
       "<style scoped>\n",
       "    .dataframe tbody tr th:only-of-type {\n",
       "        vertical-align: middle;\n",
       "    }\n",
       "\n",
       "    .dataframe tbody tr th {\n",
       "        vertical-align: top;\n",
       "    }\n",
       "\n",
       "    .dataframe thead th {\n",
       "        text-align: right;\n",
       "    }\n",
       "</style>\n",
       "<table border=\"1\" class=\"dataframe\">\n",
       "  <thead>\n",
       "    <tr style=\"text-align: right;\">\n",
       "      <th></th>\n",
       "      <th>label</th>\n",
       "      <th>updated_label</th>\n",
       "    </tr>\n",
       "  </thead>\n",
       "  <tbody>\n",
       "    <tr>\n",
       "      <th>0</th>\n",
       "      <td>go-kart</td>\n",
       "      <td>small_car</td>\n",
       "    </tr>\n",
       "    <tr>\n",
       "      <th>1</th>\n",
       "      <td>axe</td>\n",
       "      <td>axes</td>\n",
       "    </tr>\n",
       "    <tr>\n",
       "      <th>2</th>\n",
       "      <td>backscratcher</td>\n",
       "      <td>backscratchers</td>\n",
       "    </tr>\n",
       "    <tr>\n",
       "      <th>3</th>\n",
       "      <td>first-aid_kit</td>\n",
       "      <td>first_aid_kit</td>\n",
       "    </tr>\n",
       "    <tr>\n",
       "      <th>4</th>\n",
       "      <td>hot-air_balloon</td>\n",
       "      <td>hot_air_balloon</td>\n",
       "    </tr>\n",
       "    <tr>\n",
       "      <th>5</th>\n",
       "      <td>hot-water_bottle</td>\n",
       "      <td>hot_water_bottle</td>\n",
       "    </tr>\n",
       "    <tr>\n",
       "      <th>6</th>\n",
       "      <td>ice-cream_cone</td>\n",
       "      <td>ice_cream_cones</td>\n",
       "    </tr>\n",
       "    <tr>\n",
       "      <th>7</th>\n",
       "      <td>iceskate</td>\n",
       "      <td>ice_skating</td>\n",
       "    </tr>\n",
       "    <tr>\n",
       "      <th>8</th>\n",
       "      <td>ping-pong_table</td>\n",
       "      <td>pingpong_table</td>\n",
       "    </tr>\n",
       "    <tr>\n",
       "      <th>9</th>\n",
       "      <td>pom-pom</td>\n",
       "      <td>pom_pom</td>\n",
       "    </tr>\n",
       "    <tr>\n",
       "      <th>10</th>\n",
       "      <td>t-shirt</td>\n",
       "      <td>tshirt</td>\n",
       "    </tr>\n",
       "    <tr>\n",
       "      <th>11</th>\n",
       "      <td>ticktacktoe</td>\n",
       "      <td>tic_tac_toe</td>\n",
       "    </tr>\n",
       "    <tr>\n",
       "      <th>12</th>\n",
       "      <td>yo-yo</td>\n",
       "      <td>yo_yo</td>\n",
       "    </tr>\n",
       "  </tbody>\n",
       "</table>\n",
       "</div>"
      ],
      "text/plain": [
       "               label     updated_label\n",
       "0            go-kart         small_car\n",
       "1                axe              axes\n",
       "2      backscratcher    backscratchers\n",
       "3      first-aid_kit     first_aid_kit\n",
       "4    hot-air_balloon   hot_air_balloon\n",
       "5   hot-water_bottle  hot_water_bottle\n",
       "6     ice-cream_cone   ice_cream_cones\n",
       "7           iceskate       ice_skating\n",
       "8    ping-pong_table    pingpong_table\n",
       "9            pom-pom           pom_pom\n",
       "10           t-shirt            tshirt\n",
       "11       ticktacktoe       tic_tac_toe\n",
       "12             yo-yo             yo_yo"
      ]
     },
     "execution_count": 12,
     "metadata": {},
     "output_type": "execute_result"
    }
   ],
   "source": [
    "table_lookup"
   ]
  },
  {
   "cell_type": "code",
   "execution_count": 13,
   "id": "5879dd00-315f-4486-892d-1dcbc2b060d0",
   "metadata": {},
   "outputs": [],
   "source": [
    "tbl_labels_new = pd.merge(left=tbl_labels, right=table_lookup, on=\"label\", how=\"left\")"
   ]
  },
  {
   "cell_type": "code",
   "execution_count": 14,
   "id": "95216608-5a53-428b-ac28-3cc639f25d9d",
   "metadata": {},
   "outputs": [
    {
     "name": "stdout",
     "output_type": "stream",
     "text": [
      "[]\n"
     ]
    }
   ],
   "source": [
    "# Function to find words starting with a given character\n",
    "def words_starting_with(char):\n",
    "    vocabulary = list(model.index_to_key)\n",
    "    words = [word for word in vocabulary if word.startswith(char)]\n",
    "    return sorted(words)  # Sort the words alphabetically\n",
    "    \n",
    "# Example: Find all words starting with 'a'\n",
    "char = 'asdfasd'\n",
    "words_with_char = words_starting_with(char)\n",
    "\n",
    "# Display the words\n",
    "print(words_with_char)"
   ]
  },
  {
   "cell_type": "code",
   "execution_count": 18,
   "id": "dfe29350-4864-4b65-9af6-9eba9433f6ba",
   "metadata": {},
   "outputs": [],
   "source": [
    "l_embeddings = []\n",
    "for prompt, prompt_updated in zip(tbl_labels_new[\"label\"], tbl_labels_new[\"updated_label\"]):\n",
    "    # use updated prompt if available\n",
    "    if not pd.isna(prompt_updated):\n",
    "        prompt = prompt_updated\n",
    "    # otherwise, use prompt from list\n",
    "    if prompt in model:\n",
    "        word_vector = model[prompt]\n",
    "        l_embeddings.append(word_vector)\n",
    "    # remove digits if word not found\n",
    "    elif re.search(r'\\d$', prompt):\n",
    "        m = re.search(r'\\d$', prompt)\n",
    "        prompt = prompt[0:(m.endpos-1)]\n",
    "        if prompt in model:\n",
    "            word_vector = model[prompt]\n",
    "            l_embeddings.append(word_vector)\n",
    "        else:\n",
    "            print(f\"'{prompt}' not found in the model's vocabulary after removing digits.\")\n",
    "    elif re.search(r'^([a-z]+)(?:_[a-z]+)*$', prompt):\n",
    "        #m = re.search(r'^([a-z]*)_([a-z]*)$', prompt)\n",
    "        m = prompt.split('_')\n",
    "        l_subwords = []\n",
    "        for subprompt in m:\n",
    "            subword_vector = model[subprompt]\n",
    "            l_subwords.append(subword_vector)\n",
    "        word_vector = np.mean(np.array(l_subwords), axis=0)\n",
    "        l_embeddings.append(word_vector)\n",
    "    else:\n",
    "        print(f\"'{prompt}' not found in the model's vocabulary.\")"
   ]
  },
  {
   "cell_type": "code",
   "execution_count": 19,
   "id": "c12ebae2-50d5-4ede-ba7b-b17752a04e52",
   "metadata": {},
   "outputs": [
    {
     "data": {
      "text/plain": [
       "1854"
      ]
     },
     "execution_count": 19,
     "metadata": {},
     "output_type": "execute_result"
    }
   ],
   "source": [
    "len(l_embeddings)"
   ]
  },
  {
   "cell_type": "code",
   "execution_count": 209,
   "id": "80a7878e-8a59-48aa-9512-dc131a243080",
   "metadata": {},
   "outputs": [],
   "source": [
    "array_embeddings = np.array(l_embeddings)\n",
    "# Save the array to a file\n",
    "np.save('data/word2vec-embeddings.npy', array_embeddings)"
   ]
  },
  {
   "cell_type": "code",
   "execution_count": null,
   "id": "f937f739-24b4-4501-b742-fd5639acd953",
   "metadata": {},
   "outputs": [],
   "source": []
  },
  {
   "cell_type": "markdown",
   "id": "3aaccfdf-a86d-44ac-ab3d-ac629a0db9a5",
   "metadata": {},
   "source": [
    "# GloVe"
   ]
  },
  {
   "cell_type": "code",
   "execution_count": 1,
   "id": "6b7dd507-5528-444b-9b4f-a1d8320a4f05",
   "metadata": {},
   "outputs": [],
   "source": [
    "from gensim.models import KeyedVectors\n",
    "import urllib.request\n",
    "import zipfile\n",
    "import os"
   ]
  },
  {
   "cell_type": "code",
   "execution_count": 2,
   "id": "aef1e170-c092-48e6-b5c5-964fb90e9536",
   "metadata": {},
   "outputs": [
    {
     "ename": "KeyboardInterrupt",
     "evalue": "",
     "output_type": "error",
     "traceback": [
      "\u001b[1;31m---------------------------------------------------------------------------\u001b[0m",
      "\u001b[1;31mKeyboardInterrupt\u001b[0m                         Traceback (most recent call last)",
      "Cell \u001b[1;32mIn[2], line 5\u001b[0m\n\u001b[0;32m      2\u001b[0m glove_zip_file \u001b[38;5;241m=\u001b[39m \u001b[38;5;124m\"\u001b[39m\u001b[38;5;124mglove.6B.zip\u001b[39m\u001b[38;5;124m\"\u001b[39m\n\u001b[0;32m      4\u001b[0m \u001b[38;5;66;03m# Download the GloVe embeddings\u001b[39;00m\n\u001b[1;32m----> 5\u001b[0m urllib\u001b[38;5;241m.\u001b[39mrequest\u001b[38;5;241m.\u001b[39murlretrieve(glove_url, glove_zip_file)\n\u001b[0;32m      7\u001b[0m \u001b[38;5;66;03m# Extract the zip file\u001b[39;00m\n\u001b[0;32m      8\u001b[0m \u001b[38;5;28;01mwith\u001b[39;00m zipfile\u001b[38;5;241m.\u001b[39mZipFile(glove_zip_file, \u001b[38;5;124m\"\u001b[39m\u001b[38;5;124mr\u001b[39m\u001b[38;5;124m\"\u001b[39m) \u001b[38;5;28;01mas\u001b[39;00m zip_ref:\n",
      "File \u001b[1;32m~\\miniconda3\\envs\\representationsID\\Lib\\urllib\\request.py:268\u001b[0m, in \u001b[0;36murlretrieve\u001b[1;34m(url, filename, reporthook, data)\u001b[0m\n\u001b[0;32m    265\u001b[0m \u001b[38;5;28;01mif\u001b[39;00m reporthook:\n\u001b[0;32m    266\u001b[0m     reporthook(blocknum, bs, size)\n\u001b[1;32m--> 268\u001b[0m \u001b[38;5;28;01mwhile\u001b[39;00m block \u001b[38;5;241m:=\u001b[39m fp\u001b[38;5;241m.\u001b[39mread(bs):\n\u001b[0;32m    269\u001b[0m     read \u001b[38;5;241m+\u001b[39m\u001b[38;5;241m=\u001b[39m \u001b[38;5;28mlen\u001b[39m(block)\n\u001b[0;32m    270\u001b[0m     tfp\u001b[38;5;241m.\u001b[39mwrite(block)\n",
      "File \u001b[1;32m~\\miniconda3\\envs\\representationsID\\Lib\\http\\client.py:479\u001b[0m, in \u001b[0;36mHTTPResponse.read\u001b[1;34m(self, amt)\u001b[0m\n\u001b[0;32m    476\u001b[0m \u001b[38;5;28;01mif\u001b[39;00m \u001b[38;5;28mself\u001b[39m\u001b[38;5;241m.\u001b[39mlength \u001b[38;5;129;01mis\u001b[39;00m \u001b[38;5;129;01mnot\u001b[39;00m \u001b[38;5;28;01mNone\u001b[39;00m \u001b[38;5;129;01mand\u001b[39;00m amt \u001b[38;5;241m>\u001b[39m \u001b[38;5;28mself\u001b[39m\u001b[38;5;241m.\u001b[39mlength:\n\u001b[0;32m    477\u001b[0m     \u001b[38;5;66;03m# clip the read to the \"end of response\"\u001b[39;00m\n\u001b[0;32m    478\u001b[0m     amt \u001b[38;5;241m=\u001b[39m \u001b[38;5;28mself\u001b[39m\u001b[38;5;241m.\u001b[39mlength\n\u001b[1;32m--> 479\u001b[0m s \u001b[38;5;241m=\u001b[39m \u001b[38;5;28mself\u001b[39m\u001b[38;5;241m.\u001b[39mfp\u001b[38;5;241m.\u001b[39mread(amt)\n\u001b[0;32m    480\u001b[0m \u001b[38;5;28;01mif\u001b[39;00m \u001b[38;5;129;01mnot\u001b[39;00m s \u001b[38;5;129;01mand\u001b[39;00m amt:\n\u001b[0;32m    481\u001b[0m     \u001b[38;5;66;03m# Ideally, we would raise IncompleteRead if the content-length\u001b[39;00m\n\u001b[0;32m    482\u001b[0m     \u001b[38;5;66;03m# wasn't satisfied, but it might break compatibility.\u001b[39;00m\n\u001b[0;32m    483\u001b[0m     \u001b[38;5;28mself\u001b[39m\u001b[38;5;241m.\u001b[39m_close_conn()\n",
      "File \u001b[1;32m~\\miniconda3\\envs\\representationsID\\Lib\\socket.py:720\u001b[0m, in \u001b[0;36mSocketIO.readinto\u001b[1;34m(self, b)\u001b[0m\n\u001b[0;32m    718\u001b[0m \u001b[38;5;28;01mwhile\u001b[39;00m \u001b[38;5;28;01mTrue\u001b[39;00m:\n\u001b[0;32m    719\u001b[0m     \u001b[38;5;28;01mtry\u001b[39;00m:\n\u001b[1;32m--> 720\u001b[0m         \u001b[38;5;28;01mreturn\u001b[39;00m \u001b[38;5;28mself\u001b[39m\u001b[38;5;241m.\u001b[39m_sock\u001b[38;5;241m.\u001b[39mrecv_into(b)\n\u001b[0;32m    721\u001b[0m     \u001b[38;5;28;01mexcept\u001b[39;00m timeout:\n\u001b[0;32m    722\u001b[0m         \u001b[38;5;28mself\u001b[39m\u001b[38;5;241m.\u001b[39m_timeout_occurred \u001b[38;5;241m=\u001b[39m \u001b[38;5;28;01mTrue\u001b[39;00m\n",
      "File \u001b[1;32m~\\miniconda3\\envs\\representationsID\\Lib\\ssl.py:1251\u001b[0m, in \u001b[0;36mSSLSocket.recv_into\u001b[1;34m(self, buffer, nbytes, flags)\u001b[0m\n\u001b[0;32m   1247\u001b[0m     \u001b[38;5;28;01mif\u001b[39;00m flags \u001b[38;5;241m!=\u001b[39m \u001b[38;5;241m0\u001b[39m:\n\u001b[0;32m   1248\u001b[0m         \u001b[38;5;28;01mraise\u001b[39;00m \u001b[38;5;167;01mValueError\u001b[39;00m(\n\u001b[0;32m   1249\u001b[0m           \u001b[38;5;124m\"\u001b[39m\u001b[38;5;124mnon-zero flags not allowed in calls to recv_into() on \u001b[39m\u001b[38;5;132;01m%s\u001b[39;00m\u001b[38;5;124m\"\u001b[39m \u001b[38;5;241m%\u001b[39m\n\u001b[0;32m   1250\u001b[0m           \u001b[38;5;28mself\u001b[39m\u001b[38;5;241m.\u001b[39m\u001b[38;5;18m__class__\u001b[39m)\n\u001b[1;32m-> 1251\u001b[0m     \u001b[38;5;28;01mreturn\u001b[39;00m \u001b[38;5;28mself\u001b[39m\u001b[38;5;241m.\u001b[39mread(nbytes, buffer)\n\u001b[0;32m   1252\u001b[0m \u001b[38;5;28;01melse\u001b[39;00m:\n\u001b[0;32m   1253\u001b[0m     \u001b[38;5;28;01mreturn\u001b[39;00m \u001b[38;5;28msuper\u001b[39m()\u001b[38;5;241m.\u001b[39mrecv_into(buffer, nbytes, flags)\n",
      "File \u001b[1;32m~\\miniconda3\\envs\\representationsID\\Lib\\ssl.py:1103\u001b[0m, in \u001b[0;36mSSLSocket.read\u001b[1;34m(self, len, buffer)\u001b[0m\n\u001b[0;32m   1101\u001b[0m \u001b[38;5;28;01mtry\u001b[39;00m:\n\u001b[0;32m   1102\u001b[0m     \u001b[38;5;28;01mif\u001b[39;00m buffer \u001b[38;5;129;01mis\u001b[39;00m \u001b[38;5;129;01mnot\u001b[39;00m \u001b[38;5;28;01mNone\u001b[39;00m:\n\u001b[1;32m-> 1103\u001b[0m         \u001b[38;5;28;01mreturn\u001b[39;00m \u001b[38;5;28mself\u001b[39m\u001b[38;5;241m.\u001b[39m_sslobj\u001b[38;5;241m.\u001b[39mread(\u001b[38;5;28mlen\u001b[39m, buffer)\n\u001b[0;32m   1104\u001b[0m     \u001b[38;5;28;01melse\u001b[39;00m:\n\u001b[0;32m   1105\u001b[0m         \u001b[38;5;28;01mreturn\u001b[39;00m \u001b[38;5;28mself\u001b[39m\u001b[38;5;241m.\u001b[39m_sslobj\u001b[38;5;241m.\u001b[39mread(\u001b[38;5;28mlen\u001b[39m)\n",
      "\u001b[1;31mKeyboardInterrupt\u001b[0m: "
     ]
    }
   ],
   "source": [
    "glove_url = \"http://nlp.stanford.edu/data/glove.6B.zip\"\n",
    "glove_zip_file = \"glove.6B.zip\"\n",
    "\n",
    "# Download the GloVe embeddings\n",
    "urllib.request.urlretrieve(glove_url, glove_zip_file)\n",
    "\n",
    "# Extract the zip file\n",
    "with zipfile.ZipFile(glove_zip_file, \"r\") as zip_ref:\n",
    "    zip_ref.extractall(\".\")\n",
    "\n",
    "# Optional: remove the zip file after extraction\n",
    "os.remove(glove_zip_file)"
   ]
  },
  {
   "cell_type": "code",
   "execution_count": 3,
   "id": "541d03b0-efe3-42e2-8e93-377fe8b851ff",
   "metadata": {
    "scrolled": true
   },
   "outputs": [],
   "source": [
    "# Load pre-trained GloVe embeddings\n",
    "glove_file = 'glove.6B.300d.txt'\n",
    "model = KeyedVectors.load_word2vec_format(glove_file, binary=False, no_header=True)"
   ]
  },
  {
   "cell_type": "code",
   "execution_count": null,
   "id": "0371740b-97e4-434f-8907-fafb5553e589",
   "metadata": {},
   "outputs": [],
   "source": []
  },
  {
   "cell_type": "code",
   "execution_count": 4,
   "id": "b7b87202-621d-4af1-a91f-b4dd0a53bd6a",
   "metadata": {},
   "outputs": [
    {
     "name": "stdout",
     "output_type": "stream",
     "text": [
      "Similarity between 'acorn' and 'almond': 0.140684112906456\n",
      "Similarity between 'acorn' and 'airplane': -0.05011545866727829\n",
      "Similarity between 'almond' and 'airplane': 0.006268810480833054\n"
     ]
    }
   ],
   "source": [
    "# Get the embeddings for specific words\n",
    "acorn_embedding = model['acorn']\n",
    "almond_embedding = model['almond']\n",
    "airplane_embedding = model['airplane']\n",
    "\n",
    "# Calculate cosine similarity\n",
    "similarity_acorn_almond = model.similarity('acorn', 'almond')\n",
    "similarity_acorn_airplane = model.similarity('acorn', 'airplane')\n",
    "similarity_almond_airplane = model.similarity('almond', 'airplane')\n",
    "\n",
    "print(f\"Similarity between 'acorn' and 'almond': {similarity_acorn_almond}\")\n",
    "print(f\"Similarity between 'acorn' and 'airplane': {similarity_acorn_airplane}\")\n",
    "print(f\"Similarity between 'almond' and 'airplane': {similarity_almond_airplane}\")"
   ]
  },
  {
   "cell_type": "code",
   "execution_count": 5,
   "id": "08a8dd8c-3db5-4c35-b724-7ec7df9cb8af",
   "metadata": {},
   "outputs": [
    {
     "ename": "KeyError",
     "evalue": "\"Key 'air_mattress' not present\"",
     "output_type": "error",
     "traceback": [
      "\u001b[1;31m---------------------------------------------------------------------------\u001b[0m",
      "\u001b[1;31mKeyError\u001b[0m                                  Traceback (most recent call last)",
      "Cell \u001b[1;32mIn[5], line 1\u001b[0m\n\u001b[1;32m----> 1\u001b[0m model[\u001b[38;5;124m\"\u001b[39m\u001b[38;5;124mair_mattress\u001b[39m\u001b[38;5;124m\"\u001b[39m]\n",
      "File \u001b[1;32m~\\miniconda3\\envs\\representationsID\\Lib\\site-packages\\gensim\\models\\keyedvectors.py:403\u001b[0m, in \u001b[0;36mKeyedVectors.__getitem__\u001b[1;34m(self, key_or_keys)\u001b[0m\n\u001b[0;32m    389\u001b[0m \u001b[38;5;250m\u001b[39m\u001b[38;5;124;03m\"\"\"Get vector representation of `key_or_keys`.\u001b[39;00m\n\u001b[0;32m    390\u001b[0m \n\u001b[0;32m    391\u001b[0m \u001b[38;5;124;03mParameters\u001b[39;00m\n\u001b[1;32m   (...)\u001b[0m\n\u001b[0;32m    400\u001b[0m \n\u001b[0;32m    401\u001b[0m \u001b[38;5;124;03m\"\"\"\u001b[39;00m\n\u001b[0;32m    402\u001b[0m \u001b[38;5;28;01mif\u001b[39;00m \u001b[38;5;28misinstance\u001b[39m(key_or_keys, _KEY_TYPES):\n\u001b[1;32m--> 403\u001b[0m     \u001b[38;5;28;01mreturn\u001b[39;00m \u001b[38;5;28mself\u001b[39m\u001b[38;5;241m.\u001b[39mget_vector(key_or_keys)\n\u001b[0;32m    405\u001b[0m \u001b[38;5;28;01mreturn\u001b[39;00m vstack([\u001b[38;5;28mself\u001b[39m\u001b[38;5;241m.\u001b[39mget_vector(key) \u001b[38;5;28;01mfor\u001b[39;00m key \u001b[38;5;129;01min\u001b[39;00m key_or_keys])\n",
      "File \u001b[1;32m~\\miniconda3\\envs\\representationsID\\Lib\\site-packages\\gensim\\models\\keyedvectors.py:446\u001b[0m, in \u001b[0;36mKeyedVectors.get_vector\u001b[1;34m(self, key, norm)\u001b[0m\n\u001b[0;32m    422\u001b[0m \u001b[38;5;28;01mdef\u001b[39;00m \u001b[38;5;21mget_vector\u001b[39m(\u001b[38;5;28mself\u001b[39m, key, norm\u001b[38;5;241m=\u001b[39m\u001b[38;5;28;01mFalse\u001b[39;00m):\n\u001b[0;32m    423\u001b[0m \u001b[38;5;250m    \u001b[39m\u001b[38;5;124;03m\"\"\"Get the key's vector, as a 1D numpy array.\u001b[39;00m\n\u001b[0;32m    424\u001b[0m \n\u001b[0;32m    425\u001b[0m \u001b[38;5;124;03m    Parameters\u001b[39;00m\n\u001b[1;32m   (...)\u001b[0m\n\u001b[0;32m    444\u001b[0m \n\u001b[0;32m    445\u001b[0m \u001b[38;5;124;03m    \"\"\"\u001b[39;00m\n\u001b[1;32m--> 446\u001b[0m     index \u001b[38;5;241m=\u001b[39m \u001b[38;5;28mself\u001b[39m\u001b[38;5;241m.\u001b[39mget_index(key)\n\u001b[0;32m    447\u001b[0m     \u001b[38;5;28;01mif\u001b[39;00m norm:\n\u001b[0;32m    448\u001b[0m         \u001b[38;5;28mself\u001b[39m\u001b[38;5;241m.\u001b[39mfill_norms()\n",
      "File \u001b[1;32m~\\miniconda3\\envs\\representationsID\\Lib\\site-packages\\gensim\\models\\keyedvectors.py:420\u001b[0m, in \u001b[0;36mKeyedVectors.get_index\u001b[1;34m(self, key, default)\u001b[0m\n\u001b[0;32m    418\u001b[0m     \u001b[38;5;28;01mreturn\u001b[39;00m default\n\u001b[0;32m    419\u001b[0m \u001b[38;5;28;01melse\u001b[39;00m:\n\u001b[1;32m--> 420\u001b[0m     \u001b[38;5;28;01mraise\u001b[39;00m \u001b[38;5;167;01mKeyError\u001b[39;00m(\u001b[38;5;124mf\u001b[39m\u001b[38;5;124m\"\u001b[39m\u001b[38;5;124mKey \u001b[39m\u001b[38;5;124m'\u001b[39m\u001b[38;5;132;01m{\u001b[39;00mkey\u001b[38;5;132;01m}\u001b[39;00m\u001b[38;5;124m'\u001b[39m\u001b[38;5;124m not present\u001b[39m\u001b[38;5;124m\"\u001b[39m)\n",
      "\u001b[1;31mKeyError\u001b[0m: \"Key 'air_mattress' not present\""
     ]
    }
   ],
   "source": [
    "model[\"air_mattress\"]"
   ]
  },
  {
   "cell_type": "markdown",
   "id": "17696448-9bfb-4e29-b89e-0b621bd6db7f",
   "metadata": {},
   "source": [
    "# Fasttext"
   ]
  },
  {
   "cell_type": "code",
   "execution_count": null,
   "id": "c7de609a-f0b4-40dc-b96e-2ecd58ecd1de",
   "metadata": {},
   "outputs": [],
   "source": []
  }
 ],
 "metadata": {
  "kernelspec": {
   "display_name": "Python 3 (ipykernel)",
   "language": "python",
   "name": "python3"
  },
  "language_info": {
   "codemirror_mode": {
    "name": "ipython",
    "version": 3
   },
   "file_extension": ".py",
   "mimetype": "text/x-python",
   "name": "python",
   "nbconvert_exporter": "python",
   "pygments_lexer": "ipython3",
   "version": "3.12.8"
  }
 },
 "nbformat": 4,
 "nbformat_minor": 5
}
