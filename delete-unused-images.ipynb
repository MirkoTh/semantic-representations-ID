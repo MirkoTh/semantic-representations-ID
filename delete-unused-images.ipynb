{
 "cells": [
  {
   "cell_type": "code",
   "execution_count": 23,
   "id": "588dd341-ff3d-40ea-becd-1e4a18f8ab8a",
   "metadata": {},
   "outputs": [],
   "source": [
    "import os\n",
    "import json\n",
    "import numpy as np"
   ]
  },
  {
   "cell_type": "code",
   "execution_count": 13,
   "id": "06ac170e-e5cf-476b-b4a2-0cf62817a916",
   "metadata": {},
   "outputs": [],
   "source": [
    "with open('experiments/expt-utils/images-practice.json', 'r') as f:\n",
    "    practice_list = json.load(f)\n",
    "with open('experiments/expt-utils/images-study.json', 'r') as f:\n",
    "    study_list = json.load(f)"
   ]
  },
  {
   "cell_type": "code",
   "execution_count": 15,
   "id": "2259a167-3a29-458c-9b49-4b9e3e472d60",
   "metadata": {},
   "outputs": [],
   "source": [
    "full_image_list = practice_list + study_list"
   ]
  },
  {
   "cell_type": "code",
   "execution_count": 20,
   "id": "885cbdde-3dcb-4a18-b5ab-da3d1ef09b39",
   "metadata": {},
   "outputs": [],
   "source": [
    "flat_list = []\n",
    "for outer in full_image_list:\n",
    "    for inner in outer:\n",
    "        flat_list.append(inner)"
   ]
  },
  {
   "cell_type": "code",
   "execution_count": 26,
   "id": "e0e09e01-fece-4752-a152-d5f2458d9471",
   "metadata": {},
   "outputs": [],
   "source": [
    "l_unique = list(np.unique(flat_list))"
   ]
  },
  {
   "cell_type": "code",
   "execution_count": 39,
   "id": "6316cb62-0987-4735-9a83-f8c0aa772dfa",
   "metadata": {},
   "outputs": [
    {
     "data": {
      "text/plain": [
       "['data\\\\images', 'accordion']"
      ]
     },
     "execution_count": 39,
     "metadata": {},
     "output_type": "execute_result"
    }
   ],
   "source": [
    "l_unique[0].rsplit('\\\\', 1)[0].rsplit(\"\\\\\", 1)[1]"
   ]
  },
  {
   "cell_type": "code",
   "execution_count": 46,
   "id": "7fb3cbfa-b4fe-430d-810b-c490195eb4fd",
   "metadata": {},
   "outputs": [
    {
     "data": {
      "text/plain": [
       "'data/images/accordion'"
      ]
     },
     "execution_count": 46,
     "metadata": {},
     "output_type": "execute_result"
    }
   ],
   "source": [
    "os.path.join(\"data/images/\", \"accordion\")"
   ]
  },
  {
   "cell_type": "code",
   "execution_count": 47,
   "id": "2df917e7-1cfc-49ad-8660-0b10bfe16c5e",
   "metadata": {},
   "outputs": [],
   "source": [
    "concepts_available = os.listdir(\"data/images/\")\n",
    "folders_available = [os.path.join(\"data/images/\", ca) for ca in concepts_available]\n",
    "folders_required = []\n",
    "concepts_required = []\n",
    "for l in l_unique:\n",
    "    folder = l.rsplit('\\\\', 1)[0]\n",
    "    concept = folder.rsplit(\"\\\\\", 1)[1]\n",
    "    folders_required.append(folder)\n",
    "    concepts_required.append(concept)"
   ]
  },
  {
   "cell_type": "markdown",
   "id": "06d66241-2231-4ea8-9e6d-4a43cbff166b",
   "metadata": {},
   "source": [
    "first, delete all not required folders"
   ]
  },
  {
   "cell_type": "code",
   "execution_count": 62,
   "id": "93903987-3f2a-4e0c-8626-a300bcd83fdb",
   "metadata": {},
   "outputs": [],
   "source": [
    "import shutil"
   ]
  },
  {
   "cell_type": "code",
   "execution_count": 63,
   "id": "02521650-5a95-42a2-83c5-a6f770f90b7c",
   "metadata": {},
   "outputs": [],
   "source": [
    "for fa in folders_available:\n",
    "    if not fa.replace(\"/\", \"\\\\\") in folders_required:\n",
    "        shutil.rmtree(fa)"
   ]
  },
  {
   "cell_type": "markdown",
   "id": "5e74b1e6-1bc5-4df3-829a-5fa858feb98c",
   "metadata": {},
   "source": [
    "then, delete all images within the required folders, which we do no use in the study"
   ]
  },
  {
   "cell_type": "code",
   "execution_count": 73,
   "id": "2cb260e4-276d-426f-8fbc-efb0fc624e66",
   "metadata": {},
   "outputs": [],
   "source": [
    "for fr in folders_required:\n",
    "    files = os.listdir(fr)\n",
    "    for file in files:\n",
    "        pth = os.path.join(fr, file)\n",
    "        if not pth in l_unique:\n",
    "            os.remove(pth)"
   ]
  }
 ],
 "metadata": {
  "kernelspec": {
   "display_name": "Python 3 (ipykernel)",
   "language": "python",
   "name": "python3"
  },
  "language_info": {
   "codemirror_mode": {
    "name": "ipython",
    "version": 3
   },
   "file_extension": ".py",
   "mimetype": "text/x-python",
   "name": "python",
   "nbconvert_exporter": "python",
   "pygments_lexer": "ipython3",
   "version": "3.12.8"
  }
 },
 "nbformat": 4,
 "nbformat_minor": 5
}
